{
 "cells": [
  {
   "cell_type": "markdown",
   "id": "d07251ab",
   "metadata": {
    "id": "YUn0Se-5LQzB",
    "papermill": {
     "duration": 0.038126,
     "end_time": "2024-11-18T05:36:57.253911",
     "exception": false,
     "start_time": "2024-11-18T05:36:57.215785",
     "status": "completed"
    },
    "tags": []
   },
   "source": [
    "\n",
    "<body>\n",
    "  <h2><font color=\"blue\">Maximizing Conversions: A Comprehensive Study of Leads & Sales Performance</font></h2>\n",
    "</body>\n",
    "\n",
    "## Introduction\n",
    "\n",
    "This notebook presents an analysis of lead conversion data collected from a travel booking company. The dataset includes various attributes related to leads, their sources, assigned agents, enquiry destinations, and the outcomes of these leads. By examining this data, we aim to uncover key insights and trends that can help in understanding the effectiveness of different lead sources, the performance of agents, and the preferences of clients.\n",
    "\n",
    "\n",
    "---\n",
    "\n",
    "\n",
    "\n",
    "### Dataset Overview\n",
    "\n",
    "The dataset contains the following columns:\n",
    "\n",
    "- **Lead Date:** The date when the lead was generated.\n",
    "- **Lead Source:** The origin of the lead (e.g., website, referral, advertisement).\n",
    "- **Name:** The name of the lead.\n",
    "- **Phone:** The contact phone number of the lead.\n",
    "- **Assigned To:** The agent assigned to handle the lead.\n",
    "- **Enquiry Destination:** The travel destination the lead is interested in.\n",
    "- **ExClient:** A flag indicating whether the lead is an existing client.\n",
    "- **Status:** The current status of the lead (e.g., converted, not converted (Blank).\n",
    "- **Conversion Date:** The date when the lead was converted (if applicable).\n",
    "- **Trip:** Trip Name.\n",
    "- **Trip Date:** The date of the booked trip (if applicable).\n",
    "- **Booking ID:** The unique identifier for the booking (if applicable).\n",
    "- **Pax:** The number of passengers for the booking.\n",
    "- **Per Person Cost:** The cost per person for the trip.\n",
    "- **Total Bill:** The total bill amount for the booking.\n",
    "- **Converted By:** The agent who converted the lead.\n",
    "- **Date:** The lead date (minus the timestamp). -- An Extracted Column\n",
    "- **Month:** The month of lead date -- An Extracted Column\n",
    "\n",
    "---\n",
    "\n",
    "### Objectives\n",
    "\n",
    "Through this analysis, we aim to answer several key questions:\n",
    "\n",
    "1. What are the overall trends in lead generation and conversion?\n",
    "2. Which lead sources are most effective in generating conversions?\n",
    "3. How do different enquiry destinations fare in terms of conversion rates?\n",
    "4. What is the performance of individual agents in terms of conversion rates?\n",
    "5. Are there any notable patterns or anomalies in the data?\n",
    "\n",
    "By the end of this analysis, I hope to provide actionable insights and strategic recommendations to enhance lead conversion rates and overall business performance.\n"
   ]
  },
  {
   "cell_type": "markdown",
   "id": "57b712f0",
   "metadata": {
    "id": "1OlXXDSt4qCy",
    "papermill": {
     "duration": 0.034963,
     "end_time": "2024-11-18T05:36:57.325015",
     "exception": false,
     "start_time": "2024-11-18T05:36:57.290052",
     "status": "completed"
    },
    "tags": []
   },
   "source": [
    "## Executive Summary\n",
    "\n",
    "### Key Insights:\n",
    "\n",
    "1. **Lead Generation Trends:**\n",
    "   - **Peak in August:** Lead count peaks in August at 33.55%, with the lowest in July at 12.63%. This suggests a strong increase in lead volume towards August, necessitating preparation for higher volumes in August and September.\n",
    "   - **Lead Source Contribution:** Lead Source 1 is the dominant contributor, responsible for 71.17% of leads, indicating that optimizing this source could significantly boost overall lead generation.\n",
    "\n",
    "2. **Trip Trends:**\n",
    "   - **Decline in August 2024:** Trips dropped by 83.79% in August 2024 (130 trips) compared to the previous year (926 trips), but there was a strong recovery in October 2024 (139.06% increase with 153 trips).\n",
    "   - **Seasonal Variation:** Fluctuating trip counts reflect seasonal patterns, with August and September peaking and a sharp dip in July and later months.\n",
    "\n",
    "3. **Revenue Insights:**\n",
    "   - **Revenue Performance:** August 2023 had the highest revenue (₹5.27M), but August 2024 saw a significant decline, aligning with the decrease in trips. In 2024, a steady recovery was observed, peaking in September (₹1.09M).\n",
    "   - **Conversion Efficiency:** Despite the high volume of leads from Lead Source 1 (49.36% of total leads), it only contributes 33.72% of the revenue, indicating lower conversion efficiency. Lead Source 3, while smaller in volume, brings higher-value conversions.\n",
    "\n",
    "4. **Destination Performance:**\n",
    "   - **High Revenue Potential in Ladakh:** Ladakh, though having fewer leads (6657), generates the highest revenue (8.52% of total revenue), highlighting a strong potential for premium offerings.\n",
    "   - **Underperforming Regions:** Destinations like Kashmir and Bhutan have low conversion rates, presenting opportunities for targeted improvements in conversion strategies.\n",
    "\n",
    "5. **Sales Performance:**\n",
    "   - **Top Performer Success:** Sales Person 0 excels with a high conversion rate from Lead Source 1 (0.474%), especially in popular trips like BYOG. This suggests a model for other team members to follow.\n",
    "   - **Areas for Improvement:** Sales Persons 52, 49, and 50 have lower conversion rates and longer conversion times. These individuals would benefit from targeted coaching and process improvements.\n",
    "\n",
    "6. **Customer Insights:**\n",
    "   - **Budget Constraints:** 87% of customers prefer trips costing under ₹400,000, emphasizing the need for more affordable trip packages to cater to the majority’s spending habits.\n",
    "\n",
    "### Recommendations:\n",
    "\n",
    "1. **Optimize Lead Source 1 Conversion:** Since Lead Source 1 generates the majority of leads but has lower revenue conversion efficiency, focus on improving the conversion process, such as targeted follow-ups, personalized offers, and better qualification of leads.\n",
    "\n",
    "2. **Replicate Successful Sales Strategies:** Sales Person 0’s success with specific trips (like BYOG) should be analyzed and replicated across the team. Encourage other salespersons to focus on high-conversion trips and refine their pitches based on these insights.\n",
    "\n",
    "3. **Focus on High-Value Destinations:** Invest in optimizing marketing and sales efforts for high-revenue destinations like Ladakh and Spiti Valley, where conversion rates are higher, while improving conversion strategies for underperforming regions such as Kashmir and Bhutan.\n",
    "\n",
    "4. **Target Budget-Conscious Customers:** Since most customers have a budget under ₹400,000, adjust the pricing strategy by offering more budget-friendly options and packages that cater to this majority.\n",
    "\n",
    "5. **Speed up Conversion Process:** With an average of 10 days to convert a lead, work on shortening this timeline by improving response times, nurturing leads more effectively, and streamlining sales workflows to drive faster conversions.\n",
    "\n",
    "6. **Enhance Sales Training:** Provide targeted training and performance management for salespersons with low conversion rates to help improve their efficiency, focusing on faster conversion and higher revenue.\n",
    "\n",
    "By acting on these insights and recommendations, the business can improve lead conversion, optimize sales processes, and drive higher revenue while catering to customer preferences."
   ]
  },
  {
   "cell_type": "code",
   "execution_count": 1,
   "id": "f0800d63",
   "metadata": {
    "execution": {
     "iopub.execute_input": "2024-11-18T05:36:57.397936Z",
     "iopub.status.busy": "2024-11-18T05:36:57.397521Z",
     "iopub.status.idle": "2024-11-18T05:37:15.252186Z",
     "shell.execute_reply": "2024-11-18T05:37:15.250958Z"
    },
    "papermill": {
     "duration": 17.894735,
     "end_time": "2024-11-18T05:37:15.254941",
     "exception": false,
     "start_time": "2024-11-18T05:36:57.360206",
     "status": "completed"
    },
    "tags": []
   },
   "outputs": [],
   "source": [
    "!touch requirements.txt\n",
    "!echo -e \"pandas\\nmatplotlib\\nscikit-learn\\nscipy\\nnumpy\" >> requirements.txt\n",
    "!pip3 install -r /kaggle/working/requirements.txt --quiet"
   ]
  },
  {
   "cell_type": "code",
   "execution_count": 2,
   "id": "9151ca57",
   "metadata": {
    "execution": {
     "iopub.execute_input": "2024-11-18T05:37:15.327730Z",
     "iopub.status.busy": "2024-11-18T05:37:15.327307Z",
     "iopub.status.idle": "2024-11-18T05:37:17.461400Z",
     "shell.execute_reply": "2024-11-18T05:37:17.460490Z"
    },
    "id": "d0v_k-iwPpym",
    "papermill": {
     "duration": 2.173641,
     "end_time": "2024-11-18T05:37:17.464084",
     "exception": false,
     "start_time": "2024-11-18T05:37:15.290443",
     "status": "completed"
    },
    "tags": []
   },
   "outputs": [],
   "source": [
    "#Importing Essential Libraries\n",
    "import warnings\n",
    "warnings.filterwarnings(\"ignore\")\n",
    "import pandas as pd\n",
    "import numpy as np\n",
    "import scipy.stats as stats\n",
    "from sklearn.linear_model import LinearRegression\n",
    "from sklearn.metrics import r2_score, mean_squared_error\n",
    "import matplotlib.pyplot as plt\n",
    "import sqlite3\n",
    "plt.rcParams['figure.figsize'] = (25,6)\n",
    "plt.rcParams['font.size'] = 14\n",
    "plt.rcParams['axes.spines.right'] = False\n",
    "plt.rcParams['axes.spines.top'] = False"
   ]
  },
  {
   "cell_type": "code",
   "execution_count": 3,
   "id": "1e4e28ee",
   "metadata": {
    "execution": {
     "iopub.execute_input": "2024-11-18T05:37:17.535558Z",
     "iopub.status.busy": "2024-11-18T05:37:17.535016Z",
     "iopub.status.idle": "2024-11-18T05:37:18.962270Z",
     "shell.execute_reply": "2024-11-18T05:37:18.961079Z"
    },
    "id": "wLYc5ezJRHxQ",
    "papermill": {
     "duration": 1.465217,
     "end_time": "2024-11-18T05:37:18.964968",
     "exception": false,
     "start_time": "2024-11-18T05:37:17.499751",
     "status": "completed"
    },
    "tags": []
   },
   "outputs": [],
   "source": [
    "#reading the CSV\n",
    "PATH = r'https://raw.githubusercontent.com/dakshbhatnagar/Datasets/main/sales_conversion/Data.csv'\n",
    "df = pd.read_csv(PATH)\n",
    "#removing the spaces in column names\n",
    "df.columns = df.columns.str.replace(\" \", \"\")"
   ]
  },
  {
   "cell_type": "code",
   "execution_count": 4,
   "id": "95b6bab8",
   "metadata": {
    "execution": {
     "iopub.execute_input": "2024-11-18T05:37:19.038836Z",
     "iopub.status.busy": "2024-11-18T05:37:19.037849Z",
     "iopub.status.idle": "2024-11-18T05:37:19.164826Z",
     "shell.execute_reply": "2024-11-18T05:37:19.163650Z"
    },
    "papermill": {
     "duration": 0.166979,
     "end_time": "2024-11-18T05:37:19.167611",
     "exception": false,
     "start_time": "2024-11-18T05:37:19.000632",
     "status": "completed"
    },
    "tags": []
   },
   "outputs": [],
   "source": [
    "cols = list(df.columns[df.columns.str.contains('Date')])\n",
    "for i in cols:\n",
    "    df[i] = pd.to_datetime(df[i])\n",
    "df['TripYear'] = df['TripDate'].dt.year\n",
    "df['LeadYear'] = df['LeadDate'].dt.year"
   ]
  },
  {
   "cell_type": "code",
   "execution_count": 5,
   "id": "f8942fa9",
   "metadata": {
    "execution": {
     "iopub.execute_input": "2024-11-18T05:37:19.240083Z",
     "iopub.status.busy": "2024-11-18T05:37:19.239155Z",
     "iopub.status.idle": "2024-11-18T05:37:19.267619Z",
     "shell.execute_reply": "2024-11-18T05:37:19.266629Z"
    },
    "id": "v1CdUSlHOM36",
    "outputId": "13e898f0-3863-4731-ac7b-7f0c5f132ef4",
    "papermill": {
     "duration": 0.067027,
     "end_time": "2024-11-18T05:37:19.269921",
     "exception": false,
     "start_time": "2024-11-18T05:37:19.202894",
     "status": "completed"
    },
    "tags": []
   },
   "outputs": [
    {
     "data": {
      "text/html": [
       "<div>\n",
       "<style scoped>\n",
       "    .dataframe tbody tr th:only-of-type {\n",
       "        vertical-align: middle;\n",
       "    }\n",
       "\n",
       "    .dataframe tbody tr th {\n",
       "        vertical-align: top;\n",
       "    }\n",
       "\n",
       "    .dataframe thead th {\n",
       "        text-align: right;\n",
       "    }\n",
       "</style>\n",
       "<table border=\"1\" class=\"dataframe\">\n",
       "  <thead>\n",
       "    <tr style=\"text-align: right;\">\n",
       "      <th></th>\n",
       "      <th>LeadDate</th>\n",
       "      <th>LeadSource</th>\n",
       "      <th>Name</th>\n",
       "      <th>Phone</th>\n",
       "      <th>AssignedTo</th>\n",
       "      <th>EnquiryDestination</th>\n",
       "      <th>ExClient</th>\n",
       "      <th>Status</th>\n",
       "      <th>ConversionDate</th>\n",
       "      <th>Trip</th>\n",
       "      <th>TripDate</th>\n",
       "      <th>BookingID</th>\n",
       "      <th>Pax</th>\n",
       "      <th>PerPersonCost</th>\n",
       "      <th>TotalBill</th>\n",
       "      <th>ConvertedBy</th>\n",
       "      <th>Date</th>\n",
       "      <th>Month</th>\n",
       "      <th>TripYear</th>\n",
       "      <th>LeadYear</th>\n",
       "    </tr>\n",
       "  </thead>\n",
       "  <tbody>\n",
       "    <tr>\n",
       "      <th>0</th>\n",
       "      <td>2023-07-16 05:34:00</td>\n",
       "      <td>Lead Source 1</td>\n",
       "      <td>jzjwPXoyff nrw</td>\n",
       "      <td>(&amp;))^!%@!!</td>\n",
       "      <td>Sales Person 1</td>\n",
       "      <td>Vietnam</td>\n",
       "      <td>NaN</td>\n",
       "      <td>NaN</td>\n",
       "      <td>NaT</td>\n",
       "      <td>NaN</td>\n",
       "      <td>NaT</td>\n",
       "      <td>NaN</td>\n",
       "      <td>NaN</td>\n",
       "      <td>NaN</td>\n",
       "      <td>NaN</td>\n",
       "      <td>NaN</td>\n",
       "      <td>2023-07-16</td>\n",
       "      <td>Jul</td>\n",
       "      <td>NaN</td>\n",
       "      <td>2023</td>\n",
       "    </tr>\n",
       "    <tr>\n",
       "      <th>1</th>\n",
       "      <td>2023-07-16 05:39:00</td>\n",
       "      <td>Lead Source 2</td>\n",
       "      <td>mfz|Xn iwnnwY</td>\n",
       "      <td>*@!!@%*$##</td>\n",
       "      <td>Sales Person 2</td>\n",
       "      <td>Andaman</td>\n",
       "      <td>NaN</td>\n",
       "      <td>NaN</td>\n",
       "      <td>NaT</td>\n",
       "      <td>NaN</td>\n",
       "      <td>NaT</td>\n",
       "      <td>NaN</td>\n",
       "      <td>NaN</td>\n",
       "      <td>NaN</td>\n",
       "      <td>NaN</td>\n",
       "      <td>NaN</td>\n",
       "      <td>2023-07-16</td>\n",
       "      <td>Jul</td>\n",
       "      <td>NaN</td>\n",
       "      <td>2023</td>\n",
       "    </tr>\n",
       "    <tr>\n",
       "      <th>2</th>\n",
       "      <td>2023-07-16 05:39:00</td>\n",
       "      <td>Lead Source 1</td>\n",
       "      <td>wwmâMãmgxm Çä</td>\n",
       "      <td>*)((^#@)!#</td>\n",
       "      <td>Sales Person 0</td>\n",
       "      <td>Himachal Trips</td>\n",
       "      <td>NaN</td>\n",
       "      <td>NaN</td>\n",
       "      <td>NaT</td>\n",
       "      <td>NaN</td>\n",
       "      <td>NaT</td>\n",
       "      <td>NaN</td>\n",
       "      <td>NaN</td>\n",
       "      <td>NaN</td>\n",
       "      <td>NaN</td>\n",
       "      <td>NaN</td>\n",
       "      <td>2023-07-16</td>\n",
       "      <td>Jul</td>\n",
       "      <td>NaN</td>\n",
       "      <td>2023</td>\n",
       "    </tr>\n",
       "    <tr>\n",
       "      <th>3</th>\n",
       "      <td>2023-07-16 05:42:00</td>\n",
       "      <td>Lead Source 1</td>\n",
       "      <td>lZ sf XfmsfWwyn</td>\n",
       "      <td>(&amp;$)##!@)%</td>\n",
       "      <td>Sales Person 3</td>\n",
       "      <td>Ladakh</td>\n",
       "      <td>NaN</td>\n",
       "      <td>NaN</td>\n",
       "      <td>NaT</td>\n",
       "      <td>NaN</td>\n",
       "      <td>NaT</td>\n",
       "      <td>NaN</td>\n",
       "      <td>NaN</td>\n",
       "      <td>NaN</td>\n",
       "      <td>NaN</td>\n",
       "      <td>NaN</td>\n",
       "      <td>2023-07-16</td>\n",
       "      <td>Jul</td>\n",
       "      <td>NaN</td>\n",
       "      <td>2023</td>\n",
       "    </tr>\n",
       "    <tr>\n",
       "      <th>4</th>\n",
       "      <td>2023-07-16 05:55:00</td>\n",
       "      <td>Lead Source 1</td>\n",
       "      <td>fXwnfwfsXpl</td>\n",
       "      <td>)*&amp;%($$$##</td>\n",
       "      <td>Sales Person 0</td>\n",
       "      <td>Spiti Valley</td>\n",
       "      <td>NaN</td>\n",
       "      <td>NaN</td>\n",
       "      <td>NaT</td>\n",
       "      <td>NaN</td>\n",
       "      <td>NaT</td>\n",
       "      <td>NaN</td>\n",
       "      <td>NaN</td>\n",
       "      <td>NaN</td>\n",
       "      <td>NaN</td>\n",
       "      <td>NaN</td>\n",
       "      <td>2023-07-16</td>\n",
       "      <td>Jul</td>\n",
       "      <td>NaN</td>\n",
       "      <td>2023</td>\n",
       "    </tr>\n",
       "  </tbody>\n",
       "</table>\n",
       "</div>"
      ],
      "text/plain": [
       "             LeadDate     LeadSource             Name       Phone  \\\n",
       "0 2023-07-16 05:34:00  Lead Source 1   jzjwPXoyff nrw  (&))^!%@!!   \n",
       "1 2023-07-16 05:39:00  Lead Source 2    mfz|Xn iwnnwY  *@!!@%*$##   \n",
       "2 2023-07-16 05:39:00  Lead Source 1    wwmâMãmgxm Çä  *)((^#@)!#   \n",
       "3 2023-07-16 05:42:00  Lead Source 1  lZ sf XfmsfWwyn  (&$)##!@)%   \n",
       "4 2023-07-16 05:55:00  Lead Source 1     fXwnfwfsXpl   )*&%($$$##   \n",
       "\n",
       "       AssignedTo EnquiryDestination ExClient Status ConversionDate Trip  \\\n",
       "0  Sales Person 1            Vietnam      NaN    NaN            NaT  NaN   \n",
       "1  Sales Person 2            Andaman      NaN    NaN            NaT  NaN   \n",
       "2  Sales Person 0     Himachal Trips      NaN    NaN            NaT  NaN   \n",
       "3  Sales Person 3             Ladakh      NaN    NaN            NaT  NaN   \n",
       "4  Sales Person 0       Spiti Valley      NaN    NaN            NaT  NaN   \n",
       "\n",
       "  TripDate BookingID  Pax  PerPersonCost  TotalBill ConvertedBy       Date  \\\n",
       "0      NaT       NaN  NaN            NaN        NaN         NaN 2023-07-16   \n",
       "1      NaT       NaN  NaN            NaN        NaN         NaN 2023-07-16   \n",
       "2      NaT       NaN  NaN            NaN        NaN         NaN 2023-07-16   \n",
       "3      NaT       NaN  NaN            NaN        NaN         NaN 2023-07-16   \n",
       "4      NaT       NaN  NaN            NaN        NaN         NaN 2023-07-16   \n",
       "\n",
       "  Month  TripYear  LeadYear  \n",
       "0   Jul       NaN      2023  \n",
       "1   Jul       NaN      2023  \n",
       "2   Jul       NaN      2023  \n",
       "3   Jul       NaN      2023  \n",
       "4   Jul       NaN      2023  "
      ]
     },
     "execution_count": 5,
     "metadata": {},
     "output_type": "execute_result"
    }
   ],
   "source": [
    "df.head()"
   ]
  },
  {
   "cell_type": "code",
   "execution_count": 6,
   "id": "16fdc646",
   "metadata": {
    "execution": {
     "iopub.execute_input": "2024-11-18T05:37:19.343205Z",
     "iopub.status.busy": "2024-11-18T05:37:19.342227Z",
     "iopub.status.idle": "2024-11-18T05:37:19.350858Z",
     "shell.execute_reply": "2024-11-18T05:37:19.349814Z"
    },
    "papermill": {
     "duration": 0.047505,
     "end_time": "2024-11-18T05:37:19.353049",
     "exception": false,
     "start_time": "2024-11-18T05:37:19.305544",
     "status": "completed"
    },
    "tags": []
   },
   "outputs": [
    {
     "data": {
      "text/plain": [
       "LeadDate              datetime64[ns]\n",
       "LeadSource                    object\n",
       "Name                          object\n",
       "Phone                         object\n",
       "AssignedTo                    object\n",
       "EnquiryDestination            object\n",
       "ExClient                      object\n",
       "Status                        object\n",
       "ConversionDate        datetime64[ns]\n",
       "Trip                          object\n",
       "TripDate              datetime64[ns]\n",
       "BookingID                     object\n",
       "Pax                          float64\n",
       "PerPersonCost                float64\n",
       "TotalBill                    float64\n",
       "ConvertedBy                   object\n",
       "Date                  datetime64[ns]\n",
       "Month                         object\n",
       "TripYear                     float64\n",
       "LeadYear                       int32\n",
       "dtype: object"
      ]
     },
     "execution_count": 6,
     "metadata": {},
     "output_type": "execute_result"
    }
   ],
   "source": [
    "df.dtypes"
   ]
  },
  {
   "cell_type": "code",
   "execution_count": 7,
   "id": "6ef22229",
   "metadata": {
    "execution": {
     "iopub.execute_input": "2024-11-18T05:37:19.476894Z",
     "iopub.status.busy": "2024-11-18T05:37:19.476158Z",
     "iopub.status.idle": "2024-11-18T05:37:19.578721Z",
     "shell.execute_reply": "2024-11-18T05:37:19.577738Z"
    },
    "id": "6M5otGWJ5H63",
    "outputId": "462eda27-352d-42fe-8f5b-02d3bb4e5542",
    "papermill": {
     "duration": 0.19273,
     "end_time": "2024-11-18T05:37:19.581136",
     "exception": false,
     "start_time": "2024-11-18T05:37:19.388406",
     "status": "completed"
    },
    "tags": []
   },
   "outputs": [
    {
     "data": {
      "text/html": [
       "<div>\n",
       "<style scoped>\n",
       "    .dataframe tbody tr th:only-of-type {\n",
       "        vertical-align: middle;\n",
       "    }\n",
       "\n",
       "    .dataframe tbody tr th {\n",
       "        vertical-align: top;\n",
       "    }\n",
       "\n",
       "    .dataframe thead th {\n",
       "        text-align: right;\n",
       "    }\n",
       "</style>\n",
       "<table border=\"1\" class=\"dataframe\">\n",
       "  <thead>\n",
       "    <tr style=\"text-align: right;\">\n",
       "      <th></th>\n",
       "      <th>Column</th>\n",
       "      <th>Null_Pct</th>\n",
       "    </tr>\n",
       "  </thead>\n",
       "  <tbody>\n",
       "    <tr>\n",
       "      <th>0</th>\n",
       "      <td>TripDate</td>\n",
       "      <td>96.54</td>\n",
       "    </tr>\n",
       "    <tr>\n",
       "      <th>1</th>\n",
       "      <td>ConvertedBy</td>\n",
       "      <td>96.54</td>\n",
       "    </tr>\n",
       "    <tr>\n",
       "      <th>2</th>\n",
       "      <td>TripYear</td>\n",
       "      <td>96.54</td>\n",
       "    </tr>\n",
       "    <tr>\n",
       "      <th>3</th>\n",
       "      <td>Status</td>\n",
       "      <td>96.54</td>\n",
       "    </tr>\n",
       "    <tr>\n",
       "      <th>4</th>\n",
       "      <td>ConversionDate</td>\n",
       "      <td>96.54</td>\n",
       "    </tr>\n",
       "    <tr>\n",
       "      <th>5</th>\n",
       "      <td>Trip</td>\n",
       "      <td>96.54</td>\n",
       "    </tr>\n",
       "    <tr>\n",
       "      <th>6</th>\n",
       "      <td>BookingID</td>\n",
       "      <td>96.54</td>\n",
       "    </tr>\n",
       "    <tr>\n",
       "      <th>7</th>\n",
       "      <td>Pax</td>\n",
       "      <td>96.54</td>\n",
       "    </tr>\n",
       "    <tr>\n",
       "      <th>8</th>\n",
       "      <td>PerPersonCost</td>\n",
       "      <td>96.54</td>\n",
       "    </tr>\n",
       "    <tr>\n",
       "      <th>9</th>\n",
       "      <td>TotalBill</td>\n",
       "      <td>96.54</td>\n",
       "    </tr>\n",
       "    <tr>\n",
       "      <th>10</th>\n",
       "      <td>ExClient</td>\n",
       "      <td>96.34</td>\n",
       "    </tr>\n",
       "    <tr>\n",
       "      <th>11</th>\n",
       "      <td>EnquiryDestination</td>\n",
       "      <td>6.48</td>\n",
       "    </tr>\n",
       "    <tr>\n",
       "      <th>12</th>\n",
       "      <td>Name</td>\n",
       "      <td>0.36</td>\n",
       "    </tr>\n",
       "    <tr>\n",
       "      <th>13</th>\n",
       "      <td>Month</td>\n",
       "      <td>0.00</td>\n",
       "    </tr>\n",
       "    <tr>\n",
       "      <th>14</th>\n",
       "      <td>Date</td>\n",
       "      <td>0.00</td>\n",
       "    </tr>\n",
       "    <tr>\n",
       "      <th>15</th>\n",
       "      <td>LeadDate</td>\n",
       "      <td>0.00</td>\n",
       "    </tr>\n",
       "    <tr>\n",
       "      <th>16</th>\n",
       "      <td>LeadSource</td>\n",
       "      <td>0.00</td>\n",
       "    </tr>\n",
       "    <tr>\n",
       "      <th>17</th>\n",
       "      <td>AssignedTo</td>\n",
       "      <td>0.00</td>\n",
       "    </tr>\n",
       "    <tr>\n",
       "      <th>18</th>\n",
       "      <td>Phone</td>\n",
       "      <td>0.00</td>\n",
       "    </tr>\n",
       "    <tr>\n",
       "      <th>19</th>\n",
       "      <td>LeadYear</td>\n",
       "      <td>0.00</td>\n",
       "    </tr>\n",
       "  </tbody>\n",
       "</table>\n",
       "</div>"
      ],
      "text/plain": [
       "                Column  Null_Pct\n",
       "0             TripDate     96.54\n",
       "1          ConvertedBy     96.54\n",
       "2             TripYear     96.54\n",
       "3               Status     96.54\n",
       "4       ConversionDate     96.54\n",
       "5                 Trip     96.54\n",
       "6            BookingID     96.54\n",
       "7                  Pax     96.54\n",
       "8        PerPersonCost     96.54\n",
       "9            TotalBill     96.54\n",
       "10            ExClient     96.34\n",
       "11  EnquiryDestination      6.48\n",
       "12                Name      0.36\n",
       "13               Month      0.00\n",
       "14                Date      0.00\n",
       "15            LeadDate      0.00\n",
       "16          LeadSource      0.00\n",
       "17          AssignedTo      0.00\n",
       "18               Phone      0.00\n",
       "19            LeadYear      0.00"
      ]
     },
     "execution_count": 7,
     "metadata": {},
     "output_type": "execute_result"
    }
   ],
   "source": [
    "#Null value counts (in %)\n",
    "null_df = round(df.isnull().sum()/len(df)*100,2).to_frame()\\\n",
    "                    .reset_index().rename(columns={'index': 'Column', 0: 'Null_Pct'})\\\n",
    "                    .sort_values(by='Null_Pct', ascending=False).reset_index(drop=True)\n",
    "null_df"
   ]
  },
  {
   "cell_type": "markdown",
   "id": "ff719cf6",
   "metadata": {
    "papermill": {
     "duration": 0.036064,
     "end_time": "2024-11-18T05:37:19.653973",
     "exception": false,
     "start_time": "2024-11-18T05:37:19.617909",
     "status": "completed"
    },
    "tags": []
   },
   "source": [
    "Since where the Status is a `null` value, it means the conversion was not done and we want to be able to analyse so will not drop the null values."
   ]
  },
  {
   "cell_type": "code",
   "execution_count": 8,
   "id": "270b1a47",
   "metadata": {
    "execution": {
     "iopub.execute_input": "2024-11-18T05:37:19.727388Z",
     "iopub.status.busy": "2024-11-18T05:37:19.726524Z",
     "iopub.status.idle": "2024-11-18T05:37:19.788234Z",
     "shell.execute_reply": "2024-11-18T05:37:19.787189Z"
    },
    "id": "e7TlBa3H5ejz",
    "outputId": "d9505e27-6652-4397-d300-767660eb60ce",
    "papermill": {
     "duration": 0.101166,
     "end_time": "2024-11-18T05:37:19.791423",
     "exception": false,
     "start_time": "2024-11-18T05:37:19.690257",
     "status": "completed"
    },
    "tags": []
   },
   "outputs": [
    {
     "data": {
      "text/html": [
       "<div>\n",
       "<style scoped>\n",
       "    .dataframe tbody tr th:only-of-type {\n",
       "        vertical-align: middle;\n",
       "    }\n",
       "\n",
       "    .dataframe tbody tr th {\n",
       "        vertical-align: top;\n",
       "    }\n",
       "\n",
       "    .dataframe thead th {\n",
       "        text-align: right;\n",
       "    }\n",
       "</style>\n",
       "<table border=\"1\" class=\"dataframe\">\n",
       "  <thead>\n",
       "    <tr style=\"text-align: right;\">\n",
       "      <th></th>\n",
       "      <th>count</th>\n",
       "      <th>mean</th>\n",
       "      <th>min</th>\n",
       "      <th>25%</th>\n",
       "      <th>50%</th>\n",
       "      <th>75%</th>\n",
       "      <th>max</th>\n",
       "      <th>std</th>\n",
       "    </tr>\n",
       "  </thead>\n",
       "  <tbody>\n",
       "    <tr>\n",
       "      <th>LeadDate</th>\n",
       "      <td>93481</td>\n",
       "      <td>2023-09-05 04:58:08.814411776</td>\n",
       "      <td>2023-07-16 05:34:00</td>\n",
       "      <td>2023-08-13 01:20:00</td>\n",
       "      <td>2023-09-04 19:25:00</td>\n",
       "      <td>2023-09-28 12:35:00</td>\n",
       "      <td>2023-10-24 23:56:00</td>\n",
       "      <td>NaN</td>\n",
       "    </tr>\n",
       "    <tr>\n",
       "      <th>ConversionDate</th>\n",
       "      <td>3232</td>\n",
       "      <td>2023-09-14 01:47:53.970916096</td>\n",
       "      <td>2023-07-17 13:13:32</td>\n",
       "      <td>2023-08-21 11:58:28</td>\n",
       "      <td>2023-09-16 15:30:06.500000</td>\n",
       "      <td>2023-10-10 14:17:22.750000128</td>\n",
       "      <td>2023-10-26 15:46:13</td>\n",
       "      <td>NaN</td>\n",
       "    </tr>\n",
       "    <tr>\n",
       "      <th>TripDate</th>\n",
       "      <td>3232</td>\n",
       "      <td>2023-11-03 16:53:10.099010304</td>\n",
       "      <td>2023-06-17 00:00:00</td>\n",
       "      <td>2023-09-11 18:00:00</td>\n",
       "      <td>2023-10-31 00:00:00</td>\n",
       "      <td>2023-11-28 00:00:00</td>\n",
       "      <td>2024-06-14 00:00:00</td>\n",
       "      <td>NaN</td>\n",
       "    </tr>\n",
       "    <tr>\n",
       "      <th>Pax</th>\n",
       "      <td>3232.0</td>\n",
       "      <td>2.108911</td>\n",
       "      <td>1.0</td>\n",
       "      <td>1.0</td>\n",
       "      <td>2.0</td>\n",
       "      <td>2.0</td>\n",
       "      <td>21.0</td>\n",
       "      <td>1.652555</td>\n",
       "    </tr>\n",
       "    <tr>\n",
       "      <th>PerPersonCost</th>\n",
       "      <td>3232.0</td>\n",
       "      <td>2747.937191</td>\n",
       "      <td>0.0</td>\n",
       "      <td>1764.0</td>\n",
       "      <td>2240.0</td>\n",
       "      <td>3155.25</td>\n",
       "      <td>99760.0</td>\n",
       "      <td>2849.761607</td>\n",
       "    </tr>\n",
       "    <tr>\n",
       "      <th>TotalBill</th>\n",
       "      <td>3232.0</td>\n",
       "      <td>5778.488552</td>\n",
       "      <td>0.0</td>\n",
       "      <td>2142.0</td>\n",
       "      <td>4128.0</td>\n",
       "      <td>6741.0</td>\n",
       "      <td>139680.0</td>\n",
       "      <td>7114.953276</td>\n",
       "    </tr>\n",
       "    <tr>\n",
       "      <th>Date</th>\n",
       "      <td>93481</td>\n",
       "      <td>2023-09-04 14:51:13.522961664</td>\n",
       "      <td>2023-07-16 00:00:00</td>\n",
       "      <td>2023-08-13 00:00:00</td>\n",
       "      <td>2023-09-04 00:00:00</td>\n",
       "      <td>2023-09-28 00:00:00</td>\n",
       "      <td>2023-10-24 00:00:00</td>\n",
       "      <td>NaN</td>\n",
       "    </tr>\n",
       "    <tr>\n",
       "      <th>TripYear</th>\n",
       "      <td>3232.0</td>\n",
       "      <td>2023.160272</td>\n",
       "      <td>2023.0</td>\n",
       "      <td>2023.0</td>\n",
       "      <td>2023.0</td>\n",
       "      <td>2023.0</td>\n",
       "      <td>2024.0</td>\n",
       "      <td>0.366915</td>\n",
       "    </tr>\n",
       "    <tr>\n",
       "      <th>LeadYear</th>\n",
       "      <td>93481.0</td>\n",
       "      <td>2023.0</td>\n",
       "      <td>2023.0</td>\n",
       "      <td>2023.0</td>\n",
       "      <td>2023.0</td>\n",
       "      <td>2023.0</td>\n",
       "      <td>2023.0</td>\n",
       "      <td>0.0</td>\n",
       "    </tr>\n",
       "  </tbody>\n",
       "</table>\n",
       "</div>"
      ],
      "text/plain": [
       "                  count                           mean                  min  \\\n",
       "LeadDate          93481  2023-09-05 04:58:08.814411776  2023-07-16 05:34:00   \n",
       "ConversionDate     3232  2023-09-14 01:47:53.970916096  2023-07-17 13:13:32   \n",
       "TripDate           3232  2023-11-03 16:53:10.099010304  2023-06-17 00:00:00   \n",
       "Pax              3232.0                       2.108911                  1.0   \n",
       "PerPersonCost    3232.0                    2747.937191                  0.0   \n",
       "TotalBill        3232.0                    5778.488552                  0.0   \n",
       "Date              93481  2023-09-04 14:51:13.522961664  2023-07-16 00:00:00   \n",
       "TripYear         3232.0                    2023.160272               2023.0   \n",
       "LeadYear        93481.0                         2023.0               2023.0   \n",
       "\n",
       "                                25%                         50%  \\\n",
       "LeadDate        2023-08-13 01:20:00         2023-09-04 19:25:00   \n",
       "ConversionDate  2023-08-21 11:58:28  2023-09-16 15:30:06.500000   \n",
       "TripDate        2023-09-11 18:00:00         2023-10-31 00:00:00   \n",
       "Pax                             1.0                         2.0   \n",
       "PerPersonCost                1764.0                      2240.0   \n",
       "TotalBill                    2142.0                      4128.0   \n",
       "Date            2023-08-13 00:00:00         2023-09-04 00:00:00   \n",
       "TripYear                     2023.0                      2023.0   \n",
       "LeadYear                     2023.0                      2023.0   \n",
       "\n",
       "                                          75%                  max  \\\n",
       "LeadDate                  2023-09-28 12:35:00  2023-10-24 23:56:00   \n",
       "ConversionDate  2023-10-10 14:17:22.750000128  2023-10-26 15:46:13   \n",
       "TripDate                  2023-11-28 00:00:00  2024-06-14 00:00:00   \n",
       "Pax                                       2.0                 21.0   \n",
       "PerPersonCost                         3155.25              99760.0   \n",
       "TotalBill                              6741.0             139680.0   \n",
       "Date                      2023-09-28 00:00:00  2023-10-24 00:00:00   \n",
       "TripYear                               2023.0               2024.0   \n",
       "LeadYear                               2023.0               2023.0   \n",
       "\n",
       "                        std  \n",
       "LeadDate                NaN  \n",
       "ConversionDate          NaN  \n",
       "TripDate                NaN  \n",
       "Pax                1.652555  \n",
       "PerPersonCost   2849.761607  \n",
       "TotalBill       7114.953276  \n",
       "Date                    NaN  \n",
       "TripYear           0.366915  \n",
       "LeadYear                0.0  "
      ]
     },
     "execution_count": 8,
     "metadata": {},
     "output_type": "execute_result"
    }
   ],
   "source": [
    "#Some statistical Info about numerical columns\n",
    "df.describe().T"
   ]
  },
  {
   "cell_type": "code",
   "execution_count": 9,
   "id": "6e4015be",
   "metadata": {
    "execution": {
     "iopub.execute_input": "2024-11-18T05:37:19.870298Z",
     "iopub.status.busy": "2024-11-18T05:37:19.869645Z",
     "iopub.status.idle": "2024-11-18T05:37:19.890147Z",
     "shell.execute_reply": "2024-11-18T05:37:19.888961Z"
    },
    "papermill": {
     "duration": 0.062346,
     "end_time": "2024-11-18T05:37:19.892473",
     "exception": false,
     "start_time": "2024-11-18T05:37:19.830127",
     "status": "completed"
    },
    "tags": []
   },
   "outputs": [
    {
     "data": {
      "text/html": [
       "<div>\n",
       "<style scoped>\n",
       "    .dataframe tbody tr th:only-of-type {\n",
       "        vertical-align: middle;\n",
       "    }\n",
       "\n",
       "    .dataframe tbody tr th {\n",
       "        vertical-align: top;\n",
       "    }\n",
       "\n",
       "    .dataframe thead th {\n",
       "        text-align: right;\n",
       "    }\n",
       "</style>\n",
       "<table border=\"1\" class=\"dataframe\">\n",
       "  <thead>\n",
       "    <tr style=\"text-align: right;\">\n",
       "      <th></th>\n",
       "      <th>Pax</th>\n",
       "      <th>PerPersonCost</th>\n",
       "      <th>TotalBill</th>\n",
       "      <th>TripYear</th>\n",
       "      <th>LeadYear</th>\n",
       "    </tr>\n",
       "  </thead>\n",
       "  <tbody>\n",
       "    <tr>\n",
       "      <th>Pax</th>\n",
       "      <td>1.000000</td>\n",
       "      <td>-0.003512</td>\n",
       "      <td>0.573051</td>\n",
       "      <td>-0.002254</td>\n",
       "      <td>NaN</td>\n",
       "    </tr>\n",
       "    <tr>\n",
       "      <th>PerPersonCost</th>\n",
       "      <td>-0.003512</td>\n",
       "      <td>1.000000</td>\n",
       "      <td>0.669980</td>\n",
       "      <td>0.007899</td>\n",
       "      <td>NaN</td>\n",
       "    </tr>\n",
       "    <tr>\n",
       "      <th>TotalBill</th>\n",
       "      <td>0.573051</td>\n",
       "      <td>0.669980</td>\n",
       "      <td>1.000000</td>\n",
       "      <td>0.012657</td>\n",
       "      <td>NaN</td>\n",
       "    </tr>\n",
       "    <tr>\n",
       "      <th>TripYear</th>\n",
       "      <td>-0.002254</td>\n",
       "      <td>0.007899</td>\n",
       "      <td>0.012657</td>\n",
       "      <td>1.000000</td>\n",
       "      <td>NaN</td>\n",
       "    </tr>\n",
       "    <tr>\n",
       "      <th>LeadYear</th>\n",
       "      <td>NaN</td>\n",
       "      <td>NaN</td>\n",
       "      <td>NaN</td>\n",
       "      <td>NaN</td>\n",
       "      <td>NaN</td>\n",
       "    </tr>\n",
       "  </tbody>\n",
       "</table>\n",
       "</div>"
      ],
      "text/plain": [
       "                    Pax  PerPersonCost  TotalBill  TripYear  LeadYear\n",
       "Pax            1.000000      -0.003512   0.573051 -0.002254       NaN\n",
       "PerPersonCost -0.003512       1.000000   0.669980  0.007899       NaN\n",
       "TotalBill      0.573051       0.669980   1.000000  0.012657       NaN\n",
       "TripYear      -0.002254       0.007899   0.012657  1.000000       NaN\n",
       "LeadYear            NaN            NaN        NaN       NaN       NaN"
      ]
     },
     "execution_count": 9,
     "metadata": {},
     "output_type": "execute_result"
    }
   ],
   "source": [
    "df.select_dtypes('number').corr()"
   ]
  },
  {
   "cell_type": "markdown",
   "id": "be609e6f",
   "metadata": {
    "papermill": {
     "duration": 0.036538,
     "end_time": "2024-11-18T05:37:19.966455",
     "exception": false,
     "start_time": "2024-11-18T05:37:19.929917",
     "status": "completed"
    },
    "tags": []
   },
   "source": [
    "This correlation matrix highlights:\n",
    "\n",
    "1.\tPax vs. TotalBill (0.573): Moderate positive correlation. As the number of people (Pax) increases, the total bill tends to rise, but not proportionally. This could mean discounts for group bookings or varying service usage.\n",
    "2.\tPerPersonCost vs. TotalBill (0.670): Stronger positive correlation. Higher per-person costs drive higher total bills, suggesting upselling or premium service usage.\n",
    "3.\tPax vs. PerPersonCost (-0.003): Virtually no correlation. Group size does not affect the cost per person, indicating a consistent pricing strategy."
   ]
  },
  {
   "cell_type": "code",
   "execution_count": 10,
   "id": "c5f26f51",
   "metadata": {
    "execution": {
     "iopub.execute_input": "2024-11-18T05:37:20.042243Z",
     "iopub.status.busy": "2024-11-18T05:37:20.041864Z",
     "iopub.status.idle": "2024-11-18T05:37:20.142097Z",
     "shell.execute_reply": "2024-11-18T05:37:20.140964Z"
    },
    "papermill": {
     "duration": 0.141189,
     "end_time": "2024-11-18T05:37:20.144767",
     "exception": false,
     "start_time": "2024-11-18T05:37:20.003578",
     "status": "completed"
    },
    "tags": []
   },
   "outputs": [
    {
     "name": "stdout",
     "output_type": "stream",
     "text": [
      "<class 'pandas.core.frame.DataFrame'>\n",
      "RangeIndex: 93481 entries, 0 to 93480\n",
      "Data columns (total 20 columns):\n",
      " #   Column              Non-Null Count  Dtype         \n",
      "---  ------              --------------  -----         \n",
      " 0   LeadDate            93481 non-null  datetime64[ns]\n",
      " 1   LeadSource          93481 non-null  object        \n",
      " 2   Name                93145 non-null  object        \n",
      " 3   Phone               93481 non-null  object        \n",
      " 4   AssignedTo          93481 non-null  object        \n",
      " 5   EnquiryDestination  87424 non-null  object        \n",
      " 6   ExClient            3420 non-null   object        \n",
      " 7   Status              3232 non-null   object        \n",
      " 8   ConversionDate      3232 non-null   datetime64[ns]\n",
      " 9   Trip                3232 non-null   object        \n",
      " 10  TripDate            3232 non-null   datetime64[ns]\n",
      " 11  BookingID           3232 non-null   object        \n",
      " 12  Pax                 3232 non-null   float64       \n",
      " 13  PerPersonCost       3232 non-null   float64       \n",
      " 14  TotalBill           3232 non-null   float64       \n",
      " 15  ConvertedBy         3232 non-null   object        \n",
      " 16  Date                93481 non-null  datetime64[ns]\n",
      " 17  Month               93481 non-null  object        \n",
      " 18  TripYear            3232 non-null   float64       \n",
      " 19  LeadYear            93481 non-null  int32         \n",
      "dtypes: datetime64[ns](4), float64(4), int32(1), object(11)\n",
      "memory usage: 13.9+ MB\n"
     ]
    }
   ],
   "source": [
    "df.info()"
   ]
  },
  {
   "cell_type": "code",
   "execution_count": 11,
   "id": "bec24598",
   "metadata": {
    "execution": {
     "iopub.execute_input": "2024-11-18T05:37:20.223846Z",
     "iopub.status.busy": "2024-11-18T05:37:20.222752Z",
     "iopub.status.idle": "2024-11-18T05:37:22.218033Z",
     "shell.execute_reply": "2024-11-18T05:37:22.216840Z"
    },
    "id": "U4g6aWBBZtVB",
    "outputId": "1368878d-13d9-436c-8c2f-46d8072fc4bf",
    "papermill": {
     "duration": 2.03757,
     "end_time": "2024-11-18T05:37:22.220833",
     "exception": false,
     "start_time": "2024-11-18T05:37:20.183263",
     "status": "completed"
    },
    "tags": []
   },
   "outputs": [
    {
     "data": {
      "text/plain": [
       "93481"
      ]
     },
     "execution_count": 11,
     "metadata": {},
     "output_type": "execute_result"
    }
   ],
   "source": [
    "#setting up the sqlite3 database connection\n",
    "conn = sqlite3.connect('data.db')\n",
    "#Converting the data to SQLite3 DB file\n",
    "df.to_sql('travels', conn, if_exists='replace', index=False)"
   ]
  },
  {
   "cell_type": "code",
   "execution_count": 12,
   "id": "4a8b8e25",
   "metadata": {
    "execution": {
     "iopub.execute_input": "2024-11-18T05:37:22.299941Z",
     "iopub.status.busy": "2024-11-18T05:37:22.299280Z",
     "iopub.status.idle": "2024-11-18T05:37:22.303898Z",
     "shell.execute_reply": "2024-11-18T05:37:22.302891Z"
    },
    "id": "08AvCkxravCz",
    "papermill": {
     "duration": 0.046336,
     "end_time": "2024-11-18T05:37:22.306218",
     "exception": false,
     "start_time": "2024-11-18T05:37:22.259882",
     "status": "completed"
    },
    "tags": []
   },
   "outputs": [],
   "source": [
    "light_blue ='#6d9eeb'\n",
    "dark_blue = '#445e93'"
   ]
  },
  {
   "cell_type": "markdown",
   "id": "9c523b44",
   "metadata": {
    "id": "oL3v-Fp6bCP0",
    "papermill": {
     "duration": 0.038257,
     "end_time": "2024-11-18T05:37:22.382263",
     "exception": false,
     "start_time": "2024-11-18T05:37:22.344006",
     "status": "completed"
    },
    "tags": []
   },
   "source": [
    "## Broad Overview and Trends"
   ]
  },
  {
   "cell_type": "markdown",
   "id": "62a0fb3d",
   "metadata": {
    "id": "U0XG61OiRgRL",
    "papermill": {
     "duration": 0.036865,
     "end_time": "2024-11-18T05:37:22.456432",
     "exception": false,
     "start_time": "2024-11-18T05:37:22.419567",
     "status": "completed"
    },
    "tags": []
   },
   "source": [
    "1. **What is the total number of leads and conversions in the dataset?**"
   ]
  },
  {
   "cell_type": "code",
   "execution_count": 13,
   "id": "948da69d",
   "metadata": {
    "execution": {
     "iopub.execute_input": "2024-11-18T05:37:22.534899Z",
     "iopub.status.busy": "2024-11-18T05:37:22.534091Z",
     "iopub.status.idle": "2024-11-18T05:37:22.557010Z",
     "shell.execute_reply": "2024-11-18T05:37:22.555763Z"
    },
    "id": "msNHiQAjRhvE",
    "outputId": "de7cd223-3fcb-4aab-daa6-2973bb270890",
    "papermill": {
     "duration": 0.065135,
     "end_time": "2024-11-18T05:37:22.559229",
     "exception": false,
     "start_time": "2024-11-18T05:37:22.494094",
     "status": "completed"
    },
    "tags": []
   },
   "outputs": [
    {
     "name": "stdout",
     "output_type": "stream",
     "text": [
      "There are 93,481 leads and 3,232 Conversions in the dataset so conversion Rate is 3.46%\n"
     ]
    }
   ],
   "source": [
    "rows, columns = df.shape\n",
    "conversions = len(df[df['Status']=='Converted'])\n",
    "conv_rows = (df['Status']=='Converted').sum()\n",
    "conv_pct = round(conv_rows/rows*100,2)\n",
    "print(f'There are {rows:,} leads and {conversions:,} Conversions in the dataset so conversion Rate is {conv_pct}%')"
   ]
  },
  {
   "cell_type": "markdown",
   "id": "a7840f4b",
   "metadata": {
    "id": "u3hDzFW2ZMwB",
    "papermill": {
     "duration": 0.037757,
     "end_time": "2024-11-18T05:37:22.634558",
     "exception": false,
     "start_time": "2024-11-18T05:37:22.596801",
     "status": "completed"
    },
    "tags": []
   },
   "source": [
    "\n",
    "2. **What is the distribution of leads over different months?**"
   ]
  },
  {
   "cell_type": "code",
   "execution_count": 14,
   "id": "72c7d10f",
   "metadata": {
    "execution": {
     "iopub.execute_input": "2024-11-18T05:37:22.712961Z",
     "iopub.status.busy": "2024-11-18T05:37:22.711998Z",
     "iopub.status.idle": "2024-11-18T05:37:23.128708Z",
     "shell.execute_reply": "2024-11-18T05:37:23.127651Z"
    },
    "id": "x9pHlUtPXjZ-",
    "outputId": "af5a30ac-8a33-41dc-ab49-35a232baf453",
    "papermill": {
     "duration": 0.458724,
     "end_time": "2024-11-18T05:37:23.131219",
     "exception": false,
     "start_time": "2024-11-18T05:37:22.672495",
     "status": "completed"
    },
    "tags": []
   },
   "outputs": [
    {
     "data": {
      "image/png": "[encoded data removed]",
      "text/plain": [
       "<Figure size 2500x600 with 1 Axes>"
      ]
     },
     "metadata": {},
     "output_type": "display_data"
    }
   ],
   "source": [
    "query = '''\n",
    "select Month, count(Month) as LeadsCount, sum(TotalBill) as Revenue from travels group by Month\n",
    "order by\n",
    "  case when Month = 'Jul' then 1\n",
    "    when Month = 'Aug' then 2\n",
    "    when Month = 'Sep' then 3\n",
    "    when Month = 'Oct' then 4\n",
    "    else 0\n",
    "  end\n",
    "\n",
    "'''\n",
    "\n",
    "temp = pd.read_sql(query, conn)\n",
    "COLORS =[light_blue] * len(temp)\n",
    "COLORS[1] = dark_blue\n",
    "ax = plt.bar(data=temp, x='Month', height = 'LeadsCount', color=COLORS)\n",
    "plt.bar_label(ax)\n",
    "yticks = plt.gca().get_yticks()\n",
    "ylabels = [f\"{round(i / 1000)}k\" if i != 0 else \"0\" for i in yticks]\n",
    "plt.gca().set_yticklabels(ylabels)\n",
    "plt.title('Month Wise Lead Count')\n",
    "plt.ylabel('Leads Count')\n",
    "plt.show()"
   ]
  },
  {
   "cell_type": "code",
   "execution_count": 15,
   "id": "fc43c93a",
   "metadata": {
    "execution": {
     "iopub.execute_input": "2024-11-18T05:37:23.211728Z",
     "iopub.status.busy": "2024-11-18T05:37:23.210765Z",
     "iopub.status.idle": "2024-11-18T05:37:23.224086Z",
     "shell.execute_reply": "2024-11-18T05:37:23.223025Z"
    },
    "papermill": {
     "duration": 0.056052,
     "end_time": "2024-11-18T05:37:23.226455",
     "exception": false,
     "start_time": "2024-11-18T05:37:23.170403",
     "status": "completed"
    },
    "tags": []
   },
   "outputs": [
    {
     "data": {
      "text/html": [
       "<div>\n",
       "<style scoped>\n",
       "    .dataframe tbody tr th:only-of-type {\n",
       "        vertical-align: middle;\n",
       "    }\n",
       "\n",
       "    .dataframe tbody tr th {\n",
       "        vertical-align: top;\n",
       "    }\n",
       "\n",
       "    .dataframe thead th {\n",
       "        text-align: right;\n",
       "    }\n",
       "</style>\n",
       "<table border=\"1\" class=\"dataframe\">\n",
       "  <thead>\n",
       "    <tr style=\"text-align: right;\">\n",
       "      <th></th>\n",
       "      <th>Month</th>\n",
       "      <th>Lead_Pct</th>\n",
       "    </tr>\n",
       "  </thead>\n",
       "  <tbody>\n",
       "    <tr>\n",
       "      <th>0</th>\n",
       "      <td>Jul</td>\n",
       "      <td>12.63</td>\n",
       "    </tr>\n",
       "    <tr>\n",
       "      <th>1</th>\n",
       "      <td>Aug</td>\n",
       "      <td>33.55</td>\n",
       "    </tr>\n",
       "    <tr>\n",
       "      <th>2</th>\n",
       "      <td>Sep</td>\n",
       "      <td>31.38</td>\n",
       "    </tr>\n",
       "    <tr>\n",
       "      <th>3</th>\n",
       "      <td>Oct</td>\n",
       "      <td>22.43</td>\n",
       "    </tr>\n",
       "  </tbody>\n",
       "</table>\n",
       "</div>"
      ],
      "text/plain": [
       "  Month  Lead_Pct\n",
       "0   Jul     12.63\n",
       "1   Aug     33.55\n",
       "2   Sep     31.38\n",
       "3   Oct     22.43"
      ]
     },
     "execution_count": 15,
     "metadata": {},
     "output_type": "execute_result"
    }
   ],
   "source": [
    "data = {temp['Month'][i] : round(temp['LeadsCount'][i] / temp['LeadsCount'].sum()*100,2) for i in range(len(temp))}\n",
    "pct = pd.DataFrame(data.items(), columns=['Month', 'Lead_Pct'])\n",
    "pct"
   ]
  },
  {
   "cell_type": "markdown",
   "id": "582a6374",
   "metadata": {
    "id": "U-JBpKSSfALR",
    "papermill": {
     "duration": 0.03948,
     "end_time": "2024-11-18T05:37:23.305659",
     "exception": false,
     "start_time": "2024-11-18T05:37:23.266179",
     "status": "completed"
    },
    "tags": []
   },
   "source": [
    "**Insight** \n",
    "\n",
    "- Lead count peaks in August at 33.55%, with the lowest in July at 12.63%. This indicates a steady increase from July, reaching its maximum in August, before tapering off in September and October. This trend highlights the need to prepare for handling higher lead volumes in August and September effectively."
   ]
  },
  {
   "cell_type": "code",
   "execution_count": 16,
   "id": "1cccf262",
   "metadata": {
    "execution": {
     "iopub.execute_input": "2024-11-18T05:37:23.386574Z",
     "iopub.status.busy": "2024-11-18T05:37:23.385601Z",
     "iopub.status.idle": "2024-11-18T05:37:23.425584Z",
     "shell.execute_reply": "2024-11-18T05:37:23.424400Z"
    },
    "id": "WSeeoGi6bQVe",
    "outputId": "02e44d5e-92f3-4f00-c484-55a9da789533",
    "papermill": {
     "duration": 0.082999,
     "end_time": "2024-11-18T05:37:23.428207",
     "exception": false,
     "start_time": "2024-11-18T05:37:23.345208",
     "status": "completed"
    },
    "tags": []
   },
   "outputs": [
    {
     "data": {
      "text/html": [
       "<div>\n",
       "<style scoped>\n",
       "    .dataframe tbody tr th:only-of-type {\n",
       "        vertical-align: middle;\n",
       "    }\n",
       "\n",
       "    .dataframe tbody tr th {\n",
       "        vertical-align: top;\n",
       "    }\n",
       "\n",
       "    .dataframe thead th {\n",
       "        text-align: right;\n",
       "    }\n",
       "</style>\n",
       "<table border=\"1\" class=\"dataframe\">\n",
       "  <thead>\n",
       "    <tr style=\"text-align: right;\">\n",
       "      <th></th>\n",
       "      <th>TripYear</th>\n",
       "      <th>Month</th>\n",
       "      <th>TripCount</th>\n",
       "      <th>Pct</th>\n",
       "      <th>Pct_Change</th>\n",
       "    </tr>\n",
       "  </thead>\n",
       "  <tbody>\n",
       "    <tr>\n",
       "      <th>0</th>\n",
       "      <td>2023.0</td>\n",
       "      <td>Aug</td>\n",
       "      <td>926</td>\n",
       "      <td>28.65</td>\n",
       "      <td>0.00</td>\n",
       "    </tr>\n",
       "    <tr>\n",
       "      <th>1</th>\n",
       "      <td>2023.0</td>\n",
       "      <td>Jul</td>\n",
       "      <td>443</td>\n",
       "      <td>13.71</td>\n",
       "      <td>-52.16</td>\n",
       "    </tr>\n",
       "    <tr>\n",
       "      <th>2</th>\n",
       "      <td>2023.0</td>\n",
       "      <td>Oct</td>\n",
       "      <td>543</td>\n",
       "      <td>16.80</td>\n",
       "      <td>22.57</td>\n",
       "    </tr>\n",
       "    <tr>\n",
       "      <th>3</th>\n",
       "      <td>2023.0</td>\n",
       "      <td>Sep</td>\n",
       "      <td>802</td>\n",
       "      <td>24.81</td>\n",
       "      <td>47.70</td>\n",
       "    </tr>\n",
       "    <tr>\n",
       "      <th>4</th>\n",
       "      <td>2024.0</td>\n",
       "      <td>Aug</td>\n",
       "      <td>130</td>\n",
       "      <td>4.02</td>\n",
       "      <td>-83.79</td>\n",
       "    </tr>\n",
       "    <tr>\n",
       "      <th>5</th>\n",
       "      <td>2024.0</td>\n",
       "      <td>Jul</td>\n",
       "      <td>64</td>\n",
       "      <td>1.98</td>\n",
       "      <td>-50.77</td>\n",
       "    </tr>\n",
       "    <tr>\n",
       "      <th>6</th>\n",
       "      <td>2024.0</td>\n",
       "      <td>Oct</td>\n",
       "      <td>153</td>\n",
       "      <td>4.73</td>\n",
       "      <td>139.06</td>\n",
       "    </tr>\n",
       "    <tr>\n",
       "      <th>7</th>\n",
       "      <td>2024.0</td>\n",
       "      <td>Sep</td>\n",
       "      <td>171</td>\n",
       "      <td>5.29</td>\n",
       "      <td>11.76</td>\n",
       "    </tr>\n",
       "  </tbody>\n",
       "</table>\n",
       "</div>"
      ],
      "text/plain": [
       "   TripYear Month  TripCount    Pct  Pct_Change\n",
       "0    2023.0   Aug        926  28.65        0.00\n",
       "1    2023.0   Jul        443  13.71      -52.16\n",
       "2    2023.0   Oct        543  16.80       22.57\n",
       "3    2023.0   Sep        802  24.81       47.70\n",
       "4    2024.0   Aug        130   4.02      -83.79\n",
       "5    2024.0   Jul         64   1.98      -50.77\n",
       "6    2024.0   Oct        153   4.73      139.06\n",
       "7    2024.0   Sep        171   5.29       11.76"
      ]
     },
     "execution_count": 16,
     "metadata": {},
     "output_type": "execute_result"
    }
   ],
   "source": [
    "query = '''\n",
    "with cte as (\n",
    "select TripYear, Month, count(Month) as TripCount from travels\n",
    "      where TripYear is not null group by 1,2\n",
    "order by 1,\n",
    "  case when Month = 'Jul' then 1\n",
    "    when Month = 'Aug' then 2\n",
    "    when Month = 'Sep' then 3\n",
    "    when Month = 'Oct' then 4\n",
    "    else 0\n",
    "  end)\n",
    "  \n",
    "select *, round(TripCount *1.0/ sum(TripCount) over() ,4)*100 as Pct from cte group by 1,2\n",
    "\n",
    "'''\n",
    "temp = pd.read_sql(query, conn)\n",
    "temp['Pct_Change'] =  round(temp['TripCount'].pct_change()*100,2).fillna(0)\n",
    "temp"
   ]
  },
  {
   "cell_type": "markdown",
   "id": "3a5d6bca",
   "metadata": {
    "id": "5rget0zjfFjw",
    "papermill": {
     "duration": 0.038837,
     "end_time": "2024-11-18T05:37:23.506231",
     "exception": false,
     "start_time": "2024-11-18T05:37:23.467394",
     "status": "completed"
    },
    "tags": []
   },
   "source": [
    "**Insight** -\n",
    "\n",
    "1.\tTrip Trends: The highest number of trips occurred in August 2023 (926 trips, 28.65%), followed by September 2023 (802 trips, 24.81%).\n",
    "2.\tSignificant Decline in 2024: A sharp decline is observed in August 2024, with a 83.79% decrease in trips compared to August 2023 (130 trips, 4.02%).\n",
    "3.\tGrowth in October 2024: October 2024 shows a significant increase (139.06% change) in trip count (153 trips), indicating a strong recovery or new trend.\n",
    "4.\tMonthly Variation: July 2024 saw the least number of trips (64 trips, 1.98%), representing the lowest point in the year."
   ]
  },
  {
   "cell_type": "markdown",
   "id": "c9d13497",
   "metadata": {
    "id": "eO0-m1vX9m9D",
    "papermill": {
     "duration": 0.039065,
     "end_time": "2024-11-18T05:37:23.584667",
     "exception": false,
     "start_time": "2024-11-18T05:37:23.545602",
     "status": "completed"
    },
    "tags": []
   },
   "source": [
    "**Question** - What does our Month Wise Revenue look like?"
   ]
  },
  {
   "cell_type": "code",
   "execution_count": 17,
   "id": "09da615e",
   "metadata": {
    "execution": {
     "iopub.execute_input": "2024-11-18T05:37:23.665679Z",
     "iopub.status.busy": "2024-11-18T05:37:23.664991Z",
     "iopub.status.idle": "2024-11-18T05:37:24.037737Z",
     "shell.execute_reply": "2024-11-18T05:37:24.036571Z"
    },
    "id": "K_Tb2TAoL5NM",
    "outputId": "801d7f30-4854-433d-cdd5-b40c159dda6a",
    "papermill": {
     "duration": 0.4163,
     "end_time": "2024-11-18T05:37:24.040419",
     "exception": false,
     "start_time": "2024-11-18T05:37:23.624119",
     "status": "completed"
    },
    "tags": []
   },
   "outputs": [
    {
     "data": {
      "image/png": "[encoded data removed]",
      "text/plain": [
       "<Figure size 2500x600 with 1 Axes>"
      ]
     },
     "metadata": {},
     "output_type": "display_data"
    }
   ],
   "source": [
    "query = '''\n",
    "select Month, sum(TotalBill) as Revenue from travels group by Month\n",
    "order by\n",
    "  case when Month = 'Jul' then 1\n",
    "    when Month = 'Aug' then 2\n",
    "    when Month = 'Sep' then 3\n",
    "    when Month = 'Oct' then 4\n",
    "    else 0\n",
    "  end\n",
    "\n",
    "'''\n",
    "temp = pd.read_sql(query, conn)\n",
    "COLORS =['#FFBF78'] * len(temp)\n",
    "COLORS[1] = '#FF7D29'\n",
    "plt.bar(data=temp, x='Month', height = 'Revenue', color=COLORS)\n",
    "plt.ylabel('Total Bill (in Millions)')\n",
    "plt.title('Month Wise Revenue')\n",
    "plt.show()"
   ]
  },
  {
   "cell_type": "code",
   "execution_count": 18,
   "id": "72d7f8bd",
   "metadata": {
    "execution": {
     "iopub.execute_input": "2024-11-18T05:37:24.123950Z",
     "iopub.status.busy": "2024-11-18T05:37:24.123379Z",
     "iopub.status.idle": "2024-11-18T05:37:24.136954Z",
     "shell.execute_reply": "2024-11-18T05:37:24.135899Z"
    },
    "papermill": {
     "duration": 0.058925,
     "end_time": "2024-11-18T05:37:24.139525",
     "exception": false,
     "start_time": "2024-11-18T05:37:24.080600",
     "status": "completed"
    },
    "tags": []
   },
   "outputs": [
    {
     "data": {
      "text/html": [
       "<div>\n",
       "<style scoped>\n",
       "    .dataframe tbody tr th:only-of-type {\n",
       "        vertical-align: middle;\n",
       "    }\n",
       "\n",
       "    .dataframe tbody tr th {\n",
       "        vertical-align: top;\n",
       "    }\n",
       "\n",
       "    .dataframe thead th {\n",
       "        text-align: right;\n",
       "    }\n",
       "</style>\n",
       "<table border=\"1\" class=\"dataframe\">\n",
       "  <thead>\n",
       "    <tr style=\"text-align: right;\">\n",
       "      <th></th>\n",
       "      <th>Month</th>\n",
       "      <th>Revenue_Pct</th>\n",
       "    </tr>\n",
       "  </thead>\n",
       "  <tbody>\n",
       "    <tr>\n",
       "      <th>0</th>\n",
       "      <td>Jul</td>\n",
       "      <td>12.66</td>\n",
       "    </tr>\n",
       "    <tr>\n",
       "      <th>1</th>\n",
       "      <td>Aug</td>\n",
       "      <td>32.84</td>\n",
       "    </tr>\n",
       "    <tr>\n",
       "      <th>2</th>\n",
       "      <td>Sep</td>\n",
       "      <td>31.83</td>\n",
       "    </tr>\n",
       "    <tr>\n",
       "      <th>3</th>\n",
       "      <td>Oct</td>\n",
       "      <td>22.67</td>\n",
       "    </tr>\n",
       "  </tbody>\n",
       "</table>\n",
       "</div>"
      ],
      "text/plain": [
       "  Month  Revenue_Pct\n",
       "0   Jul        12.66\n",
       "1   Aug        32.84\n",
       "2   Sep        31.83\n",
       "3   Oct        22.67"
      ]
     },
     "execution_count": 18,
     "metadata": {},
     "output_type": "execute_result"
    }
   ],
   "source": [
    "data = {temp['Month'][i] : round(temp['Revenue'][i] / temp['Revenue'].sum()*100,2) for i in range(len(temp))}\n",
    "pct = pd.DataFrame(data.items(), columns=['Month', 'Revenue_Pct'])\n",
    "pct"
   ]
  },
  {
   "cell_type": "markdown",
   "id": "0d1a5cbd",
   "metadata": {
    "id": "pakwzFxtMCUG",
    "papermill": {
     "duration": 0.040377,
     "end_time": "2024-11-18T05:37:24.220096",
     "exception": false,
     "start_time": "2024-11-18T05:37:24.179719",
     "status": "completed"
    },
    "tags": []
   },
   "source": [
    "**Insight** - \n",
    "\n",
    "1. Highest Revenue in August: The highest revenue percentage was achieved in August (32.84%), contributing significantly to the overall performance.\n",
    "2.\tRevenue Decline in October: Revenue dropped to 22.67% in October, marking the lowest point of the period.\n",
    "3.\tSteady Performance in September: Revenue remained stable in September (31.83%), indicating consistent performance.\n",
    "4.\tModerate Revenue in July: July had the lowest revenue percentage (12.66%), suggesting a slow start compared to the other months."
   ]
  },
  {
   "cell_type": "markdown",
   "id": "46a07816",
   "metadata": {
    "id": "LDsSLygg9z6x",
    "papermill": {
     "duration": 0.040119,
     "end_time": "2024-11-18T05:37:24.300304",
     "exception": false,
     "start_time": "2024-11-18T05:37:24.260185",
     "status": "completed"
    },
    "tags": []
   },
   "source": [
    "**Question** - Compare Revenue Year and month wise based on Trips taken."
   ]
  },
  {
   "cell_type": "code",
   "execution_count": 19,
   "id": "680e02aa",
   "metadata": {
    "execution": {
     "iopub.execute_input": "2024-11-18T05:37:24.383406Z",
     "iopub.status.busy": "2024-11-18T05:37:24.382563Z",
     "iopub.status.idle": "2024-11-18T05:37:24.741166Z",
     "shell.execute_reply": "2024-11-18T05:37:24.740145Z"
    },
    "id": "wzlzLYZYgBdY",
    "outputId": "da402fa1-1f21-444f-b9e0-51566c372f61",
    "papermill": {
     "duration": 0.402638,
     "end_time": "2024-11-18T05:37:24.743650",
     "exception": false,
     "start_time": "2024-11-18T05:37:24.341012",
     "status": "completed"
    },
    "tags": []
   },
   "outputs": [
    {
     "data": {
      "image/png": "[encoded data removed]",
      "text/plain": [
       "<Figure size 2500x600 with 1 Axes>"
      ]
     },
     "metadata": {},
     "output_type": "display_data"
    }
   ],
   "source": [
    "query = '''\n",
    "select TripYear, Month, sum(TotalBill) as Revenue from travels where TripYear is not null group by 1,2\n",
    "order by 1,\n",
    "  case when Month = 'Jul' then 1\n",
    "    when Month = 'Aug' then 2\n",
    "    when Month = 'Sep' then 3\n",
    "    when Month = 'Oct' then 4\n",
    "    else 0\n",
    "  end\n",
    "\n",
    "'''\n",
    "temp = pd.read_sql(query, conn)\n",
    "temp['TripYear'] = pd.to_numeric(temp['TripYear'])\n",
    "temp_2023 = temp[temp['TripYear']==2023]\n",
    "temp_2024 = temp[temp['TripYear']==2024]\n",
    "r = np.arange(len(temp_2023))\n",
    "WIDTH = 0.25\n",
    "plt.bar(r, height=temp_2023['Revenue'], width=WIDTH , color = ['#6A9AB0'])\n",
    "plt.bar(r+WIDTH, temp_2024['Revenue'], width=WIDTH, color =dark_blue)\n",
    "plt.xticks(r + WIDTH / 2, temp_2024['Month'])\n",
    "plt.title('TripYear and Month Wise Revenue')\n",
    "plt.legend([2023, 2024])\n",
    "plt.ylabel('Revenue (In Millions)')\n",
    "plt.show()"
   ]
  },
  {
   "cell_type": "markdown",
   "id": "65fc6c71",
   "metadata": {
    "id": "7fGTfvGNjEyP",
    "papermill": {
     "duration": 0.040206,
     "end_time": "2024-11-18T05:37:24.823874",
     "exception": false,
     "start_time": "2024-11-18T05:37:24.783668",
     "status": "completed"
    },
    "tags": []
   },
   "source": [
    "**Insight** \n",
    "\n",
    "- In 2023, revenue peaked in August at ₹5.27M before declining steadily through October, with July having the lowest at ₹2.17M. In 2024, revenue started much lower, at ₹0.20M in July, but showed consistent recovery, peaking at ₹1.09M in September and slightly tapering to ₹0.94M in October. This highlights a need to replicate strategies that drove August 2023’s success to sustain and accelerate the recovery trend in 2024.\n"
   ]
  },
  {
   "cell_type": "markdown",
   "id": "b99182ac",
   "metadata": {
    "id": "mCSNIP5baHWT",
    "papermill": {
     "duration": 0.038907,
     "end_time": "2024-11-18T05:37:24.904627",
     "exception": false,
     "start_time": "2024-11-18T05:37:24.865720",
     "status": "completed"
    },
    "tags": []
   },
   "source": [
    "3. From which source are we getting the leads the most and the least?"
   ]
  },
  {
   "cell_type": "code",
   "execution_count": 20,
   "id": "12faca9f",
   "metadata": {
    "execution": {
     "iopub.execute_input": "2024-11-18T05:37:24.988317Z",
     "iopub.status.busy": "2024-11-18T05:37:24.987480Z",
     "iopub.status.idle": "2024-11-18T05:37:25.355883Z",
     "shell.execute_reply": "2024-11-18T05:37:25.354764Z"
    },
    "id": "nLkOm-Q9ZO3b",
    "outputId": "d08e8529-b230-4dc2-d2fb-b9ea8c9340bc",
    "papermill": {
     "duration": 0.413051,
     "end_time": "2024-11-18T05:37:25.358319",
     "exception": false,
     "start_time": "2024-11-18T05:37:24.945268",
     "status": "completed"
    },
    "tags": []
   },
   "outputs": [
    {
     "data": {
      "image/png": "[encoded data removed]",
      "text/plain": [
       "<Figure size 2500x600 with 1 Axes>"
      ]
     },
     "metadata": {},
     "output_type": "display_data"
    }
   ],
   "source": [
    "query = '''\n",
    "select LeadSource, count(LeadSource) as LeadsCount \n",
    "from travels group by 1 order by 2 desc\n",
    "'''\n",
    "\n",
    "temp = pd.read_sql(query, conn)\n",
    "COLORS =[dark_blue] * len(temp)\n",
    "COLORS[0] = '#FBA1B7'\n",
    "ax = plt.bar(x=temp['LeadSource'], height=temp['LeadsCount'], color=COLORS)\n",
    "# Add labels to the bars\n",
    "plt.bar_label(ax)\n",
    "yticks = plt.gca().get_yticks()\n",
    "ylabels = [f\"{round(i / 1000)}k\" if i != 0 else \"0\" for i in yticks]\n",
    "plt.gca().set_yticklabels(ylabels)\n",
    "plt.title('Lead Source Wise Lead Count')\n",
    "plt.ylabel('Lead Count')\n",
    "plt.show()"
   ]
  },
  {
   "cell_type": "code",
   "execution_count": 21,
   "id": "4752db3e",
   "metadata": {
    "execution": {
     "iopub.execute_input": "2024-11-18T05:37:25.440996Z",
     "iopub.status.busy": "2024-11-18T05:37:25.440578Z",
     "iopub.status.idle": "2024-11-18T05:37:25.453152Z",
     "shell.execute_reply": "2024-11-18T05:37:25.452135Z"
    },
    "papermill": {
     "duration": 0.057016,
     "end_time": "2024-11-18T05:37:25.455658",
     "exception": false,
     "start_time": "2024-11-18T05:37:25.398642",
     "status": "completed"
    },
    "tags": []
   },
   "outputs": [
    {
     "data": {
      "text/html": [
       "<div>\n",
       "<style scoped>\n",
       "    .dataframe tbody tr th:only-of-type {\n",
       "        vertical-align: middle;\n",
       "    }\n",
       "\n",
       "    .dataframe tbody tr th {\n",
       "        vertical-align: top;\n",
       "    }\n",
       "\n",
       "    .dataframe thead th {\n",
       "        text-align: right;\n",
       "    }\n",
       "</style>\n",
       "<table border=\"1\" class=\"dataframe\">\n",
       "  <thead>\n",
       "    <tr style=\"text-align: right;\">\n",
       "      <th></th>\n",
       "      <th>LeadSource</th>\n",
       "      <th>Leads_Pct</th>\n",
       "    </tr>\n",
       "  </thead>\n",
       "  <tbody>\n",
       "    <tr>\n",
       "      <th>0</th>\n",
       "      <td>Lead Source 1</td>\n",
       "      <td>71.17</td>\n",
       "    </tr>\n",
       "    <tr>\n",
       "      <th>1</th>\n",
       "      <td>Lead Source 2</td>\n",
       "      <td>18.77</td>\n",
       "    </tr>\n",
       "    <tr>\n",
       "      <th>2</th>\n",
       "      <td>Lead Source 3</td>\n",
       "      <td>10.06</td>\n",
       "    </tr>\n",
       "  </tbody>\n",
       "</table>\n",
       "</div>"
      ],
      "text/plain": [
       "      LeadSource  Leads_Pct\n",
       "0  Lead Source 1      71.17\n",
       "1  Lead Source 2      18.77\n",
       "2  Lead Source 3      10.06"
      ]
     },
     "execution_count": 21,
     "metadata": {},
     "output_type": "execute_result"
    }
   ],
   "source": [
    "data = {temp['LeadSource'][i] : round(temp['LeadsCount'][i] / temp['LeadsCount'].sum()*100,2) for i in range(len(temp))}\n",
    "pct = pd.DataFrame(data.items(), columns=['LeadSource', 'Leads_Pct'])\n",
    "pct"
   ]
  },
  {
   "cell_type": "markdown",
   "id": "7ba99a03",
   "metadata": {
    "papermill": {
     "duration": 0.040173,
     "end_time": "2024-11-18T05:37:25.536350",
     "exception": false,
     "start_time": "2024-11-18T05:37:25.496177",
     "status": "completed"
    },
    "tags": []
   },
   "source": [
    "Insight\n",
    "\n",
    "- Lead Source 1 contributes the largest share of leads at 71.17%, followed by Lead Source 2 at 18.77% and Lead Source 3 at 10.06%. This indicates that the majority of leads are coming from Lead Source 1, which suggests focusing on optimizing and scaling strategies related to this lead source to further boost lead generation."
   ]
  },
  {
   "cell_type": "markdown",
   "id": "0ea0314d",
   "metadata": {
    "id": "P4kv7fvY9-GC",
    "papermill": {
     "duration": 0.041044,
     "end_time": "2024-11-18T05:37:25.617554",
     "exception": false,
     "start_time": "2024-11-18T05:37:25.576510",
     "status": "completed"
    },
    "tags": []
   },
   "source": [
    "**Question** - Plot Lead Source Wise Revenue"
   ]
  },
  {
   "cell_type": "code",
   "execution_count": 22,
   "id": "d8e54ed4",
   "metadata": {
    "execution": {
     "iopub.execute_input": "2024-11-18T05:37:25.702241Z",
     "iopub.status.busy": "2024-11-18T05:37:25.701301Z",
     "iopub.status.idle": "2024-11-18T05:37:26.068886Z",
     "shell.execute_reply": "2024-11-18T05:37:26.067764Z"
    },
    "id": "8D18f-ufMuH9",
    "outputId": "78bc9e15-bf2e-4cc7-a108-882687b7f5d6",
    "papermill": {
     "duration": 0.412618,
     "end_time": "2024-11-18T05:37:26.071429",
     "exception": false,
     "start_time": "2024-11-18T05:37:25.658811",
     "status": "completed"
    },
    "tags": []
   },
   "outputs": [
    {
     "data": {
      "image/png": "[encoded data removed]",
      "text/plain": [
       "<Figure size 2500x600 with 1 Axes>"
      ]
     },
     "metadata": {},
     "output_type": "display_data"
    }
   ],
   "source": [
    "query = '''\n",
    "select LeadSource, \n",
    "    sum(TotalBill) as TotalBill \n",
    "from travels \n",
    "group by 1 \n",
    "order by 2 desc\n",
    "'''\n",
    "temp = pd.read_sql(query, conn)\n",
    "COLORS =['#D8A25E'] * len(temp)\n",
    "COLORS[0] = '#A04747'\n",
    "plt.bar(data=temp, x='LeadSource', height = 'TotalBill', color=COLORS)\n",
    "plt.title('Lead Source Wise TotalBill')\n",
    "plt.ylabel('Total Bill')\n",
    "plt.show()"
   ]
  },
  {
   "cell_type": "markdown",
   "id": "9c5176a3",
   "metadata": {
    "id": "FhUPkdDENBUq",
    "papermill": {
     "duration": 0.04108,
     "end_time": "2024-11-18T05:37:26.153798",
     "exception": false,
     "start_time": "2024-11-18T05:37:26.112718",
     "status": "completed"
    },
    "tags": []
   },
   "source": [
    "**Insight** : \n",
    "\n",
    "- Lead Source 1 generates the highest total bill at 11.81 million, followed by Lead Source 3 at 4.07 million and Lead Source 2 at 2.80 million. This suggests that although Lead Source 1 contributes the most in terms of lead volume, it also brings in the highest revenue, indicating its strong impact on overall sales. Focusing on optimizing and nurturing leads from this source could further enhance revenue."
   ]
  },
  {
   "cell_type": "markdown",
   "id": "04221108",
   "metadata": {
    "id": "DN_TC36a-Gqy",
    "papermill": {
     "duration": 0.040285,
     "end_time": "2024-11-18T05:37:26.235181",
     "exception": false,
     "start_time": "2024-11-18T05:37:26.194896",
     "status": "completed"
    },
    "tags": []
   },
   "source": [
    "**Question** - What does our Lead Source And Month Wise Trip Count look like?"
   ]
  },
  {
   "cell_type": "code",
   "execution_count": 23,
   "id": "e4dd81cc",
   "metadata": {
    "execution": {
     "iopub.execute_input": "2024-11-18T05:37:26.322302Z",
     "iopub.status.busy": "2024-11-18T05:37:26.321929Z",
     "iopub.status.idle": "2024-11-18T05:37:26.352114Z",
     "shell.execute_reply": "2024-11-18T05:37:26.351123Z"
    },
    "id": "uWLiaLh6nnVc",
    "papermill": {
     "duration": 0.077175,
     "end_time": "2024-11-18T05:37:26.354614",
     "exception": false,
     "start_time": "2024-11-18T05:37:26.277439",
     "status": "completed"
    },
    "tags": []
   },
   "outputs": [],
   "source": [
    "query = '''\n",
    "select TripYear, Month, LeadSource, count(LeadSource) as LeadCount from travels \n",
    "        where TripYear is not null group by 1,2,3\n",
    "order by 1,\n",
    "  case when Month = 'Jul' then 1\n",
    "    when Month = 'Aug' then 2\n",
    "    when Month = 'Sep' then 3\n",
    "    when Month = 'Oct' then 4\n",
    "    else 0\n",
    "  end,\n",
    "  2\n",
    "\n",
    "'''\n",
    "\n",
    "temp = pd.read_sql(query, conn)\n",
    "temp['TripYear'] = pd.to_numeric(temp['TripYear'])\n",
    "temp_2023 = temp[temp['TripYear']==2023]\n",
    "temp_2024 = temp[temp['TripYear']==2024]\n",
    "r = np.arange(len(temp_2023))\n",
    "WIDTH = 0.25"
   ]
  },
  {
   "cell_type": "code",
   "execution_count": 24,
   "id": "eb10171f",
   "metadata": {
    "execution": {
     "iopub.execute_input": "2024-11-18T05:37:26.439304Z",
     "iopub.status.busy": "2024-11-18T05:37:26.438886Z",
     "iopub.status.idle": "2024-11-18T05:37:26.445506Z",
     "shell.execute_reply": "2024-11-18T05:37:26.444504Z"
    },
    "papermill": {
     "duration": 0.051517,
     "end_time": "2024-11-18T05:37:26.447781",
     "exception": false,
     "start_time": "2024-11-18T05:37:26.396264",
     "status": "completed"
    },
    "tags": []
   },
   "outputs": [],
   "source": [
    "LABELS_2023 = [(i.replace(\"Lead\", \"\").strip() + \" \" +j) for i, j in zip(temp_2023['LeadSource'], temp_2023['Month'])]\n",
    "LABELS_2024 = [(i.replace(\"Lead\", \"\").strip() + \" \" +j) for i, j in zip(temp_2024['LeadSource'], temp_2024['Month'])]"
   ]
  },
  {
   "cell_type": "code",
   "execution_count": 25,
   "id": "b451c993",
   "metadata": {
    "execution": {
     "iopub.execute_input": "2024-11-18T05:37:26.533720Z",
     "iopub.status.busy": "2024-11-18T05:37:26.532786Z",
     "iopub.status.idle": "2024-11-18T05:37:26.888431Z",
     "shell.execute_reply": "2024-11-18T05:37:26.887391Z"
    },
    "id": "nWY2Iwz6qiyX",
    "outputId": "2be6b437-1e80-4e73-bf8c-7ef6bf72d7f1",
    "papermill": {
     "duration": 0.40123,
     "end_time": "2024-11-18T05:37:26.890712",
     "exception": false,
     "start_time": "2024-11-18T05:37:26.489482",
     "status": "completed"
    },
    "tags": []
   },
   "outputs": [
    {
     "data": {
      "image/png": "[encoded data removed]",
      "text/plain": [
       "<Figure size 2500x600 with 1 Axes>"
      ]
     },
     "metadata": {},
     "output_type": "display_data"
    }
   ],
   "source": [
    "#Bars for 2023\n",
    "plt.bar(r, height=temp_2023['LeadCount'], width=WIDTH , color=light_blue)\n",
    "plt.xticks(r, LABELS_2023, rotation=0)\n",
    "\n",
    "#Bars for 2024\n",
    "plt.bar(r+WIDTH, height=temp_2024['LeadCount'], width=WIDTH , color=dark_blue)\n",
    "plt.xticks(r, LABELS_2024, rotation=0)\n",
    "\n",
    "#Cosmetic Additions\n",
    "plt.title('TripYear and Month Wise LeadSource Wise LeadCount')\n",
    "plt.legend([2023, 2024])\n",
    "plt.ylabel('LeadCount')\n",
    "plt.show()"
   ]
  },
  {
   "cell_type": "markdown",
   "id": "40f44b27",
   "metadata": {
    "id": "QHllL3Fkq9F0",
    "papermill": {
     "duration": 0.04089,
     "end_time": "2024-11-18T05:37:26.972933",
     "exception": false,
     "start_time": "2024-11-18T05:37:26.932043",
     "status": "completed"
    },
    "tags": []
   },
   "source": [
    "**Insight**\n",
    "\n",
    "- In July 2023, Lead Source 1 had the highest lead count with 289, while Lead Source 2 and Lead Source 3 had 32 and 122 leads respectively. This trend continued in August, with Lead Source 1 leading again at 526, followed by Lead Source 3 at 249 and Lead Source 2 at 151. However, in 2024, lead counts significantly dropped across all sources, especially for Lead Source 2. This indicates a shift in lead generation that needs to be addressed to ensure steady conversion rates."
   ]
  },
  {
   "cell_type": "markdown",
   "id": "ef9fba21",
   "metadata": {
    "id": "XHMuFq4zacpm",
    "papermill": {
     "duration": 0.041246,
     "end_time": "2024-11-18T05:37:27.055826",
     "exception": false,
     "start_time": "2024-11-18T05:37:27.014580",
     "status": "completed"
    },
    "tags": []
   },
   "source": [
    "4. **What are the most popular enquiry destinations?**"
   ]
  },
  {
   "cell_type": "code",
   "execution_count": 26,
   "id": "7a9d8a2c",
   "metadata": {
    "execution": {
     "iopub.execute_input": "2024-11-18T05:37:27.140826Z",
     "iopub.status.busy": "2024-11-18T05:37:27.140433Z",
     "iopub.status.idle": "2024-11-18T05:37:27.301863Z",
     "shell.execute_reply": "2024-11-18T05:37:27.300810Z"
    },
    "id": "73ScET7CafJc",
    "outputId": "3159add9-e33f-4d37-e76c-828375afcd6f",
    "papermill": {
     "duration": 0.206974,
     "end_time": "2024-11-18T05:37:27.304031",
     "exception": false,
     "start_time": "2024-11-18T05:37:27.097057",
     "status": "completed"
    },
    "tags": []
   },
   "outputs": [
    {
     "data": {
      "text/html": [
       "<div>\n",
       "<style scoped>\n",
       "    .dataframe tbody tr th:only-of-type {\n",
       "        vertical-align: middle;\n",
       "    }\n",
       "\n",
       "    .dataframe tbody tr th {\n",
       "        vertical-align: top;\n",
       "    }\n",
       "\n",
       "    .dataframe thead th {\n",
       "        text-align: right;\n",
       "    }\n",
       "</style>\n",
       "<table border=\"1\" class=\"dataframe\">\n",
       "  <thead>\n",
       "    <tr style=\"text-align: right;\">\n",
       "      <th></th>\n",
       "      <th>EnquiryDestination</th>\n",
       "      <th>LeadCount</th>\n",
       "      <th>Lead_Pct</th>\n",
       "      <th>Revenue</th>\n",
       "      <th>Revenue_Pct</th>\n",
       "    </tr>\n",
       "  </thead>\n",
       "  <tbody>\n",
       "    <tr>\n",
       "      <th>0</th>\n",
       "      <td>Meghalaya</td>\n",
       "      <td>7932</td>\n",
       "      <td>9.07</td>\n",
       "      <td>686610.0</td>\n",
       "      <td>3.68</td>\n",
       "    </tr>\n",
       "    <tr>\n",
       "      <th>1</th>\n",
       "      <td>Bali</td>\n",
       "      <td>6806</td>\n",
       "      <td>7.79</td>\n",
       "      <td>938252.0</td>\n",
       "      <td>5.02</td>\n",
       "    </tr>\n",
       "    <tr>\n",
       "      <th>2</th>\n",
       "      <td>Ladakh</td>\n",
       "      <td>6657</td>\n",
       "      <td>7.61</td>\n",
       "      <td>1590486.0</td>\n",
       "      <td>8.52</td>\n",
       "    </tr>\n",
       "    <tr>\n",
       "      <th>3</th>\n",
       "      <td>Spiti Valley</td>\n",
       "      <td>6190</td>\n",
       "      <td>7.08</td>\n",
       "      <td>958192.0</td>\n",
       "      <td>5.13</td>\n",
       "    </tr>\n",
       "    <tr>\n",
       "      <th>4</th>\n",
       "      <td>Leh Ladakh</td>\n",
       "      <td>5698</td>\n",
       "      <td>6.52</td>\n",
       "      <td>758208.0</td>\n",
       "      <td>4.06</td>\n",
       "    </tr>\n",
       "  </tbody>\n",
       "</table>\n",
       "</div>"
      ],
      "text/plain": [
       "  EnquiryDestination  LeadCount  Lead_Pct    Revenue  Revenue_Pct\n",
       "0          Meghalaya       7932      9.07   686610.0         3.68\n",
       "1               Bali       6806      7.79   938252.0         5.02\n",
       "2             Ladakh       6657      7.61  1590486.0         8.52\n",
       "3       Spiti Valley       6190      7.08   958192.0         5.13\n",
       "4         Leh Ladakh       5698      6.52   758208.0         4.06"
      ]
     },
     "execution_count": 26,
     "metadata": {},
     "output_type": "execute_result"
    }
   ],
   "source": [
    "query = '''\n",
    "select EnquiryDestination,\n",
    "      Count(EnquiryDestination) as LeadCount,\n",
    "      \n",
    "      round(Count(EnquiryDestination)*100.0/(select count(EnquiryDestination) from travels),2) as Lead_Pct,\n",
    "      \n",
    "      sum(TotalBill) as Revenue,\n",
    "      round(sum(TotalBill)*100.0/(select sum(TotalBill) from travels),2) as Revenue_Pct\n",
    "from travels\n",
    "group by EnquiryDestination\n",
    "order by Lead_Pct desc\n",
    "'''\n",
    "temp = pd.read_sql(query, conn)\n",
    "temp.head()"
   ]
  },
  {
   "cell_type": "markdown",
   "id": "4ea2c00e",
   "metadata": {
    "id": "GBWtxT27NdwH",
    "papermill": {
     "duration": 0.044901,
     "end_time": "2024-11-18T05:37:27.391798",
     "exception": false,
     "start_time": "2024-11-18T05:37:27.346897",
     "status": "completed"
    },
    "tags": []
   },
   "source": [
    "**Insight** \n",
    "\n",
    "- Meghalaya leads with the highest number of leads at 7932, contributing 9.07% of the total lead count. However, Ladakh, despite having fewer leads (6657), generates the highest revenue (8.52% of total revenue), indicating strong revenue potential despite a lower volume. Bali and Spiti Valley show significant contributions to both lead count and revenue, with Bali contributing 5.02% of the total revenue."
   ]
  },
  {
   "cell_type": "code",
   "execution_count": 27,
   "id": "25f801af",
   "metadata": {
    "execution": {
     "iopub.execute_input": "2024-11-18T05:37:27.480579Z",
     "iopub.status.busy": "2024-11-18T05:37:27.479603Z",
     "iopub.status.idle": "2024-11-18T05:37:27.490999Z",
     "shell.execute_reply": "2024-11-18T05:37:27.490028Z"
    },
    "papermill": {
     "duration": 0.058226,
     "end_time": "2024-11-18T05:37:27.493427",
     "exception": false,
     "start_time": "2024-11-18T05:37:27.435201",
     "status": "completed"
    },
    "tags": []
   },
   "outputs": [
    {
     "data": {
      "text/html": [
       "<div>\n",
       "<style scoped>\n",
       "    .dataframe tbody tr th:only-of-type {\n",
       "        vertical-align: middle;\n",
       "    }\n",
       "\n",
       "    .dataframe tbody tr th {\n",
       "        vertical-align: top;\n",
       "    }\n",
       "\n",
       "    .dataframe thead th {\n",
       "        text-align: right;\n",
       "    }\n",
       "</style>\n",
       "<table border=\"1\" class=\"dataframe\">\n",
       "  <thead>\n",
       "    <tr style=\"text-align: right;\">\n",
       "      <th></th>\n",
       "      <th>LeadCount</th>\n",
       "      <th>Revenue</th>\n",
       "    </tr>\n",
       "  </thead>\n",
       "  <tbody>\n",
       "    <tr>\n",
       "      <th>LeadCount</th>\n",
       "      <td>1.000000</td>\n",
       "      <td>0.221554</td>\n",
       "    </tr>\n",
       "    <tr>\n",
       "      <th>Revenue</th>\n",
       "      <td>0.221554</td>\n",
       "      <td>1.000000</td>\n",
       "    </tr>\n",
       "  </tbody>\n",
       "</table>\n",
       "</div>"
      ],
      "text/plain": [
       "           LeadCount   Revenue\n",
       "LeadCount   1.000000  0.221554\n",
       "Revenue     0.221554  1.000000"
      ]
     },
     "execution_count": 27,
     "metadata": {},
     "output_type": "execute_result"
    }
   ],
   "source": [
    "#Correlation between Overall LeadCount and Revenue\n",
    "temp[['LeadCount', 'Revenue']].corr()"
   ]
  },
  {
   "cell_type": "markdown",
   "id": "f5bd036e",
   "metadata": {
    "papermill": {
     "duration": 0.041005,
     "end_time": "2024-11-18T05:37:27.576457",
     "exception": false,
     "start_time": "2024-11-18T05:37:27.535452",
     "status": "completed"
    },
    "tags": []
   },
   "source": [
    "The low correlation (0.22) between lead count and revenue suggests that many leads are not converting into revenue, pointing to poor conversion rates. This indicates inefficiencies in the sales process or challenges in moving leads through the funnel effectively. Addressing this could involve analyzing lead quality, improving nurturing strategies, or optimizing sales workflows.\n",
    "\n",
    "Let's find out the Lead Source Distribution in Meghalaya"
   ]
  },
  {
   "cell_type": "code",
   "execution_count": 28,
   "id": "3b683f8a",
   "metadata": {
    "execution": {
     "iopub.execute_input": "2024-11-18T05:37:27.662924Z",
     "iopub.status.busy": "2024-11-18T05:37:27.662467Z",
     "iopub.status.idle": "2024-11-18T05:37:27.699048Z",
     "shell.execute_reply": "2024-11-18T05:37:27.698061Z"
    },
    "papermill": {
     "duration": 0.082972,
     "end_time": "2024-11-18T05:37:27.701498",
     "exception": false,
     "start_time": "2024-11-18T05:37:27.618526",
     "status": "completed"
    },
    "tags": []
   },
   "outputs": [
    {
     "data": {
      "text/html": [
       "<div>\n",
       "<style scoped>\n",
       "    .dataframe tbody tr th:only-of-type {\n",
       "        vertical-align: middle;\n",
       "    }\n",
       "\n",
       "    .dataframe tbody tr th {\n",
       "        vertical-align: top;\n",
       "    }\n",
       "\n",
       "    .dataframe thead th {\n",
       "        text-align: right;\n",
       "    }\n",
       "</style>\n",
       "<table border=\"1\" class=\"dataframe\">\n",
       "  <thead>\n",
       "    <tr style=\"text-align: right;\">\n",
       "      <th></th>\n",
       "      <th>EnquiryDestination</th>\n",
       "      <th>LeadSource</th>\n",
       "      <th>LeadCount</th>\n",
       "      <th>Revenue</th>\n",
       "    </tr>\n",
       "  </thead>\n",
       "  <tbody>\n",
       "    <tr>\n",
       "      <th>0</th>\n",
       "      <td>Meghalaya</td>\n",
       "      <td>Lead Source 1</td>\n",
       "      <td>3915</td>\n",
       "      <td>326997.0</td>\n",
       "    </tr>\n",
       "    <tr>\n",
       "      <th>1</th>\n",
       "      <td>Meghalaya</td>\n",
       "      <td>Lead Source 2</td>\n",
       "      <td>3385</td>\n",
       "      <td>150646.0</td>\n",
       "    </tr>\n",
       "    <tr>\n",
       "      <th>2</th>\n",
       "      <td>Meghalaya</td>\n",
       "      <td>Lead Source 3</td>\n",
       "      <td>632</td>\n",
       "      <td>208967.0</td>\n",
       "    </tr>\n",
       "  </tbody>\n",
       "</table>\n",
       "</div>"
      ],
      "text/plain": [
       "  EnquiryDestination     LeadSource  LeadCount   Revenue\n",
       "0          Meghalaya  Lead Source 1       3915  326997.0\n",
       "1          Meghalaya  Lead Source 2       3385  150646.0\n",
       "2          Meghalaya  Lead Source 3        632  208967.0"
      ]
     },
     "execution_count": 28,
     "metadata": {},
     "output_type": "execute_result"
    }
   ],
   "source": [
    "query = '''\n",
    "select 'Meghalaya' as EnquiryDestination, LeadSource,\n",
    "      Count(EnquiryDestination) as LeadCount,\n",
    "      sum(TotalBill) as Revenue\n",
    "from travels where EnquiryDestination = 'Meghalaya'\n",
    "group by 2\n",
    "'''\n",
    "temp = pd.read_sql(query, conn)\n",
    "temp"
   ]
  },
  {
   "cell_type": "markdown",
   "id": "6bb98b5d",
   "metadata": {
    "papermill": {
     "duration": 0.041403,
     "end_time": "2024-11-18T05:37:27.785304",
     "exception": false,
     "start_time": "2024-11-18T05:37:27.743901",
     "status": "completed"
    },
    "tags": []
   },
   "source": [
    "This data provides insights into revenue performance for Meghalaya and by Lead Source:\n",
    "\n",
    "1.\tLead Source Comparison:\n",
    "\t-\tLead Source 1 generated the highest revenue (₹326,997) and the most leads (3,915), indicating a strong conversion rate and effectiveness.\n",
    "\t-\tLead Source 3, despite fewer leads (632), contributed a significant revenue share (₹208,967), suggesting higher-value customers.\n",
    "2.\tDestination Performance:\n",
    "\t-\tFor Meghalaya, Lead Source 1 dominates in volume and revenue, but Lead Source 3 may attract premium clients."
   ]
  },
  {
   "cell_type": "code",
   "execution_count": 29,
   "id": "314a3b1d",
   "metadata": {
    "execution": {
     "iopub.execute_input": "2024-11-18T05:37:27.873872Z",
     "iopub.status.busy": "2024-11-18T05:37:27.873451Z",
     "iopub.status.idle": "2024-11-18T05:37:27.886347Z",
     "shell.execute_reply": "2024-11-18T05:37:27.885265Z"
    },
    "papermill": {
     "duration": 0.061403,
     "end_time": "2024-11-18T05:37:27.888951",
     "exception": false,
     "start_time": "2024-11-18T05:37:27.827548",
     "status": "completed"
    },
    "tags": []
   },
   "outputs": [
    {
     "data": {
      "text/html": [
       "<div>\n",
       "<style scoped>\n",
       "    .dataframe tbody tr th:only-of-type {\n",
       "        vertical-align: middle;\n",
       "    }\n",
       "\n",
       "    .dataframe tbody tr th {\n",
       "        vertical-align: top;\n",
       "    }\n",
       "\n",
       "    .dataframe thead th {\n",
       "        text-align: right;\n",
       "    }\n",
       "</style>\n",
       "<table border=\"1\" class=\"dataframe\">\n",
       "  <thead>\n",
       "    <tr style=\"text-align: right;\">\n",
       "      <th></th>\n",
       "      <th>LeadSource</th>\n",
       "      <th>Leads_Pct</th>\n",
       "    </tr>\n",
       "  </thead>\n",
       "  <tbody>\n",
       "    <tr>\n",
       "      <th>0</th>\n",
       "      <td>Lead Source 1</td>\n",
       "      <td>49.36</td>\n",
       "    </tr>\n",
       "    <tr>\n",
       "      <th>1</th>\n",
       "      <td>Lead Source 2</td>\n",
       "      <td>42.68</td>\n",
       "    </tr>\n",
       "    <tr>\n",
       "      <th>2</th>\n",
       "      <td>Lead Source 3</td>\n",
       "      <td>7.97</td>\n",
       "    </tr>\n",
       "  </tbody>\n",
       "</table>\n",
       "</div>"
      ],
      "text/plain": [
       "      LeadSource  Leads_Pct\n",
       "0  Lead Source 1      49.36\n",
       "1  Lead Source 2      42.68\n",
       "2  Lead Source 3       7.97"
      ]
     },
     "execution_count": 29,
     "metadata": {},
     "output_type": "execute_result"
    }
   ],
   "source": [
    "data = {temp['LeadSource'][i] : round(temp['LeadCount'][i] / temp['LeadCount'].sum()*100,2) for i in range(len(temp))}\n",
    "pct = pd.DataFrame(data.items(), columns=['LeadSource', 'Leads_Pct'])\n",
    "pct"
   ]
  },
  {
   "cell_type": "code",
   "execution_count": 30,
   "id": "054d87da",
   "metadata": {
    "execution": {
     "iopub.execute_input": "2024-11-18T05:37:27.978118Z",
     "iopub.status.busy": "2024-11-18T05:37:27.977388Z",
     "iopub.status.idle": "2024-11-18T05:37:27.989060Z",
     "shell.execute_reply": "2024-11-18T05:37:27.988067Z"
    },
    "papermill": {
     "duration": 0.058699,
     "end_time": "2024-11-18T05:37:27.991565",
     "exception": false,
     "start_time": "2024-11-18T05:37:27.932866",
     "status": "completed"
    },
    "tags": []
   },
   "outputs": [
    {
     "data": {
      "text/html": [
       "<div>\n",
       "<style scoped>\n",
       "    .dataframe tbody tr th:only-of-type {\n",
       "        vertical-align: middle;\n",
       "    }\n",
       "\n",
       "    .dataframe tbody tr th {\n",
       "        vertical-align: top;\n",
       "    }\n",
       "\n",
       "    .dataframe thead th {\n",
       "        text-align: right;\n",
       "    }\n",
       "</style>\n",
       "<table border=\"1\" class=\"dataframe\">\n",
       "  <thead>\n",
       "    <tr style=\"text-align: right;\">\n",
       "      <th></th>\n",
       "      <th>LeadCount</th>\n",
       "      <th>Revenue</th>\n",
       "    </tr>\n",
       "  </thead>\n",
       "  <tbody>\n",
       "    <tr>\n",
       "      <th>LeadCount</th>\n",
       "      <td>1.000000</td>\n",
       "      <td>0.337231</td>\n",
       "    </tr>\n",
       "    <tr>\n",
       "      <th>Revenue</th>\n",
       "      <td>0.337231</td>\n",
       "      <td>1.000000</td>\n",
       "    </tr>\n",
       "  </tbody>\n",
       "</table>\n",
       "</div>"
      ],
      "text/plain": [
       "           LeadCount   Revenue\n",
       "LeadCount   1.000000  0.337231\n",
       "Revenue     0.337231  1.000000"
      ]
     },
     "execution_count": 30,
     "metadata": {},
     "output_type": "execute_result"
    }
   ],
   "source": [
    "#Correlation between Meghalaya LeadCount and Revenue\n",
    "temp[['LeadCount', 'Revenue']].corr()"
   ]
  },
  {
   "cell_type": "markdown",
   "id": "b898514b",
   "metadata": {
    "papermill": {
     "duration": 0.042887,
     "end_time": "2024-11-18T05:37:28.077458",
     "exception": false,
     "start_time": "2024-11-18T05:37:28.034571",
     "status": "completed"
    },
    "tags": []
   },
   "source": [
    "- Lead Source 1 generates nearly half of the leads (49.36%) but only 33.72% of the revenue, indicating a lower conversion efficiency. Lead Source 2 shows a more balanced relationship between leads and revenue, while Lead Source 3, contributing just 7.97% of leads, has a smaller impact on both lead count and revenue. With a moderate correlation of 0.34 between lead count and revenue, there’s potential for optimizing conversion strategies to improve revenue from the large volume of leads, especially from Lead Source 1."
   ]
  },
  {
   "cell_type": "markdown",
   "id": "e40539de",
   "metadata": {
    "id": "Tccg71f--Szm",
    "papermill": {
     "duration": 0.04355,
     "end_time": "2024-11-18T05:37:28.165345",
     "exception": false,
     "start_time": "2024-11-18T05:37:28.121795",
     "status": "completed"
    },
    "tags": []
   },
   "source": [
    "**Question** - Which destination is being enquired about the most and what's the revenue from there like??"
   ]
  },
  {
   "cell_type": "code",
   "execution_count": 31,
   "id": "0b3c82f4",
   "metadata": {
    "execution": {
     "iopub.execute_input": "2024-11-18T05:37:28.252071Z",
     "iopub.status.busy": "2024-11-18T05:37:28.251647Z",
     "iopub.status.idle": "2024-11-18T05:37:28.354298Z",
     "shell.execute_reply": "2024-11-18T05:37:28.353224Z"
    },
    "id": "o4aq2513ODbr",
    "outputId": "0ff2df2b-72f2-45c4-e98a-b8cbf3e420a6",
    "papermill": {
     "duration": 0.149076,
     "end_time": "2024-11-18T05:37:28.357086",
     "exception": false,
     "start_time": "2024-11-18T05:37:28.208010",
     "status": "completed"
    },
    "tags": []
   },
   "outputs": [
    {
     "data": {
      "text/html": [
       "<div>\n",
       "<style scoped>\n",
       "    .dataframe tbody tr th:only-of-type {\n",
       "        vertical-align: middle;\n",
       "    }\n",
       "\n",
       "    .dataframe tbody tr th {\n",
       "        vertical-align: top;\n",
       "    }\n",
       "\n",
       "    .dataframe thead th {\n",
       "        text-align: right;\n",
       "    }\n",
       "</style>\n",
       "<table border=\"1\" class=\"dataframe\">\n",
       "  <thead>\n",
       "    <tr style=\"text-align: right;\">\n",
       "      <th></th>\n",
       "      <th>EnquiryDestination</th>\n",
       "      <th>LeadCount</th>\n",
       "      <th>Revenue</th>\n",
       "    </tr>\n",
       "  </thead>\n",
       "  <tbody>\n",
       "    <tr>\n",
       "      <th>0</th>\n",
       "      <td>Ladakh</td>\n",
       "      <td>6657</td>\n",
       "      <td>1590486.0</td>\n",
       "    </tr>\n",
       "    <tr>\n",
       "      <th>1</th>\n",
       "      <td>Spiti Valley</td>\n",
       "      <td>6190</td>\n",
       "      <td>958192.0</td>\n",
       "    </tr>\n",
       "    <tr>\n",
       "      <th>2</th>\n",
       "      <td>Europe</td>\n",
       "      <td>1722</td>\n",
       "      <td>952050.0</td>\n",
       "    </tr>\n",
       "    <tr>\n",
       "      <th>3</th>\n",
       "      <td>Bali</td>\n",
       "      <td>6806</td>\n",
       "      <td>938252.0</td>\n",
       "    </tr>\n",
       "    <tr>\n",
       "      <th>4</th>\n",
       "      <td>Leh Ladakh</td>\n",
       "      <td>5698</td>\n",
       "      <td>758208.0</td>\n",
       "    </tr>\n",
       "  </tbody>\n",
       "</table>\n",
       "</div>"
      ],
      "text/plain": [
       "  EnquiryDestination  LeadCount    Revenue\n",
       "0             Ladakh       6657  1590486.0\n",
       "1       Spiti Valley       6190   958192.0\n",
       "2             Europe       1722   952050.0\n",
       "3               Bali       6806   938252.0\n",
       "4         Leh Ladakh       5698   758208.0"
      ]
     },
     "execution_count": 31,
     "metadata": {},
     "output_type": "execute_result"
    }
   ],
   "source": [
    "query = '''\n",
    "select EnquiryDestination,\n",
    "        Count(EnquiryDestination) as LeadCount,\n",
    "        sum(TotalBill) as Revenue\n",
    "from travels where EnquiryDestination is not null\n",
    "group by EnquiryDestination order by 3 desc limit 5\n",
    "'''\n",
    "temp = pd.read_sql(query, conn)\n",
    "temp"
   ]
  },
  {
   "cell_type": "markdown",
   "id": "863a9c55",
   "metadata": {
    "id": "vImxiUT4OV9Y",
    "papermill": {
     "duration": 0.041925,
     "end_time": "2024-11-18T05:37:28.442250",
     "exception": false,
     "start_time": "2024-11-18T05:37:28.400325",
     "status": "completed"
    },
    "tags": []
   },
   "source": [
    "**Insight** \n",
    "\n",
    "-  Ladakh leads in both lead count (6657) and revenue (1,590,486), followed by Spiti Valley with 6190 leads and 958,192 in revenue. Bali, generating 6806 leads, contributes 938,252 in revenue. Europe, despite fewer leads (1722), achieves significant revenue (952,050). Leh Ladakh, with 5698 leads, generates 758,208 in revenue. Ladakh and Spiti Valley show the highest lead-to-revenue efficiency."
   ]
  },
  {
   "cell_type": "markdown",
   "id": "b950e209",
   "metadata": {
    "id": "UGBBLCeseb0c",
    "papermill": {
     "duration": 0.042278,
     "end_time": "2024-11-18T05:37:28.527295",
     "exception": false,
     "start_time": "2024-11-18T05:37:28.485017",
     "status": "completed"
    },
    "tags": []
   },
   "source": [
    "\n",
    "## Conversion and Client Insights"
   ]
  },
  {
   "cell_type": "markdown",
   "id": "05b1509d",
   "metadata": {
    "id": "Tz9P8Qj-bQX_",
    "papermill": {
     "duration": 0.04261,
     "end_time": "2024-11-18T05:37:28.612439",
     "exception": false,
     "start_time": "2024-11-18T05:37:28.569829",
     "status": "completed"
    },
    "tags": []
   },
   "source": [
    "5. **What percentage of leads are from ex-clients?**"
   ]
  },
  {
   "cell_type": "code",
   "execution_count": 32,
   "id": "701e9400",
   "metadata": {
    "execution": {
     "iopub.execute_input": "2024-11-18T05:37:28.701844Z",
     "iopub.status.busy": "2024-11-18T05:37:28.701403Z",
     "iopub.status.idle": "2024-11-18T05:37:28.730618Z",
     "shell.execute_reply": "2024-11-18T05:37:28.729225Z"
    },
    "id": "9sRnrawXbP87",
    "outputId": "7de52de0-3053-4af2-b90d-2c034d23383f",
    "papermill": {
     "duration": 0.076772,
     "end_time": "2024-11-18T05:37:28.732986",
     "exception": false,
     "start_time": "2024-11-18T05:37:28.656214",
     "status": "completed"
    },
    "tags": []
   },
   "outputs": [
    {
     "name": "stdout",
     "output_type": "stream",
     "text": [
      "Percent of Leads from Ex Clients : 3.658%\n"
     ]
    }
   ],
   "source": [
    "query = '''\n",
    "select round(count(*)*1.0/(select count(*) from travels)*100,3) as ExClient_PctLeads\n",
    "from travels where ExClient = 'Yes'\n",
    "'''\n",
    "ex_conv_pct = pd.read_sql(query, conn).values[0][0]\n",
    "print(f\"Percent of Leads from Ex Clients : {ex_conv_pct}%\")"
   ]
  },
  {
   "cell_type": "markdown",
   "id": "05ab6783",
   "metadata": {
    "id": "Ahe6YRBIQA0_",
    "papermill": {
     "duration": 0.043729,
     "end_time": "2024-11-18T05:37:28.819569",
     "exception": false,
     "start_time": "2024-11-18T05:37:28.775840",
     "status": "completed"
    },
    "tags": []
   },
   "source": [
    "**Insight** : The conversion rate from ExClients is 3.65% meaning 4 out of 100 conversions come from clients who have travelled with us or availed our services in the past"
   ]
  },
  {
   "cell_type": "code",
   "execution_count": 33,
   "id": "f7da7a9d",
   "metadata": {
    "execution": {
     "iopub.execute_input": "2024-11-18T05:37:28.909543Z",
     "iopub.status.busy": "2024-11-18T05:37:28.909116Z",
     "iopub.status.idle": "2024-11-18T05:37:29.324163Z",
     "shell.execute_reply": "2024-11-18T05:37:29.323091Z"
    },
    "papermill": {
     "duration": 0.46227,
     "end_time": "2024-11-18T05:37:29.326421",
     "exception": false,
     "start_time": "2024-11-18T05:37:28.864151",
     "status": "completed"
    },
    "tags": []
   },
   "outputs": [
    {
     "data": {
      "image/png": "[encoded data removed]",
      "text/plain": [
       "<Figure size 2500x600 with 1 Axes>"
      ]
     },
     "metadata": {},
     "output_type": "display_data"
    }
   ],
   "source": [
    "query = '''\n",
    "select ExClient, round(count(*)*1.0/(select count(*) from travels)*100,3) as Pct_Leads,\n",
    "        round(sum(TotalBill)*1.0/(select sum(TotalBill) from travels)*100,3) as Pct_Revenue\n",
    "from travels group by 1\n",
    "'''\n",
    "ExClient_df = pd.read_sql(query, conn)\n",
    "ExClient_df['ExClient'].iloc[0] = 'No'\n",
    "ax = ExClient_df.set_index('ExClient').plot(kind='bar')\n",
    "# Add bar labels\n",
    "for container in ax.containers:\n",
    "    ax.bar_label(container, fmt='%.2f%%', label_type='edge')  # Format labels as percentages\n",
    "plt.title('Ex Customers Lead Count and Revenue')\n",
    "plt.ylabel('Percentage')\n",
    "plt.xticks(rotation=0)\n",
    "plt.show()"
   ]
  },
  {
   "cell_type": "markdown",
   "id": "7a4acc4b",
   "metadata": {
    "papermill": {
     "duration": 0.044234,
     "end_time": "2024-11-18T05:37:29.415307",
     "exception": false,
     "start_time": "2024-11-18T05:37:29.371073",
     "status": "completed"
    },
    "tags": []
   },
   "source": [
    "**Insight** -  We get 15% revenue from our ex clients which is equal to 3% of the total clients."
   ]
  },
  {
   "cell_type": "markdown",
   "id": "939bf8aa",
   "metadata": {
    "id": "ywTMCEvGePbU",
    "papermill": {
     "duration": 0.044006,
     "end_time": "2024-11-18T05:37:29.503220",
     "exception": false,
     "start_time": "2024-11-18T05:37:29.459214",
     "status": "completed"
    },
    "tags": []
   },
   "source": [
    "7. **Which sources of leads have the highest conversion rates?**"
   ]
  },
  {
   "cell_type": "code",
   "execution_count": 34,
   "id": "c75b577a",
   "metadata": {
    "execution": {
     "iopub.execute_input": "2024-11-18T05:37:29.592351Z",
     "iopub.status.busy": "2024-11-18T05:37:29.591607Z",
     "iopub.status.idle": "2024-11-18T05:37:29.881895Z",
     "shell.execute_reply": "2024-11-18T05:37:29.880586Z"
    },
    "id": "wTYWgsOrc62o",
    "outputId": "077132a7-d47e-498e-dee8-25e02e8d5378",
    "papermill": {
     "duration": 0.337488,
     "end_time": "2024-11-18T05:37:29.884405",
     "exception": false,
     "start_time": "2024-11-18T05:37:29.546917",
     "status": "completed"
    },
    "tags": []
   },
   "outputs": [
    {
     "data": {
      "image/png": "[encoded data removed]",
      "text/plain": [
       "<Figure size 2500x600 with 1 Axes>"
      ]
     },
     "metadata": {},
     "output_type": "display_data"
    }
   ],
   "source": [
    "query = '''\n",
    "select LeadSource, round(count(*)*1.0/(select count(*) from travels)*100,3) as Conversion_Rate\n",
    "from travels where Status = 'Converted'\n",
    "group by 1 order by 2 desc\n",
    "'''\n",
    "temp = pd.read_sql(query, conn)\n",
    "COLORS =['#0B8494'] * len(temp)\n",
    "COLORS[0] = dark_blue\n",
    "ax = plt.bar(data=temp, x='LeadSource', height = 'Conversion_Rate', color=COLORS)\n",
    "plt.bar_label(ax)\n",
    "plt.title('Lead Source Wise Conversion Rate')\n",
    "plt.ylabel('Percentage')\n",
    "plt.show()"
   ]
  },
  {
   "cell_type": "markdown",
   "id": "c3568748",
   "metadata": {
    "id": "GwiizxGhQpsC",
    "papermill": {
     "duration": 0.044777,
     "end_time": "2024-11-18T05:37:29.974886",
     "exception": false,
     "start_time": "2024-11-18T05:37:29.930109",
     "status": "completed"
    },
    "tags": []
   },
   "source": [
    "**Insight** - Lead Source 1 has the highest conversion rate at 2.093, significantly outperforming Lead Source 3 (0.880) and Lead Source 2 (0.484). This indicates that Lead Source 1 is more effective in converting leads into actual sales or actions compared to the other sources."
   ]
  },
  {
   "cell_type": "markdown",
   "id": "1a4e689c",
   "metadata": {
    "id": "N1xITLPKdSNE",
    "papermill": {
     "duration": 0.045275,
     "end_time": "2024-11-18T05:37:30.064844",
     "exception": false,
     "start_time": "2024-11-18T05:37:30.019569",
     "status": "completed"
    },
    "tags": []
   },
   "source": [
    "8. Which destinations have the highest conversion rates?"
   ]
  },
  {
   "cell_type": "code",
   "execution_count": 35,
   "id": "006ee8f7",
   "metadata": {
    "execution": {
     "iopub.execute_input": "2024-11-18T05:37:30.156595Z",
     "iopub.status.busy": "2024-11-18T05:37:30.156138Z",
     "iopub.status.idle": "2024-11-18T05:37:30.587629Z",
     "shell.execute_reply": "2024-11-18T05:37:30.586424Z"
    },
    "id": "5BAJIcskdTve",
    "outputId": "29d3a660-9a0a-4201-abce-1c89997b6279",
    "papermill": {
     "duration": 0.481421,
     "end_time": "2024-11-18T05:37:30.590482",
     "exception": false,
     "start_time": "2024-11-18T05:37:30.109061",
     "status": "completed"
    },
    "tags": []
   },
   "outputs": [
    {
     "data": {
      "image/png": "[encoded data removed]",
      "text/plain": [
       "<Figure size 2500x600 with 1 Axes>"
      ]
     },
     "metadata": {},
     "output_type": "display_data"
    }
   ],
   "source": [
    "query = '''\n",
    "SELECT \n",
    "    EnquiryDestination, \n",
    "    ROUND(\n",
    "        COUNT(EnquiryDestination) * 1.0 / \n",
    "        (SELECT COUNT(*) FROM travels WHERE EnquiryDestination IS NOT NULL) * 100, \n",
    "        3\n",
    "    ) AS Conversion_Rate\n",
    "FROM travels \n",
    "WHERE Status = 'Converted' AND EnquiryDestination IS NOT NULL\n",
    "GROUP BY EnquiryDestination\n",
    "ORDER BY Conversion_Rate DESC\n",
    "LIMIT 10;\n",
    "'''\n",
    "temp = pd.read_sql(query, conn)\n",
    "COLORS =['#BDCDD6'] * len(temp)\n",
    "COLORS[0] = '#6096B4'\n",
    "ax = plt.bar(data=temp, x='EnquiryDestination', height = 'Conversion_Rate', color=COLORS)\n",
    "plt.bar_label(ax)\n",
    "plt.ylabel('Conversion Rate')\n",
    "plt.title('EnquiryDestination Wise Conversion Rate')\n",
    "plt.show()"
   ]
  },
  {
   "cell_type": "markdown",
   "id": "ea40c176",
   "metadata": {
    "id": "zVA9d_mA2nTR",
    "papermill": {
     "duration": 0.046833,
     "end_time": "2024-11-18T05:37:30.684363",
     "exception": false,
     "start_time": "2024-11-18T05:37:30.637530",
     "status": "completed"
    },
    "tags": []
   },
   "source": [
    "**Insight**\n",
    "\n",
    "- Conversion Rate is the maximum for Spiti Valley followed by Ladakh and Meghalaya."
   ]
  },
  {
   "cell_type": "code",
   "execution_count": 36,
   "id": "bed7c07d",
   "metadata": {
    "execution": {
     "iopub.execute_input": "2024-11-18T05:37:30.787113Z",
     "iopub.status.busy": "2024-11-18T05:37:30.786022Z",
     "iopub.status.idle": "2024-11-18T05:37:30.816113Z",
     "shell.execute_reply": "2024-11-18T05:37:30.814890Z"
    },
    "papermill": {
     "duration": 0.081365,
     "end_time": "2024-11-18T05:37:30.818536",
     "exception": false,
     "start_time": "2024-11-18T05:37:30.737171",
     "status": "completed"
    },
    "tags": []
   },
   "outputs": [
    {
     "data": {
      "text/html": [
       "<div>\n",
       "<style scoped>\n",
       "    .dataframe tbody tr th:only-of-type {\n",
       "        vertical-align: middle;\n",
       "    }\n",
       "\n",
       "    .dataframe tbody tr th {\n",
       "        vertical-align: top;\n",
       "    }\n",
       "\n",
       "    .dataframe thead th {\n",
       "        text-align: right;\n",
       "    }\n",
       "</style>\n",
       "<table border=\"1\" class=\"dataframe\">\n",
       "  <thead>\n",
       "    <tr style=\"text-align: right;\">\n",
       "      <th></th>\n",
       "      <th>Trip</th>\n",
       "      <th>TripCount</th>\n",
       "    </tr>\n",
       "  </thead>\n",
       "  <tbody>\n",
       "    <tr>\n",
       "      <th>0</th>\n",
       "      <td>Spiti Winter (6N/7D) - Exclusive Escape</td>\n",
       "      <td>67</td>\n",
       "    </tr>\n",
       "    <tr>\n",
       "      <th>1</th>\n",
       "      <td>Spiti Winter (6N/7D) - Bliss in Budget</td>\n",
       "      <td>34</td>\n",
       "    </tr>\n",
       "    <tr>\n",
       "      <th>2</th>\n",
       "      <td>Spiti Circuit (7N/8D)</td>\n",
       "      <td>30</td>\n",
       "    </tr>\n",
       "    <tr>\n",
       "      <th>3</th>\n",
       "      <td>Spiti Road Trip (6N/7D)</td>\n",
       "      <td>23</td>\n",
       "    </tr>\n",
       "    <tr>\n",
       "      <th>4</th>\n",
       "      <td>Spiti Backpacking (6N/7D) - Bliss in Budget</td>\n",
       "      <td>22</td>\n",
       "    </tr>\n",
       "    <tr>\n",
       "      <th>5</th>\n",
       "      <td>BYOG</td>\n",
       "      <td>9</td>\n",
       "    </tr>\n",
       "    <tr>\n",
       "      <th>6</th>\n",
       "      <td>Spiti Summer (5N/6D)</td>\n",
       "      <td>7</td>\n",
       "    </tr>\n",
       "    <tr>\n",
       "      <th>7</th>\n",
       "      <td>Meghalaya With Kaziranga (6N/7D)</td>\n",
       "      <td>7</td>\n",
       "    </tr>\n",
       "    <tr>\n",
       "      <th>8</th>\n",
       "      <td>Meghalaya Backpacking (5N/6D)</td>\n",
       "      <td>5</td>\n",
       "    </tr>\n",
       "    <tr>\n",
       "      <th>9</th>\n",
       "      <td>Manali Solang (2N/3D)</td>\n",
       "      <td>5</td>\n",
       "    </tr>\n",
       "    <tr>\n",
       "      <th>10</th>\n",
       "      <td>Chopta Tungnath (2N/3D)</td>\n",
       "      <td>5</td>\n",
       "    </tr>\n",
       "    <tr>\n",
       "      <th>11</th>\n",
       "      <td>Kasol Kheerganga Manali (4N/5D)</td>\n",
       "      <td>4</td>\n",
       "    </tr>\n",
       "    <tr>\n",
       "      <th>12</th>\n",
       "      <td>McLeod Bir Tirthan (4N/5D)</td>\n",
       "      <td>2</td>\n",
       "    </tr>\n",
       "    <tr>\n",
       "      <th>13</th>\n",
       "      <td>Leh to Leh with Turtuk(6N/7D)</td>\n",
       "      <td>2</td>\n",
       "    </tr>\n",
       "    <tr>\n",
       "      <th>14</th>\n",
       "      <td>Leh Ladakh(Srinagar to Leh)</td>\n",
       "      <td>2</td>\n",
       "    </tr>\n",
       "    <tr>\n",
       "      <th>15</th>\n",
       "      <td>Kasol Kheerganga (2N/3D)</td>\n",
       "      <td>2</td>\n",
       "    </tr>\n",
       "  </tbody>\n",
       "</table>\n",
       "</div>"
      ],
      "text/plain": [
       "                                           Trip  TripCount\n",
       "0       Spiti Winter (6N/7D) - Exclusive Escape         67\n",
       "1        Spiti Winter (6N/7D) - Bliss in Budget         34\n",
       "2                         Spiti Circuit (7N/8D)         30\n",
       "3                       Spiti Road Trip (6N/7D)         23\n",
       "4   Spiti Backpacking (6N/7D) - Bliss in Budget         22\n",
       "5                                          BYOG          9\n",
       "6                          Spiti Summer (5N/6D)          7\n",
       "7              Meghalaya With Kaziranga (6N/7D)          7\n",
       "8                 Meghalaya Backpacking (5N/6D)          5\n",
       "9                         Manali Solang (2N/3D)          5\n",
       "10                      Chopta Tungnath (2N/3D)          5\n",
       "11              Kasol Kheerganga Manali (4N/5D)          4\n",
       "12                   McLeod Bir Tirthan (4N/5D)          2\n",
       "13                Leh to Leh with Turtuk(6N/7D)          2\n",
       "14                  Leh Ladakh(Srinagar to Leh)          2\n",
       "15                     Kasol Kheerganga (2N/3D)          2"
      ]
     },
     "execution_count": 36,
     "metadata": {},
     "output_type": "execute_result"
    }
   ],
   "source": [
    "query = '''\n",
    "SELECT Trip, COUNT(Trip) AS TripCount \n",
    "FROM travels \n",
    "WHERE Status = 'Converted' \n",
    "    AND EnquiryDestination = 'Spiti Valley' \n",
    "    AND (LOWER(Trip) NOT LIKE '%reject%' AND LOWER(Trip) NOT LIKE '%cancel%')\n",
    "GROUP BY Trip \n",
    "HAVING COUNT(Trip) > 1 \n",
    "ORDER BY TripCount DESC;\n",
    "'''\n",
    "spiti_df = pd.read_sql(query, conn)\n",
    "spiti_df"
   ]
  },
  {
   "cell_type": "markdown",
   "id": "458597e8",
   "metadata": {
    "papermill": {
     "duration": 0.060511,
     "end_time": "2024-11-18T05:37:30.933799",
     "exception": false,
     "start_time": "2024-11-18T05:37:30.873288",
     "status": "completed"
    },
    "tags": []
   },
   "source": [
    "- For Spiti Valley trips, Exclusive Escape and Bliss in Budget are very much popular options among the customers who got converted."
   ]
  },
  {
   "cell_type": "markdown",
   "id": "515cb600",
   "metadata": {
    "id": "JIySinb6fg5F",
    "papermill": {
     "duration": 0.046076,
     "end_time": "2024-11-18T05:37:31.026035",
     "exception": false,
     "start_time": "2024-11-18T05:37:30.979959",
     "status": "completed"
    },
    "tags": []
   },
   "source": [
    "## Detailed Performance Analysis\n",
    "9. **Who are the top performers in terms of number of conversions?**"
   ]
  },
  {
   "cell_type": "code",
   "execution_count": 37,
   "id": "b01057ad",
   "metadata": {
    "execution": {
     "iopub.execute_input": "2024-11-18T05:37:31.123303Z",
     "iopub.status.busy": "2024-11-18T05:37:31.122872Z",
     "iopub.status.idle": "2024-11-18T05:37:31.662697Z",
     "shell.execute_reply": "2024-11-18T05:37:31.661595Z"
    },
    "id": "IJqSv_Cfek8o",
    "outputId": "63328da2-16d3-4a52-9dca-857073c5505c",
    "papermill": {
     "duration": 0.591893,
     "end_time": "2024-11-18T05:37:31.665055",
     "exception": false,
     "start_time": "2024-11-18T05:37:31.073162",
     "status": "completed"
    },
    "tags": []
   },
   "outputs": [
    {
     "data": {
      "image/png": "[encoded data removed]",
      "text/plain": [
       "<Figure size 2500x600 with 1 Axes>"
      ]
     },
     "metadata": {},
     "output_type": "display_data"
    }
   ],
   "source": [
    "query = '''\n",
    "WITH cte AS (\n",
    "    SELECT \n",
    "        AssignedTo, \n",
    "        COUNT(AssignedTo) AS Assigned,\n",
    "        ROUND(COUNT(ConvertedBy) * 1.0 / (SELECT COUNT(*) FROM travels WHERE ConvertedBy IS NOT NULL) * 100, 3) \n",
    "                        AS Conversion_Rate,\n",
    "        COALESCE(SUM(TotalBill),0) AS totalBill,\n",
    "        COALESCE(ROUND(AVG(julianday(ConversionDate) - julianday(LeadDate)), 2),0) AS avgConversionTime\n",
    "    FROM travels\n",
    "    GROUP BY AssignedTo\n",
    "),\n",
    "\n",
    "rank_cte AS (\n",
    "    SELECT \n",
    "        *, \n",
    "        DENSE_RANK() OVER (ORDER BY Conversion_Rate DESC) AS Conv_rank,\n",
    "        DENSE_RANK() OVER (ORDER BY totalBill DESC) AS Bill_rank,\n",
    "        DENSE_RANK() OVER (ORDER BY avgConversionTime ASC) AS time_rank\n",
    "    FROM cte\n",
    "),\n",
    "\n",
    "weighted_cte AS (\n",
    "    SELECT \n",
    "        *, \n",
    "        ROUND((Conv_rank + Bill_rank + time_rank) * 1.0 / 3, 2) AS weighted_score \n",
    "    FROM rank_cte\n",
    ")\n",
    "\n",
    "SELECT \n",
    "    AssignedTo, \n",
    "    Assigned, \n",
    "    Conversion_Rate, \n",
    "    avgConversionTime,\n",
    "    totalBill,\n",
    "    weighted_score,\n",
    "    DENSE_RANK() OVER (ORDER BY weighted_score ASC) AS weighted_rank\n",
    "FROM weighted_cte \n",
    "ORDER BY Conversion_Rate desc\n",
    "LIMIT 10\n",
    "'''\n",
    "\n",
    "temp = pd.read_sql(query, conn)\n",
    "temp['AssignedTo']  = temp['AssignedTo'].str.replace(\"Person\", 'Rep')\n",
    "COLORS =['#9DB2BF'] * len(temp)\n",
    "COLORS[0] = '#27374D'\n",
    "ax = plt.bar(data=temp, x='AssignedTo', height = 'Conversion_Rate', color=COLORS)\n",
    "plt.bar_label(ax)\n",
    "plt.title('SalesPerson Wise Conversion Rate')\n",
    "plt.ylabel('Conversion Rate')\n",
    "plt.show()"
   ]
  },
  {
   "cell_type": "code",
   "execution_count": 38,
   "id": "a127a65f",
   "metadata": {
    "execution": {
     "iopub.execute_input": "2024-11-18T05:37:31.761887Z",
     "iopub.status.busy": "2024-11-18T05:37:31.761484Z",
     "iopub.status.idle": "2024-11-18T05:37:31.926328Z",
     "shell.execute_reply": "2024-11-18T05:37:31.925237Z"
    },
    "papermill": {
     "duration": 0.216234,
     "end_time": "2024-11-18T05:37:31.928904",
     "exception": false,
     "start_time": "2024-11-18T05:37:31.712670",
     "status": "completed"
    },
    "tags": []
   },
   "outputs": [
    {
     "data": {
      "text/html": [
       "<div>\n",
       "<style scoped>\n",
       "    .dataframe tbody tr th:only-of-type {\n",
       "        vertical-align: middle;\n",
       "    }\n",
       "\n",
       "    .dataframe tbody tr th {\n",
       "        vertical-align: top;\n",
       "    }\n",
       "\n",
       "    .dataframe thead th {\n",
       "        text-align: right;\n",
       "    }\n",
       "</style>\n",
       "<table border=\"1\" class=\"dataframe\">\n",
       "  <thead>\n",
       "    <tr style=\"text-align: right;\">\n",
       "      <th></th>\n",
       "      <th>AssignedTo</th>\n",
       "      <th>Assigned</th>\n",
       "      <th>Conversion_Rate</th>\n",
       "      <th>avgConversionTime</th>\n",
       "      <th>totalBill</th>\n",
       "      <th>weighted_score</th>\n",
       "      <th>weighted_rank</th>\n",
       "    </tr>\n",
       "  </thead>\n",
       "  <tbody>\n",
       "    <tr>\n",
       "      <th>0</th>\n",
       "      <td>Sales Person 13</td>\n",
       "      <td>1755</td>\n",
       "      <td>3.311</td>\n",
       "      <td>7.57</td>\n",
       "      <td>511735.0</td>\n",
       "      <td>6.67</td>\n",
       "      <td>1</td>\n",
       "    </tr>\n",
       "    <tr>\n",
       "      <th>1</th>\n",
       "      <td>Sales Person 26</td>\n",
       "      <td>1839</td>\n",
       "      <td>3.620</td>\n",
       "      <td>8.08</td>\n",
       "      <td>449671.0</td>\n",
       "      <td>8.00</td>\n",
       "      <td>2</td>\n",
       "    </tr>\n",
       "    <tr>\n",
       "      <th>2</th>\n",
       "      <td>Sales Person 0</td>\n",
       "      <td>22205</td>\n",
       "      <td>21.813</td>\n",
       "      <td>10.56</td>\n",
       "      <td>3526204.0</td>\n",
       "      <td>9.67</td>\n",
       "      <td>3</td>\n",
       "    </tr>\n",
       "    <tr>\n",
       "      <th>3</th>\n",
       "      <td>Sales Person 39</td>\n",
       "      <td>1862</td>\n",
       "      <td>2.661</td>\n",
       "      <td>9.38</td>\n",
       "      <td>421773.0</td>\n",
       "      <td>13.00</td>\n",
       "      <td>4</td>\n",
       "    </tr>\n",
       "    <tr>\n",
       "      <th>4</th>\n",
       "      <td>Sales Person 33</td>\n",
       "      <td>1443</td>\n",
       "      <td>3.094</td>\n",
       "      <td>12.01</td>\n",
       "      <td>805743.0</td>\n",
       "      <td>14.67</td>\n",
       "      <td>5</td>\n",
       "    </tr>\n",
       "  </tbody>\n",
       "</table>\n",
       "</div>"
      ],
      "text/plain": [
       "        AssignedTo  Assigned  Conversion_Rate  avgConversionTime  totalBill  \\\n",
       "0  Sales Person 13      1755            3.311               7.57   511735.0   \n",
       "1  Sales Person 26      1839            3.620               8.08   449671.0   \n",
       "2   Sales Person 0     22205           21.813              10.56  3526204.0   \n",
       "3  Sales Person 39      1862            2.661               9.38   421773.0   \n",
       "4  Sales Person 33      1443            3.094              12.01   805743.0   \n",
       "\n",
       "   weighted_score  weighted_rank  \n",
       "0            6.67              1  \n",
       "1            8.00              2  \n",
       "2            9.67              3  \n",
       "3           13.00              4  \n",
       "4           14.67              5  "
      ]
     },
     "execution_count": 38,
     "metadata": {},
     "output_type": "execute_result"
    }
   ],
   "source": [
    "query = '''\n",
    "WITH cte AS (\n",
    "    SELECT \n",
    "        AssignedTo, \n",
    "        COUNT(AssignedTo) AS Assigned,\n",
    "        ROUND(COUNT(ConvertedBy) * 1.0 / (SELECT COUNT(*) FROM travels WHERE ConvertedBy IS NOT NULL) * 100, 3) \n",
    "                        AS Conversion_Rate,\n",
    "        COALESCE(SUM(TotalBill),0) AS totalBill,\n",
    "        COALESCE(ROUND(AVG(julianday(ConversionDate) - julianday(LeadDate)), 2),0) AS avgConversionTime\n",
    "    FROM travels\n",
    "    GROUP BY AssignedTo\n",
    "),\n",
    "\n",
    "rank_cte AS (\n",
    "    SELECT \n",
    "        *, \n",
    "        DENSE_RANK() OVER (ORDER BY Conversion_Rate DESC) AS Conv_rank,\n",
    "        DENSE_RANK() OVER (ORDER BY totalBill DESC) AS Bill_rank,\n",
    "        DENSE_RANK() OVER (ORDER BY avgConversionTime ASC) AS time_rank\n",
    "    FROM cte\n",
    "),\n",
    "\n",
    "weighted_cte AS (\n",
    "    SELECT \n",
    "        *, \n",
    "        ROUND((Conv_rank + Bill_rank + time_rank) * 1.0 / 3, 2) AS weighted_score \n",
    "    FROM rank_cte\n",
    ")\n",
    "\n",
    "SELECT \n",
    "    AssignedTo, \n",
    "    Assigned, \n",
    "    Conversion_Rate, \n",
    "    avgConversionTime,\n",
    "    totalBill,\n",
    "    weighted_score,\n",
    "    DENSE_RANK() OVER (ORDER BY weighted_score ASC) AS weighted_rank\n",
    "FROM weighted_cte \n",
    "ORDER BY weighted_rank ASC;\n",
    "'''\n",
    "\n",
    "sales_rep_scorecard = pd.read_sql(query, conn)\n",
    "sales_rep_scorecard.head()"
   ]
  },
  {
   "cell_type": "markdown",
   "id": "f060ff08",
   "metadata": {
    "papermill": {
     "duration": 0.04701,
     "end_time": "2024-11-18T05:37:32.022574",
     "exception": false,
     "start_time": "2024-11-18T05:37:31.975564",
     "status": "completed"
    },
    "tags": []
   },
   "source": [
    "*INSIGHT*\n",
    "\n",
    "The sales performance analysis highlights clear differences in the team. Top performers like Sales Person 13 excel in conversion rates, revenue, and speed, while bottom performers such as Sales Person 52, 49, and 50 struggle with low conversion rates and slow times. Sales Person 52’s missing data also skews their performance. The key takeaway is that balancing fast conversions with high revenue leads to better results, while those with low scores need improvements in conversion speed and revenue. Regular monitoring and targeted training can help address these gaps and improve overall performance."
   ]
  },
  {
   "cell_type": "code",
   "execution_count": 39,
   "id": "8d6945d6",
   "metadata": {
    "execution": {
     "iopub.execute_input": "2024-11-18T05:37:32.120479Z",
     "iopub.status.busy": "2024-11-18T05:37:32.120070Z",
     "iopub.status.idle": "2024-11-18T05:37:32.151758Z",
     "shell.execute_reply": "2024-11-18T05:37:32.150633Z"
    },
    "papermill": {
     "duration": 0.084369,
     "end_time": "2024-11-18T05:37:32.154201",
     "exception": false,
     "start_time": "2024-11-18T05:37:32.069832",
     "status": "completed"
    },
    "tags": []
   },
   "outputs": [
    {
     "data": {
      "text/html": [
       "<div>\n",
       "<style scoped>\n",
       "    .dataframe tbody tr th:only-of-type {\n",
       "        vertical-align: middle;\n",
       "    }\n",
       "\n",
       "    .dataframe tbody tr th {\n",
       "        vertical-align: top;\n",
       "    }\n",
       "\n",
       "    .dataframe thead th {\n",
       "        text-align: right;\n",
       "    }\n",
       "</style>\n",
       "<table border=\"1\" class=\"dataframe\">\n",
       "  <thead>\n",
       "    <tr style=\"text-align: right;\">\n",
       "      <th></th>\n",
       "      <th>AssignedTo</th>\n",
       "      <th>Trip</th>\n",
       "      <th>TripCount</th>\n",
       "    </tr>\n",
       "  </thead>\n",
       "  <tbody>\n",
       "    <tr>\n",
       "      <th>0</th>\n",
       "      <td>Sales Rep 0</td>\n",
       "      <td>BYOG</td>\n",
       "      <td>88</td>\n",
       "    </tr>\n",
       "    <tr>\n",
       "      <th>1</th>\n",
       "      <td>Sales Rep 0</td>\n",
       "      <td>Spiti Winter (6N/7D) - Exclusive Escape</td>\n",
       "      <td>50</td>\n",
       "    </tr>\n",
       "    <tr>\n",
       "      <th>2</th>\n",
       "      <td>Sales Rep 0</td>\n",
       "      <td>BYOG - International</td>\n",
       "      <td>45</td>\n",
       "    </tr>\n",
       "    <tr>\n",
       "      <th>3</th>\n",
       "      <td>Sales Rep 0</td>\n",
       "      <td>Chopta Tungnath (2N/3D)</td>\n",
       "      <td>38</td>\n",
       "    </tr>\n",
       "    <tr>\n",
       "      <th>4</th>\n",
       "      <td>Sales Rep 0</td>\n",
       "      <td>Meghalaya With Kaziranga (6N/7D)</td>\n",
       "      <td>34</td>\n",
       "    </tr>\n",
       "    <tr>\n",
       "      <th>5</th>\n",
       "      <td>Sales Rep 0</td>\n",
       "      <td>Tirthan Valley (2N/3D)</td>\n",
       "      <td>27</td>\n",
       "    </tr>\n",
       "    <tr>\n",
       "      <th>6</th>\n",
       "      <td>Sales Rep 0</td>\n",
       "      <td>McLeod Bir Tirthan (4N/5D)</td>\n",
       "      <td>26</td>\n",
       "    </tr>\n",
       "    <tr>\n",
       "      <th>7</th>\n",
       "      <td>Sales Rep 0</td>\n",
       "      <td>Leh to Leh with Turtuk Tso Moriri(7N/8D)</td>\n",
       "      <td>24</td>\n",
       "    </tr>\n",
       "    <tr>\n",
       "      <th>8</th>\n",
       "      <td>Sales Rep 0</td>\n",
       "      <td>Spiti Winter (6N/7D) - Bliss in Budget</td>\n",
       "      <td>22</td>\n",
       "    </tr>\n",
       "    <tr>\n",
       "      <th>9</th>\n",
       "      <td>Sales Rep 0</td>\n",
       "      <td>Kasol Kheerganga (2N/3D)</td>\n",
       "      <td>22</td>\n",
       "    </tr>\n",
       "    <tr>\n",
       "      <th>10</th>\n",
       "      <td>Sales Rep 0</td>\n",
       "      <td>Bir Billing (1N/2D)</td>\n",
       "      <td>22</td>\n",
       "    </tr>\n",
       "    <tr>\n",
       "      <th>11</th>\n",
       "      <td>Sales Rep 0</td>\n",
       "      <td>Thailand Full Moon Trip (6N/7D)</td>\n",
       "      <td>21</td>\n",
       "    </tr>\n",
       "    <tr>\n",
       "      <th>12</th>\n",
       "      <td>Sales Rep 0</td>\n",
       "      <td>Meghalaya Backpacking (5N/6D)</td>\n",
       "      <td>20</td>\n",
       "    </tr>\n",
       "    <tr>\n",
       "      <th>13</th>\n",
       "      <td>Sales Rep 0</td>\n",
       "      <td>Kasol Kheerganga Manali (4N/5D)</td>\n",
       "      <td>20</td>\n",
       "    </tr>\n",
       "    <tr>\n",
       "      <th>14</th>\n",
       "      <td>Sales Rep 0</td>\n",
       "      <td>Manali Solang (2N/3D)</td>\n",
       "      <td>19</td>\n",
       "    </tr>\n",
       "    <tr>\n",
       "      <th>15</th>\n",
       "      <td>Sales Rep 0</td>\n",
       "      <td>Customer flights Booking</td>\n",
       "      <td>19</td>\n",
       "    </tr>\n",
       "    <tr>\n",
       "      <th>16</th>\n",
       "      <td>Sales Rep 0</td>\n",
       "      <td>Spiti Backpacking (6N/7D) - Bliss in Budget</td>\n",
       "      <td>17</td>\n",
       "    </tr>\n",
       "    <tr>\n",
       "      <th>17</th>\n",
       "      <td>Sales Rep 0</td>\n",
       "      <td>Spiti Road Trip (6N/7D)</td>\n",
       "      <td>15</td>\n",
       "    </tr>\n",
       "    <tr>\n",
       "      <th>18</th>\n",
       "      <td>Sales Rep 0</td>\n",
       "      <td>Vietnam Backpacking (7N/8D)</td>\n",
       "      <td>12</td>\n",
       "    </tr>\n",
       "  </tbody>\n",
       "</table>\n",
       "</div>"
      ],
      "text/plain": [
       "     AssignedTo                                         Trip  TripCount\n",
       "0   Sales Rep 0                                         BYOG         88\n",
       "1   Sales Rep 0      Spiti Winter (6N/7D) - Exclusive Escape         50\n",
       "2   Sales Rep 0                         BYOG - International         45\n",
       "3   Sales Rep 0                      Chopta Tungnath (2N/3D)         38\n",
       "4   Sales Rep 0             Meghalaya With Kaziranga (6N/7D)         34\n",
       "5   Sales Rep 0                       Tirthan Valley (2N/3D)         27\n",
       "6   Sales Rep 0                   McLeod Bir Tirthan (4N/5D)         26\n",
       "7   Sales Rep 0     Leh to Leh with Turtuk Tso Moriri(7N/8D)         24\n",
       "8   Sales Rep 0       Spiti Winter (6N/7D) - Bliss in Budget         22\n",
       "9   Sales Rep 0                     Kasol Kheerganga (2N/3D)         22\n",
       "10  Sales Rep 0                          Bir Billing (1N/2D)         22\n",
       "11  Sales Rep 0              Thailand Full Moon Trip (6N/7D)         21\n",
       "12  Sales Rep 0                Meghalaya Backpacking (5N/6D)         20\n",
       "13  Sales Rep 0              Kasol Kheerganga Manali (4N/5D)         20\n",
       "14  Sales Rep 0                        Manali Solang (2N/3D)         19\n",
       "15  Sales Rep 0                     Customer flights Booking         19\n",
       "16  Sales Rep 0  Spiti Backpacking (6N/7D) - Bliss in Budget         17\n",
       "17  Sales Rep 0                      Spiti Road Trip (6N/7D)         15\n",
       "18  Sales Rep 0                  Vietnam Backpacking (7N/8D)         12"
      ]
     },
     "execution_count": 39,
     "metadata": {},
     "output_type": "execute_result"
    }
   ],
   "source": [
    "query = '''\n",
    "SELECT 'Sales Rep 0' as AssignedTo, Trip, COUNT(Trip) AS TripCount \n",
    "FROM travels \n",
    "WHERE Status = 'Converted' \n",
    "    AND AssignedTo = 'Sales Person 0' \n",
    "    AND (LOWER(Trip) NOT LIKE '%reject%' AND LOWER(Trip) NOT LIKE '%cancel%')\n",
    "GROUP BY Trip \n",
    "HAVING COUNT(Trip) > 10 \n",
    "ORDER BY TripCount DESC;\n",
    "'''\n",
    "top_guy_trips = pd.read_sql(query, conn)\n",
    "top_guy_trips"
   ]
  },
  {
   "cell_type": "markdown",
   "id": "aca1efef",
   "metadata": {
    "papermill": {
     "duration": 0.04851,
     "end_time": "2024-11-18T05:37:32.251420",
     "exception": false,
     "start_time": "2024-11-18T05:37:32.202910",
     "status": "completed"
    },
    "tags": []
   },
   "source": [
    "- Sales Rep 0 is achieving the highest conversion rate by focusing on popular trips like BYOG which indicates that these trips resonate strongly with customers. \n",
    "\n",
    "- This presents an opportunity for other sales reps to replicate this success. By recognizing which trips are driving the highest conversions, other team members can tailor their efforts to promote similar packages, refine their sales pitches, or target customers who are more likely to be interested in those trips.\n",
    "\n",
    "- In essence, Sales Rep 0’s success with “BYOG” can serve as a model for the rest of the team, helping to boost overall performance by aligning with customer preferences and maximizing conversion potential."
   ]
  },
  {
   "cell_type": "markdown",
   "id": "9d1b73c0",
   "metadata": {
    "papermill": {
     "duration": 0.048925,
     "end_time": "2024-11-18T05:37:32.348901",
     "exception": false,
     "start_time": "2024-11-18T05:37:32.299976",
     "status": "completed"
    },
    "tags": []
   },
   "source": [
    "BYOG in the travel industry typically stands for \"Bring Your Own Gadget.\" This concept has gained traction, especially with the rise of remote work and the increasing reliance on technology during travel. Here are some key points about BYOG in this context:\n",
    "\n",
    "### Key Points about BYOG:\n",
    "1. **Personal Devices**: Travelers are encouraged to bring their personal devices (laptops, tablets, smartphones) to access services, communicate, or work while traveling.\n",
    "\n",
    "2. **Connectivity**: Many hotels and travel services provide enhanced connectivity options, allowing guests to utilize their gadgets seamlessly during their stay.\n",
    "\n",
    "3. **Enhanced Experiences**: BYOG can enhance the travel experience by enabling travelers to use their preferred apps and tools for navigation, communication, and entertainment.\n",
    "\n",
    "4. **Remote Work**: With the rise of remote work, BYOG supports business travelers who need to stay connected and productive while on the go.\n",
    "\n",
    "5. **Tech Integration**: Travel companies may offer integrations or services tailored to personal devices, such as mobile check-ins, app-based room controls, or personalized travel itineraries."
   ]
  },
  {
   "cell_type": "code",
   "execution_count": 40,
   "id": "9dee53f0",
   "metadata": {
    "execution": {
     "iopub.execute_input": "2024-11-18T05:37:32.454323Z",
     "iopub.status.busy": "2024-11-18T05:37:32.453214Z",
     "iopub.status.idle": "2024-11-18T05:37:32.482866Z",
     "shell.execute_reply": "2024-11-18T05:37:32.481742Z"
    },
    "papermill": {
     "duration": 0.084256,
     "end_time": "2024-11-18T05:37:32.485326",
     "exception": false,
     "start_time": "2024-11-18T05:37:32.401070",
     "status": "completed"
    },
    "tags": []
   },
   "outputs": [
    {
     "data": {
      "text/html": [
       "<div>\n",
       "<style scoped>\n",
       "    .dataframe tbody tr th:only-of-type {\n",
       "        vertical-align: middle;\n",
       "    }\n",
       "\n",
       "    .dataframe tbody tr th {\n",
       "        vertical-align: top;\n",
       "    }\n",
       "\n",
       "    .dataframe thead th {\n",
       "        text-align: right;\n",
       "    }\n",
       "</style>\n",
       "<table border=\"1\" class=\"dataframe\">\n",
       "  <thead>\n",
       "    <tr style=\"text-align: right;\">\n",
       "      <th></th>\n",
       "      <th>LeadSource</th>\n",
       "      <th>TripCount</th>\n",
       "    </tr>\n",
       "  </thead>\n",
       "  <tbody>\n",
       "    <tr>\n",
       "      <th>0</th>\n",
       "      <td>Lead Source 1</td>\n",
       "      <td>61</td>\n",
       "    </tr>\n",
       "    <tr>\n",
       "      <th>1</th>\n",
       "      <td>Lead Source 3</td>\n",
       "      <td>17</td>\n",
       "    </tr>\n",
       "    <tr>\n",
       "      <th>2</th>\n",
       "      <td>Lead Source 2</td>\n",
       "      <td>10</td>\n",
       "    </tr>\n",
       "  </tbody>\n",
       "</table>\n",
       "</div>"
      ],
      "text/plain": [
       "      LeadSource  TripCount\n",
       "0  Lead Source 1         61\n",
       "1  Lead Source 3         17\n",
       "2  Lead Source 2         10"
      ]
     },
     "execution_count": 40,
     "metadata": {},
     "output_type": "execute_result"
    }
   ],
   "source": [
    "query = '''\n",
    "SELECT LeadSource, COUNT(LeadSource) AS TripCount \n",
    "FROM travels \n",
    "WHERE Status = 'Converted' \n",
    "    AND AssignedTo = 'Sales Person 0' \n",
    "    AND Trip = 'BYOG'\n",
    "    AND (LOWER(Trip) NOT LIKE '%reject%' AND LOWER(Trip) NOT LIKE '%cancel%')\n",
    "GROUP BY LeadSource \n",
    "ORDER BY TripCount DESC;\n",
    "'''\n",
    "lead_source_df = pd.read_sql(query, conn)\n",
    "lead_source_df"
   ]
  },
  {
   "cell_type": "markdown",
   "id": "71416198",
   "metadata": {
    "papermill": {
     "duration": 0.048141,
     "end_time": "2024-11-18T05:37:32.582163",
     "exception": false,
     "start_time": "2024-11-18T05:37:32.534022",
     "status": "completed"
    },
    "tags": []
   },
   "source": [
    "- Lead Source 1 contributes the most trips (61), followed by Lead Source 3 (17) and Lead Source 2 (10), indicating that Lead Source 1 is the dominant source in driving trip conversions.\n",
    "\n",
    "- The top sales person has taken the BYOG trips the most and those trips / leads have come from the Lead Source 1."
   ]
  },
  {
   "cell_type": "markdown",
   "id": "93adb8df",
   "metadata": {
    "id": "276rhtoh-f7M",
    "papermill": {
     "duration": 0.049698,
     "end_time": "2024-11-18T05:37:32.680669",
     "exception": false,
     "start_time": "2024-11-18T05:37:32.630971",
     "status": "completed"
    },
    "tags": []
   },
   "source": [
    "**Question** - Which Sales Person Did the best and the worst (conversion rate wise) in each Lead Source??"
   ]
  },
  {
   "cell_type": "code",
   "execution_count": 41,
   "id": "6064fd66",
   "metadata": {
    "execution": {
     "iopub.execute_input": "2024-11-18T05:37:32.779504Z",
     "iopub.status.busy": "2024-11-18T05:37:32.778768Z",
     "iopub.status.idle": "2024-11-18T05:37:32.815860Z",
     "shell.execute_reply": "2024-11-18T05:37:32.814875Z"
    },
    "id": "ePZfX6xTQxM4",
    "outputId": "485e7698-d755-4394-c2be-711c1ca06c57",
    "papermill": {
     "duration": 0.088839,
     "end_time": "2024-11-18T05:37:32.818307",
     "exception": false,
     "start_time": "2024-11-18T05:37:32.729468",
     "status": "completed"
    },
    "tags": []
   },
   "outputs": [
    {
     "data": {
      "text/html": [
       "<div>\n",
       "<style scoped>\n",
       "    .dataframe tbody tr th:only-of-type {\n",
       "        vertical-align: middle;\n",
       "    }\n",
       "\n",
       "    .dataframe tbody tr th {\n",
       "        vertical-align: top;\n",
       "    }\n",
       "\n",
       "    .dataframe thead th {\n",
       "        text-align: right;\n",
       "    }\n",
       "</style>\n",
       "<table border=\"1\" class=\"dataframe\">\n",
       "  <thead>\n",
       "    <tr style=\"text-align: right;\">\n",
       "      <th></th>\n",
       "      <th>LeadSource</th>\n",
       "      <th>AssignedTo</th>\n",
       "      <th>Conversion_Rate</th>\n",
       "    </tr>\n",
       "  </thead>\n",
       "  <tbody>\n",
       "    <tr>\n",
       "      <th>0</th>\n",
       "      <td>Lead Source 1</td>\n",
       "      <td>Sales Person 0</td>\n",
       "      <td>0.474</td>\n",
       "    </tr>\n",
       "    <tr>\n",
       "      <th>1</th>\n",
       "      <td>Lead Source 2</td>\n",
       "      <td>Sales Person 0</td>\n",
       "      <td>0.061</td>\n",
       "    </tr>\n",
       "    <tr>\n",
       "      <th>2</th>\n",
       "      <td>Lead Source 3</td>\n",
       "      <td>Sales Person 0</td>\n",
       "      <td>0.219</td>\n",
       "    </tr>\n",
       "  </tbody>\n",
       "</table>\n",
       "</div>"
      ],
      "text/plain": [
       "      LeadSource      AssignedTo  Conversion_Rate\n",
       "0  Lead Source 1  Sales Person 0            0.474\n",
       "1  Lead Source 2  Sales Person 0            0.061\n",
       "2  Lead Source 3  Sales Person 0            0.219"
      ]
     },
     "execution_count": 41,
     "metadata": {},
     "output_type": "execute_result"
    }
   ],
   "source": [
    "query = '''\n",
    "with cte as (\n",
    "        select LeadSource, AssignedTo, \n",
    "                round(count(AssignedTo)*1.0/(select count(*) from travels)*100,3) as Conversion_Rate\n",
    "        from travels where Status = 'Converted'\n",
    "        group by 1,2),\n",
    "rn_cte as (select *, row_number() over(partition by LeadSource \n",
    "            order by Conversion_Rate desc) as row_num \n",
    "            from cte)\n",
    "\n",
    "select LeadSource, AssignedTo, Conversion_Rate from rn_cte where row_num = 1\n",
    "'''\n",
    "lead_assigned_to = pd.read_sql(query, conn)\n",
    "lead_assigned_to"
   ]
  },
  {
   "cell_type": "markdown",
   "id": "bc6727f1",
   "metadata": {
    "id": "HTLlsbL6SY8N",
    "papermill": {
     "duration": 0.049102,
     "end_time": "2024-11-18T05:37:32.917396",
     "exception": false,
     "start_time": "2024-11-18T05:37:32.868294",
     "status": "completed"
    },
    "tags": []
   },
   "source": [
    "**Insight** \n",
    "\n",
    "- Sales Person 0's highest conversion rate is from Lead Source 1 (0.474%), followed by Lead Source 3 (0.219%) and Lead Source 2 (0.061%). This suggests that Sales Person 0 is more successful at converting leads from Lead Source 1 and should focus on improving conversion strategies for the other sources, particularly Lead Source 2."
   ]
  },
  {
   "cell_type": "code",
   "execution_count": 42,
   "id": "c9e2c0cd",
   "metadata": {
    "execution": {
     "iopub.execute_input": "2024-11-18T05:37:33.015540Z",
     "iopub.status.busy": "2024-11-18T05:37:33.015165Z",
     "iopub.status.idle": "2024-11-18T05:37:33.052745Z",
     "shell.execute_reply": "2024-11-18T05:37:33.051761Z"
    },
    "id": "FbijmPjHS87k",
    "outputId": "070c9b83-e766-47ed-9437-e6bdb1c6fac4",
    "papermill": {
     "duration": 0.089016,
     "end_time": "2024-11-18T05:37:33.055209",
     "exception": false,
     "start_time": "2024-11-18T05:37:32.966193",
     "status": "completed"
    },
    "tags": []
   },
   "outputs": [
    {
     "data": {
      "text/html": [
       "<div>\n",
       "<style scoped>\n",
       "    .dataframe tbody tr th:only-of-type {\n",
       "        vertical-align: middle;\n",
       "    }\n",
       "\n",
       "    .dataframe tbody tr th {\n",
       "        vertical-align: top;\n",
       "    }\n",
       "\n",
       "    .dataframe thead th {\n",
       "        text-align: right;\n",
       "    }\n",
       "</style>\n",
       "<table border=\"1\" class=\"dataframe\">\n",
       "  <thead>\n",
       "    <tr style=\"text-align: right;\">\n",
       "      <th></th>\n",
       "      <th>LeadSource</th>\n",
       "      <th>AssignedTo</th>\n",
       "      <th>Conversion_Rate</th>\n",
       "    </tr>\n",
       "  </thead>\n",
       "  <tbody>\n",
       "    <tr>\n",
       "      <th>0</th>\n",
       "      <td>Lead Source 1</td>\n",
       "      <td>Sales Person 49</td>\n",
       "      <td>0.001</td>\n",
       "    </tr>\n",
       "    <tr>\n",
       "      <th>1</th>\n",
       "      <td>Lead Source 2</td>\n",
       "      <td>Sales Person 12</td>\n",
       "      <td>0.001</td>\n",
       "    </tr>\n",
       "    <tr>\n",
       "      <th>2</th>\n",
       "      <td>Lead Source 3</td>\n",
       "      <td>Sales Person 12</td>\n",
       "      <td>0.001</td>\n",
       "    </tr>\n",
       "  </tbody>\n",
       "</table>\n",
       "</div>"
      ],
      "text/plain": [
       "      LeadSource       AssignedTo  Conversion_Rate\n",
       "0  Lead Source 1  Sales Person 49            0.001\n",
       "1  Lead Source 2  Sales Person 12            0.001\n",
       "2  Lead Source 3  Sales Person 12            0.001"
      ]
     },
     "execution_count": 42,
     "metadata": {},
     "output_type": "execute_result"
    }
   ],
   "source": [
    "query = '''\n",
    "with cte as (\n",
    "        select LeadSource, AssignedTo, round(count(AssignedTo)*1.0/(select count(*) from travels)*100,3) as Conversion_Rate\n",
    "        from travels where Status = 'Converted'\n",
    "        group by 1,2),\n",
    "rn_cte as (select *, row_number() over(partition by LeadSource \n",
    "            order by Conversion_Rate asc) as row_num from cte)\n",
    "\n",
    "select LeadSource, AssignedTo, Conversion_Rate from rn_cte where row_num = 1\n",
    "'''\n",
    "lead_assigned_to_bottom = pd.read_sql(query, conn)\n",
    "lead_assigned_to_bottom"
   ]
  },
  {
   "cell_type": "markdown",
   "id": "741631cf",
   "metadata": {
    "id": "ta_lPehGT19c",
    "papermill": {
     "duration": 0.049536,
     "end_time": "2024-11-18T05:37:33.152649",
     "exception": false,
     "start_time": "2024-11-18T05:37:33.103113",
     "status": "completed"
    },
    "tags": []
   },
   "source": [
    "**Insight** -  \n",
    "\n",
    "- Sales Person 49 has the least conversion rate in Lead Source 1.\n",
    "- Sales Person 12 has the least conversion rate in Lead Source 2 and 3."
   ]
  },
  {
   "cell_type": "markdown",
   "id": "6aa9d4cf",
   "metadata": {
    "id": "WBHP7jHshjX_",
    "papermill": {
     "duration": 0.04794,
     "end_time": "2024-11-18T05:37:33.249348",
     "exception": false,
     "start_time": "2024-11-18T05:37:33.201408",
     "status": "completed"
    },
    "tags": []
   },
   "source": [
    "\n",
    "10. **What is the average conversion time (time from lead date to conversion date)?**"
   ]
  },
  {
   "cell_type": "code",
   "execution_count": 43,
   "id": "0e144e85",
   "metadata": {
    "execution": {
     "iopub.execute_input": "2024-11-18T05:37:33.346984Z",
     "iopub.status.busy": "2024-11-18T05:37:33.346541Z",
     "iopub.status.idle": "2024-11-18T05:37:33.398420Z",
     "shell.execute_reply": "2024-11-18T05:37:33.397472Z"
    },
    "id": "x7ufVHYCf2UN",
    "outputId": "fb1698c9-ebc9-4d2c-d9c7-f81b727b5e38",
    "papermill": {
     "duration": 0.103183,
     "end_time": "2024-11-18T05:37:33.400924",
     "exception": false,
     "start_time": "2024-11-18T05:37:33.297741",
     "status": "completed"
    },
    "tags": []
   },
   "outputs": [
    {
     "name": "stdout",
     "output_type": "stream",
     "text": [
      "It takes an avg of 10 days to convert a lead\n"
     ]
    }
   ],
   "source": [
    "cols = list(df.columns[df.columns.str.contains('Date')])\n",
    "for i in cols:\n",
    "    df[i] = pd.to_datetime(df[i])\n",
    "conv_days = (df['ConversionDate'] -  df['LeadDate']).mean().days\n",
    "print(f'It takes an avg of {conv_days} days to convert a lead')"
   ]
  },
  {
   "cell_type": "markdown",
   "id": "360d1294",
   "metadata": {
    "papermill": {
     "duration": 0.047604,
     "end_time": "2024-11-18T05:37:33.495802",
     "exception": false,
     "start_time": "2024-11-18T05:37:33.448198",
     "status": "completed"
    },
    "tags": []
   },
   "source": [
    "Given that it takes an average of 10 days to convert a lead, focusing on improving the lead conversion process can help reduce this time frame. With higher conversion rates for certain lead sources, a targeted strategy could improve efficiency, particularly for Lead Sources 2 and 3. Streamlining communication, speeding up responses, and providing quick follow-ups could also help reduce the conversion time. Additionally, focusing on nurturing leads more effectively could accelerate conversions for all sources."
   ]
  },
  {
   "cell_type": "markdown",
   "id": "4c93219a",
   "metadata": {
    "id": "VpnmEZtghgLe",
    "papermill": {
     "duration": 0.048537,
     "end_time": "2024-11-18T05:37:33.593053",
     "exception": false,
     "start_time": "2024-11-18T05:37:33.544516",
     "status": "completed"
    },
    "tags": []
   },
   "source": [
    "11. **What is the average cost per person and total bill for converted leads?**"
   ]
  },
  {
   "cell_type": "code",
   "execution_count": 44,
   "id": "ffa80701",
   "metadata": {
    "execution": {
     "iopub.execute_input": "2024-11-18T05:37:33.692902Z",
     "iopub.status.busy": "2024-11-18T05:37:33.692481Z",
     "iopub.status.idle": "2024-11-18T05:37:33.729947Z",
     "shell.execute_reply": "2024-11-18T05:37:33.729076Z"
    },
    "id": "XulVHDYifjHG",
    "outputId": "683627a3-4fd6-441c-c53b-e28f9a39eae8",
    "papermill": {
     "duration": 0.090239,
     "end_time": "2024-11-18T05:37:33.732378",
     "exception": false,
     "start_time": "2024-11-18T05:37:33.642139",
     "status": "completed"
    },
    "tags": []
   },
   "outputs": [
    {
     "data": {
      "text/html": [
       "<div>\n",
       "<style scoped>\n",
       "    .dataframe tbody tr th:only-of-type {\n",
       "        vertical-align: middle;\n",
       "    }\n",
       "\n",
       "    .dataframe tbody tr th {\n",
       "        vertical-align: top;\n",
       "    }\n",
       "\n",
       "    .dataframe thead th {\n",
       "        text-align: right;\n",
       "    }\n",
       "</style>\n",
       "<table border=\"1\" class=\"dataframe\">\n",
       "  <thead>\n",
       "    <tr style=\"text-align: right;\">\n",
       "      <th></th>\n",
       "      <th>Avg_PerPersonCost</th>\n",
       "      <th>Avg_TotalBill</th>\n",
       "    </tr>\n",
       "  </thead>\n",
       "  <tbody>\n",
       "    <tr>\n",
       "      <th>0</th>\n",
       "      <td>2747.94</td>\n",
       "      <td>5778.49</td>\n",
       "    </tr>\n",
       "  </tbody>\n",
       "</table>\n",
       "</div>"
      ],
      "text/plain": [
       "   Avg_PerPersonCost  Avg_TotalBill\n",
       "0            2747.94        5778.49"
      ]
     },
     "execution_count": 44,
     "metadata": {},
     "output_type": "execute_result"
    }
   ],
   "source": [
    "query = '''\n",
    "select round(avg(PerPersonCost),2) as Avg_PerPersonCost,\n",
    "      round(avg(TotalBill),2) as Avg_TotalBill\n",
    "from travels\n",
    "\n",
    "'''\n",
    "cost_bill = pd.read_sql(query, conn)\n",
    "cost_bill"
   ]
  },
  {
   "cell_type": "markdown",
   "id": "e2c53a7e",
   "metadata": {
    "id": "8Pb9L87fjiFs",
    "papermill": {
     "duration": 0.048623,
     "end_time": "2024-11-18T05:37:33.829373",
     "exception": false,
     "start_time": "2024-11-18T05:37:33.780750",
     "status": "completed"
    },
    "tags": []
   },
   "source": [
    "12. **Which EnquiryDestination has the highest average total Bill?**"
   ]
  },
  {
   "cell_type": "code",
   "execution_count": 45,
   "id": "fc520571",
   "metadata": {
    "execution": {
     "iopub.execute_input": "2024-11-18T05:37:33.928455Z",
     "iopub.status.busy": "2024-11-18T05:37:33.927544Z",
     "iopub.status.idle": "2024-11-18T05:37:34.027891Z",
     "shell.execute_reply": "2024-11-18T05:37:34.026748Z"
    },
    "id": "duUKb9lUhqdK",
    "outputId": "a96832ed-b163-4b43-ff80-d6cc1153a29c",
    "papermill": {
     "duration": 0.151368,
     "end_time": "2024-11-18T05:37:34.030315",
     "exception": false,
     "start_time": "2024-11-18T05:37:33.878947",
     "status": "completed"
    },
    "tags": []
   },
   "outputs": [
    {
     "data": {
      "text/html": [
       "<div>\n",
       "<style scoped>\n",
       "    .dataframe tbody tr th:only-of-type {\n",
       "        vertical-align: middle;\n",
       "    }\n",
       "\n",
       "    .dataframe tbody tr th {\n",
       "        vertical-align: top;\n",
       "    }\n",
       "\n",
       "    .dataframe thead th {\n",
       "        text-align: right;\n",
       "    }\n",
       "</style>\n",
       "<table border=\"1\" class=\"dataframe\">\n",
       "  <thead>\n",
       "    <tr style=\"text-align: right;\">\n",
       "      <th></th>\n",
       "      <th>EnquiryDestination</th>\n",
       "      <th>AvgPerPersonCost</th>\n",
       "      <th>AvgTotalBill</th>\n",
       "    </tr>\n",
       "  </thead>\n",
       "  <tbody>\n",
       "    <tr>\n",
       "      <th>0</th>\n",
       "      <td>Ladakh - Manali to Manali</td>\n",
       "      <td>3024.0</td>\n",
       "      <td>24192.0</td>\n",
       "    </tr>\n",
       "  </tbody>\n",
       "</table>\n",
       "</div>"
      ],
      "text/plain": [
       "          EnquiryDestination  AvgPerPersonCost  AvgTotalBill\n",
       "0  Ladakh - Manali to Manali            3024.0       24192.0"
      ]
     },
     "execution_count": 45,
     "metadata": {},
     "output_type": "execute_result"
    }
   ],
   "source": [
    "query = '''\n",
    "select EnquiryDestination, round(avg(PerPersonCost),2) as AvgPerPersonCost,\n",
    "      round(avg(TotalBill),2) as AvgTotalBill\n",
    "from travels where EnquiryDestination is not null\n",
    "group by 1\n",
    "having round(avg(PerPersonCost),2) > 0\n",
    "order by 3 desc limit 1\n",
    "\n",
    "'''\n",
    "EnquiryDestination = pd.read_sql(query, conn)\n",
    "EnquiryDestination"
   ]
  },
  {
   "cell_type": "markdown",
   "id": "00ae5dc4",
   "metadata": {
    "id": "76Nn5xWrj0in",
    "papermill": {
     "duration": 0.049287,
     "end_time": "2024-11-18T05:37:34.129806",
     "exception": false,
     "start_time": "2024-11-18T05:37:34.080519",
     "status": "completed"
    },
    "tags": []
   },
   "source": [
    "13. Which EnquiryDestination has the highest average per person cost?"
   ]
  },
  {
   "cell_type": "code",
   "execution_count": 46,
   "id": "2eeb4f63",
   "metadata": {
    "execution": {
     "iopub.execute_input": "2024-11-18T05:37:34.230100Z",
     "iopub.status.busy": "2024-11-18T05:37:34.229118Z",
     "iopub.status.idle": "2024-11-18T05:37:34.329367Z",
     "shell.execute_reply": "2024-11-18T05:37:34.328298Z"
    },
    "id": "KEAeel4kjvU5",
    "outputId": "3faf8baa-e544-4fe5-e8e4-dcfefc1dfba6",
    "papermill": {
     "duration": 0.15258,
     "end_time": "2024-11-18T05:37:34.332005",
     "exception": false,
     "start_time": "2024-11-18T05:37:34.179425",
     "status": "completed"
    },
    "tags": []
   },
   "outputs": [
    {
     "data": {
      "text/html": [
       "<div>\n",
       "<style scoped>\n",
       "    .dataframe tbody tr th:only-of-type {\n",
       "        vertical-align: middle;\n",
       "    }\n",
       "\n",
       "    .dataframe tbody tr th {\n",
       "        vertical-align: top;\n",
       "    }\n",
       "\n",
       "    .dataframe thead th {\n",
       "        text-align: right;\n",
       "    }\n",
       "</style>\n",
       "<table border=\"1\" class=\"dataframe\">\n",
       "  <thead>\n",
       "    <tr style=\"text-align: right;\">\n",
       "      <th></th>\n",
       "      <th>EnquiryDestination</th>\n",
       "      <th>AvgPerPersonCost</th>\n",
       "      <th>AvgTotalBill</th>\n",
       "    </tr>\n",
       "  </thead>\n",
       "  <tbody>\n",
       "    <tr>\n",
       "      <th>0</th>\n",
       "      <td>Europe BYOG</td>\n",
       "      <td>10075.56</td>\n",
       "      <td>15069.44</td>\n",
       "    </tr>\n",
       "  </tbody>\n",
       "</table>\n",
       "</div>"
      ],
      "text/plain": [
       "  EnquiryDestination  AvgPerPersonCost  AvgTotalBill\n",
       "0        Europe BYOG          10075.56      15069.44"
      ]
     },
     "execution_count": 46,
     "metadata": {},
     "output_type": "execute_result"
    }
   ],
   "source": [
    "query = '''\n",
    "select EnquiryDestination, round(avg(PerPersonCost),2) as AvgPerPersonCost,\n",
    "        round(avg(TotalBill),2) as AvgTotalBill\n",
    "from travels where EnquiryDestination is not null\n",
    "group by 1 having round(avg(PerPersonCost),2) > 0\n",
    "order by 2 desc limit 1\n",
    "\n",
    "'''\n",
    "EnquiryDestination_avgCost = pd.read_sql(query, conn)\n",
    "EnquiryDestination_avgCost"
   ]
  },
  {
   "cell_type": "markdown",
   "id": "a2231757",
   "metadata": {
    "id": "Svyfu7gTkvvm",
    "papermill": {
     "duration": 0.049053,
     "end_time": "2024-11-18T05:37:34.430348",
     "exception": false,
     "start_time": "2024-11-18T05:37:34.381295",
     "status": "completed"
    },
    "tags": []
   },
   "source": [
    "## Specific Insights and Anomalies\n",
    "13. **Are there any notable trends in trip dates? (e.g., seasonality)**"
   ]
  },
  {
   "cell_type": "code",
   "execution_count": 47,
   "id": "83f51f84",
   "metadata": {
    "execution": {
     "iopub.execute_input": "2024-11-18T05:37:34.531582Z",
     "iopub.status.busy": "2024-11-18T05:37:34.530530Z",
     "iopub.status.idle": "2024-11-18T05:37:35.017842Z",
     "shell.execute_reply": "2024-11-18T05:37:35.016805Z"
    },
    "id": "6-IB0jD0j9-T",
    "outputId": "2a53cd79-8220-458c-8e83-5422d0cad4fb",
    "papermill": {
     "duration": 0.541521,
     "end_time": "2024-11-18T05:37:35.020477",
     "exception": false,
     "start_time": "2024-11-18T05:37:34.478956",
     "status": "completed"
    },
    "tags": []
   },
   "outputs": [
    {
     "data": {
      "image/png": "[encoded data removed]",
      "text/plain": [
       "<Figure size 2500x600 with 1 Axes>"
      ]
     },
     "metadata": {},
     "output_type": "display_data"
    }
   ],
   "source": [
    "query = '''\n",
    "WITH cte AS (\n",
    "    SELECT strftime(\"%Y-%m\", TripDate) AS TripDate, \n",
    "           COUNT(TripDate) AS Trips \n",
    "    FROM Travels \n",
    "    WHERE TripDate IS NOT NULL \n",
    "    GROUP BY 1 \n",
    "    ORDER BY 1\n",
    ")\n",
    "SELECT *, \n",
    "       ROUND(SUM(Trips) OVER() * 1.0 / (SELECT COUNT(Trips) FROM cte), 0) AS Average \n",
    "FROM cte\n",
    "'''\n",
    "monthly_trips = pd.read_sql(query, conn)\n",
    "# Convert TripDate to datetime\n",
    "monthly_trips['TripDate'] = pd.to_datetime(monthly_trips['TripDate']).dt.date\n",
    "# Calculate the rolling average\n",
    "monthly_trips['RollingAverage'] = monthly_trips['Trips'].rolling(3).mean()\n",
    "# Plotting\n",
    "plt.plot(monthly_trips['TripDate'], monthly_trips['Trips'], label='Total Count', marker='o', color='#384B70')\n",
    "plt.plot(monthly_trips['TripDate'], monthly_trips['RollingAverage'], label='3 Month Rolling Avge', marker='x', color='#FF885B')\n",
    "plt.axhline(y=monthly_trips['RollingAverage'].mean(), linestyle='dashed', color='#000000', label='Avg Count Per Month')\n",
    "plt.xticks(rotation=0)\n",
    "plt.ylabel('Count')\n",
    "plt.xlabel('Month')\n",
    "plt.title('Trip Count Month Wise')\n",
    "plt.legend()\n",
    "plt.show()"
   ]
  },
  {
   "cell_type": "markdown",
   "id": "8d07dc04",
   "metadata": {
    "papermill": {
     "duration": 0.04975,
     "end_time": "2024-11-18T05:37:35.120382",
     "exception": false,
     "start_time": "2024-11-18T05:37:35.070632",
     "status": "completed"
    },
    "tags": []
   },
   "source": [
    "The data indicates significant fluctuations, with the peak Trips count in October 2023 (733), followed by a slight decline in the following months (with an average of 249 Trips per month). The rolling average, which smooths out these fluctuations, gradually increased from 138 trips in August 2023 to 696 in November 2023. The trend reveals seasonal variations, with dips in certain months (such as February 2024) and increases towards the end of the year. This suggests a cyclical pattern in visitor numbers."
   ]
  },
  {
   "cell_type": "markdown",
   "id": "ce965bc2",
   "metadata": {
    "id": "gfA63rkqkyoh",
    "papermill": {
     "duration": 0.051008,
     "end_time": "2024-11-18T05:37:35.222310",
     "exception": false,
     "start_time": "2024-11-18T05:37:35.171302",
     "status": "completed"
    },
    "tags": []
   },
   "source": [
    "14. **Do ex-clients tend to have higher or lower conversion rates and average bill amounts compared to new clients?**"
   ]
  },
  {
   "cell_type": "code",
   "execution_count": 48,
   "id": "b6057a54",
   "metadata": {
    "execution": {
     "iopub.execute_input": "2024-11-18T05:37:35.324621Z",
     "iopub.status.busy": "2024-11-18T05:37:35.323571Z",
     "iopub.status.idle": "2024-11-18T05:37:35.423001Z",
     "shell.execute_reply": "2024-11-18T05:37:35.422034Z"
    },
    "id": "8v_Yt5ptk5mc",
    "outputId": "01f8820f-eea0-4392-d9f7-60c8d7bb1efa",
    "papermill": {
     "duration": 0.152959,
     "end_time": "2024-11-18T05:37:35.425288",
     "exception": false,
     "start_time": "2024-11-18T05:37:35.272329",
     "status": "completed"
    },
    "tags": []
   },
   "outputs": [
    {
     "data": {
      "text/html": [
       "<div>\n",
       "<style scoped>\n",
       "    .dataframe tbody tr th:only-of-type {\n",
       "        vertical-align: middle;\n",
       "    }\n",
       "\n",
       "    .dataframe tbody tr th {\n",
       "        vertical-align: top;\n",
       "    }\n",
       "\n",
       "    .dataframe thead th {\n",
       "        text-align: right;\n",
       "    }\n",
       "</style>\n",
       "<table border=\"1\" class=\"dataframe\">\n",
       "  <thead>\n",
       "    <tr style=\"text-align: right;\">\n",
       "      <th></th>\n",
       "      <th>ExClient</th>\n",
       "      <th>ExClient_ConvPct</th>\n",
       "      <th>NewClient_ConvPct</th>\n",
       "    </tr>\n",
       "  </thead>\n",
       "  <tbody>\n",
       "    <tr>\n",
       "      <th>0</th>\n",
       "      <td>No</td>\n",
       "      <td>0.000</td>\n",
       "      <td>2.988</td>\n",
       "    </tr>\n",
       "    <tr>\n",
       "      <th>1</th>\n",
       "      <td>Yes</td>\n",
       "      <td>15.819</td>\n",
       "      <td>0.000</td>\n",
       "    </tr>\n",
       "  </tbody>\n",
       "</table>\n",
       "</div>"
      ],
      "text/plain": [
       "  ExClient  ExClient_ConvPct  NewClient_ConvPct\n",
       "0       No             0.000              2.988\n",
       "1      Yes            15.819              0.000"
      ]
     },
     "execution_count": 48,
     "metadata": {},
     "output_type": "execute_result"
    }
   ],
   "source": [
    "query = '''\n",
    "select ExClient, \n",
    "    round(sum(case when ExClient = 'Yes' and Status = 'Converted' then 1 else 0 end)*1.0/count(*)*100,3) as ExClient_ConvPct,\n",
    "    round(sum(case when ExClient is null and Status = 'Converted' then 1 else 0 end)*1.0/count(*)*100,3) as NewClient_ConvPct\n",
    "    from travels\n",
    "  group by ExClient\n",
    "\n",
    "'''\n",
    "temp = pd.read_sql(query, conn)\n",
    "temp['ExClient'][0] ='No'\n",
    "temp"
   ]
  },
  {
   "cell_type": "markdown",
   "id": "82375992",
   "metadata": {
    "id": "IL6VNtbX0xWB",
    "papermill": {
     "duration": 0.051008,
     "end_time": "2024-11-18T05:37:35.577720",
     "exception": false,
     "start_time": "2024-11-18T05:37:35.526712",
     "status": "completed"
    },
    "tags": []
   },
   "source": [
    "**Insight**\n",
    "\n",
    "- We have more conversion rate from ExClient as opposed to New Client. \n",
    "- 15% Conversion Rate is from ExClient however we have only 2% Conversion Rate from old Client which means we are not doing a good job in attracting new clients and converting them.\n"
   ]
  },
  {
   "cell_type": "markdown",
   "id": "5f4aacb9",
   "metadata": {
    "id": "tk85azF7k1H4",
    "papermill": {
     "duration": 0.051112,
     "end_time": "2024-11-18T05:37:35.679079",
     "exception": false,
     "start_time": "2024-11-18T05:37:35.627967",
     "status": "completed"
    },
    "tags": []
   },
   "source": [
    "15. **Are there any anomalies or outliers in the data? (e.g., extremely high or low costs, unusually long or short conversion times)**"
   ]
  },
  {
   "cell_type": "code",
   "execution_count": 49,
   "id": "92cb93e0",
   "metadata": {
    "execution": {
     "iopub.execute_input": "2024-11-18T05:37:35.780426Z",
     "iopub.status.busy": "2024-11-18T05:37:35.779609Z",
     "iopub.status.idle": "2024-11-18T05:37:35.786143Z",
     "shell.execute_reply": "2024-11-18T05:37:35.785111Z"
    },
    "id": "HGB4GwfHp7K9",
    "papermill": {
     "duration": 0.05996,
     "end_time": "2024-11-18T05:37:35.788344",
     "exception": false,
     "start_time": "2024-11-18T05:37:35.728384",
     "status": "completed"
    },
    "tags": []
   },
   "outputs": [],
   "source": [
    "def get_outliers(df, col):\n",
    "    q1, q2, q3 = list(df[col].quantile([0.25, 0.5, 0.75]).values)\n",
    "    iqr = q3 - q1\n",
    "    upperbound= q3 + 1.5 * iqr\n",
    "    lowerbound = q1 - 1.5 * iqr\n",
    "    outliers = df[(df[col]>upperbound) |  (df[col]<lowerbound)]\n",
    "    return outliers"
   ]
  },
  {
   "cell_type": "code",
   "execution_count": 50,
   "id": "80b26c29",
   "metadata": {
    "execution": {
     "iopub.execute_input": "2024-11-18T05:37:35.890555Z",
     "iopub.status.busy": "2024-11-18T05:37:35.889833Z",
     "iopub.status.idle": "2024-11-18T05:37:35.917604Z",
     "shell.execute_reply": "2024-11-18T05:37:35.916607Z"
    },
    "id": "aFXJXdPboKZ1",
    "outputId": "7a776d8f-2d81-4726-90e2-7ba17e0a66a5",
    "papermill": {
     "duration": 0.082496,
     "end_time": "2024-11-18T05:37:35.920150",
     "exception": false,
     "start_time": "2024-11-18T05:37:35.837654",
     "status": "completed"
    },
    "tags": []
   },
   "outputs": [
    {
     "data": {
      "text/html": [
       "<div>\n",
       "<style scoped>\n",
       "    .dataframe tbody tr th:only-of-type {\n",
       "        vertical-align: middle;\n",
       "    }\n",
       "\n",
       "    .dataframe tbody tr th {\n",
       "        vertical-align: top;\n",
       "    }\n",
       "\n",
       "    .dataframe thead th {\n",
       "        text-align: right;\n",
       "    }\n",
       "</style>\n",
       "<table border=\"1\" class=\"dataframe\">\n",
       "  <thead>\n",
       "    <tr style=\"text-align: right;\">\n",
       "      <th></th>\n",
       "      <th>LeadDate</th>\n",
       "      <th>LeadSource</th>\n",
       "      <th>Name</th>\n",
       "      <th>Phone</th>\n",
       "      <th>AssignedTo</th>\n",
       "      <th>EnquiryDestination</th>\n",
       "      <th>ExClient</th>\n",
       "      <th>Status</th>\n",
       "      <th>ConversionDate</th>\n",
       "      <th>Trip</th>\n",
       "      <th>TripDate</th>\n",
       "      <th>BookingID</th>\n",
       "      <th>Pax</th>\n",
       "      <th>PerPersonCost</th>\n",
       "      <th>TotalBill</th>\n",
       "      <th>ConvertedBy</th>\n",
       "      <th>Date</th>\n",
       "      <th>Month</th>\n",
       "      <th>TripYear</th>\n",
       "      <th>LeadYear</th>\n",
       "    </tr>\n",
       "  </thead>\n",
       "  <tbody>\n",
       "    <tr>\n",
       "      <th>0</th>\n",
       "      <td>2023-07-17 00:22:00</td>\n",
       "      <td>Lead Source 1</td>\n",
       "      <td>Tr</td>\n",
       "      <td>)&amp;$**&amp;)^)^</td>\n",
       "      <td>Sales Person 27</td>\n",
       "      <td>NaN</td>\n",
       "      <td>NaN</td>\n",
       "      <td>Converted</td>\n",
       "      <td>2023-07-25 18:01:52</td>\n",
       "      <td>BYOG</td>\n",
       "      <td>2023-06-17</td>\n",
       "      <td>WON)^!&amp;#)</td>\n",
       "      <td>2.0</td>\n",
       "      <td>5560.0</td>\n",
       "      <td>11120.0</td>\n",
       "      <td>Sales Person 27</td>\n",
       "      <td>2023-07-17</td>\n",
       "      <td>Jul</td>\n",
       "      <td>2023.0</td>\n",
       "      <td>2023</td>\n",
       "    </tr>\n",
       "    <tr>\n",
       "      <th>1</th>\n",
       "      <td>2023-07-17 03:39:00</td>\n",
       "      <td>Lead Source 3</td>\n",
       "      <td>fm{mOfHns n</td>\n",
       "      <td>(&amp;@**)##^!</td>\n",
       "      <td>Sales Person 11</td>\n",
       "      <td>Kerala BYOG</td>\n",
       "      <td>Yes</td>\n",
       "      <td>Converted</td>\n",
       "      <td>2023-07-31 20:53:36</td>\n",
       "      <td>Bali Backpacking (6N/7D) - Ex-Delhi</td>\n",
       "      <td>2023-09-05</td>\n",
       "      <td>WOI))(*^%</td>\n",
       "      <td>1.0</td>\n",
       "      <td>7056.0</td>\n",
       "      <td>7056.0</td>\n",
       "      <td>Sales Person 22</td>\n",
       "      <td>2023-07-17</td>\n",
       "      <td>Jul</td>\n",
       "      <td>2023.0</td>\n",
       "      <td>2023</td>\n",
       "    </tr>\n",
       "    <tr>\n",
       "      <th>2</th>\n",
       "      <td>2023-07-18 04:59:00</td>\n",
       "      <td>Lead Source 3</td>\n",
       "      <td>Snnmi</td>\n",
       "      <td>(@@@#(&amp;%$)</td>\n",
       "      <td>Sales Person 0</td>\n",
       "      <td>Spiti Valley</td>\n",
       "      <td>NaN</td>\n",
       "      <td>Converted</td>\n",
       "      <td>2023-08-18 19:33:15</td>\n",
       "      <td>BYOG - International</td>\n",
       "      <td>2023-11-28</td>\n",
       "      <td>WOI))(@$@</td>\n",
       "      <td>1.0</td>\n",
       "      <td>13684.0</td>\n",
       "      <td>13684.0</td>\n",
       "      <td>Sales Person 41</td>\n",
       "      <td>2023-07-18</td>\n",
       "      <td>Jul</td>\n",
       "      <td>2023.0</td>\n",
       "      <td>2023</td>\n",
       "    </tr>\n",
       "    <tr>\n",
       "      <th>3</th>\n",
       "      <td>2023-07-19 15:18:00</td>\n",
       "      <td>Lead Source 1</td>\n",
       "      <td>Fznfnyqs {mXs</td>\n",
       "      <td>)(*$(((**(</td>\n",
       "      <td>Sales Person 8</td>\n",
       "      <td>NaN</td>\n",
       "      <td>NaN</td>\n",
       "      <td>Converted</td>\n",
       "      <td>2023-07-31 22:33:48</td>\n",
       "      <td>Vietnam Backpacking (7N/8D)</td>\n",
       "      <td>2023-09-04</td>\n",
       "      <td>WOI))(*^#</td>\n",
       "      <td>1.0</td>\n",
       "      <td>7447.0</td>\n",
       "      <td>7447.0</td>\n",
       "      <td>Sales Person 8</td>\n",
       "      <td>2023-07-19</td>\n",
       "      <td>Jul</td>\n",
       "      <td>2023.0</td>\n",
       "      <td>2023</td>\n",
       "    </tr>\n",
       "    <tr>\n",
       "      <th>4</th>\n",
       "      <td>2023-07-19 16:28:00</td>\n",
       "      <td>Lead Source 1</td>\n",
       "      <td>fmnjmplygFx uz</td>\n",
       "      <td>(#(&amp;^%@)*#</td>\n",
       "      <td>Sales Person 17</td>\n",
       "      <td>NaN</td>\n",
       "      <td>NaN</td>\n",
       "      <td>Converted</td>\n",
       "      <td>2023-07-23 13:48:29</td>\n",
       "      <td>Bali Backpacking (6N/7D) - Ex-Mumbai</td>\n",
       "      <td>2023-09-05</td>\n",
       "      <td>WOI))($#%</td>\n",
       "      <td>1.0</td>\n",
       "      <td>6968.0</td>\n",
       "      <td>6968.0</td>\n",
       "      <td>Sales Person 17</td>\n",
       "      <td>2023-07-19</td>\n",
       "      <td>Jul</td>\n",
       "      <td>2023.0</td>\n",
       "      <td>2023</td>\n",
       "    </tr>\n",
       "  </tbody>\n",
       "</table>\n",
       "</div>"
      ],
      "text/plain": [
       "             LeadDate     LeadSource            Name       Phone  \\\n",
       "0 2023-07-17 00:22:00  Lead Source 1              Tr  )&$**&)^)^   \n",
       "1 2023-07-17 03:39:00  Lead Source 3     fm{mOfHns n  (&@**)##^!   \n",
       "2 2023-07-18 04:59:00  Lead Source 3           Snnmi  (@@@#(&%$)   \n",
       "3 2023-07-19 15:18:00  Lead Source 1   Fznfnyqs {mXs  )(*$(((**(   \n",
       "4 2023-07-19 16:28:00  Lead Source 1  fmnjmplygFx uz  (#(&^%@)*#   \n",
       "\n",
       "        AssignedTo EnquiryDestination ExClient     Status      ConversionDate  \\\n",
       "0  Sales Person 27                NaN      NaN  Converted 2023-07-25 18:01:52   \n",
       "1  Sales Person 11        Kerala BYOG      Yes  Converted 2023-07-31 20:53:36   \n",
       "2   Sales Person 0       Spiti Valley      NaN  Converted 2023-08-18 19:33:15   \n",
       "3   Sales Person 8                NaN      NaN  Converted 2023-07-31 22:33:48   \n",
       "4  Sales Person 17                NaN      NaN  Converted 2023-07-23 13:48:29   \n",
       "\n",
       "                                   Trip   TripDate  BookingID  Pax  \\\n",
       "0                                  BYOG 2023-06-17  WON)^!&#)  2.0   \n",
       "1   Bali Backpacking (6N/7D) - Ex-Delhi 2023-09-05  WOI))(*^%  1.0   \n",
       "2                  BYOG - International 2023-11-28  WOI))(@$@  1.0   \n",
       "3           Vietnam Backpacking (7N/8D) 2023-09-04  WOI))(*^#  1.0   \n",
       "4  Bali Backpacking (6N/7D) - Ex-Mumbai 2023-09-05  WOI))($#%  1.0   \n",
       "\n",
       "   PerPersonCost  TotalBill      ConvertedBy       Date Month  TripYear  \\\n",
       "0         5560.0    11120.0  Sales Person 27 2023-07-17   Jul    2023.0   \n",
       "1         7056.0     7056.0  Sales Person 22 2023-07-17   Jul    2023.0   \n",
       "2        13684.0    13684.0  Sales Person 41 2023-07-18   Jul    2023.0   \n",
       "3         7447.0     7447.0   Sales Person 8 2023-07-19   Jul    2023.0   \n",
       "4         6968.0     6968.0  Sales Person 17 2023-07-19   Jul    2023.0   \n",
       "\n",
       "   LeadYear  \n",
       "0      2023  \n",
       "1      2023  \n",
       "2      2023  \n",
       "3      2023  \n",
       "4      2023  "
      ]
     },
     "execution_count": 50,
     "metadata": {},
     "output_type": "execute_result"
    }
   ],
   "source": [
    "#Outliers Based on PerPersonCost\n",
    "PerPersonCost_outliers = get_outliers(df, 'PerPersonCost').reset_index(drop=True)\n",
    "PerPersonCost_outliers.head()"
   ]
  },
  {
   "cell_type": "code",
   "execution_count": 51,
   "id": "07d0efbc",
   "metadata": {
    "execution": {
     "iopub.execute_input": "2024-11-18T05:37:36.021376Z",
     "iopub.status.busy": "2024-11-18T05:37:36.020428Z",
     "iopub.status.idle": "2024-11-18T05:37:36.027088Z",
     "shell.execute_reply": "2024-11-18T05:37:36.026078Z"
    },
    "id": "xhtGB-T-7Cv4",
    "outputId": "5d70707f-0201-4373-e899-cf01a5b84327",
    "papermill": {
     "duration": 0.059927,
     "end_time": "2024-11-18T05:37:36.029787",
     "exception": false,
     "start_time": "2024-11-18T05:37:35.969860",
     "status": "completed"
    },
    "tags": []
   },
   "outputs": [
    {
     "name": "stdout",
     "output_type": "stream",
     "text": [
      "Sum Total Bill for PerPersonCost Outliers: 4,182,135.0\n",
      "Average Total Bill for PerPersonCost Outliers: 18,104.48\n"
     ]
    }
   ],
   "source": [
    "# Analyze Total Bill for PerPersonCost Outliers\n",
    "total_bill_outliers = PerPersonCost_outliers['TotalBill'].sum()\n",
    "average_bill_outliers = round(PerPersonCost_outliers['TotalBill'].mean(),2)\n",
    "\n",
    "print(f\"Sum Total Bill for PerPersonCost Outliers: {total_bill_outliers:,}\")\n",
    "print(f\"Average Total Bill for PerPersonCost Outliers: {average_bill_outliers:,}\")"
   ]
  },
  {
   "cell_type": "code",
   "execution_count": 52,
   "id": "08966774",
   "metadata": {
    "execution": {
     "iopub.execute_input": "2024-11-18T05:37:36.134981Z",
     "iopub.status.busy": "2024-11-18T05:37:36.134524Z",
     "iopub.status.idle": "2024-11-18T05:37:36.163327Z",
     "shell.execute_reply": "2024-11-18T05:37:36.162246Z"
    },
    "id": "mgTHOWqKnpEA",
    "outputId": "5627bb11-e5f1-45c5-a523-ce5099fd0374",
    "papermill": {
     "duration": 0.08466,
     "end_time": "2024-11-18T05:37:36.165647",
     "exception": false,
     "start_time": "2024-11-18T05:37:36.080987",
     "status": "completed"
    },
    "tags": []
   },
   "outputs": [
    {
     "data": {
      "text/html": [
       "<div>\n",
       "<style scoped>\n",
       "    .dataframe tbody tr th:only-of-type {\n",
       "        vertical-align: middle;\n",
       "    }\n",
       "\n",
       "    .dataframe tbody tr th {\n",
       "        vertical-align: top;\n",
       "    }\n",
       "\n",
       "    .dataframe thead th {\n",
       "        text-align: right;\n",
       "    }\n",
       "</style>\n",
       "<table border=\"1\" class=\"dataframe\">\n",
       "  <thead>\n",
       "    <tr style=\"text-align: right;\">\n",
       "      <th></th>\n",
       "      <th>LeadDate</th>\n",
       "      <th>LeadSource</th>\n",
       "      <th>Name</th>\n",
       "      <th>Phone</th>\n",
       "      <th>AssignedTo</th>\n",
       "      <th>EnquiryDestination</th>\n",
       "      <th>ExClient</th>\n",
       "      <th>Status</th>\n",
       "      <th>ConversionDate</th>\n",
       "      <th>Trip</th>\n",
       "      <th>TripDate</th>\n",
       "      <th>BookingID</th>\n",
       "      <th>Pax</th>\n",
       "      <th>PerPersonCost</th>\n",
       "      <th>TotalBill</th>\n",
       "      <th>ConvertedBy</th>\n",
       "      <th>Date</th>\n",
       "      <th>Month</th>\n",
       "      <th>TripYear</th>\n",
       "      <th>LeadYear</th>\n",
       "    </tr>\n",
       "  </thead>\n",
       "  <tbody>\n",
       "    <tr>\n",
       "      <th>0</th>\n",
       "      <td>2023-07-18 04:59:00</td>\n",
       "      <td>Lead Source 3</td>\n",
       "      <td>Snnmi</td>\n",
       "      <td>(@@@#(&amp;%$)</td>\n",
       "      <td>Sales Person 0</td>\n",
       "      <td>Spiti Valley</td>\n",
       "      <td>NaN</td>\n",
       "      <td>Converted</td>\n",
       "      <td>2023-08-18 19:33:15</td>\n",
       "      <td>BYOG - International</td>\n",
       "      <td>2023-11-28</td>\n",
       "      <td>WOI))(@$@</td>\n",
       "      <td>1.0</td>\n",
       "      <td>13684.0</td>\n",
       "      <td>13684.0</td>\n",
       "      <td>Sales Person 41</td>\n",
       "      <td>2023-07-18</td>\n",
       "      <td>Jul</td>\n",
       "      <td>2023.0</td>\n",
       "      <td>2023</td>\n",
       "    </tr>\n",
       "    <tr>\n",
       "      <th>1</th>\n",
       "      <td>2023-07-19 22:55:00</td>\n",
       "      <td>Lead Source 1</td>\n",
       "      <td>mfInx</td>\n",
       "      <td>)@##&amp;@@%&amp;#</td>\n",
       "      <td>Sales Person 0</td>\n",
       "      <td>Spiti Valley</td>\n",
       "      <td>NaN</td>\n",
       "      <td>Converted</td>\n",
       "      <td>2023-07-28 19:09:18</td>\n",
       "      <td>BYOG</td>\n",
       "      <td>2023-08-06</td>\n",
       "      <td>WON)^!(@!</td>\n",
       "      <td>12.0</td>\n",
       "      <td>1707.0</td>\n",
       "      <td>20481.0</td>\n",
       "      <td>Sales Person 61</td>\n",
       "      <td>2023-07-19</td>\n",
       "      <td>Jul</td>\n",
       "      <td>2023.0</td>\n",
       "      <td>2023</td>\n",
       "    </tr>\n",
       "    <tr>\n",
       "      <th>2</th>\n",
       "      <td>2023-07-20 17:31:00</td>\n",
       "      <td>Lead Source 1</td>\n",
       "      <td>~fSf{</td>\n",
       "      <td>*(*^)!)^(^</td>\n",
       "      <td>Sales Person 35</td>\n",
       "      <td>NaN</td>\n",
       "      <td>NaN</td>\n",
       "      <td>Converted</td>\n",
       "      <td>2023-07-29 14:03:33</td>\n",
       "      <td>BYOG - International</td>\n",
       "      <td>2023-12-30</td>\n",
       "      <td>WOI))(*))</td>\n",
       "      <td>10.0</td>\n",
       "      <td>1460.0</td>\n",
       "      <td>14600.0</td>\n",
       "      <td>Sales Person 67</td>\n",
       "      <td>2023-07-20</td>\n",
       "      <td>Jul</td>\n",
       "      <td>2023.0</td>\n",
       "      <td>2023</td>\n",
       "    </tr>\n",
       "    <tr>\n",
       "      <th>3</th>\n",
       "      <td>2023-07-20 18:18:00</td>\n",
       "      <td>Lead Source 1</td>\n",
       "      <td>Inmxf</td>\n",
       "      <td>)@##&amp;@@%&amp;#</td>\n",
       "      <td>Sales Person 0</td>\n",
       "      <td>Bali</td>\n",
       "      <td>NaN</td>\n",
       "      <td>Converted</td>\n",
       "      <td>2023-07-28 19:09:18</td>\n",
       "      <td>BYOG</td>\n",
       "      <td>2023-08-06</td>\n",
       "      <td>WON)^!(@!</td>\n",
       "      <td>12.0</td>\n",
       "      <td>1707.0</td>\n",
       "      <td>20481.0</td>\n",
       "      <td>Sales Person 61</td>\n",
       "      <td>2023-07-20</td>\n",
       "      <td>Jul</td>\n",
       "      <td>2023.0</td>\n",
       "      <td>2023</td>\n",
       "    </tr>\n",
       "    <tr>\n",
       "      <th>4</th>\n",
       "      <td>2023-07-21 19:37:00</td>\n",
       "      <td>Lead Source 1</td>\n",
       "      <td>Poffnjssy</td>\n",
       "      <td>)(#@!()^^%</td>\n",
       "      <td>Sales Person 32</td>\n",
       "      <td>NaN</td>\n",
       "      <td>Yes</td>\n",
       "      <td>Converted</td>\n",
       "      <td>2023-07-24 12:15:51</td>\n",
       "      <td>Leh Ladakh(Srinagar to Manali)</td>\n",
       "      <td>2023-11-07</td>\n",
       "      <td>WON)^!&amp;*$</td>\n",
       "      <td>5.0</td>\n",
       "      <td>2831.0</td>\n",
       "      <td>14154.0</td>\n",
       "      <td>Sales Person 32</td>\n",
       "      <td>2023-07-21</td>\n",
       "      <td>Jul</td>\n",
       "      <td>2023.0</td>\n",
       "      <td>2023</td>\n",
       "    </tr>\n",
       "  </tbody>\n",
       "</table>\n",
       "</div>"
      ],
      "text/plain": [
       "             LeadDate     LeadSource        Name       Phone       AssignedTo  \\\n",
       "0 2023-07-18 04:59:00  Lead Source 3       Snnmi  (@@@#(&%$)   Sales Person 0   \n",
       "1 2023-07-19 22:55:00  Lead Source 1       mfInx  )@##&@@%&#   Sales Person 0   \n",
       "2 2023-07-20 17:31:00  Lead Source 1       ~fSf{  *(*^)!)^(^  Sales Person 35   \n",
       "3 2023-07-20 18:18:00  Lead Source 1       Inmxf  )@##&@@%&#   Sales Person 0   \n",
       "4 2023-07-21 19:37:00  Lead Source 1   Poffnjssy  )(#@!()^^%  Sales Person 32   \n",
       "\n",
       "  EnquiryDestination ExClient     Status      ConversionDate  \\\n",
       "0       Spiti Valley      NaN  Converted 2023-08-18 19:33:15   \n",
       "1       Spiti Valley      NaN  Converted 2023-07-28 19:09:18   \n",
       "2                NaN      NaN  Converted 2023-07-29 14:03:33   \n",
       "3               Bali      NaN  Converted 2023-07-28 19:09:18   \n",
       "4                NaN      Yes  Converted 2023-07-24 12:15:51   \n",
       "\n",
       "                             Trip   TripDate  BookingID   Pax  PerPersonCost  \\\n",
       "0            BYOG - International 2023-11-28  WOI))(@$@   1.0        13684.0   \n",
       "1                            BYOG 2023-08-06  WON)^!(@!  12.0         1707.0   \n",
       "2            BYOG - International 2023-12-30  WOI))(*))  10.0         1460.0   \n",
       "3                            BYOG 2023-08-06  WON)^!(@!  12.0         1707.0   \n",
       "4  Leh Ladakh(Srinagar to Manali) 2023-11-07  WON)^!&*$   5.0         2831.0   \n",
       "\n",
       "   TotalBill      ConvertedBy       Date Month  TripYear  LeadYear  \n",
       "0    13684.0  Sales Person 41 2023-07-18   Jul    2023.0      2023  \n",
       "1    20481.0  Sales Person 61 2023-07-19   Jul    2023.0      2023  \n",
       "2    14600.0  Sales Person 67 2023-07-20   Jul    2023.0      2023  \n",
       "3    20481.0  Sales Person 61 2023-07-20   Jul    2023.0      2023  \n",
       "4    14154.0  Sales Person 32 2023-07-21   Jul    2023.0      2023  "
      ]
     },
     "execution_count": 52,
     "metadata": {},
     "output_type": "execute_result"
    }
   ],
   "source": [
    "TotalBillOutliers = get_outliers(df, 'TotalBill').reset_index(drop=True)\n",
    "TotalBillOutliers.head()"
   ]
  },
  {
   "cell_type": "code",
   "execution_count": 53,
   "id": "df24288e",
   "metadata": {
    "execution": {
     "iopub.execute_input": "2024-11-18T05:37:36.268207Z",
     "iopub.status.busy": "2024-11-18T05:37:36.267821Z",
     "iopub.status.idle": "2024-11-18T05:37:36.726051Z",
     "shell.execute_reply": "2024-11-18T05:37:36.724947Z"
    },
    "id": "8JJ2KS6f8Psa",
    "outputId": "ab9e5524-a7ae-4d88-89b3-1c02411ebf46",
    "papermill": {
     "duration": 0.511887,
     "end_time": "2024-11-18T05:37:36.728320",
     "exception": false,
     "start_time": "2024-11-18T05:37:36.216433",
     "status": "completed"
    },
    "tags": []
   },
   "outputs": [
    {
     "data": {
      "image/png": "[encoded data removed]",
      "text/plain": [
       "<Figure size 2500x600 with 1 Axes>"
      ]
     },
     "metadata": {},
     "output_type": "display_data"
    }
   ],
   "source": [
    "# Enquiry Destinations for PerPersonCost Outliers\n",
    "destinations_With_outliers = pd.DataFrame(df['EnquiryDestination'].value_counts().head(5)).reset_index()\n",
    "COLORS = ['#DEBACE'] * len(destinations_With_outliers)\n",
    "COLORS[0] = '#7F669D'  \n",
    "ax = plt.bar(destinations_With_outliers['EnquiryDestination'], destinations_With_outliers['count'], color=COLORS)\n",
    "plt.bar_label(ax)\n",
    "yticks = plt.gca().get_yticks()\n",
    "ylabels = [f\"{round(i / 1000)}k\" if i != 0 else \"0\" for i in yticks]\n",
    "plt.gca().set_yticklabels(ylabels)\n",
    "plt.ylabel('Count')\n",
    "plt.xticks(rotation=0)\n",
    "plt.title('Enquiry Destinations Count without Outliers')\n",
    "plt.show()"
   ]
  },
  {
   "cell_type": "markdown",
   "id": "483a2b2c",
   "metadata": {
    "id": "-b35mU5I8z7Z",
    "papermill": {
     "duration": 0.05304,
     "end_time": "2024-11-18T05:37:36.833901",
     "exception": false,
     "start_time": "2024-11-18T05:37:36.780861",
     "status": "completed"
    },
    "tags": []
   },
   "source": [
    "**Insight**\n",
    "\n",
    "- In the entire Dataset, the destination that is being asked about the most is Meghalaya."
   ]
  },
  {
   "cell_type": "code",
   "execution_count": 54,
   "id": "a475831a",
   "metadata": {
    "execution": {
     "iopub.execute_input": "2024-11-18T05:37:36.943414Z",
     "iopub.status.busy": "2024-11-18T05:37:36.942675Z",
     "iopub.status.idle": "2024-11-18T05:37:36.952725Z",
     "shell.execute_reply": "2024-11-18T05:37:36.951666Z"
    },
    "id": "VuppxjJr7MXs",
    "outputId": "bc82cae4-8d99-4f3c-c046-b2b43f769736",
    "papermill": {
     "duration": 0.067066,
     "end_time": "2024-11-18T05:37:36.955818",
     "exception": false,
     "start_time": "2024-11-18T05:37:36.888752",
     "status": "completed"
    },
    "tags": []
   },
   "outputs": [
    {
     "name": "stdout",
     "output_type": "stream",
     "text": [
      "Enquiry Destinations for Outliers:\n"
     ]
    },
    {
     "data": {
      "text/plain": [
       "EnquiryDestination\n",
       "Europe           27\n",
       "Bali             25\n",
       "Vietnam          25\n",
       "BYOG - Europe     8\n",
       "Europe BYOG       7\n",
       "Name: count, dtype: int64"
      ]
     },
     "execution_count": 54,
     "metadata": {},
     "output_type": "execute_result"
    }
   ],
   "source": [
    "# Enquiry Destinations for PerPersonCost Outliers\n",
    "destinations_outliers = PerPersonCost_outliers['EnquiryDestination'].value_counts().head(5)\n",
    "print(\"Enquiry Destinations for Outliers:\")\n",
    "destinations_outliers"
   ]
  },
  {
   "cell_type": "markdown",
   "id": "937a6560",
   "metadata": {
    "id": "1Ua6br8f8d72",
    "papermill": {
     "duration": 0.053076,
     "end_time": "2024-11-18T05:37:37.060663",
     "exception": false,
     "start_time": "2024-11-18T05:37:37.007587",
     "status": "completed"
    },
    "tags": []
   },
   "source": [
    "**Insight**\n",
    "\n",
    "- The outliers are the people who are interested in visiting places outside of India which could mean Higher Revenue and if served well they may become recurring customers."
   ]
  },
  {
   "cell_type": "code",
   "execution_count": 55,
   "id": "9b4e1f2d",
   "metadata": {
    "execution": {
     "iopub.execute_input": "2024-11-18T05:37:37.170393Z",
     "iopub.status.busy": "2024-11-18T05:37:37.169523Z",
     "iopub.status.idle": "2024-11-18T05:37:37.197667Z",
     "shell.execute_reply": "2024-11-18T05:37:37.196512Z"
    },
    "id": "ULxfWIdv7Y2p",
    "outputId": "7e6ebca4-d68f-4f07-c544-223771c9cc16",
    "papermill": {
     "duration": 0.086123,
     "end_time": "2024-11-18T05:37:37.200140",
     "exception": false,
     "start_time": "2024-11-18T05:37:37.114017",
     "status": "completed"
    },
    "tags": []
   },
   "outputs": [
    {
     "name": "stdout",
     "output_type": "stream",
     "text": [
      "Average Total Bill With Outliers: 5,778.49\n",
      "Average Total Bill Without Outliers: 5,782.05\n"
     ]
    }
   ],
   "source": [
    "# Compare PerPersonCost Outliers with Non-Outliers\n",
    "non_outliers = df[~df.index.isin(PerPersonCost_outliers.index)]\n",
    "with_outliers = round(df['TotalBill'].mean(),2)\n",
    "average_bill_non_outliers = round(non_outliers['TotalBill'].mean(),2)\n",
    "print(f\"Average Total Bill With Outliers: {with_outliers:,}\")\n",
    "print(f\"Average Total Bill Without Outliers: {average_bill_non_outliers:,}\")"
   ]
  },
  {
   "cell_type": "markdown",
   "id": "fc533589",
   "metadata": {
    "id": "0XGRrkLuq1Vp",
    "papermill": {
     "duration": 0.053445,
     "end_time": "2024-11-18T05:37:37.307309",
     "exception": false,
     "start_time": "2024-11-18T05:37:37.253864",
     "status": "completed"
    },
    "tags": []
   },
   "source": [
    "## Advanced Analysis and Strategic Insights\n",
    "16. **What is the relationship between the number of passengers (Pax) and the total bill?**"
   ]
  },
  {
   "cell_type": "code",
   "execution_count": 56,
   "id": "7754714f",
   "metadata": {
    "execution": {
     "iopub.execute_input": "2024-11-18T05:37:37.420531Z",
     "iopub.status.busy": "2024-11-18T05:37:37.419509Z",
     "iopub.status.idle": "2024-11-18T05:37:37.433169Z",
     "shell.execute_reply": "2024-11-18T05:37:37.431940Z"
    },
    "id": "DfL1RqUtdpWV",
    "outputId": "534eca8e-ce28-4877-cc48-59db15a630e1",
    "papermill": {
     "duration": 0.074224,
     "end_time": "2024-11-18T05:37:37.435650",
     "exception": false,
     "start_time": "2024-11-18T05:37:37.361426",
     "status": "completed"
    },
    "tags": []
   },
   "outputs": [
    {
     "data": {
      "text/html": [
       "<div>\n",
       "<style scoped>\n",
       "    .dataframe tbody tr th:only-of-type {\n",
       "        vertical-align: middle;\n",
       "    }\n",
       "\n",
       "    .dataframe tbody tr th {\n",
       "        vertical-align: top;\n",
       "    }\n",
       "\n",
       "    .dataframe thead th {\n",
       "        text-align: right;\n",
       "    }\n",
       "</style>\n",
       "<table border=\"1\" class=\"dataframe\">\n",
       "  <thead>\n",
       "    <tr style=\"text-align: right;\">\n",
       "      <th></th>\n",
       "      <th>Pax</th>\n",
       "      <th>TotalBill</th>\n",
       "    </tr>\n",
       "  </thead>\n",
       "  <tbody>\n",
       "    <tr>\n",
       "      <th>Pax</th>\n",
       "      <td>1.00</td>\n",
       "      <td>0.57</td>\n",
       "    </tr>\n",
       "    <tr>\n",
       "      <th>TotalBill</th>\n",
       "      <td>0.57</td>\n",
       "      <td>1.00</td>\n",
       "    </tr>\n",
       "  </tbody>\n",
       "</table>\n",
       "</div>"
      ],
      "text/plain": [
       "            Pax  TotalBill\n",
       "Pax        1.00       0.57\n",
       "TotalBill  0.57       1.00"
      ]
     },
     "execution_count": 56,
     "metadata": {},
     "output_type": "execute_result"
    }
   ],
   "source": [
    "df[['Pax', 'TotalBill']].corr().apply(lambda x : round(x, 2))"
   ]
  },
  {
   "cell_type": "markdown",
   "id": "3e660381",
   "metadata": {
    "papermill": {
     "duration": 0.053647,
     "end_time": "2024-11-18T05:37:37.547541",
     "exception": false,
     "start_time": "2024-11-18T05:37:37.493894",
     "status": "completed"
    },
    "tags": []
   },
   "source": [
    "**Insight**\n",
    "\n",
    "- There is a moderately strong correlation between the number of passengers and the total bill. This suggests that as the number of passengers increases, the total bill tends to rise as well, though the relationship is not perfect. Other factors may also influence the total bill, but the trend indicates that more passengers generally result in a higher total expenditure."
   ]
  },
  {
   "cell_type": "code",
   "execution_count": 57,
   "id": "d1c37787",
   "metadata": {
    "execution": {
     "iopub.execute_input": "2024-11-18T05:37:37.658700Z",
     "iopub.status.busy": "2024-11-18T05:37:37.657619Z",
     "iopub.status.idle": "2024-11-18T05:37:37.685858Z",
     "shell.execute_reply": "2024-11-18T05:37:37.684778Z"
    },
    "id": "19g1eSCx-HSE",
    "papermill": {
     "duration": 0.08664,
     "end_time": "2024-11-18T05:37:37.688260",
     "exception": false,
     "start_time": "2024-11-18T05:37:37.601620",
     "status": "completed"
    },
    "tags": []
   },
   "outputs": [
    {
     "name": "stdout",
     "output_type": "stream",
     "text": [
      "ANOVA test result: F-statistic = 280.401, p-value = 1.32e-249\n"
     ]
    }
   ],
   "source": [
    "# Create bins for Pax\n",
    "bins = [0, 2, 4, 6, 8, 10, 20]\n",
    "labels = ['0-2', '2-4', '4-6', '6-8', '8-10', '10+']\n",
    "df['Pax_Binned'] = pd.cut(df['Pax'], bins=bins, labels=labels, right=False)\n",
    "\n",
    "# Calculate average PerPersonCost for each Pax bin\n",
    "grouped = df.groupby('Pax_Binned')['TotalBill'].mean()\n",
    "\n",
    "# Perform ANOVA\n",
    "anova_result = stats.f_oneway(\n",
    "    df[df['Pax_Binned'] == '0-2']['TotalBill'],\n",
    "    df[df['Pax_Binned'] == '2-4']['TotalBill'],\n",
    "    df[df['Pax_Binned'] == '4-6']['TotalBill'],\n",
    "    df[df['Pax_Binned'] == '6-8']['TotalBill'],\n",
    "    df[df['Pax_Binned'] == '8-10']['TotalBill'],\n",
    "    df[df['Pax_Binned'] == '10+']['TotalBill']\n",
    ")\n",
    "\n",
    "print(f\"ANOVA test result: F-statistic = {round(anova_result.statistic,3)}, p-value = {anova_result.pvalue:.2e}\")"
   ]
  },
  {
   "cell_type": "markdown",
   "id": "4bc9c5fb",
   "metadata": {
    "id": "JPh3SSL7_EsR",
    "papermill": {
     "duration": 0.053427,
     "end_time": "2024-11-18T05:37:37.796674",
     "exception": false,
     "start_time": "2024-11-18T05:37:37.743247",
     "status": "completed"
    },
    "tags": []
   },
   "source": [
    "**Interpreting the ANOVA Result**\n",
    "\n",
    "The ANOVA results show a high F-statistic of 280.4006, indicating a significant difference in TotalBill across different Pax groups. With a very low p-value, the null hypothesis is rejected, suggesting that the number of passengers has a significant impact on the total bill. Strategically, this means optimizing passenger numbers and understanding their effect on the total bill can be crucial for business decisions and pricing models."
   ]
  },
  {
   "cell_type": "code",
   "execution_count": 58,
   "id": "6349a3c4",
   "metadata": {
    "execution": {
     "iopub.execute_input": "2024-11-18T05:37:37.907634Z",
     "iopub.status.busy": "2024-11-18T05:37:37.907269Z",
     "iopub.status.idle": "2024-11-18T05:37:37.920660Z",
     "shell.execute_reply": "2024-11-18T05:37:37.919721Z"
    },
    "id": "zfAjditceQrS",
    "outputId": "eaade115-a8da-46f3-c926-2df98607d348",
    "papermill": {
     "duration": 0.072502,
     "end_time": "2024-11-18T05:37:37.922851",
     "exception": false,
     "start_time": "2024-11-18T05:37:37.850349",
     "status": "completed"
    },
    "tags": []
   },
   "outputs": [
    {
     "data": {
      "text/html": [
       "<div>\n",
       "<style scoped>\n",
       "    .dataframe tbody tr th:only-of-type {\n",
       "        vertical-align: middle;\n",
       "    }\n",
       "\n",
       "    .dataframe tbody tr th {\n",
       "        vertical-align: top;\n",
       "    }\n",
       "\n",
       "    .dataframe thead th {\n",
       "        text-align: right;\n",
       "    }\n",
       "</style>\n",
       "<table border=\"1\" class=\"dataframe\">\n",
       "  <thead>\n",
       "    <tr style=\"text-align: right;\">\n",
       "      <th></th>\n",
       "      <th>Pax</th>\n",
       "      <th>PerPersonCost</th>\n",
       "    </tr>\n",
       "  </thead>\n",
       "  <tbody>\n",
       "    <tr>\n",
       "      <th>Pax</th>\n",
       "      <td>1.0000</td>\n",
       "      <td>-0.0035</td>\n",
       "    </tr>\n",
       "    <tr>\n",
       "      <th>PerPersonCost</th>\n",
       "      <td>-0.0035</td>\n",
       "      <td>1.0000</td>\n",
       "    </tr>\n",
       "  </tbody>\n",
       "</table>\n",
       "</div>"
      ],
      "text/plain": [
       "                  Pax  PerPersonCost\n",
       "Pax            1.0000        -0.0035\n",
       "PerPersonCost -0.0035         1.0000"
      ]
     },
     "execution_count": 58,
     "metadata": {},
     "output_type": "execute_result"
    }
   ],
   "source": [
    "df[['Pax', 'PerPersonCost']].corr().apply(lambda x : round(x, 4))"
   ]
  },
  {
   "cell_type": "markdown",
   "id": "0c46b759",
   "metadata": {
    "id": "VW4JpJQQrOfE",
    "papermill": {
     "duration": 0.05335,
     "end_time": "2024-11-18T05:37:38.029750",
     "exception": false,
     "start_time": "2024-11-18T05:37:37.976400",
     "status": "completed"
    },
    "tags": []
   },
   "source": [
    "**Insight** - There doesn't seem to be much relationship between the Passenger count and PerPersonCost however there is a 0.57 correlation between the Number of Passengers and the total Bill which means if passengers increase there is a 0.57 probability that Total Bill will also increase."
   ]
  },
  {
   "cell_type": "markdown",
   "id": "a4635170",
   "metadata": {
    "id": "KtwZh5ilsBwT",
    "papermill": {
     "duration": 0.054011,
     "end_time": "2024-11-18T05:37:38.137898",
     "exception": false,
     "start_time": "2024-11-18T05:37:38.083887",
     "status": "completed"
    },
    "tags": []
   },
   "source": [
    "\n",
    "17. **How does the performance of different agents compare?**"
   ]
  },
  {
   "cell_type": "code",
   "execution_count": 59,
   "id": "c4c2a23d",
   "metadata": {
    "execution": {
     "iopub.execute_input": "2024-11-18T05:37:38.246813Z",
     "iopub.status.busy": "2024-11-18T05:37:38.246393Z",
     "iopub.status.idle": "2024-11-18T05:37:38.355585Z",
     "shell.execute_reply": "2024-11-18T05:37:38.354509Z"
    },
    "id": "1BOk2NgEq2dT",
    "outputId": "28417814-1fcd-4574-a47c-dd283f4d3817",
    "papermill": {
     "duration": 0.166502,
     "end_time": "2024-11-18T05:37:38.358089",
     "exception": false,
     "start_time": "2024-11-18T05:37:38.191587",
     "status": "completed"
    },
    "tags": []
   },
   "outputs": [
    {
     "data": {
      "text/html": [
       "<div>\n",
       "<style scoped>\n",
       "    .dataframe tbody tr th:only-of-type {\n",
       "        vertical-align: middle;\n",
       "    }\n",
       "\n",
       "    .dataframe tbody tr th {\n",
       "        vertical-align: top;\n",
       "    }\n",
       "\n",
       "    .dataframe thead th {\n",
       "        text-align: right;\n",
       "    }\n",
       "</style>\n",
       "<table border=\"1\" class=\"dataframe\">\n",
       "  <thead>\n",
       "    <tr style=\"text-align: right;\">\n",
       "      <th></th>\n",
       "      <th>AssignedTo</th>\n",
       "      <th>AssignedLeads</th>\n",
       "      <th>ConvertedLeads</th>\n",
       "      <th>ConversionRate</th>\n",
       "      <th>TotalBill</th>\n",
       "    </tr>\n",
       "  </thead>\n",
       "  <tbody>\n",
       "    <tr>\n",
       "      <th>0</th>\n",
       "      <td>Sales Person 33</td>\n",
       "      <td>1443</td>\n",
       "      <td>100</td>\n",
       "      <td>6.93</td>\n",
       "      <td>805.74k</td>\n",
       "    </tr>\n",
       "    <tr>\n",
       "      <th>1</th>\n",
       "      <td>Sales Person 26</td>\n",
       "      <td>1839</td>\n",
       "      <td>117</td>\n",
       "      <td>6.36</td>\n",
       "      <td>449.67k</td>\n",
       "    </tr>\n",
       "    <tr>\n",
       "      <th>2</th>\n",
       "      <td>Sales Person 38</td>\n",
       "      <td>1622</td>\n",
       "      <td>101</td>\n",
       "      <td>6.23</td>\n",
       "      <td>199.93k</td>\n",
       "    </tr>\n",
       "    <tr>\n",
       "      <th>3</th>\n",
       "      <td>Sales Person 13</td>\n",
       "      <td>1755</td>\n",
       "      <td>107</td>\n",
       "      <td>6.10</td>\n",
       "      <td>511.74k</td>\n",
       "    </tr>\n",
       "    <tr>\n",
       "      <th>4</th>\n",
       "      <td>Sales Person 30</td>\n",
       "      <td>1467</td>\n",
       "      <td>88</td>\n",
       "      <td>6.00</td>\n",
       "      <td>224.25k</td>\n",
       "    </tr>\n",
       "  </tbody>\n",
       "</table>\n",
       "</div>"
      ],
      "text/plain": [
       "        AssignedTo  AssignedLeads  ConvertedLeads  ConversionRate TotalBill\n",
       "0  Sales Person 33           1443             100            6.93   805.74k\n",
       "1  Sales Person 26           1839             117            6.36   449.67k\n",
       "2  Sales Person 38           1622             101            6.23   199.93k\n",
       "3  Sales Person 13           1755             107            6.10   511.74k\n",
       "4  Sales Person 30           1467              88            6.00   224.25k"
      ]
     },
     "execution_count": 59,
     "metadata": {},
     "output_type": "execute_result"
    }
   ],
   "source": [
    "query = '''\n",
    "select AssignedTo, count(AssignedTo) as AssignedLeads,\n",
    "      count(ConvertedBy) as ConvertedLeads,\n",
    "      round(count(ConvertedBy)*1.0/count(AssignedTo)*100,2) as ConversionRate,\n",
    "      coalesce(sum(TotalBill),0) as TotalBill\n",
    "from travels group by 1 order by 4 desc\n",
    "\n",
    "'''\n",
    "SalesPerson_df = pd.read_sql(query, conn)\n",
    "\n",
    "SalesPerson_df['TotalBill'] = [f\"{round(i / 1000,2)}k\" if i != 0 else \"0\" \\\n",
    "                               for i in SalesPerson_df['TotalBill'].values.tolist()]\n",
    "\n",
    "#Top 5 rows\n",
    "SalesPerson_df.head()"
   ]
  },
  {
   "cell_type": "code",
   "execution_count": 60,
   "id": "c96d6fde",
   "metadata": {
    "execution": {
     "iopub.execute_input": "2024-11-18T05:37:38.467652Z",
     "iopub.status.busy": "2024-11-18T05:37:38.467250Z",
     "iopub.status.idle": "2024-11-18T05:37:38.479592Z",
     "shell.execute_reply": "2024-11-18T05:37:38.478571Z"
    },
    "papermill": {
     "duration": 0.069779,
     "end_time": "2024-11-18T05:37:38.482114",
     "exception": false,
     "start_time": "2024-11-18T05:37:38.412335",
     "status": "completed"
    },
    "tags": []
   },
   "outputs": [
    {
     "data": {
      "text/html": [
       "<div>\n",
       "<style scoped>\n",
       "    .dataframe tbody tr th:only-of-type {\n",
       "        vertical-align: middle;\n",
       "    }\n",
       "\n",
       "    .dataframe tbody tr th {\n",
       "        vertical-align: top;\n",
       "    }\n",
       "\n",
       "    .dataframe thead th {\n",
       "        text-align: right;\n",
       "    }\n",
       "</style>\n",
       "<table border=\"1\" class=\"dataframe\">\n",
       "  <thead>\n",
       "    <tr style=\"text-align: right;\">\n",
       "      <th></th>\n",
       "      <th>AssignedTo</th>\n",
       "      <th>AssignedLeads</th>\n",
       "      <th>ConvertedLeads</th>\n",
       "      <th>ConversionRate</th>\n",
       "      <th>TotalBill</th>\n",
       "    </tr>\n",
       "  </thead>\n",
       "  <tbody>\n",
       "    <tr>\n",
       "      <th>50</th>\n",
       "      <td>Sales Person 4</td>\n",
       "      <td>1592</td>\n",
       "      <td>26</td>\n",
       "      <td>1.63</td>\n",
       "      <td>146.92k</td>\n",
       "    </tr>\n",
       "    <tr>\n",
       "      <th>51</th>\n",
       "      <td>Sales Person 25</td>\n",
       "      <td>1468</td>\n",
       "      <td>23</td>\n",
       "      <td>1.57</td>\n",
       "      <td>104.41k</td>\n",
       "    </tr>\n",
       "    <tr>\n",
       "      <th>52</th>\n",
       "      <td>Sales Person 12</td>\n",
       "      <td>1285</td>\n",
       "      <td>16</td>\n",
       "      <td>1.25</td>\n",
       "      <td>156.69k</td>\n",
       "    </tr>\n",
       "    <tr>\n",
       "      <th>53</th>\n",
       "      <td>Sales Person 5</td>\n",
       "      <td>1930</td>\n",
       "      <td>24</td>\n",
       "      <td>1.24</td>\n",
       "      <td>150.71k</td>\n",
       "    </tr>\n",
       "    <tr>\n",
       "      <th>54</th>\n",
       "      <td>Sales Person 52</td>\n",
       "      <td>128</td>\n",
       "      <td>0</td>\n",
       "      <td>0.00</td>\n",
       "      <td>0</td>\n",
       "    </tr>\n",
       "  </tbody>\n",
       "</table>\n",
       "</div>"
      ],
      "text/plain": [
       "         AssignedTo  AssignedLeads  ConvertedLeads  ConversionRate TotalBill\n",
       "50   Sales Person 4           1592              26            1.63   146.92k\n",
       "51  Sales Person 25           1468              23            1.57   104.41k\n",
       "52  Sales Person 12           1285              16            1.25   156.69k\n",
       "53   Sales Person 5           1930              24            1.24   150.71k\n",
       "54  Sales Person 52            128               0            0.00         0"
      ]
     },
     "execution_count": 60,
     "metadata": {},
     "output_type": "execute_result"
    }
   ],
   "source": [
    "#Bottom 5 rows\n",
    "SalesPerson_df.tail()"
   ]
  },
  {
   "cell_type": "markdown",
   "id": "c5f59033",
   "metadata": {
    "id": "rYiGFIjE1rJh",
    "papermill": {
     "duration": 0.053967,
     "end_time": "2024-11-18T05:37:38.590393",
     "exception": false,
     "start_time": "2024-11-18T05:37:38.536426",
     "status": "completed"
    },
    "tags": []
   },
   "source": [
    "**Insight**\n",
    "\n",
    "- Sales Person 33 is able to convert more leads assigned to him as compared to his counter parts\n",
    "- Other Sales Person who have more leads assigned to them are not able to achieve a higher conversion rate than Sales Person 33."
   ]
  },
  {
   "cell_type": "markdown",
   "id": "526290e5",
   "metadata": {
    "id": "EOFHtV_bwE5H",
    "papermill": {
     "duration": 0.05375,
     "end_time": "2024-11-18T05:37:38.698630",
     "exception": false,
     "start_time": "2024-11-18T05:37:38.644880",
     "status": "completed"
    },
    "tags": []
   },
   "source": [
    "\n",
    "18. **What are the key factors influencing conversion rates? (e.g., lead source, enquiry destination, assigned agent)**"
   ]
  },
  {
   "cell_type": "markdown",
   "id": "04ba32d1",
   "metadata": {
    "id": "qb5zakOpyUEa",
    "papermill": {
     "duration": 0.053317,
     "end_time": "2024-11-18T05:37:38.806473",
     "exception": false,
     "start_time": "2024-11-18T05:37:38.753156",
     "status": "completed"
    },
    "tags": []
   },
   "source": [
    "In order to find the key factors, lets take a lot at the performance of the Sales Person 33 who has the highest conversion rate."
   ]
  },
  {
   "cell_type": "code",
   "execution_count": 61,
   "id": "29d7c3da",
   "metadata": {
    "execution": {
     "iopub.execute_input": "2024-11-18T05:37:38.918168Z",
     "iopub.status.busy": "2024-11-18T05:37:38.917477Z",
     "iopub.status.idle": "2024-11-18T05:37:38.951835Z",
     "shell.execute_reply": "2024-11-18T05:37:38.950783Z"
    },
    "id": "fVnWYG784jR-",
    "outputId": "fb25e48f-9113-4f86-be77-65b573a7cbd1",
    "papermill": {
     "duration": 0.094326,
     "end_time": "2024-11-18T05:37:38.954205",
     "exception": false,
     "start_time": "2024-11-18T05:37:38.859879",
     "status": "completed"
    },
    "tags": []
   },
   "outputs": [
    {
     "data": {
      "text/plain": [
       "{'Lead Source 1': 59, 'Lead Source 2': 22, 'Lead Source 3': 19}"
      ]
     },
     "execution_count": 61,
     "metadata": {},
     "output_type": "execute_result"
    }
   ],
   "source": [
    "sources = list(df[(df['AssignedTo']=='Sales Person 33') & (df['Status']=='Converted')]['LeadSource'].values)\n",
    "sources_dict = {i : sources.count(i) for i in sources if i!= None}\n",
    "sources_dict_sorted = dict(sorted(sources_dict.items(), key= lambda x:x[-1], reverse=True))\n",
    "sources_dict_sorted"
   ]
  },
  {
   "cell_type": "code",
   "execution_count": 62,
   "id": "eba40179",
   "metadata": {
    "execution": {
     "iopub.execute_input": "2024-11-18T05:37:39.064622Z",
     "iopub.status.busy": "2024-11-18T05:37:39.063619Z",
     "iopub.status.idle": "2024-11-18T05:37:39.096382Z",
     "shell.execute_reply": "2024-11-18T05:37:39.095107Z"
    },
    "id": "yyRgQJaR4kQ6",
    "outputId": "45be5b30-487d-44f0-9bab-57e1c7812303",
    "papermill": {
     "duration": 0.090488,
     "end_time": "2024-11-18T05:37:39.098639",
     "exception": false,
     "start_time": "2024-11-18T05:37:39.008151",
     "status": "completed"
    },
    "tags": []
   },
   "outputs": [
    {
     "name": "stdout",
     "output_type": "stream",
     "text": [
      "{nan: 37, 'Ladakh': 32, 'Leh Ladakh': 15, 'Ladakh BYOG': 9, 'Unknown': 2, 'Himachal Trips': 2, 'Early Bird Offer': 1, 'Manali Solang': 1, 'Spiti Valley': 1}\n"
     ]
    }
   ],
   "source": [
    "places = list(df[(df['AssignedTo']=='Sales Person 33') & (df['Status']=='Converted')]['EnquiryDestination'].values)\n",
    "places_dict = {i : places.count(i) for i in places if i!= None}\n",
    "places_dict_sorted = dict(sorted(places_dict.items(), key= lambda x:x[-1], reverse=True))\n",
    "print(places_dict_sorted)"
   ]
  },
  {
   "cell_type": "markdown",
   "id": "d355966b",
   "metadata": {
    "id": "dgq_2Lo6wHMk",
    "papermill": {
     "duration": 0.054448,
     "end_time": "2024-11-18T05:37:39.207896",
     "exception": false,
     "start_time": "2024-11-18T05:37:39.153448",
     "status": "completed"
    },
    "tags": []
   },
   "source": [
    "**Insight** - \n",
    "\n",
    "- The analysis above is helpful to identify the top-performing salesperson's lead sources and destinations. \n",
    "- If one salesperson consistently converts leads from a certain source and destination, we can replicate that success with others to improve overall performance."
   ]
  },
  {
   "cell_type": "code",
   "execution_count": 63,
   "id": "61867a9d",
   "metadata": {
    "execution": {
     "iopub.execute_input": "2024-11-18T05:37:39.319536Z",
     "iopub.status.busy": "2024-11-18T05:37:39.318617Z",
     "iopub.status.idle": "2024-11-18T05:37:39.651449Z",
     "shell.execute_reply": "2024-11-18T05:37:39.650316Z"
    },
    "papermill": {
     "duration": 0.391062,
     "end_time": "2024-11-18T05:37:39.653779",
     "exception": false,
     "start_time": "2024-11-18T05:37:39.262717",
     "status": "completed"
    },
    "tags": []
   },
   "outputs": [
    {
     "data": {
      "image/png": "[encoded data removed]",
      "text/plain": [
       "<Figure size 2500x600 with 1 Axes>"
      ]
     },
     "metadata": {},
     "output_type": "display_data"
    }
   ],
   "source": [
    "binned = df.groupby('Pax_Binned')['TotalBill'].agg(['sum','count'])\n",
    "COLORS = ['#6A9C89'] * len(destinations_With_outliers)\n",
    "COLORS[1] = '#16423C'\n",
    "ax = plt.bar(binned.index, binned['count'], color=COLORS)\n",
    "plt.bar_label(ax)\n",
    "yticks = plt.gca().get_yticks()\n",
    "ylabels = [f\"{round(i / 1000,1)}k\" if i != 0 else \"0\" for i in yticks]\n",
    "plt.gca().set_yticklabels(ylabels)\n",
    "plt.xticks(rotation=0)\n",
    "plt.title('Passenger Count, Total Bill Bin Wise')\n",
    "plt.show()"
   ]
  },
  {
   "cell_type": "code",
   "execution_count": 64,
   "id": "cdd12ede",
   "metadata": {
    "execution": {
     "iopub.execute_input": "2024-11-18T05:37:39.766852Z",
     "iopub.status.busy": "2024-11-18T05:37:39.766390Z",
     "iopub.status.idle": "2024-11-18T05:37:39.784294Z",
     "shell.execute_reply": "2024-11-18T05:37:39.783246Z"
    },
    "papermill": {
     "duration": 0.078216,
     "end_time": "2024-11-18T05:37:39.786634",
     "exception": false,
     "start_time": "2024-11-18T05:37:39.708418",
     "status": "completed"
    },
    "tags": []
   },
   "outputs": [
    {
     "data": {
      "text/html": [
       "<div>\n",
       "<style scoped>\n",
       "    .dataframe tbody tr th:only-of-type {\n",
       "        vertical-align: middle;\n",
       "    }\n",
       "\n",
       "    .dataframe tbody tr th {\n",
       "        vertical-align: top;\n",
       "    }\n",
       "\n",
       "    .dataframe thead th {\n",
       "        text-align: right;\n",
       "    }\n",
       "</style>\n",
       "<table border=\"1\" class=\"dataframe\">\n",
       "  <thead>\n",
       "    <tr style=\"text-align: right;\">\n",
       "      <th></th>\n",
       "      <th>TotalBill_Bin</th>\n",
       "      <th>Amount</th>\n",
       "      <th>TripCount</th>\n",
       "      <th>Pct_Count</th>\n",
       "    </tr>\n",
       "  </thead>\n",
       "  <tbody>\n",
       "    <tr>\n",
       "      <th>0</th>\n",
       "      <td>0-2</td>\n",
       "      <td>346.79k</td>\n",
       "      <td>1327</td>\n",
       "      <td>41.07</td>\n",
       "    </tr>\n",
       "    <tr>\n",
       "      <th>1</th>\n",
       "      <td>2-4</td>\n",
       "      <td>949.88k</td>\n",
       "      <td>1504</td>\n",
       "      <td>46.55</td>\n",
       "    </tr>\n",
       "    <tr>\n",
       "      <th>2</th>\n",
       "      <td>4-6</td>\n",
       "      <td>322.68k</td>\n",
       "      <td>271</td>\n",
       "      <td>8.39</td>\n",
       "    </tr>\n",
       "    <tr>\n",
       "      <th>3</th>\n",
       "      <td>6-8</td>\n",
       "      <td>105.15k</td>\n",
       "      <td>71</td>\n",
       "      <td>2.20</td>\n",
       "    </tr>\n",
       "    <tr>\n",
       "      <th>4</th>\n",
       "      <td>8-10</td>\n",
       "      <td>65.57k</td>\n",
       "      <td>30</td>\n",
       "      <td>0.93</td>\n",
       "    </tr>\n",
       "    <tr>\n",
       "      <th>5</th>\n",
       "      <td>10+</td>\n",
       "      <td>73.55k</td>\n",
       "      <td>28</td>\n",
       "      <td>0.87</td>\n",
       "    </tr>\n",
       "  </tbody>\n",
       "</table>\n",
       "</div>"
      ],
      "text/plain": [
       "  TotalBill_Bin   Amount  TripCount  Pct_Count\n",
       "0           0-2  346.79k       1327      41.07\n",
       "1           2-4  949.88k       1504      46.55\n",
       "2           4-6  322.68k        271       8.39\n",
       "3           6-8  105.15k         71       2.20\n",
       "4          8-10   65.57k         30       0.93\n",
       "5           10+   73.55k         28       0.87"
      ]
     },
     "execution_count": 64,
     "metadata": {},
     "output_type": "execute_result"
    }
   ],
   "source": [
    "total = binned.reset_index()['count'].values.sum()\n",
    "binned['Pct_Count'] = np.around(binned.reset_index()['count'].values/total*100.0,2)\n",
    "binned['sum'] = [f\"{round(i / 10000,2)}k\" if i != 0 else \"0\" for i in binned['sum'].values.tolist()]\n",
    "binned = binned.reset_index()\n",
    "binned.columns = ['TotalBill_Bin', 'Amount', 'TripCount', 'Pct_Count']\n",
    "binned"
   ]
  },
  {
   "cell_type": "markdown",
   "id": "5c3952e9",
   "metadata": {
    "papermill": {
     "duration": 0.057316,
     "end_time": "2024-11-18T05:37:39.899267",
     "exception": false,
     "start_time": "2024-11-18T05:37:39.841951",
     "status": "completed"
    },
    "tags": []
   },
   "source": [
    "**INSIGHT**\n",
    "\n",
    "- 87% of people prefer to spend less than 400,000 INR on a trip, indicating that most travelers have a specific budget constraint. This insight can help businesses or travel planners tailor their packages to fit the majority’s spending habits, offering more budget-friendly options to attract a larger customer base."
   ]
  },
  {
   "cell_type": "markdown",
   "id": "61f6968e",
   "metadata": {
    "papermill": {
     "duration": 0.055363,
     "end_time": "2024-11-18T05:37:40.009874",
     "exception": false,
     "start_time": "2024-11-18T05:37:39.954511",
     "status": "completed"
    },
    "tags": []
   },
   "source": [
    "## Correlation and Regression Analysis"
   ]
  },
  {
   "cell_type": "markdown",
   "id": "ade5bdf9",
   "metadata": {
    "papermill": {
     "duration": 0.05631,
     "end_time": "2024-11-18T05:37:40.120143",
     "exception": false,
     "start_time": "2024-11-18T05:37:40.063833",
     "status": "completed"
    },
    "tags": []
   },
   "source": [
    "We will use Correlation to understand how correlated the trip count and the sales amount are."
   ]
  },
  {
   "cell_type": "code",
   "execution_count": 65,
   "id": "ed598f69",
   "metadata": {
    "execution": {
     "iopub.execute_input": "2024-11-18T05:37:40.233310Z",
     "iopub.status.busy": "2024-11-18T05:37:40.232891Z",
     "iopub.status.idle": "2024-11-18T05:37:40.260641Z",
     "shell.execute_reply": "2024-11-18T05:37:40.259434Z"
    },
    "papermill": {
     "duration": 0.086976,
     "end_time": "2024-11-18T05:37:40.263127",
     "exception": false,
     "start_time": "2024-11-18T05:37:40.176151",
     "status": "completed"
    },
    "tags": []
   },
   "outputs": [
    {
     "name": "stdout",
     "output_type": "stream",
     "text": [
      "There is a 0.916 correlation between trip count and total bill.\n"
     ]
    }
   ],
   "source": [
    "def remove_outliers(df, col):\n",
    "    q1, q2, q3 = list(df[col].quantile([0.25, 0.5, 0.75]).values)\n",
    "    iqr = q3 - q1\n",
    "    upperbound= q3 + 1.5 * iqr\n",
    "    lowerbound = q1 - 1.5 * iqr\n",
    "    outliers = df[(df[col]<upperbound) |  (df[col]>lowerbound)].reset_index(drop=True)\n",
    "    return outliers\n",
    "\n",
    "df_clean = remove_outliers(df, 'TotalBill')\n",
    "# Group by 'TripDate' and calculate both count and sum\n",
    "aggregated_data = df_clean.groupby('TripDate').agg(\n",
    "    Count=('LeadSource', 'count'),  # Replace 'TripID' with the appropriate column for counting trips\n",
    "    TotalSales=('TotalBill', 'sum')  # Replace 'Sales' with your sales column\n",
    ").reset_index()\n",
    "\n",
    "corr = aggregated_data[['Count', 'TotalSales']].corr()['TotalSales']['Count']\n",
    "print(f\"There is a {corr:.3f} correlation between trip count and total bill.\")"
   ]
  },
  {
   "cell_type": "markdown",
   "id": "9b39ea51",
   "metadata": {
    "papermill": {
     "duration": 0.055881,
     "end_time": "2024-11-18T05:37:40.377053",
     "exception": false,
     "start_time": "2024-11-18T05:37:40.321172",
     "status": "completed"
    },
    "tags": []
   },
   "source": [
    "- There is a very strong positive relationship between the number of trips and the total bill. This means as the trip count increases, the total bill tends to increase proportionally. \n",
    "\n",
    "- It suggests that trip activity is a key driver of revenue, emphasizing the importance of boosting trip frequency to achieve higher billing totals. This insight can guide strategic decisions such as optimizing operations or incentivizing more trips to maximize financial outcomes"
   ]
  },
  {
   "cell_type": "markdown",
   "id": "816552e7",
   "metadata": {
    "papermill": {
     "duration": 0.055101,
     "end_time": "2024-11-18T05:37:40.486690",
     "exception": false,
     "start_time": "2024-11-18T05:37:40.431589",
     "status": "completed"
    },
    "tags": []
   },
   "source": [
    "We will now use Linear Regression model to predict the sales given the trip counts on a given day."
   ]
  },
  {
   "cell_type": "code",
   "execution_count": 66,
   "id": "0a354532",
   "metadata": {
    "execution": {
     "iopub.execute_input": "2024-11-18T05:37:40.602514Z",
     "iopub.status.busy": "2024-11-18T05:37:40.601472Z",
     "iopub.status.idle": "2024-11-18T05:37:40.625854Z",
     "shell.execute_reply": "2024-11-18T05:37:40.624765Z"
    },
    "papermill": {
     "duration": 0.084768,
     "end_time": "2024-11-18T05:37:40.628135",
     "exception": false,
     "start_time": "2024-11-18T05:37:40.543367",
     "status": "completed"
    },
    "tags": []
   },
   "outputs": [
    {
     "data": {
      "text/html": [
       "<style>#sk-container-id-1 {color: black;background-color: white;}#sk-container-id-1 pre{padding: 0;}#sk-container-id-1 div.sk-toggleable {background-color: white;}#sk-container-id-1 label.sk-toggleable__label {cursor: pointer;display: block;width: 100%;margin-bottom: 0;padding: 0.3em;box-sizing: border-box;text-align: center;}#sk-container-id-1 label.sk-toggleable__label-arrow:before {content: \"▸\";float: left;margin-right: 0.25em;color: #696969;}#sk-container-id-1 label.sk-toggleable__label-arrow:hover:before {color: black;}#sk-container-id-1 div.sk-estimator:hover label.sk-toggleable__label-arrow:before {color: black;}#sk-container-id-1 div.sk-toggleable__content {max-height: 0;max-width: 0;overflow: hidden;text-align: left;background-color: #f0f8ff;}#sk-container-id-1 div.sk-toggleable__content pre {margin: 0.2em;color: black;border-radius: 0.25em;background-color: #f0f8ff;}#sk-container-id-1 input.sk-toggleable__control:checked~div.sk-toggleable__content {max-height: 200px;max-width: 100%;overflow: auto;}#sk-container-id-1 input.sk-toggleable__control:checked~label.sk-toggleable__label-arrow:before {content: \"▾\";}#sk-container-id-1 div.sk-estimator input.sk-toggleable__control:checked~label.sk-toggleable__label {background-color: #d4ebff;}#sk-container-id-1 div.sk-label input.sk-toggleable__control:checked~label.sk-toggleable__label {background-color: #d4ebff;}#sk-container-id-1 input.sk-hidden--visually {border: 0;clip: rect(1px 1px 1px 1px);clip: rect(1px, 1px, 1px, 1px);height: 1px;margin: -1px;overflow: hidden;padding: 0;position: absolute;width: 1px;}#sk-container-id-1 div.sk-estimator {font-family: monospace;background-color: #f0f8ff;border: 1px dotted black;border-radius: 0.25em;box-sizing: border-box;margin-bottom: 0.5em;}#sk-container-id-1 div.sk-estimator:hover {background-color: #d4ebff;}#sk-container-id-1 div.sk-parallel-item::after {content: \"\";width: 100%;border-bottom: 1px solid gray;flex-grow: 1;}#sk-container-id-1 div.sk-label:hover label.sk-toggleable__label {background-color: #d4ebff;}#sk-container-id-1 div.sk-serial::before {content: \"\";position: absolute;border-left: 1px solid gray;box-sizing: border-box;top: 0;bottom: 0;left: 50%;z-index: 0;}#sk-container-id-1 div.sk-serial {display: flex;flex-direction: column;align-items: center;background-color: white;padding-right: 0.2em;padding-left: 0.2em;position: relative;}#sk-container-id-1 div.sk-item {position: relative;z-index: 1;}#sk-container-id-1 div.sk-parallel {display: flex;align-items: stretch;justify-content: center;background-color: white;position: relative;}#sk-container-id-1 div.sk-item::before, #sk-container-id-1 div.sk-parallel-item::before {content: \"\";position: absolute;border-left: 1px solid gray;box-sizing: border-box;top: 0;bottom: 0;left: 50%;z-index: -1;}#sk-container-id-1 div.sk-parallel-item {display: flex;flex-direction: column;z-index: 1;position: relative;background-color: white;}#sk-container-id-1 div.sk-parallel-item:first-child::after {align-self: flex-end;width: 50%;}#sk-container-id-1 div.sk-parallel-item:last-child::after {align-self: flex-start;width: 50%;}#sk-container-id-1 div.sk-parallel-item:only-child::after {width: 0;}#sk-container-id-1 div.sk-dashed-wrapped {border: 1px dashed gray;margin: 0 0.4em 0.5em 0.4em;box-sizing: border-box;padding-bottom: 0.4em;background-color: white;}#sk-container-id-1 div.sk-label label {font-family: monospace;font-weight: bold;display: inline-block;line-height: 1.2em;}#sk-container-id-1 div.sk-label-container {text-align: center;}#sk-container-id-1 div.sk-container {/* jupyter's `normalize.less` sets `[hidden] { display: none; }` but bootstrap.min.css set `[hidden] { display: none !important; }` so we also need the `!important` here to be able to override the default hidden behavior on the sphinx rendered scikit-learn.org. See: https://github.com/scikit-learn/scikit-learn/issues/21755 */display: inline-block !important;position: relative;}#sk-container-id-1 div.sk-text-repr-fallback {display: none;}</style><div id=\"sk-container-id-1\" class=\"sk-top-container\"><div class=\"sk-text-repr-fallback\"><pre>LinearRegression()</pre><b>In a Jupyter environment, please rerun this cell to show the HTML representation or trust the notebook. <br />On GitHub, the HTML representation is unable to render, please try loading this page with nbviewer.org.</b></div><div class=\"sk-container\" hidden><div class=\"sk-item\"><div class=\"sk-estimator sk-toggleable\"><input class=\"sk-toggleable__control sk-hidden--visually\" id=\"sk-estimator-id-1\" type=\"checkbox\" checked><label for=\"sk-estimator-id-1\" class=\"sk-toggleable__label sk-toggleable__label-arrow\">LinearRegression</label><div class=\"sk-toggleable__content\"><pre>LinearRegression()</pre></div></div></div></div></div>"
      ],
      "text/plain": [
       "LinearRegression()"
      ]
     },
     "execution_count": 66,
     "metadata": {},
     "output_type": "execute_result"
    }
   ],
   "source": [
    "x, y = aggregated_data[['Count']], aggregated_data[['TotalSales']]\n",
    "reg = LinearRegression()\n",
    "#fitting the model\n",
    "reg.fit(x,y)"
   ]
  },
  {
   "cell_type": "code",
   "execution_count": 67,
   "id": "ba749db0",
   "metadata": {
    "execution": {
     "iopub.execute_input": "2024-11-18T05:37:40.747461Z",
     "iopub.status.busy": "2024-11-18T05:37:40.747078Z",
     "iopub.status.idle": "2024-11-18T05:37:40.757112Z",
     "shell.execute_reply": "2024-11-18T05:37:40.756096Z"
    },
    "papermill": {
     "duration": 0.075295,
     "end_time": "2024-11-18T05:37:40.759679",
     "exception": false,
     "start_time": "2024-11-18T05:37:40.684384",
     "status": "completed"
    },
    "tags": []
   },
   "outputs": [
    {
     "name": "stdout",
     "output_type": "stream",
     "text": [
      "R2 Score: 0.84\n",
      "MSE: 4228674034.71\n"
     ]
    }
   ],
   "source": [
    "predictions = reg.predict(x).flatten()\n",
    "# Example: Actual and predicted sales\n",
    "actual = aggregated_data['TotalSales']  # Replace with your actual values\n",
    "predicted = aggregated_data['Count']  # Replace with predicted values from your model\n",
    "# Calculate R²\n",
    "r2 = r2_score(actual, predictions)\n",
    "# Calculate MSE\n",
    "mse = mean_squared_error(actual, predictions)\n",
    "print(f\"R2 Score: {r2:.2f}\")\n",
    "print(f\"MSE: {mse:.2f}\")"
   ]
  },
  {
   "cell_type": "markdown",
   "id": "104c908a",
   "metadata": {
    "papermill": {
     "duration": 0.064875,
     "end_time": "2024-11-18T05:37:40.882075",
     "exception": false,
     "start_time": "2024-11-18T05:37:40.817200",
     "status": "completed"
    },
    "tags": []
   },
   "source": [
    "The model is reliable for strategic trends but needs fine-tuning for precise forecasting. Stakeholders can use it confidently but should stay aware of potential outliers or adjustments."
   ]
  },
  {
   "cell_type": "code",
   "execution_count": 68,
   "id": "f0d26f0f",
   "metadata": {
    "execution": {
     "iopub.execute_input": "2024-11-18T05:37:41.009239Z",
     "iopub.status.busy": "2024-11-18T05:37:41.008283Z",
     "iopub.status.idle": "2024-11-18T05:37:41.014912Z",
     "shell.execute_reply": "2024-11-18T05:37:41.013843Z"
    },
    "papermill": {
     "duration": 0.065893,
     "end_time": "2024-11-18T05:37:41.017718",
     "exception": false,
     "start_time": "2024-11-18T05:37:40.951825",
     "status": "completed"
    },
    "tags": []
   },
   "outputs": [
    {
     "name": "stdout",
     "output_type": "stream",
     "text": [
      "For 10 trips on a given day, expected sales is 66160.43\n",
      "For 30 trips on a given day, expected sales is 156899.48\n",
      "For 60 trips on a given day, expected sales is 293008.04\n"
     ]
    }
   ],
   "source": [
    "values =  [10, 30, 60]\n",
    "for value in values:\n",
    "    prediction =  reg.predict([[value]]).flatten()[0]\n",
    "    print(f\"For {value} trips on a given day, expected sales is {prediction:.2f}\")"
   ]
  },
  {
   "cell_type": "markdown",
   "id": "cdd5d62b",
   "metadata": {
    "id": "l8sH-CwNwZMH",
    "papermill": {
     "duration": 0.057756,
     "end_time": "2024-11-18T05:37:41.131644",
     "exception": false,
     "start_time": "2024-11-18T05:37:41.073888",
     "status": "completed"
    },
    "tags": []
   },
   "source": [
    "\n",
    "## Putting It All Together\n",
    "19. **What are the key takeaways from this data analysis?**\n",
    "\n",
    "The key takeaways from this data analysis is :-\n",
    "\n",
    "1. **Lead Generation Insights:**\n",
    "   - **Peak Lead Volume:** Lead count peaks in August (33.55%), with the lowest in July (12.63%), indicating a need to prepare for high lead volumes in the mid-year.\n",
    "   - **Lead Source 1 Dominates:** Lead Source 1 generates the highest volume of leads (71.17%) but shows inefficiencies in converting those leads to revenue (only 33.72% of revenue).\n",
    "\n",
    "2. **Trip Performance Insights:**\n",
    "   - **Seasonal Trip Variations:** August 2023 saw the highest trips (926), with a sharp decline in August 2024 (83.79%). There’s a recovery in October 2024 with a 139.06% increase in trips.\n",
    "   - **Monthly Fluctuations:** July 2024 had the least trips (64), signaling the need for better performance in the early months of the year.\n",
    "\n",
    "3. **Revenue Insights:**\n",
    "   - **Revenue Peaks and Declines:** Revenue peaked in August 2023 (₹5.27M) but saw a decline in October 2024 (₹0.94M). The 2024 recovery shows steady improvement, peaking at ₹1.09M in September.\n",
    "   - **Low Revenue-Lead Correlation:** A low correlation (0.22) between lead count and revenue highlights inefficiencies in converting leads into revenue.\n",
    "\n",
    "4. **Destination Insights:**\n",
    "   - **High Revenue Potential from Ladakh:** Despite fewer leads, Ladakh generates higher revenue (8.52%), indicating high-value customers.\n",
    "   - **Conversion Rates:** Spiti Valley shows the highest conversion rate (0.277), while destinations like Kashmir and Bhutan show low conversion rates, presenting opportunities for improvement.\n",
    "\n",
    "5. **Sales Performance Insights:**\n",
    "   - **Top Performers Stand Out:** Sales Person 0 shows strong conversion rates and should serve as a model for others. Sales Person 33 converts more leads despite being assigned more, suggesting that lead quality matters more than volume.\n",
    "   - **Low Conversion from Ex-Clients:** While Ex-clients convert at 3.65%, the conversion rate from new clients is only 2%, indicating a need to attract and convert new clients more effectively.\n",
    "\n",
    "6. **Operational Insights:**\n",
    "   - **Passenger Count Correlation with Revenue:** A moderate correlation (0.57) exists between the number of passengers and total bill, suggesting more passengers generally lead to higher revenue."
   ]
  },
  {
   "cell_type": "markdown",
   "id": "4d1ea50c",
   "metadata": {
    "papermill": {
     "duration": 0.055589,
     "end_time": "2024-11-18T05:37:41.243417",
     "exception": false,
     "start_time": "2024-11-18T05:37:41.187828",
     "status": "completed"
    },
    "tags": []
   },
   "source": [
    "## Recommendations"
   ]
  },
  {
   "cell_type": "markdown",
   "id": "9ddcb471",
   "metadata": {
    "id": "HWCb-vb5wbIU",
    "papermill": {
     "duration": 0.05711,
     "end_time": "2024-11-18T05:37:41.356033",
     "exception": false,
     "start_time": "2024-11-18T05:37:41.298923",
     "status": "completed"
    },
    "tags": []
   },
   "source": [
    "20. **What strategic recommendations can be made based on this analysis?**\n",
    "\n",
    "Below are the strategic recommendations that can be made based on the analysis:-\n",
    "\n",
    "\n",
    "1. **Improve Lead Conversion Efficiency:**\n",
    "   - **Focus on Lead Source 1:** While Lead Source 1 generates the most leads, improve conversion rates through better lead nurturing, qualification, and follow-up strategies.\n",
    "   - **Replicate Success from Lead Source 3:** Focus on converting leads from Lead Source 3, as they bring higher revenue despite their lower volume.\n",
    "\n",
    "2. **Optimize Trip Promotions:**\n",
    "   - **Increase Early-Year Trip Numbers:** Address the low trip count in July 2024 by launching early-year promotions and packages to boost demand.\n",
    "   - **Capitalize on Recovery in October:** Analyze the reasons behind the October trip increase and replicate successful strategies for other months.\n",
    "\n",
    "3. **Boost Revenue by Improving Conversion:**\n",
    "   - **Enhance Revenue from High-Potential Regions:** Focus on high-revenue generating regions like Ladakh, and explore strategies to increase conversions in underperforming regions like Kashmir and Bhutan.\n",
    "   - **Optimize for Budget-Conscious Customers:** Since 87% of customers prefer to spend under ₹400,000, create more affordable packages to appeal to a broader customer base.\n",
    "\n",
    "4. **Sales Strategy Improvements:**\n",
    "   - **Model Success of Top Performers:** Encourage other salespeople to adopt strategies similar to Sales Person 0, especially promoting high-conversion trips like BYOG.\n",
    "   - **Target Training to Underperforming Salespeople:** Provide additional training to salespeople with lower conversion rates (e.g., Sales People 52, 49, 50) to improve their efficiency.\n",
    "\n",
    "5. **Focus on Ex-Client Conversions:**\n",
    "   - **Nurture Ex-Clients:** Since Ex-clients show a higher conversion rate, invest in targeted outreach to past customers, offering incentives for repeat bookings and upselling.\n",
    "\n",
    "6. **Operational Adjustments:**\n",
    "   - **Optimize Passenger Groups:** Since passenger count correlates with total bill, focus on increasing group sizes where possible, adjusting pricing models or optimizing operations to accommodate larger groups.\n",
    "\n",
    "**Conclusion**\n",
    "\n",
    "In conclusion, these recommendations provide a strategic approach to optimizing lead management and increasing conversion rates. By focusing on these recommendations, the business can improve lead-to-revenue conversion, capitalize on high-value destinations, enhance customer satisfaction, and boost overall profitability."
   ]
  }
 ],
 "metadata": {
  "colab": {
   "provenance": []
  },
  "kaggle": {
   "accelerator": "none",
   "dataSources": [],
   "dockerImageVersionId": 30698,
   "isGpuEnabled": false,
   "isInternetEnabled": true,
   "language": "python",
   "sourceType": "notebook"
  },
  "kernelspec": {
   "display_name": "Python 3",
   "language": "python",
   "name": "python3"
  },
  "language_info": {
   "codemirror_mode": {
    "name": "ipython",
    "version": 3
   },
   "file_extension": ".py",
   "mimetype": "text/x-python",
   "name": "python",
   "nbconvert_exporter": "python",
   "pygments_lexer": "ipython3",
   "version": "3.10.13"
  },
  "papermill": {
   "default_parameters": {},
   "duration": 48.145175,
   "end_time": "2024-11-18T05:37:42.033632",
   "environment_variables": {},
   "exception": null,
   "input_path": "__notebook__.ipynb",
   "output_path": "__notebook__.ipynb",
   "parameters": {},
   "start_time": "2024-11-18T05:36:53.888457",
   "version": "2.5.0"
  }
 },
 "nbformat": 4,
 "nbformat_minor": 5
}
