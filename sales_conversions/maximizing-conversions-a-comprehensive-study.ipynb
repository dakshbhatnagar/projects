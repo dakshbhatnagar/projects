{
 "cells": [
  {
   "cell_type": "markdown",
   "id": "ee9e99db",
   "metadata": {
    "id": "YUn0Se-5LQzB",
    "papermill": {
     "duration": 0.020458,
     "end_time": "2024-09-08T14:12:04.805774",
     "exception": false,
     "start_time": "2024-09-08T14:12:04.785316",
     "status": "completed"
    },
    "tags": []
   },
   "source": [
    "\n",
    "<body>\n",
    "  <h2><font color=\"blue\">Maximizing Conversions: A Comprehensive Study of Leads & Sales Performance</font></h2>\n",
    "</body>\n",
    "\n",
    "## Introduction\n",
    "\n",
    "This notebook presents an analysis of lead conversion data collected from a travel booking company. The dataset includes various attributes related to leads, their sources, assigned agents, enquiry destinations, and the outcomes of these leads. By examining this data, we aim to uncover key insights and trends that can help in understanding the effectiveness of different lead sources, the performance of agents, and the preferences of clients.\n",
    "\n",
    "![image](94676301.cms.jpeg)\n",
    "---\n",
    "\n",
    "\n",
    "\n",
    "### Dataset Overview\n",
    "\n",
    "The dataset contains the following columns:\n",
    "\n",
    "- **Lead Date:** The date when the lead was generated.\n",
    "- **Lead Source:** The origin of the lead (e.g., website, referral, advertisement).\n",
    "- **Name:** The name of the lead.\n",
    "- **Phone:** The contact phone number of the lead.\n",
    "- **Assigned To:** The agent assigned to handle the lead.\n",
    "- **Enquiry Destination:** The travel destination the lead is interested in.\n",
    "- **ExClient:** A flag indicating whether the lead is an existing client.\n",
    "- **Status:** The current status of the lead (e.g., converted, not converted (Blank).\n",
    "- **Conversion Date:** The date when the lead was converted (if applicable).\n",
    "- **Trip:** Trip Name.\n",
    "- **Trip Date:** The date of the booked trip (if applicable).\n",
    "- **Booking ID:** The unique identifier for the booking (if applicable).\n",
    "- **Pax:** The number of passengers for the booking.\n",
    "- **Per Person Cost:** The cost per person for the trip.\n",
    "- **Total Bill:** The total bill amount for the booking.\n",
    "- **Converted By:** The agent who converted the lead.\n",
    "- **Date:** The lead date (minus the timestamp). -- An Extracted Column\n",
    "- **Month:** The month of lead date -- An Extracted Column\n",
    "\n",
    "---\n",
    "\n",
    "### Objectives\n",
    "\n",
    "Through this analysis, we aim to answer several key questions:\n",
    "\n",
    "1. What are the overall trends in lead generation and conversion?\n",
    "2. Which lead sources are most effective in generating conversions?\n",
    "3. How do different enquiry destinations fare in terms of conversion rates?\n",
    "4. What is the performance of individual agents in terms of conversion rates?\n",
    "5. Are there any notable patterns or anomalies in the data?\n",
    "\n",
    "By the end of this analysis, I hope to provide actionable insights and strategic recommendations to enhance lead conversion rates and overall business performance.\n"
   ]
  },
  {
   "cell_type": "markdown",
   "id": "c529cbe6",
   "metadata": {
    "id": "1OlXXDSt4qCy",
    "papermill": {
     "duration": 0.020282,
     "end_time": "2024-09-08T14:12:04.847644",
     "exception": false,
     "start_time": "2024-09-08T14:12:04.827362",
     "status": "completed"
    },
    "tags": []
   },
   "source": [
    "## Executive Summary\n",
    "\n",
    "This analysis of lead conversion data from a travel booking company highlights key insights and strategic recommendations to improve business performance. Key findings include:\n",
    "\n",
    "- **Popular Destinations**: Ladakh and Spiti Valley are the most sought-after destinations.\n",
    "- **High Revenue Destination**: Ladakh has the highest average total bill for bookings.\n",
    "- **Top Performers**: Sales Person 33 has the highest conversion rate, while Sales Person 0 contributes the most to overall conversions.\n",
    "- **Lead Source and Timing**: The majority of leads come from Lead Source 1, with peak lead volume occurring in August.\n",
    "- **2024 Performance Decline**: There is a notable decrease in trip counts and revenue in 2024 compared to 2023.\n",
    "\n",
    "### Recommendations\n",
    "\n",
    "1. **Reduce Dependency on Lead Source 1**:\n",
    "   - Diversify lead generation strategies.\n",
    "\n",
    "2. **Improve Sales Personnel Conversion Rates**:\n",
    "   - Provide targeted training and resources to underperforming sales staff.\n",
    "\n",
    "3. **Promote Underperforming Destinations**:\n",
    "   - Run discounts and special promotions.\n",
    "\n",
    "4. **Capitalize on Peak Periods**:\n",
    "   - Focus marketing efforts during high lead months like August.\n",
    "\n",
    "5. **Investigate 2024 Performance**:\n",
    "   - Analyze factors contributing to the decline and adjust strategies.\n",
    "\n",
    "By implementing these recommendations, the company can enhance lead management, improve conversion rates, and drive sustainable growth."
   ]
  },
  {
   "cell_type": "code",
   "execution_count": 1,
   "id": "426d5092",
   "metadata": {
    "execution": {
     "iopub.execute_input": "2024-09-08T14:12:04.889983Z",
     "iopub.status.busy": "2024-09-08T14:12:04.889596Z",
     "iopub.status.idle": "2024-09-08T14:12:06.787334Z",
     "shell.execute_reply": "2024-09-08T14:12:06.786241Z"
    },
    "id": "d0v_k-iwPpym",
    "papermill": {
     "duration": 1.92181,
     "end_time": "2024-09-08T14:12:06.790034",
     "exception": false,
     "start_time": "2024-09-08T14:12:04.868224",
     "status": "completed"
    },
    "tags": []
   },
   "outputs": [],
   "source": [
    "#Importing Essential Libraries\n",
    "import warnings\n",
    "warnings.filterwarnings(\"ignore\")\n",
    "import pandas as pd\n",
    "import numpy as np\n",
    "import scipy.stats as stats\n",
    "from matplotlib import pyplot as plt\n",
    "import sqlite3\n",
    "plt.rcParams['figure.figsize'] = (25,6)\n",
    "plt.rcParams['font.size'] = 14\n",
    "plt.rcParams['axes.spines.right'] = False\n",
    "plt.rcParams['axes.spines.top'] = False"
   ]
  },
  {
   "cell_type": "code",
   "execution_count": 2,
   "id": "87046268",
   "metadata": {
    "execution": {
     "iopub.execute_input": "2024-09-08T14:12:06.832991Z",
     "iopub.status.busy": "2024-09-08T14:12:06.832492Z",
     "iopub.status.idle": "2024-09-08T14:12:07.902562Z",
     "shell.execute_reply": "2024-09-08T14:12:07.901379Z"
    },
    "id": "wLYc5ezJRHxQ",
    "papermill": {
     "duration": 1.094947,
     "end_time": "2024-09-08T14:12:07.905791",
     "exception": false,
     "start_time": "2024-09-08T14:12:06.810844",
     "status": "completed"
    },
    "tags": []
   },
   "outputs": [],
   "source": [
    "#reading the CSV\n",
    "PATH = r'https://raw.githubusercontent.com/dakshbhatnagar/Datasets/main/sales_conversion/Data.csv'\n",
    "df = pd.read_csv(PATH)\n",
    "#removing the spaces in column names\n",
    "df.columns = [i.replace(\" \", \"\") for i in df.columns]"
   ]
  },
  {
   "cell_type": "code",
   "execution_count": 3,
   "id": "f31ea860",
   "metadata": {
    "execution": {
     "iopub.execute_input": "2024-09-08T14:12:07.968619Z",
     "iopub.status.busy": "2024-09-08T14:12:07.967413Z",
     "iopub.status.idle": "2024-09-08T14:12:08.083684Z",
     "shell.execute_reply": "2024-09-08T14:12:08.082571Z"
    },
    "papermill": {
     "duration": 0.149495,
     "end_time": "2024-09-08T14:12:08.086299",
     "exception": false,
     "start_time": "2024-09-08T14:12:07.936804",
     "status": "completed"
    },
    "tags": []
   },
   "outputs": [],
   "source": [
    "cols = list(df.columns[df.columns.str.contains('Date')])\n",
    "for i in cols:\n",
    "    df[i] = pd.to_datetime(df[i])"
   ]
  },
  {
   "cell_type": "code",
   "execution_count": 4,
   "id": "8a35b256",
   "metadata": {
    "execution": {
     "iopub.execute_input": "2024-09-08T14:12:08.128994Z",
     "iopub.status.busy": "2024-09-08T14:12:08.128607Z",
     "iopub.status.idle": "2024-09-08T14:12:08.157219Z",
     "shell.execute_reply": "2024-09-08T14:12:08.156028Z"
    },
    "id": "v1CdUSlHOM36",
    "outputId": "13e898f0-3863-4731-ac7b-7f0c5f132ef4",
    "papermill": {
     "duration": 0.052735,
     "end_time": "2024-09-08T14:12:08.159627",
     "exception": false,
     "start_time": "2024-09-08T14:12:08.106892",
     "status": "completed"
    },
    "tags": []
   },
   "outputs": [
    {
     "data": {
      "text/html": [
       "<div>\n",
       "<style scoped>\n",
       "    .dataframe tbody tr th:only-of-type {\n",
       "        vertical-align: middle;\n",
       "    }\n",
       "\n",
       "    .dataframe tbody tr th {\n",
       "        vertical-align: top;\n",
       "    }\n",
       "\n",
       "    .dataframe thead th {\n",
       "        text-align: right;\n",
       "    }\n",
       "</style>\n",
       "<table border=\"1\" class=\"dataframe\">\n",
       "  <thead>\n",
       "    <tr style=\"text-align: right;\">\n",
       "      <th></th>\n",
       "      <th>LeadDate</th>\n",
       "      <th>LeadSource</th>\n",
       "      <th>Name</th>\n",
       "      <th>Phone</th>\n",
       "      <th>AssignedTo</th>\n",
       "      <th>EnquiryDestination</th>\n",
       "      <th>ExClient</th>\n",
       "      <th>Status</th>\n",
       "      <th>ConversionDate</th>\n",
       "      <th>Trip</th>\n",
       "      <th>TripDate</th>\n",
       "      <th>BookingID</th>\n",
       "      <th>Pax</th>\n",
       "      <th>PerPersonCost</th>\n",
       "      <th>TotalBill</th>\n",
       "      <th>ConvertedBy</th>\n",
       "      <th>Date</th>\n",
       "      <th>Month</th>\n",
       "    </tr>\n",
       "  </thead>\n",
       "  <tbody>\n",
       "    <tr>\n",
       "      <th>0</th>\n",
       "      <td>2023-07-16 05:34:00</td>\n",
       "      <td>Lead Source 1</td>\n",
       "      <td>jzjwPXoyff nrw</td>\n",
       "      <td>(&amp;))^!%@!!</td>\n",
       "      <td>Sales Person 1</td>\n",
       "      <td>Vietnam</td>\n",
       "      <td>NaN</td>\n",
       "      <td>NaN</td>\n",
       "      <td>NaT</td>\n",
       "      <td>NaN</td>\n",
       "      <td>NaT</td>\n",
       "      <td>NaN</td>\n",
       "      <td>NaN</td>\n",
       "      <td>NaN</td>\n",
       "      <td>NaN</td>\n",
       "      <td>NaN</td>\n",
       "      <td>2023-07-16</td>\n",
       "      <td>Jul</td>\n",
       "    </tr>\n",
       "    <tr>\n",
       "      <th>1</th>\n",
       "      <td>2023-07-16 05:39:00</td>\n",
       "      <td>Lead Source 2</td>\n",
       "      <td>mfz|Xn iwnnwY</td>\n",
       "      <td>*@!!@%*$##</td>\n",
       "      <td>Sales Person 2</td>\n",
       "      <td>Andaman</td>\n",
       "      <td>NaN</td>\n",
       "      <td>NaN</td>\n",
       "      <td>NaT</td>\n",
       "      <td>NaN</td>\n",
       "      <td>NaT</td>\n",
       "      <td>NaN</td>\n",
       "      <td>NaN</td>\n",
       "      <td>NaN</td>\n",
       "      <td>NaN</td>\n",
       "      <td>NaN</td>\n",
       "      <td>2023-07-16</td>\n",
       "      <td>Jul</td>\n",
       "    </tr>\n",
       "    <tr>\n",
       "      <th>2</th>\n",
       "      <td>2023-07-16 05:39:00</td>\n",
       "      <td>Lead Source 1</td>\n",
       "      <td>wwmâMãmgxm Çä</td>\n",
       "      <td>*)((^#@)!#</td>\n",
       "      <td>Sales Person 0</td>\n",
       "      <td>Himachal Trips</td>\n",
       "      <td>NaN</td>\n",
       "      <td>NaN</td>\n",
       "      <td>NaT</td>\n",
       "      <td>NaN</td>\n",
       "      <td>NaT</td>\n",
       "      <td>NaN</td>\n",
       "      <td>NaN</td>\n",
       "      <td>NaN</td>\n",
       "      <td>NaN</td>\n",
       "      <td>NaN</td>\n",
       "      <td>2023-07-16</td>\n",
       "      <td>Jul</td>\n",
       "    </tr>\n",
       "    <tr>\n",
       "      <th>3</th>\n",
       "      <td>2023-07-16 05:42:00</td>\n",
       "      <td>Lead Source 1</td>\n",
       "      <td>lZ sf XfmsfWwyn</td>\n",
       "      <td>(&amp;$)##!@)%</td>\n",
       "      <td>Sales Person 3</td>\n",
       "      <td>Ladakh</td>\n",
       "      <td>NaN</td>\n",
       "      <td>NaN</td>\n",
       "      <td>NaT</td>\n",
       "      <td>NaN</td>\n",
       "      <td>NaT</td>\n",
       "      <td>NaN</td>\n",
       "      <td>NaN</td>\n",
       "      <td>NaN</td>\n",
       "      <td>NaN</td>\n",
       "      <td>NaN</td>\n",
       "      <td>2023-07-16</td>\n",
       "      <td>Jul</td>\n",
       "    </tr>\n",
       "    <tr>\n",
       "      <th>4</th>\n",
       "      <td>2023-07-16 05:55:00</td>\n",
       "      <td>Lead Source 1</td>\n",
       "      <td>fXwnfwfsXpl</td>\n",
       "      <td>)*&amp;%($$$##</td>\n",
       "      <td>Sales Person 0</td>\n",
       "      <td>Spiti Valley</td>\n",
       "      <td>NaN</td>\n",
       "      <td>NaN</td>\n",
       "      <td>NaT</td>\n",
       "      <td>NaN</td>\n",
       "      <td>NaT</td>\n",
       "      <td>NaN</td>\n",
       "      <td>NaN</td>\n",
       "      <td>NaN</td>\n",
       "      <td>NaN</td>\n",
       "      <td>NaN</td>\n",
       "      <td>2023-07-16</td>\n",
       "      <td>Jul</td>\n",
       "    </tr>\n",
       "  </tbody>\n",
       "</table>\n",
       "</div>"
      ],
      "text/plain": [
       "             LeadDate     LeadSource             Name       Phone  \\\n",
       "0 2023-07-16 05:34:00  Lead Source 1   jzjwPXoyff nrw  (&))^!%@!!   \n",
       "1 2023-07-16 05:39:00  Lead Source 2    mfz|Xn iwnnwY  *@!!@%*$##   \n",
       "2 2023-07-16 05:39:00  Lead Source 1    wwmâMãmgxm Çä  *)((^#@)!#   \n",
       "3 2023-07-16 05:42:00  Lead Source 1  lZ sf XfmsfWwyn  (&$)##!@)%   \n",
       "4 2023-07-16 05:55:00  Lead Source 1     fXwnfwfsXpl   )*&%($$$##   \n",
       "\n",
       "       AssignedTo EnquiryDestination ExClient Status ConversionDate Trip  \\\n",
       "0  Sales Person 1            Vietnam      NaN    NaN            NaT  NaN   \n",
       "1  Sales Person 2            Andaman      NaN    NaN            NaT  NaN   \n",
       "2  Sales Person 0     Himachal Trips      NaN    NaN            NaT  NaN   \n",
       "3  Sales Person 3             Ladakh      NaN    NaN            NaT  NaN   \n",
       "4  Sales Person 0       Spiti Valley      NaN    NaN            NaT  NaN   \n",
       "\n",
       "  TripDate BookingID  Pax  PerPersonCost  TotalBill ConvertedBy       Date  \\\n",
       "0      NaT       NaN  NaN            NaN        NaN         NaN 2023-07-16   \n",
       "1      NaT       NaN  NaN            NaN        NaN         NaN 2023-07-16   \n",
       "2      NaT       NaN  NaN            NaN        NaN         NaN 2023-07-16   \n",
       "3      NaT       NaN  NaN            NaN        NaN         NaN 2023-07-16   \n",
       "4      NaT       NaN  NaN            NaN        NaN         NaN 2023-07-16   \n",
       "\n",
       "  Month  \n",
       "0   Jul  \n",
       "1   Jul  \n",
       "2   Jul  \n",
       "3   Jul  \n",
       "4   Jul  "
      ]
     },
     "execution_count": 4,
     "metadata": {},
     "output_type": "execute_result"
    }
   ],
   "source": [
    "df.head()"
   ]
  },
  {
   "cell_type": "code",
   "execution_count": 5,
   "id": "170e9d58",
   "metadata": {
    "execution": {
     "iopub.execute_input": "2024-09-08T14:12:08.214843Z",
     "iopub.status.busy": "2024-09-08T14:12:08.214164Z",
     "iopub.status.idle": "2024-09-08T14:12:08.275441Z",
     "shell.execute_reply": "2024-09-08T14:12:08.274292Z"
    },
    "id": "6M5otGWJ5H63",
    "outputId": "462eda27-352d-42fe-8f5b-02d3bb4e5542",
    "papermill": {
     "duration": 0.097559,
     "end_time": "2024-09-08T14:12:08.278049",
     "exception": false,
     "start_time": "2024-09-08T14:12:08.180490",
     "status": "completed"
    },
    "tags": []
   },
   "outputs": [
    {
     "data": {
      "text/plain": [
       "LeadDate               0.00\n",
       "LeadSource             0.00\n",
       "Name                   0.36\n",
       "Phone                  0.00\n",
       "AssignedTo             0.00\n",
       "EnquiryDestination     6.48\n",
       "ExClient              96.34\n",
       "Status                96.54\n",
       "ConversionDate        96.54\n",
       "Trip                  96.54\n",
       "TripDate              96.54\n",
       "BookingID             96.54\n",
       "Pax                   96.54\n",
       "PerPersonCost         96.54\n",
       "TotalBill             96.54\n",
       "ConvertedBy           96.54\n",
       "Date                   0.00\n",
       "Month                  0.00\n",
       "dtype: float64"
      ]
     },
     "execution_count": 5,
     "metadata": {},
     "output_type": "execute_result"
    }
   ],
   "source": [
    "#Null value counts (in %)\n",
    "round(df.isnull().sum()/len(df)*100,2)"
   ]
  },
  {
   "cell_type": "code",
   "execution_count": 6,
   "id": "7d4f0fae",
   "metadata": {
    "execution": {
     "iopub.execute_input": "2024-09-08T14:12:08.323423Z",
     "iopub.status.busy": "2024-09-08T14:12:08.322927Z",
     "iopub.status.idle": "2024-09-08T14:12:08.377369Z",
     "shell.execute_reply": "2024-09-08T14:12:08.376280Z"
    },
    "id": "e7TlBa3H5ejz",
    "outputId": "d9505e27-6652-4397-d300-767660eb60ce",
    "papermill": {
     "duration": 0.080019,
     "end_time": "2024-09-08T14:12:08.380160",
     "exception": false,
     "start_time": "2024-09-08T14:12:08.300141",
     "status": "completed"
    },
    "tags": []
   },
   "outputs": [
    {
     "data": {
      "text/html": [
       "<div>\n",
       "<style scoped>\n",
       "    .dataframe tbody tr th:only-of-type {\n",
       "        vertical-align: middle;\n",
       "    }\n",
       "\n",
       "    .dataframe tbody tr th {\n",
       "        vertical-align: top;\n",
       "    }\n",
       "\n",
       "    .dataframe thead th {\n",
       "        text-align: right;\n",
       "    }\n",
       "</style>\n",
       "<table border=\"1\" class=\"dataframe\">\n",
       "  <thead>\n",
       "    <tr style=\"text-align: right;\">\n",
       "      <th></th>\n",
       "      <th>LeadDate</th>\n",
       "      <th>ConversionDate</th>\n",
       "      <th>TripDate</th>\n",
       "      <th>Pax</th>\n",
       "      <th>PerPersonCost</th>\n",
       "      <th>TotalBill</th>\n",
       "      <th>Date</th>\n",
       "    </tr>\n",
       "  </thead>\n",
       "  <tbody>\n",
       "    <tr>\n",
       "      <th>count</th>\n",
       "      <td>93481</td>\n",
       "      <td>3232</td>\n",
       "      <td>3232</td>\n",
       "      <td>3232.000000</td>\n",
       "      <td>3232.000000</td>\n",
       "      <td>3232.000000</td>\n",
       "      <td>93481</td>\n",
       "    </tr>\n",
       "    <tr>\n",
       "      <th>mean</th>\n",
       "      <td>2023-09-05 04:58:08.814411776</td>\n",
       "      <td>2023-09-14 01:47:53.970916096</td>\n",
       "      <td>2023-11-03 16:53:10.099010304</td>\n",
       "      <td>2.108911</td>\n",
       "      <td>2747.937191</td>\n",
       "      <td>5778.488552</td>\n",
       "      <td>2023-09-04 14:51:13.522961664</td>\n",
       "    </tr>\n",
       "    <tr>\n",
       "      <th>min</th>\n",
       "      <td>2023-07-16 05:34:00</td>\n",
       "      <td>2023-07-17 13:13:32</td>\n",
       "      <td>2023-06-17 00:00:00</td>\n",
       "      <td>1.000000</td>\n",
       "      <td>0.000000</td>\n",
       "      <td>0.000000</td>\n",
       "      <td>2023-07-16 00:00:00</td>\n",
       "    </tr>\n",
       "    <tr>\n",
       "      <th>25%</th>\n",
       "      <td>2023-08-13 01:20:00</td>\n",
       "      <td>2023-08-21 11:58:28</td>\n",
       "      <td>2023-09-11 18:00:00</td>\n",
       "      <td>1.000000</td>\n",
       "      <td>1764.000000</td>\n",
       "      <td>2142.000000</td>\n",
       "      <td>2023-08-13 00:00:00</td>\n",
       "    </tr>\n",
       "    <tr>\n",
       "      <th>50%</th>\n",
       "      <td>2023-09-04 19:25:00</td>\n",
       "      <td>2023-09-16 15:30:06.500000</td>\n",
       "      <td>2023-10-31 00:00:00</td>\n",
       "      <td>2.000000</td>\n",
       "      <td>2240.000000</td>\n",
       "      <td>4128.000000</td>\n",
       "      <td>2023-09-04 00:00:00</td>\n",
       "    </tr>\n",
       "    <tr>\n",
       "      <th>75%</th>\n",
       "      <td>2023-09-28 12:35:00</td>\n",
       "      <td>2023-10-10 14:17:22.750000128</td>\n",
       "      <td>2023-11-28 00:00:00</td>\n",
       "      <td>2.000000</td>\n",
       "      <td>3155.250000</td>\n",
       "      <td>6741.000000</td>\n",
       "      <td>2023-09-28 00:00:00</td>\n",
       "    </tr>\n",
       "    <tr>\n",
       "      <th>max</th>\n",
       "      <td>2023-10-24 23:56:00</td>\n",
       "      <td>2023-10-26 15:46:13</td>\n",
       "      <td>2024-06-14 00:00:00</td>\n",
       "      <td>21.000000</td>\n",
       "      <td>99760.000000</td>\n",
       "      <td>139680.000000</td>\n",
       "      <td>2023-10-24 00:00:00</td>\n",
       "    </tr>\n",
       "    <tr>\n",
       "      <th>std</th>\n",
       "      <td>NaN</td>\n",
       "      <td>NaN</td>\n",
       "      <td>NaN</td>\n",
       "      <td>1.652555</td>\n",
       "      <td>2849.761607</td>\n",
       "      <td>7114.953276</td>\n",
       "      <td>NaN</td>\n",
       "    </tr>\n",
       "  </tbody>\n",
       "</table>\n",
       "</div>"
      ],
      "text/plain": [
       "                            LeadDate                 ConversionDate  \\\n",
       "count                          93481                           3232   \n",
       "mean   2023-09-05 04:58:08.814411776  2023-09-14 01:47:53.970916096   \n",
       "min              2023-07-16 05:34:00            2023-07-17 13:13:32   \n",
       "25%              2023-08-13 01:20:00            2023-08-21 11:58:28   \n",
       "50%              2023-09-04 19:25:00     2023-09-16 15:30:06.500000   \n",
       "75%              2023-09-28 12:35:00  2023-10-10 14:17:22.750000128   \n",
       "max              2023-10-24 23:56:00            2023-10-26 15:46:13   \n",
       "std                              NaN                            NaN   \n",
       "\n",
       "                            TripDate          Pax  PerPersonCost  \\\n",
       "count                           3232  3232.000000    3232.000000   \n",
       "mean   2023-11-03 16:53:10.099010304     2.108911    2747.937191   \n",
       "min              2023-06-17 00:00:00     1.000000       0.000000   \n",
       "25%              2023-09-11 18:00:00     1.000000    1764.000000   \n",
       "50%              2023-10-31 00:00:00     2.000000    2240.000000   \n",
       "75%              2023-11-28 00:00:00     2.000000    3155.250000   \n",
       "max              2024-06-14 00:00:00    21.000000   99760.000000   \n",
       "std                              NaN     1.652555    2849.761607   \n",
       "\n",
       "           TotalBill                           Date  \n",
       "count    3232.000000                          93481  \n",
       "mean     5778.488552  2023-09-04 14:51:13.522961664  \n",
       "min         0.000000            2023-07-16 00:00:00  \n",
       "25%      2142.000000            2023-08-13 00:00:00  \n",
       "50%      4128.000000            2023-09-04 00:00:00  \n",
       "75%      6741.000000            2023-09-28 00:00:00  \n",
       "max    139680.000000            2023-10-24 00:00:00  \n",
       "std      7114.953276                            NaN  "
      ]
     },
     "execution_count": 6,
     "metadata": {},
     "output_type": "execute_result"
    }
   ],
   "source": [
    "#Some statistical Info about numerical columns\n",
    "df.describe()"
   ]
  },
  {
   "cell_type": "code",
   "execution_count": 7,
   "id": "006e94c8",
   "metadata": {
    "execution": {
     "iopub.execute_input": "2024-09-08T14:12:08.430958Z",
     "iopub.status.busy": "2024-09-08T14:12:08.430564Z",
     "iopub.status.idle": "2024-09-08T14:12:08.436014Z",
     "shell.execute_reply": "2024-09-08T14:12:08.434783Z"
    },
    "id": "iijWBXjQRvKJ",
    "papermill": {
     "duration": 0.030817,
     "end_time": "2024-09-08T14:12:08.438782",
     "exception": false,
     "start_time": "2024-09-08T14:12:08.407965",
     "status": "completed"
    },
    "tags": []
   },
   "outputs": [],
   "source": [
    "#setting up the sqlite3 database connection\n",
    "conn = sqlite3.connect('data.db')"
   ]
  },
  {
   "cell_type": "code",
   "execution_count": 8,
   "id": "c832256d",
   "metadata": {
    "execution": {
     "iopub.execute_input": "2024-09-08T14:12:08.488023Z",
     "iopub.status.busy": "2024-09-08T14:12:08.487547Z",
     "iopub.status.idle": "2024-09-08T14:12:09.907010Z",
     "shell.execute_reply": "2024-09-08T14:12:09.906107Z"
    },
    "id": "Yd5pg7ttXTYW",
    "outputId": "b9ee76ef-b760-4dc9-998d-a954ccd3420c",
    "papermill": {
     "duration": 1.444433,
     "end_time": "2024-09-08T14:12:09.909371",
     "exception": false,
     "start_time": "2024-09-08T14:12:08.464938",
     "status": "completed"
    },
    "tags": []
   },
   "outputs": [
    {
     "data": {
      "text/plain": [
       "93481"
      ]
     },
     "execution_count": 8,
     "metadata": {},
     "output_type": "execute_result"
    }
   ],
   "source": [
    "#Converting the data to SQLite3 DB file\n",
    "df.to_sql('travels', conn, if_exists='replace', index=False)"
   ]
  },
  {
   "cell_type": "code",
   "execution_count": 9,
   "id": "653deab2",
   "metadata": {
    "execution": {
     "iopub.execute_input": "2024-09-08T14:12:10.011328Z",
     "iopub.status.busy": "2024-09-08T14:12:10.010912Z",
     "iopub.status.idle": "2024-09-08T14:12:10.630354Z",
     "shell.execute_reply": "2024-09-08T14:12:10.629053Z"
    },
    "id": "DGn17Y7kYyTf",
    "papermill": {
     "duration": 0.644519,
     "end_time": "2024-09-08T14:12:10.633084",
     "exception": false,
     "start_time": "2024-09-08T14:12:09.988565",
     "status": "completed"
    },
    "tags": []
   },
   "outputs": [],
   "source": [
    "#Adding an Year Column and assigning it back to df\n",
    "query = '''\n",
    "select *, strftime('%Y', TripDate) AS TripYear from travels\n",
    "\n",
    "'''\n",
    "df = pd.read_sql(query, conn)"
   ]
  },
  {
   "cell_type": "code",
   "execution_count": 10,
   "id": "e1e1a2d0",
   "metadata": {
    "execution": {
     "iopub.execute_input": "2024-09-08T14:12:10.677285Z",
     "iopub.status.busy": "2024-09-08T14:12:10.676888Z",
     "iopub.status.idle": "2024-09-08T14:12:11.761584Z",
     "shell.execute_reply": "2024-09-08T14:12:11.760342Z"
    },
    "id": "U4g6aWBBZtVB",
    "outputId": "1368878d-13d9-436c-8c2f-46d8072fc4bf",
    "papermill": {
     "duration": 1.10966,
     "end_time": "2024-09-08T14:12:11.764064",
     "exception": false,
     "start_time": "2024-09-08T14:12:10.654404",
     "status": "completed"
    },
    "tags": []
   },
   "outputs": [
    {
     "data": {
      "text/plain": [
       "93481"
      ]
     },
     "execution_count": 10,
     "metadata": {},
     "output_type": "execute_result"
    }
   ],
   "source": [
    "#Replacing the DB file with the added column\n",
    "df.to_sql('travels', conn, if_exists='replace', index=False)"
   ]
  },
  {
   "cell_type": "code",
   "execution_count": 11,
   "id": "86a38219",
   "metadata": {
    "execution": {
     "iopub.execute_input": "2024-09-08T14:12:11.809928Z",
     "iopub.status.busy": "2024-09-08T14:12:11.809557Z",
     "iopub.status.idle": "2024-09-08T14:12:11.814463Z",
     "shell.execute_reply": "2024-09-08T14:12:11.813253Z"
    },
    "id": "08AvCkxravCz",
    "papermill": {
     "duration": 0.030454,
     "end_time": "2024-09-08T14:12:11.816862",
     "exception": false,
     "start_time": "2024-09-08T14:12:11.786408",
     "status": "completed"
    },
    "tags": []
   },
   "outputs": [],
   "source": [
    "light_blue ='#6d9eeb'\n",
    "dark_blue = '#445e93'"
   ]
  },
  {
   "cell_type": "markdown",
   "id": "084ebfd7",
   "metadata": {
    "id": "oL3v-Fp6bCP0",
    "papermill": {
     "duration": 0.02127,
     "end_time": "2024-09-08T14:12:11.859729",
     "exception": false,
     "start_time": "2024-09-08T14:12:11.838459",
     "status": "completed"
    },
    "tags": []
   },
   "source": [
    "## Broad Overview and Trends"
   ]
  },
  {
   "cell_type": "markdown",
   "id": "8f82921b",
   "metadata": {
    "id": "U0XG61OiRgRL",
    "papermill": {
     "duration": 0.021514,
     "end_time": "2024-09-08T14:12:11.902827",
     "exception": false,
     "start_time": "2024-09-08T14:12:11.881313",
     "status": "completed"
    },
    "tags": []
   },
   "source": [
    "1. **What is the total number of leads and conversions in the dataset?**"
   ]
  },
  {
   "cell_type": "code",
   "execution_count": 12,
   "id": "6dc0b507",
   "metadata": {
    "execution": {
     "iopub.execute_input": "2024-09-08T14:12:11.946809Z",
     "iopub.status.busy": "2024-09-08T14:12:11.946438Z",
     "iopub.status.idle": "2024-09-08T14:12:11.952552Z",
     "shell.execute_reply": "2024-09-08T14:12:11.951268Z"
    },
    "id": "msNHiQAjRhvE",
    "outputId": "de7cd223-3fcb-4aab-daa6-2973bb270890",
    "papermill": {
     "duration": 0.030968,
     "end_time": "2024-09-08T14:12:11.954957",
     "exception": false,
     "start_time": "2024-09-08T14:12:11.923989",
     "status": "completed"
    },
    "tags": []
   },
   "outputs": [
    {
     "name": "stdout",
     "output_type": "stream",
     "text": [
      "There are 93481 leads in the dataset\n"
     ]
    }
   ],
   "source": [
    "print(f'There are {len(df)} leads in the dataset')"
   ]
  },
  {
   "cell_type": "code",
   "execution_count": 13,
   "id": "77021c24",
   "metadata": {
    "execution": {
     "iopub.execute_input": "2024-09-08T14:12:11.999935Z",
     "iopub.status.busy": "2024-09-08T14:12:11.999562Z",
     "iopub.status.idle": "2024-09-08T14:12:12.015067Z",
     "shell.execute_reply": "2024-09-08T14:12:12.013954Z"
    },
    "id": "A656eONBA49d",
    "outputId": "86a2911d-7b41-400e-9f91-0a7e47b248eb",
    "papermill": {
     "duration": 0.040983,
     "end_time": "2024-09-08T14:12:12.017341",
     "exception": false,
     "start_time": "2024-09-08T14:12:11.976358",
     "status": "completed"
    },
    "tags": []
   },
   "outputs": [
    {
     "name": "stdout",
     "output_type": "stream",
     "text": [
      "There are 3232 Conversions in the dataset\n"
     ]
    }
   ],
   "source": [
    "conversions = len(df[df['Status']=='Converted'])\n",
    "print(f'There are {conversions} Conversions in the dataset')"
   ]
  },
  {
   "cell_type": "markdown",
   "id": "8c8fbe73",
   "metadata": {
    "id": "u3hDzFW2ZMwB",
    "papermill": {
     "duration": 0.021269,
     "end_time": "2024-09-08T14:12:12.060337",
     "exception": false,
     "start_time": "2024-09-08T14:12:12.039068",
     "status": "completed"
    },
    "tags": []
   },
   "source": [
    "\n",
    "2. **What is the distribution of leads over different months?**"
   ]
  },
  {
   "cell_type": "code",
   "execution_count": 14,
   "id": "e9eda1be",
   "metadata": {
    "execution": {
     "iopub.execute_input": "2024-09-08T14:12:12.104709Z",
     "iopub.status.busy": "2024-09-08T14:12:12.104362Z",
     "iopub.status.idle": "2024-09-08T14:12:12.451906Z",
     "shell.execute_reply": "2024-09-08T14:12:12.450835Z"
    },
    "id": "x9pHlUtPXjZ-",
    "outputId": "af5a30ac-8a33-41dc-ab49-35a232baf453",
    "papermill": {
     "duration": 0.372462,
     "end_time": "2024-09-08T14:12:12.454216",
     "exception": false,
     "start_time": "2024-09-08T14:12:12.081754",
     "status": "completed"
    },
    "tags": []
   },
   "outputs": [
    {
     "data": {
      "image/png": "[encoded data removed]",
      "text/plain": [
       "<Figure size 2500x600 with 1 Axes>"
      ]
     },
     "metadata": {},
     "output_type": "display_data"
    }
   ],
   "source": [
    "query = '''\n",
    "select Month, count(Month) as LeadsCount, sum(TotalBill) as Revenue from travels group by Month\n",
    "order by\n",
    "  case when Month = 'Jul' then 1\n",
    "    when Month = 'Aug' then 2\n",
    "    when Month = 'Sep' then 3\n",
    "    when Month = 'Oct' then 4\n",
    "    else 0\n",
    "  end\n",
    "\n",
    "'''\n",
    "\n",
    "temp = pd.read_sql(query, conn)\n",
    "COLORS =[light_blue] * len(temp)\n",
    "COLORS[1] = dark_blue\n",
    "plt.bar(data=temp, x='Month', height = 'LeadsCount', color=COLORS)\n",
    "yticks = plt.gca().get_yticks()\n",
    "ylabels = [f\"{round(i / 1000)}k\" if i != 0 else \"0\" for i in yticks]\n",
    "plt.gca().set_yticklabels(ylabels)\n",
    "plt.title('Month Wise Lead Count')\n",
    "plt.ylabel('Leads Count')\n",
    "plt.show()"
   ]
  },
  {
   "cell_type": "code",
   "execution_count": 15,
   "id": "23e28e0b",
   "metadata": {
    "execution": {
     "iopub.execute_input": "2024-09-08T14:12:12.500080Z",
     "iopub.status.busy": "2024-09-08T14:12:12.499711Z",
     "iopub.status.idle": "2024-09-08T14:12:12.512120Z",
     "shell.execute_reply": "2024-09-08T14:12:12.511032Z"
    },
    "papermill": {
     "duration": 0.038518,
     "end_time": "2024-09-08T14:12:12.514704",
     "exception": false,
     "start_time": "2024-09-08T14:12:12.476186",
     "status": "completed"
    },
    "tags": []
   },
   "outputs": [
    {
     "data": {
      "text/html": [
       "<div>\n",
       "<style scoped>\n",
       "    .dataframe tbody tr th:only-of-type {\n",
       "        vertical-align: middle;\n",
       "    }\n",
       "\n",
       "    .dataframe tbody tr th {\n",
       "        vertical-align: top;\n",
       "    }\n",
       "\n",
       "    .dataframe thead th {\n",
       "        text-align: right;\n",
       "    }\n",
       "</style>\n",
       "<table border=\"1\" class=\"dataframe\">\n",
       "  <thead>\n",
       "    <tr style=\"text-align: right;\">\n",
       "      <th></th>\n",
       "      <th>Month</th>\n",
       "      <th>Lead_Pct</th>\n",
       "    </tr>\n",
       "  </thead>\n",
       "  <tbody>\n",
       "    <tr>\n",
       "      <th>0</th>\n",
       "      <td>Jul</td>\n",
       "      <td>12.63</td>\n",
       "    </tr>\n",
       "    <tr>\n",
       "      <th>1</th>\n",
       "      <td>Aug</td>\n",
       "      <td>33.55</td>\n",
       "    </tr>\n",
       "    <tr>\n",
       "      <th>2</th>\n",
       "      <td>Sep</td>\n",
       "      <td>31.38</td>\n",
       "    </tr>\n",
       "    <tr>\n",
       "      <th>3</th>\n",
       "      <td>Oct</td>\n",
       "      <td>22.43</td>\n",
       "    </tr>\n",
       "  </tbody>\n",
       "</table>\n",
       "</div>"
      ],
      "text/plain": [
       "  Month  Lead_Pct\n",
       "0   Jul     12.63\n",
       "1   Aug     33.55\n",
       "2   Sep     31.38\n",
       "3   Oct     22.43"
      ]
     },
     "execution_count": 15,
     "metadata": {},
     "output_type": "execute_result"
    }
   ],
   "source": [
    "data = {temp['Month'][i] : round(temp['LeadsCount'][i] / temp['LeadsCount'].sum()*100,2) for i in range(len(temp))}\n",
    "pct = pd.DataFrame(data.items(), columns=['Month', 'Lead_Pct'])\n",
    "pct"
   ]
  },
  {
   "cell_type": "markdown",
   "id": "f0372db4",
   "metadata": {
    "id": "U-JBpKSSfALR",
    "papermill": {
     "duration": 0.021897,
     "end_time": "2024-09-08T14:12:12.558863",
     "exception": false,
     "start_time": "2024-09-08T14:12:12.536966",
     "status": "completed"
    },
    "tags": []
   },
   "source": [
    "**Insight** - LeadCount in August is the highest and the lowest in Jul"
   ]
  },
  {
   "cell_type": "code",
   "execution_count": 16,
   "id": "680f4fcb",
   "metadata": {
    "execution": {
     "iopub.execute_input": "2024-09-08T14:12:12.606245Z",
     "iopub.status.busy": "2024-09-08T14:12:12.605860Z",
     "iopub.status.idle": "2024-09-08T14:12:12.636268Z",
     "shell.execute_reply": "2024-09-08T14:12:12.635256Z"
    },
    "id": "WSeeoGi6bQVe",
    "outputId": "02e44d5e-92f3-4f00-c484-55a9da789533",
    "papermill": {
     "duration": 0.057196,
     "end_time": "2024-09-08T14:12:12.638986",
     "exception": false,
     "start_time": "2024-09-08T14:12:12.581790",
     "status": "completed"
    },
    "tags": []
   },
   "outputs": [
    {
     "data": {
      "text/html": [
       "<div>\n",
       "<style scoped>\n",
       "    .dataframe tbody tr th:only-of-type {\n",
       "        vertical-align: middle;\n",
       "    }\n",
       "\n",
       "    .dataframe tbody tr th {\n",
       "        vertical-align: top;\n",
       "    }\n",
       "\n",
       "    .dataframe thead th {\n",
       "        text-align: right;\n",
       "    }\n",
       "</style>\n",
       "<table border=\"1\" class=\"dataframe\">\n",
       "  <thead>\n",
       "    <tr style=\"text-align: right;\">\n",
       "      <th></th>\n",
       "      <th>TripYear</th>\n",
       "      <th>Month</th>\n",
       "      <th>TripCount</th>\n",
       "      <th>Pct</th>\n",
       "    </tr>\n",
       "  </thead>\n",
       "  <tbody>\n",
       "    <tr>\n",
       "      <th>0</th>\n",
       "      <td>2023</td>\n",
       "      <td>Aug</td>\n",
       "      <td>926</td>\n",
       "      <td>28.65</td>\n",
       "    </tr>\n",
       "    <tr>\n",
       "      <th>1</th>\n",
       "      <td>2023</td>\n",
       "      <td>Jul</td>\n",
       "      <td>443</td>\n",
       "      <td>13.71</td>\n",
       "    </tr>\n",
       "    <tr>\n",
       "      <th>2</th>\n",
       "      <td>2023</td>\n",
       "      <td>Oct</td>\n",
       "      <td>543</td>\n",
       "      <td>16.80</td>\n",
       "    </tr>\n",
       "    <tr>\n",
       "      <th>3</th>\n",
       "      <td>2023</td>\n",
       "      <td>Sep</td>\n",
       "      <td>802</td>\n",
       "      <td>24.81</td>\n",
       "    </tr>\n",
       "    <tr>\n",
       "      <th>4</th>\n",
       "      <td>2024</td>\n",
       "      <td>Aug</td>\n",
       "      <td>130</td>\n",
       "      <td>4.02</td>\n",
       "    </tr>\n",
       "    <tr>\n",
       "      <th>5</th>\n",
       "      <td>2024</td>\n",
       "      <td>Jul</td>\n",
       "      <td>64</td>\n",
       "      <td>1.98</td>\n",
       "    </tr>\n",
       "    <tr>\n",
       "      <th>6</th>\n",
       "      <td>2024</td>\n",
       "      <td>Oct</td>\n",
       "      <td>153</td>\n",
       "      <td>4.73</td>\n",
       "    </tr>\n",
       "    <tr>\n",
       "      <th>7</th>\n",
       "      <td>2024</td>\n",
       "      <td>Sep</td>\n",
       "      <td>171</td>\n",
       "      <td>5.29</td>\n",
       "    </tr>\n",
       "  </tbody>\n",
       "</table>\n",
       "</div>"
      ],
      "text/plain": [
       "  TripYear Month  TripCount    Pct\n",
       "0     2023   Aug        926  28.65\n",
       "1     2023   Jul        443  13.71\n",
       "2     2023   Oct        543  16.80\n",
       "3     2023   Sep        802  24.81\n",
       "4     2024   Aug        130   4.02\n",
       "5     2024   Jul         64   1.98\n",
       "6     2024   Oct        153   4.73\n",
       "7     2024   Sep        171   5.29"
      ]
     },
     "execution_count": 16,
     "metadata": {},
     "output_type": "execute_result"
    }
   ],
   "source": [
    "query = '''\n",
    "with cte as (\n",
    "select TripYear, Month, count(Month) as TripCount from travels\n",
    "      where TripYear is not null group by 1,2\n",
    "order by 1,\n",
    "  case when Month = 'Jul' then 1\n",
    "    when Month = 'Aug' then 2\n",
    "    when Month = 'Sep' then 3\n",
    "    when Month = 'Oct' then 4\n",
    "    else 0\n",
    "  end)\n",
    "  \n",
    "select *, round(TripCount *1.0/ sum(TripCount) over() ,4)*100 as Pct from cte group by 1,2\n",
    "\n",
    "'''\n",
    "pd.read_sql(query, conn)"
   ]
  },
  {
   "cell_type": "markdown",
   "id": "2f8b6b30",
   "metadata": {
    "id": "5rget0zjfFjw",
    "papermill": {
     "duration": 0.022439,
     "end_time": "2024-09-08T14:12:12.684543",
     "exception": false,
     "start_time": "2024-09-08T14:12:12.662104",
     "status": "completed"
    },
    "tags": []
   },
   "source": [
    "**Insight** -\n",
    "\n",
    "1. Trips count in 2024 is lesser than 2023 across the months.\n",
    "2. For Example :-  \n",
    "    - 2023 Jul saw 443 Trips but 2024 Jul saw 64 trips\n",
    "    - 2023 Aug saw 926 Trips but 2024 Aug saw 130 trips (From the chart above we saw August is our best month but in 2024, not so much)\n"
   ]
  },
  {
   "cell_type": "markdown",
   "id": "c6593d5a",
   "metadata": {
    "id": "eO0-m1vX9m9D",
    "papermill": {
     "duration": 0.022083,
     "end_time": "2024-09-08T14:12:12.730480",
     "exception": false,
     "start_time": "2024-09-08T14:12:12.708397",
     "status": "completed"
    },
    "tags": []
   },
   "source": [
    "**Question** - What does our Month Wise Revenue look like?"
   ]
  },
  {
   "cell_type": "code",
   "execution_count": 17,
   "id": "1ab15d11",
   "metadata": {
    "execution": {
     "iopub.execute_input": "2024-09-08T14:12:12.778242Z",
     "iopub.status.busy": "2024-09-08T14:12:12.777849Z",
     "iopub.status.idle": "2024-09-08T14:12:13.103340Z",
     "shell.execute_reply": "2024-09-08T14:12:13.102236Z"
    },
    "id": "K_Tb2TAoL5NM",
    "outputId": "801d7f30-4854-433d-cdd5-b40c159dda6a",
    "papermill": {
     "duration": 0.35201,
     "end_time": "2024-09-08T14:12:13.106042",
     "exception": false,
     "start_time": "2024-09-08T14:12:12.754032",
     "status": "completed"
    },
    "tags": []
   },
   "outputs": [
    {
     "data": {
      "image/png": "[encoded data removed]",
      "text/plain": [
       "<Figure size 2500x600 with 1 Axes>"
      ]
     },
     "metadata": {},
     "output_type": "display_data"
    }
   ],
   "source": [
    "query = '''\n",
    "select Month, sum(TotalBill) as Revenue from travels group by Month\n",
    "order by\n",
    "  case when Month = 'Jul' then 1\n",
    "    when Month = 'Aug' then 2\n",
    "    when Month = 'Sep' then 3\n",
    "    when Month = 'Oct' then 4\n",
    "    else 0\n",
    "  end\n",
    "\n",
    "'''\n",
    "temp = pd.read_sql(query, conn)\n",
    "COLORS =[light_blue] * len(temp)\n",
    "COLORS[1] = dark_blue\n",
    "plt.bar(data=temp, x='Month', height = 'Revenue', color=COLORS)\n",
    "plt.ylabel('Total Bill (in Millions)')\n",
    "plt.title('Month Wise Revenue')\n",
    "plt.show()"
   ]
  },
  {
   "cell_type": "markdown",
   "id": "892906e0",
   "metadata": {
    "id": "pakwzFxtMCUG",
    "papermill": {
     "duration": 0.022711,
     "end_time": "2024-09-08T14:12:13.151838",
     "exception": false,
     "start_time": "2024-09-08T14:12:13.129127",
     "status": "completed"
    },
    "tags": []
   },
   "source": [
    "**Insight** - August is when we get the most leads and most revenue followed by September then October then July"
   ]
  },
  {
   "cell_type": "markdown",
   "id": "dcda01c3",
   "metadata": {
    "id": "LDsSLygg9z6x",
    "papermill": {
     "duration": 0.022413,
     "end_time": "2024-09-08T14:12:13.197048",
     "exception": false,
     "start_time": "2024-09-08T14:12:13.174635",
     "status": "completed"
    },
    "tags": []
   },
   "source": [
    "**Question** - Compare Revenue Year and month wise based on Trips taken."
   ]
  },
  {
   "cell_type": "code",
   "execution_count": 18,
   "id": "341308d8",
   "metadata": {
    "execution": {
     "iopub.execute_input": "2024-09-08T14:12:13.246163Z",
     "iopub.status.busy": "2024-09-08T14:12:13.245500Z",
     "iopub.status.idle": "2024-09-08T14:12:13.646772Z",
     "shell.execute_reply": "2024-09-08T14:12:13.645764Z"
    },
    "id": "wzlzLYZYgBdY",
    "outputId": "da402fa1-1f21-444f-b9e0-51566c372f61",
    "papermill": {
     "duration": 0.428544,
     "end_time": "2024-09-08T14:12:13.649147",
     "exception": false,
     "start_time": "2024-09-08T14:12:13.220603",
     "status": "completed"
    },
    "tags": []
   },
   "outputs": [
    {
     "data": {
      "image/png": "[encoded data removed]",
      "text/plain": [
       "<Figure size 2500x600 with 1 Axes>"
      ]
     },
     "metadata": {},
     "output_type": "display_data"
    }
   ],
   "source": [
    "query = '''\n",
    "select TripYear, Month, sum(TotalBill) as Revenue from travels where TripYear is not null group by 1,2\n",
    "order by 1,\n",
    "  case when Month = 'Jul' then 1\n",
    "    when Month = 'Aug' then 2\n",
    "    when Month = 'Sep' then 3\n",
    "    when Month = 'Oct' then 4\n",
    "    else 0\n",
    "  end\n",
    "\n",
    "'''\n",
    "temp = pd.read_sql(query, conn)\n",
    "temp['TripYear'] = pd.to_numeric(temp['TripYear'])\n",
    "temp_2023 = temp[temp['TripYear']==2023]\n",
    "temp_2024 = temp[temp['TripYear']==2024]\n",
    "r = np.arange(len(temp_2023))\n",
    "WIDTH = 0.25\n",
    "plt.bar(r, height=temp_2023['Revenue'], width=WIDTH , color = ['#FCDE70'])\n",
    "plt.bar(r+WIDTH, temp_2024['Revenue'], width=WIDTH, color =dark_blue)\n",
    "plt.xticks(r + WIDTH / 2, temp_2024['Month'])\n",
    "plt.title('TripYear and Month Wise Revenue')\n",
    "plt.legend([2023, 2024])\n",
    "plt.ylabel('Revenue (In Millions)')\n",
    "plt.show()"
   ]
  },
  {
   "cell_type": "markdown",
   "id": "0cac22e2",
   "metadata": {
    "id": "7fGTfvGNjEyP",
    "papermill": {
     "duration": 0.023678,
     "end_time": "2024-09-08T14:12:13.696172",
     "exception": false,
     "start_time": "2024-09-08T14:12:13.672494",
     "status": "completed"
    },
    "tags": []
   },
   "source": [
    "**Insight** - Revenue in 2024 has been lesser in all the months as compared to the previous year.\n"
   ]
  },
  {
   "cell_type": "markdown",
   "id": "df3ee3da",
   "metadata": {
    "id": "mCSNIP5baHWT",
    "papermill": {
     "duration": 0.023289,
     "end_time": "2024-09-08T14:12:13.745076",
     "exception": false,
     "start_time": "2024-09-08T14:12:13.721787",
     "status": "completed"
    },
    "tags": []
   },
   "source": [
    "3. From which source are we getting the leads the most and the least?"
   ]
  },
  {
   "cell_type": "code",
   "execution_count": 19,
   "id": "bc4178d6",
   "metadata": {
    "execution": {
     "iopub.execute_input": "2024-09-08T14:12:13.794733Z",
     "iopub.status.busy": "2024-09-08T14:12:13.794043Z",
     "iopub.status.idle": "2024-09-08T14:12:14.103910Z",
     "shell.execute_reply": "2024-09-08T14:12:14.102627Z"
    },
    "id": "nLkOm-Q9ZO3b",
    "outputId": "d08e8529-b230-4dc2-d2fb-b9ea8c9340bc",
    "papermill": {
     "duration": 0.337046,
     "end_time": "2024-09-08T14:12:14.106289",
     "exception": false,
     "start_time": "2024-09-08T14:12:13.769243",
     "status": "completed"
    },
    "tags": []
   },
   "outputs": [
    {
     "data": {
      "image/png": "[encoded data removed]",
      "text/plain": [
       "<Figure size 2500x600 with 1 Axes>"
      ]
     },
     "metadata": {},
     "output_type": "display_data"
    }
   ],
   "source": [
    "query = '''\n",
    "select LeadSource, count(LeadSource) as LeadsCount \n",
    "from travels group by 1 order by 2 desc\n",
    "'''\n",
    "\n",
    "temp = pd.read_sql(query, conn)\n",
    "COLORS =[light_blue] * len(temp)\n",
    "COLORS[0] = dark_blue\n",
    "plt.bar(data=temp, x='LeadSource', height = 'LeadsCount', color=COLORS)\n",
    "yticks = plt.gca().get_yticks()\n",
    "ylabels = [f\"{round(i / 1000)}k\" if i != 0 else \"0\" for i in yticks]\n",
    "plt.gca().set_yticklabels(ylabels)\n",
    "plt.title('Lead Source Wise Lead Count')\n",
    "plt.ylabel('Lead Count')\n",
    "plt.show()"
   ]
  },
  {
   "cell_type": "markdown",
   "id": "c8c38b28",
   "metadata": {
    "id": "P4kv7fvY9-GC",
    "papermill": {
     "duration": 0.023651,
     "end_time": "2024-09-08T14:12:14.153837",
     "exception": false,
     "start_time": "2024-09-08T14:12:14.130186",
     "status": "completed"
    },
    "tags": []
   },
   "source": [
    "**Question** - Plot Lead Source Wise Revenue"
   ]
  },
  {
   "cell_type": "code",
   "execution_count": 20,
   "id": "d5136084",
   "metadata": {
    "execution": {
     "iopub.execute_input": "2024-09-08T14:12:14.204112Z",
     "iopub.status.busy": "2024-09-08T14:12:14.203710Z",
     "iopub.status.idle": "2024-09-08T14:12:14.534255Z",
     "shell.execute_reply": "2024-09-08T14:12:14.532911Z"
    },
    "id": "8D18f-ufMuH9",
    "outputId": "78bc9e15-bf2e-4cc7-a108-882687b7f5d6",
    "papermill": {
     "duration": 0.35893,
     "end_time": "2024-09-08T14:12:14.536675",
     "exception": false,
     "start_time": "2024-09-08T14:12:14.177745",
     "status": "completed"
    },
    "tags": []
   },
   "outputs": [
    {
     "data": {
      "image/png": "[encoded data removed]",
      "text/plain": [
       "<Figure size 2500x600 with 1 Axes>"
      ]
     },
     "metadata": {},
     "output_type": "display_data"
    }
   ],
   "source": [
    "query = '''\n",
    "select LeadSource, sum(TotalBill) as TotalBill from travels group by 1 order by 2 desc\n",
    "'''\n",
    "temp = pd.read_sql(query, conn)\n",
    "COLORS =['#D8A25E'] * len(temp)\n",
    "COLORS[0] = '#A04747'\n",
    "plt.bar(data=temp, x='LeadSource', height = 'TotalBill', color=COLORS)\n",
    "plt.title('Lead Source Wise TotalBill')\n",
    "plt.ylabel('Total Bill')\n",
    "plt.show()"
   ]
  },
  {
   "cell_type": "markdown",
   "id": "1aac06d2",
   "metadata": {
    "id": "FhUPkdDENBUq",
    "papermill": {
     "duration": 0.024518,
     "end_time": "2024-09-08T14:12:14.586450",
     "exception": false,
     "start_time": "2024-09-08T14:12:14.561932",
     "status": "completed"
    },
    "tags": []
   },
   "source": [
    "**Insight** : Considering both the charts above, We get most leads and revenue from Lead Source 1. However the Lead Source 2 is the lowest in revenue and Lead Source is lowest in count."
   ]
  },
  {
   "cell_type": "markdown",
   "id": "5f339703",
   "metadata": {
    "id": "DN_TC36a-Gqy",
    "papermill": {
     "duration": 0.024821,
     "end_time": "2024-09-08T14:12:14.637345",
     "exception": false,
     "start_time": "2024-09-08T14:12:14.612524",
     "status": "completed"
    },
    "tags": []
   },
   "source": [
    "**Question** - What does our Lead Source And Month Wise Trip Count look like?"
   ]
  },
  {
   "cell_type": "code",
   "execution_count": 21,
   "id": "64accd80",
   "metadata": {
    "execution": {
     "iopub.execute_input": "2024-09-08T14:12:14.689394Z",
     "iopub.status.busy": "2024-09-08T14:12:14.688977Z",
     "iopub.status.idle": "2024-09-08T14:12:14.716463Z",
     "shell.execute_reply": "2024-09-08T14:12:14.715287Z"
    },
    "id": "uWLiaLh6nnVc",
    "papermill": {
     "duration": 0.05683,
     "end_time": "2024-09-08T14:12:14.719505",
     "exception": false,
     "start_time": "2024-09-08T14:12:14.662675",
     "status": "completed"
    },
    "tags": []
   },
   "outputs": [],
   "source": [
    "query = '''\n",
    "select TripYear, Month, LeadSource, count(LeadSource) as LeadCount from travels where TripYear is not null group by 1,2,3\n",
    "order by 1,\n",
    "  case when Month = 'Jul' then 1\n",
    "    when Month = 'Aug' then 2\n",
    "    when Month = 'Sep' then 3\n",
    "    when Month = 'Oct' then 4\n",
    "    else 0\n",
    "  end,\n",
    "  2\n",
    "\n",
    "'''\n",
    "\n",
    "temp = pd.read_sql(query, conn)\n",
    "temp['TripYear'] = pd.to_numeric(temp['TripYear'])\n",
    "temp_2023 = temp[temp['TripYear']==2023]\n",
    "temp_2024 = temp[temp['TripYear']==2024]\n",
    "r = np.arange(len(temp_2023))\n",
    "WIDTH = 0.25"
   ]
  },
  {
   "cell_type": "code",
   "execution_count": 22,
   "id": "4a212d95",
   "metadata": {
    "execution": {
     "iopub.execute_input": "2024-09-08T14:12:14.771543Z",
     "iopub.status.busy": "2024-09-08T14:12:14.770768Z",
     "iopub.status.idle": "2024-09-08T14:12:15.173401Z",
     "shell.execute_reply": "2024-09-08T14:12:15.172239Z"
    },
    "id": "ZwakKS1cqKDd",
    "outputId": "3731e3ec-a4c8-48f0-b11f-19c2014d6abb",
    "papermill": {
     "duration": 0.431893,
     "end_time": "2024-09-08T14:12:15.176055",
     "exception": false,
     "start_time": "2024-09-08T14:12:14.744162",
     "status": "completed"
    },
    "tags": []
   },
   "outputs": [
    {
     "data": {
      "image/png": "[encoded data removed]",
      "text/plain": [
       "<Figure size 2500x600 with 1 Axes>"
      ]
     },
     "metadata": {},
     "output_type": "display_data"
    }
   ],
   "source": [
    "plt.bar(r, height=temp_2023['LeadCount'], width=WIDTH , color=light_blue)\n",
    "plt.xticks(r + WIDTH / 2, zip(temp_2023['LeadSource'], temp_2023['Month']), rotation=45)\n",
    "plt.title('TripYear and Month Wise LeadCount')\n",
    "plt.legend([2023, 2024])\n",
    "plt.ylabel('LeadCount')\n",
    "plt.show()"
   ]
  },
  {
   "cell_type": "code",
   "execution_count": 23,
   "id": "46f5f3f8",
   "metadata": {
    "execution": {
     "iopub.execute_input": "2024-09-08T14:12:15.230349Z",
     "iopub.status.busy": "2024-09-08T14:12:15.229947Z",
     "iopub.status.idle": "2024-09-08T14:12:15.627421Z",
     "shell.execute_reply": "2024-09-08T14:12:15.626287Z"
    },
    "id": "nWY2Iwz6qiyX",
    "outputId": "2be6b437-1e80-4e73-bf8c-7ef6bf72d7f1",
    "papermill": {
     "duration": 0.428625,
     "end_time": "2024-09-08T14:12:15.630178",
     "exception": false,
     "start_time": "2024-09-08T14:12:15.201553",
     "status": "completed"
    },
    "tags": []
   },
   "outputs": [
    {
     "data": {
      "image/png": "[encoded data removed]",
      "text/plain": [
       "<Figure size 2500x600 with 1 Axes>"
      ]
     },
     "metadata": {},
     "output_type": "display_data"
    }
   ],
   "source": [
    "plt.bar(r, height=temp_2024['LeadCount'], width=WIDTH , color=dark_blue)\n",
    "plt.xticks(r + WIDTH / 2, zip(temp_2024['LeadSource'], temp_2024['Month']), rotation=45)\n",
    "plt.title('TripYear 2024 and Month Wise LeadSource Wise LeadCount')\n",
    "plt.legend([2024])\n",
    "plt.ylabel('LeadCount')\n",
    "plt.show()"
   ]
  },
  {
   "cell_type": "markdown",
   "id": "95c91765",
   "metadata": {
    "id": "QHllL3Fkq9F0",
    "papermill": {
     "duration": 0.026762,
     "end_time": "2024-09-08T14:12:15.683520",
     "exception": false,
     "start_time": "2024-09-08T14:12:15.656758",
     "status": "completed"
    },
    "tags": []
   },
   "source": [
    "**Insight**\n",
    "\n",
    "-  Comparing both 2023 and 2024 charts above, Lead counts from all the Lead Sources grew MoM till the peak time which is what can be expected but its not close to what we saw in 2023 and is far lower in 2024\n",
    "\n",
    "- Lead Count from Lead Source 1 in Sep 2024 didn't drop this year as compared to last year meaning Lead Counts in Sep 2023 dropped after Aug 2023 but not in 2024."
   ]
  },
  {
   "cell_type": "markdown",
   "id": "61ad819c",
   "metadata": {
    "id": "XHMuFq4zacpm",
    "papermill": {
     "duration": 0.026997,
     "end_time": "2024-09-08T14:12:15.738959",
     "exception": false,
     "start_time": "2024-09-08T14:12:15.711962",
     "status": "completed"
    },
    "tags": []
   },
   "source": [
    "4. **What are the most popular enquiry destinations?**"
   ]
  },
  {
   "cell_type": "code",
   "execution_count": 24,
   "id": "d13f877a",
   "metadata": {
    "execution": {
     "iopub.execute_input": "2024-09-08T14:12:15.794189Z",
     "iopub.status.busy": "2024-09-08T14:12:15.793827Z",
     "iopub.status.idle": "2024-09-08T14:12:15.905266Z",
     "shell.execute_reply": "2024-09-08T14:12:15.904286Z"
    },
    "id": "73ScET7CafJc",
    "outputId": "3159add9-e33f-4d37-e76c-828375afcd6f",
    "papermill": {
     "duration": 0.141903,
     "end_time": "2024-09-08T14:12:15.907712",
     "exception": false,
     "start_time": "2024-09-08T14:12:15.765809",
     "status": "completed"
    },
    "tags": []
   },
   "outputs": [
    {
     "data": {
      "text/html": [
       "<div>\n",
       "<style scoped>\n",
       "    .dataframe tbody tr th:only-of-type {\n",
       "        vertical-align: middle;\n",
       "    }\n",
       "\n",
       "    .dataframe tbody tr th {\n",
       "        vertical-align: top;\n",
       "    }\n",
       "\n",
       "    .dataframe thead th {\n",
       "        text-align: right;\n",
       "    }\n",
       "</style>\n",
       "<table border=\"1\" class=\"dataframe\">\n",
       "  <thead>\n",
       "    <tr style=\"text-align: right;\">\n",
       "      <th></th>\n",
       "      <th>EnquiryDestination</th>\n",
       "      <th>LeadCount</th>\n",
       "      <th>Revenue</th>\n",
       "    </tr>\n",
       "  </thead>\n",
       "  <tbody>\n",
       "    <tr>\n",
       "      <th>0</th>\n",
       "      <td>Meghalaya</td>\n",
       "      <td>7932</td>\n",
       "      <td>686610.0</td>\n",
       "    </tr>\n",
       "    <tr>\n",
       "      <th>1</th>\n",
       "      <td>Bali</td>\n",
       "      <td>6806</td>\n",
       "      <td>938252.0</td>\n",
       "    </tr>\n",
       "    <tr>\n",
       "      <th>2</th>\n",
       "      <td>Ladakh</td>\n",
       "      <td>6657</td>\n",
       "      <td>1590486.0</td>\n",
       "    </tr>\n",
       "    <tr>\n",
       "      <th>3</th>\n",
       "      <td>Spiti Valley</td>\n",
       "      <td>6190</td>\n",
       "      <td>958192.0</td>\n",
       "    </tr>\n",
       "    <tr>\n",
       "      <th>4</th>\n",
       "      <td>Leh Ladakh</td>\n",
       "      <td>5698</td>\n",
       "      <td>758208.0</td>\n",
       "    </tr>\n",
       "  </tbody>\n",
       "</table>\n",
       "</div>"
      ],
      "text/plain": [
       "  EnquiryDestination  LeadCount    Revenue\n",
       "0          Meghalaya       7932   686610.0\n",
       "1               Bali       6806   938252.0\n",
       "2             Ladakh       6657  1590486.0\n",
       "3       Spiti Valley       6190   958192.0\n",
       "4         Leh Ladakh       5698   758208.0"
      ]
     },
     "execution_count": 24,
     "metadata": {},
     "output_type": "execute_result"
    }
   ],
   "source": [
    "query = '''\n",
    "select EnquiryDestination,\n",
    "      Count(EnquiryDestination) as LeadCount,\n",
    "      sum(TotalBill) as Revenue\n",
    "from travels\n",
    "group by EnquiryDestination\n",
    "order by 2 desc limit 5\n",
    "'''\n",
    "pd.read_sql(query, conn)"
   ]
  },
  {
   "cell_type": "markdown",
   "id": "eb02c713",
   "metadata": {
    "id": "GBWtxT27NdwH",
    "papermill": {
     "duration": 0.026609,
     "end_time": "2024-09-08T14:12:15.961669",
     "exception": false,
     "start_time": "2024-09-08T14:12:15.935060",
     "status": "completed"
    },
    "tags": []
   },
   "source": [
    "**Insight** -  Meghalaya is the most populare enquiry destination but we don't get the maximum revenue (Highest Total Bill) from there."
   ]
  },
  {
   "cell_type": "markdown",
   "id": "6369d74a",
   "metadata": {
    "id": "Tccg71f--Szm",
    "papermill": {
     "duration": 0.02658,
     "end_time": "2024-09-08T14:12:16.014910",
     "exception": false,
     "start_time": "2024-09-08T14:12:15.988330",
     "status": "completed"
    },
    "tags": []
   },
   "source": [
    "**Question** - Which destination is being enquired about the most and what's the revenue from there like??"
   ]
  },
  {
   "cell_type": "code",
   "execution_count": 25,
   "id": "7b85de45",
   "metadata": {
    "execution": {
     "iopub.execute_input": "2024-09-08T14:12:16.070619Z",
     "iopub.status.busy": "2024-09-08T14:12:16.070247Z",
     "iopub.status.idle": "2024-09-08T14:12:16.147953Z",
     "shell.execute_reply": "2024-09-08T14:12:16.146927Z"
    },
    "id": "o4aq2513ODbr",
    "outputId": "0ff2df2b-72f2-45c4-e98a-b8cbf3e420a6",
    "papermill": {
     "duration": 0.108054,
     "end_time": "2024-09-08T14:12:16.150302",
     "exception": false,
     "start_time": "2024-09-08T14:12:16.042248",
     "status": "completed"
    },
    "tags": []
   },
   "outputs": [
    {
     "data": {
      "text/html": [
       "<div>\n",
       "<style scoped>\n",
       "    .dataframe tbody tr th:only-of-type {\n",
       "        vertical-align: middle;\n",
       "    }\n",
       "\n",
       "    .dataframe tbody tr th {\n",
       "        vertical-align: top;\n",
       "    }\n",
       "\n",
       "    .dataframe thead th {\n",
       "        text-align: right;\n",
       "    }\n",
       "</style>\n",
       "<table border=\"1\" class=\"dataframe\">\n",
       "  <thead>\n",
       "    <tr style=\"text-align: right;\">\n",
       "      <th></th>\n",
       "      <th>EnquiryDestination</th>\n",
       "      <th>LeadCount</th>\n",
       "      <th>Revenue</th>\n",
       "    </tr>\n",
       "  </thead>\n",
       "  <tbody>\n",
       "    <tr>\n",
       "      <th>0</th>\n",
       "      <td>Ladakh</td>\n",
       "      <td>6657</td>\n",
       "      <td>1590486.0</td>\n",
       "    </tr>\n",
       "    <tr>\n",
       "      <th>1</th>\n",
       "      <td>Spiti Valley</td>\n",
       "      <td>6190</td>\n",
       "      <td>958192.0</td>\n",
       "    </tr>\n",
       "    <tr>\n",
       "      <th>2</th>\n",
       "      <td>Europe</td>\n",
       "      <td>1722</td>\n",
       "      <td>952050.0</td>\n",
       "    </tr>\n",
       "    <tr>\n",
       "      <th>3</th>\n",
       "      <td>Bali</td>\n",
       "      <td>6806</td>\n",
       "      <td>938252.0</td>\n",
       "    </tr>\n",
       "    <tr>\n",
       "      <th>4</th>\n",
       "      <td>Leh Ladakh</td>\n",
       "      <td>5698</td>\n",
       "      <td>758208.0</td>\n",
       "    </tr>\n",
       "  </tbody>\n",
       "</table>\n",
       "</div>"
      ],
      "text/plain": [
       "  EnquiryDestination  LeadCount    Revenue\n",
       "0             Ladakh       6657  1590486.0\n",
       "1       Spiti Valley       6190   958192.0\n",
       "2             Europe       1722   952050.0\n",
       "3               Bali       6806   938252.0\n",
       "4         Leh Ladakh       5698   758208.0"
      ]
     },
     "execution_count": 25,
     "metadata": {},
     "output_type": "execute_result"
    }
   ],
   "source": [
    "query = '''\n",
    "select EnquiryDestination,\n",
    "        Count(EnquiryDestination) as LeadCount,\n",
    "        sum(TotalBill) as Revenue\n",
    "from travels where EnquiryDestination is not null\n",
    "group by EnquiryDestination order by 3 desc limit 5\n",
    "'''\n",
    "pd.read_sql(query, conn)"
   ]
  },
  {
   "cell_type": "markdown",
   "id": "95fd31e9",
   "metadata": {
    "id": "vImxiUT4OV9Y",
    "papermill": {
     "duration": 0.027177,
     "end_time": "2024-09-08T14:12:16.204551",
     "exception": false,
     "start_time": "2024-09-08T14:12:16.177374",
     "status": "completed"
    },
    "tags": []
   },
   "source": [
    "**Insight** -  If we see Ladakh is the place where we get the most revenue however the lead count is comparatively lesser than Meghalaya"
   ]
  },
  {
   "cell_type": "markdown",
   "id": "8ba46052",
   "metadata": {
    "id": "UGBBLCeseb0c",
    "papermill": {
     "duration": 0.026878,
     "end_time": "2024-09-08T14:12:16.258525",
     "exception": false,
     "start_time": "2024-09-08T14:12:16.231647",
     "status": "completed"
    },
    "tags": []
   },
   "source": [
    "\n",
    "## Conversion and Client Insights"
   ]
  },
  {
   "cell_type": "markdown",
   "id": "e85dac02",
   "metadata": {
    "id": "Tz9P8Qj-bQX_",
    "papermill": {
     "duration": 0.027434,
     "end_time": "2024-09-08T14:12:16.313152",
     "exception": false,
     "start_time": "2024-09-08T14:12:16.285718",
     "status": "completed"
    },
    "tags": []
   },
   "source": [
    "5. **What percentage of leads are from ex-clients?**"
   ]
  },
  {
   "cell_type": "code",
   "execution_count": 26,
   "id": "df76f7f6",
   "metadata": {
    "execution": {
     "iopub.execute_input": "2024-09-08T14:12:16.371037Z",
     "iopub.status.busy": "2024-09-08T14:12:16.370066Z",
     "iopub.status.idle": "2024-09-08T14:12:16.397251Z",
     "shell.execute_reply": "2024-09-08T14:12:16.396137Z"
    },
    "id": "9sRnrawXbP87",
    "outputId": "7de52de0-3053-4af2-b90d-2c034d23383f",
    "papermill": {
     "duration": 0.058441,
     "end_time": "2024-09-08T14:12:16.399734",
     "exception": false,
     "start_time": "2024-09-08T14:12:16.341293",
     "status": "completed"
    },
    "tags": []
   },
   "outputs": [
    {
     "data": {
      "text/plain": [
       "3.658"
      ]
     },
     "execution_count": 26,
     "metadata": {},
     "output_type": "execute_result"
    }
   ],
   "source": [
    "query = '''\n",
    "select round(count(*)*1.0/(select count(*) from travels)*100,3) as ExClient_PctLeads\n",
    "from travels where ExClient = 'Yes'\n",
    "'''\n",
    "pd.read_sql(query, conn).values[0][0]"
   ]
  },
  {
   "cell_type": "markdown",
   "id": "3329f3da",
   "metadata": {
    "id": "Ahe6YRBIQA0_",
    "papermill": {
     "duration": 0.026965,
     "end_time": "2024-09-08T14:12:16.454086",
     "exception": false,
     "start_time": "2024-09-08T14:12:16.427121",
     "status": "completed"
    },
    "tags": []
   },
   "source": [
    "**Insight** : The conversion rate from ExClients is 3.65% meaning 4 out of 100 conversions come from clients who have travelled with us or availed our services in the past"
   ]
  },
  {
   "cell_type": "markdown",
   "id": "1a6adcc7",
   "metadata": {
    "id": "RUn_l0ercWVd",
    "papermill": {
     "duration": 0.026913,
     "end_time": "2024-09-08T14:12:16.508319",
     "exception": false,
     "start_time": "2024-09-08T14:12:16.481406",
     "status": "completed"
    },
    "tags": []
   },
   "source": [
    "6. What is the overall conversion rate?"
   ]
  },
  {
   "cell_type": "code",
   "execution_count": 27,
   "id": "6879dec7",
   "metadata": {
    "execution": {
     "iopub.execute_input": "2024-09-08T14:12:16.565716Z",
     "iopub.status.busy": "2024-09-08T14:12:16.565329Z",
     "iopub.status.idle": "2024-09-08T14:12:16.580525Z",
     "shell.execute_reply": "2024-09-08T14:12:16.579184Z"
    },
    "id": "pfnGGlAEcbEm",
    "outputId": "9ed4e3f0-ac24-42b3-e736-1c14406de9a7",
    "papermill": {
     "duration": 0.046526,
     "end_time": "2024-09-08T14:12:16.583006",
     "exception": false,
     "start_time": "2024-09-08T14:12:16.536480",
     "status": "completed"
    },
    "tags": []
   },
   "outputs": [
    {
     "name": "stdout",
     "output_type": "stream",
     "text": [
      " The overall conversion rate is 3.457%\n"
     ]
    }
   ],
   "source": [
    "#Using Python\n",
    "pct = round(len(df[df['Status']=='Converted'])/len(df)*100,3)\n",
    "print(f' The overall conversion rate is {pct}%')"
   ]
  },
  {
   "cell_type": "code",
   "execution_count": 28,
   "id": "3395d020",
   "metadata": {
    "execution": {
     "iopub.execute_input": "2024-09-08T14:12:16.641345Z",
     "iopub.status.busy": "2024-09-08T14:12:16.640780Z",
     "iopub.status.idle": "2024-09-08T14:12:16.668047Z",
     "shell.execute_reply": "2024-09-08T14:12:16.666996Z"
    },
    "id": "1noWLmOzcG1s",
    "outputId": "a337ca49-bee2-4ec3-be8d-6cf6df27777b",
    "papermill": {
     "duration": 0.059418,
     "end_time": "2024-09-08T14:12:16.670606",
     "exception": false,
     "start_time": "2024-09-08T14:12:16.611188",
     "status": "completed"
    },
    "tags": []
   },
   "outputs": [
    {
     "data": {
      "text/plain": [
       "3.457"
      ]
     },
     "execution_count": 28,
     "metadata": {},
     "output_type": "execute_result"
    }
   ],
   "source": [
    "#Using SQL\n",
    "query = '''\n",
    "select round(count(*)*1.0/(select count(*) from travels)*100,3) as Conversion_Rate from travels where Status = 'Converted'\n",
    "'''\n",
    "pd.read_sql(query, conn).values[0][0]"
   ]
  },
  {
   "cell_type": "markdown",
   "id": "d5d58ee3",
   "metadata": {
    "id": "ywTMCEvGePbU",
    "papermill": {
     "duration": 0.030074,
     "end_time": "2024-09-08T14:12:16.728979",
     "exception": false,
     "start_time": "2024-09-08T14:12:16.698905",
     "status": "completed"
    },
    "tags": []
   },
   "source": [
    "7. **Which sources of leads have the highest conversion rates?**"
   ]
  },
  {
   "cell_type": "code",
   "execution_count": 29,
   "id": "17698a9d",
   "metadata": {
    "execution": {
     "iopub.execute_input": "2024-09-08T14:12:16.789525Z",
     "iopub.status.busy": "2024-09-08T14:12:16.788669Z",
     "iopub.status.idle": "2024-09-08T14:12:17.042845Z",
     "shell.execute_reply": "2024-09-08T14:12:17.041642Z"
    },
    "id": "wTYWgsOrc62o",
    "outputId": "077132a7-d47e-498e-dee8-25e02e8d5378",
    "papermill": {
     "duration": 0.287859,
     "end_time": "2024-09-08T14:12:17.045551",
     "exception": false,
     "start_time": "2024-09-08T14:12:16.757692",
     "status": "completed"
    },
    "tags": []
   },
   "outputs": [
    {
     "data": {
      "image/png": "[encoded data removed]",
      "text/plain": [
       "<Figure size 2500x600 with 1 Axes>"
      ]
     },
     "metadata": {},
     "output_type": "display_data"
    }
   ],
   "source": [
    "query = '''\n",
    "select LeadSource, round(count(*)*1.0/(select count(*) from travels)*100,3) as Conversion_Rate\n",
    "from travels where Status = 'Converted'\n",
    "group by 1 order by 2 desc\n",
    "'''\n",
    "temp = pd.read_sql(query, conn)\n",
    "COLORS =['#0B8494'] * len(temp)\n",
    "COLORS[0] = dark_blue\n",
    "plt.bar(data=temp, x='LeadSource', height = 'Conversion_Rate', color=COLORS)\n",
    "plt.title('Lead Source Wise Conversion Rate')\n",
    "plt.show()"
   ]
  },
  {
   "cell_type": "markdown",
   "id": "6191dac3",
   "metadata": {
    "id": "GwiizxGhQpsC",
    "papermill": {
     "duration": 0.027591,
     "end_time": "2024-09-08T14:12:17.101445",
     "exception": false,
     "start_time": "2024-09-08T14:12:17.073854",
     "status": "completed"
    },
    "tags": []
   },
   "source": [
    "**Insight** - Conversion Rate from the Lead Source 1 is the highest."
   ]
  },
  {
   "cell_type": "markdown",
   "id": "99c18ffb",
   "metadata": {
    "id": "N1xITLPKdSNE",
    "papermill": {
     "duration": 0.027974,
     "end_time": "2024-09-08T14:12:17.157418",
     "exception": false,
     "start_time": "2024-09-08T14:12:17.129444",
     "status": "completed"
    },
    "tags": []
   },
   "source": [
    "8. Which destinations have the highest conversion rates?"
   ]
  },
  {
   "cell_type": "code",
   "execution_count": 30,
   "id": "289d7105",
   "metadata": {
    "execution": {
     "iopub.execute_input": "2024-09-08T14:12:17.215827Z",
     "iopub.status.busy": "2024-09-08T14:12:17.215443Z",
     "iopub.status.idle": "2024-09-08T14:12:17.494500Z",
     "shell.execute_reply": "2024-09-08T14:12:17.493231Z"
    },
    "id": "5BAJIcskdTve",
    "outputId": "29d3a660-9a0a-4201-abce-1c89997b6279",
    "papermill": {
     "duration": 0.310929,
     "end_time": "2024-09-08T14:12:17.496912",
     "exception": false,
     "start_time": "2024-09-08T14:12:17.185983",
     "status": "completed"
    },
    "tags": []
   },
   "outputs": [
    {
     "data": {
      "image/png": "[encoded data removed]",
      "text/plain": [
       "<Figure size 2500x600 with 1 Axes>"
      ]
     },
     "metadata": {},
     "output_type": "display_data"
    }
   ],
   "source": [
    "query = '''\n",
    "select EnquiryDestination, round(count(EnquiryDestination)*1.0/(select count(*) from travels)*100,3) as Conversion_Rate \n",
    "        from travels\n",
    "where Status = 'Converted' and EnquiryDestination is not null\n",
    "group by 1\n",
    "order by 2 desc\n",
    "limit 10\n",
    "'''\n",
    "temp = pd.read_sql(query, conn)\n",
    "COLORS =['#BDCDD6'] * len(temp)\n",
    "COLORS[0] = '#6096B4'\n",
    "plt.bar(data=temp, x='EnquiryDestination', height = 'Conversion_Rate', color=COLORS)\n",
    "plt.title('EnquiryDestination Wise Conversion Rate')\n",
    "plt.show()"
   ]
  },
  {
   "cell_type": "markdown",
   "id": "034accd0",
   "metadata": {
    "id": "zVA9d_mA2nTR",
    "papermill": {
     "duration": 0.028459,
     "end_time": "2024-09-08T14:12:17.553916",
     "exception": false,
     "start_time": "2024-09-08T14:12:17.525457",
     "status": "completed"
    },
    "tags": []
   },
   "source": [
    "**Insight**\n",
    "\n",
    "- Conversion Rate is the maximum for Spiti Valley followed by Ladakh and Meghalaya."
   ]
  },
  {
   "cell_type": "markdown",
   "id": "3ab4305e",
   "metadata": {
    "id": "JIySinb6fg5F",
    "papermill": {
     "duration": 0.028222,
     "end_time": "2024-09-08T14:12:17.610672",
     "exception": false,
     "start_time": "2024-09-08T14:12:17.582450",
     "status": "completed"
    },
    "tags": []
   },
   "source": [
    "## Detailed Performance Analysis\n",
    "9. **Who are the top performers in terms of number of conversions?**"
   ]
  },
  {
   "cell_type": "code",
   "execution_count": 31,
   "id": "987afff1",
   "metadata": {
    "execution": {
     "iopub.execute_input": "2024-09-08T14:12:17.669518Z",
     "iopub.status.busy": "2024-09-08T14:12:17.669124Z",
     "iopub.status.idle": "2024-09-08T14:12:18.064570Z",
     "shell.execute_reply": "2024-09-08T14:12:18.063451Z"
    },
    "id": "IJqSv_Cfek8o",
    "outputId": "63328da2-16d3-4a52-9dca-857073c5505c",
    "papermill": {
     "duration": 0.427616,
     "end_time": "2024-09-08T14:12:18.066877",
     "exception": false,
     "start_time": "2024-09-08T14:12:17.639261",
     "status": "completed"
    },
    "tags": []
   },
   "outputs": [
    {
     "data": {
      "image/png": "[encoded data removed]",
      "text/plain": [
       "<Figure size 2500x600 with 1 Axes>"
      ]
     },
     "metadata": {},
     "output_type": "display_data"
    }
   ],
   "source": [
    "query = '''\n",
    "select AssignedTo, count(AssignedTo),\n",
    "      round(count(ConvertedBy)*1.0/(select count(*) from travels)*100,3) as Conversion_Rate from travels\n",
    "group by 1\n",
    "order by 3 desc\n",
    "limit 10\n",
    "'''\n",
    "\n",
    "temp = pd.read_sql(query, conn)\n",
    "COLORS =['#9DB2BF'] * len(temp)\n",
    "COLORS[0] = '#27374D'\n",
    "plt.bar(data=temp, x='AssignedTo', height = 'Conversion_Rate', color=COLORS)\n",
    "plt.title('SalesPerson Wise Conversion Rate')\n",
    "plt.show()"
   ]
  },
  {
   "cell_type": "markdown",
   "id": "7d3db732",
   "metadata": {
    "id": "5uNIy7ieuOgk",
    "papermill": {
     "duration": 0.029578,
     "end_time": "2024-09-08T14:12:18.125686",
     "exception": false,
     "start_time": "2024-09-08T14:12:18.096108",
     "status": "completed"
    },
    "tags": []
   },
   "source": [
    "**Insight**\n",
    "\n",
    "- Sales Person 0 has done a good job organization wide. He was able to convert 0.75% leads compared to the total leads that was given to the organization. His leads that were converted contributed upto 0.75% to the organization total."
   ]
  },
  {
   "cell_type": "markdown",
   "id": "addb40ea",
   "metadata": {
    "id": "276rhtoh-f7M",
    "papermill": {
     "duration": 0.028628,
     "end_time": "2024-09-08T14:12:18.184978",
     "exception": false,
     "start_time": "2024-09-08T14:12:18.156350",
     "status": "completed"
    },
    "tags": []
   },
   "source": [
    "**Question** - Which Sales Person Did the best and the worst (conversion rate wise) in each Lead Source??"
   ]
  },
  {
   "cell_type": "code",
   "execution_count": 32,
   "id": "3a789499",
   "metadata": {
    "execution": {
     "iopub.execute_input": "2024-09-08T14:12:18.244494Z",
     "iopub.status.busy": "2024-09-08T14:12:18.244112Z",
     "iopub.status.idle": "2024-09-08T14:12:18.277373Z",
     "shell.execute_reply": "2024-09-08T14:12:18.276185Z"
    },
    "id": "ePZfX6xTQxM4",
    "outputId": "485e7698-d755-4394-c2be-711c1ca06c57",
    "papermill": {
     "duration": 0.065921,
     "end_time": "2024-09-08T14:12:18.279779",
     "exception": false,
     "start_time": "2024-09-08T14:12:18.213858",
     "status": "completed"
    },
    "tags": []
   },
   "outputs": [
    {
     "data": {
      "text/html": [
       "<div>\n",
       "<style scoped>\n",
       "    .dataframe tbody tr th:only-of-type {\n",
       "        vertical-align: middle;\n",
       "    }\n",
       "\n",
       "    .dataframe tbody tr th {\n",
       "        vertical-align: top;\n",
       "    }\n",
       "\n",
       "    .dataframe thead th {\n",
       "        text-align: right;\n",
       "    }\n",
       "</style>\n",
       "<table border=\"1\" class=\"dataframe\">\n",
       "  <thead>\n",
       "    <tr style=\"text-align: right;\">\n",
       "      <th></th>\n",
       "      <th>LeadSource</th>\n",
       "      <th>AssignedTo</th>\n",
       "      <th>Conversion_Rate</th>\n",
       "    </tr>\n",
       "  </thead>\n",
       "  <tbody>\n",
       "    <tr>\n",
       "      <th>0</th>\n",
       "      <td>Lead Source 1</td>\n",
       "      <td>Sales Person 0</td>\n",
       "      <td>0.474</td>\n",
       "    </tr>\n",
       "    <tr>\n",
       "      <th>1</th>\n",
       "      <td>Lead Source 2</td>\n",
       "      <td>Sales Person 0</td>\n",
       "      <td>0.061</td>\n",
       "    </tr>\n",
       "    <tr>\n",
       "      <th>2</th>\n",
       "      <td>Lead Source 3</td>\n",
       "      <td>Sales Person 0</td>\n",
       "      <td>0.219</td>\n",
       "    </tr>\n",
       "  </tbody>\n",
       "</table>\n",
       "</div>"
      ],
      "text/plain": [
       "      LeadSource      AssignedTo  Conversion_Rate\n",
       "0  Lead Source 1  Sales Person 0            0.474\n",
       "1  Lead Source 2  Sales Person 0            0.061\n",
       "2  Lead Source 3  Sales Person 0            0.219"
      ]
     },
     "execution_count": 32,
     "metadata": {},
     "output_type": "execute_result"
    }
   ],
   "source": [
    "query = '''\n",
    "with cte as (\n",
    "        select LeadSource, AssignedTo, \n",
    "                round(count(AssignedTo)*1.0/(select count(*) from travels)*100,3) as Conversion_Rate\n",
    "        from travels where Status = 'Converted'\n",
    "        group by 1,2),\n",
    "rn_cte as (select *, row_number() over(partition by LeadSource \n",
    "            order by Conversion_Rate desc) as row_num \n",
    "            from cte)\n",
    "\n",
    "select LeadSource, AssignedTo, Conversion_Rate from rn_cte where row_num = 1\n",
    "'''\n",
    "pd.read_sql(query, conn)"
   ]
  },
  {
   "cell_type": "markdown",
   "id": "2e4d69c6",
   "metadata": {
    "id": "HTLlsbL6SY8N",
    "papermill": {
     "duration": 0.029731,
     "end_time": "2024-09-08T14:12:18.340417",
     "exception": false,
     "start_time": "2024-09-08T14:12:18.310686",
     "status": "completed"
    },
    "tags": []
   },
   "source": [
    "**Insight** - Sales Person 0 is having the maximum conversion rate across all the Lead Sources."
   ]
  },
  {
   "cell_type": "code",
   "execution_count": 33,
   "id": "dff44ba1",
   "metadata": {
    "execution": {
     "iopub.execute_input": "2024-09-08T14:12:18.401599Z",
     "iopub.status.busy": "2024-09-08T14:12:18.401227Z",
     "iopub.status.idle": "2024-09-08T14:12:18.433579Z",
     "shell.execute_reply": "2024-09-08T14:12:18.432511Z"
    },
    "id": "FbijmPjHS87k",
    "outputId": "070c9b83-e766-47ed-9437-e6bdb1c6fac4",
    "papermill": {
     "duration": 0.06608,
     "end_time": "2024-09-08T14:12:18.435954",
     "exception": false,
     "start_time": "2024-09-08T14:12:18.369874",
     "status": "completed"
    },
    "tags": []
   },
   "outputs": [
    {
     "data": {
      "text/html": [
       "<div>\n",
       "<style scoped>\n",
       "    .dataframe tbody tr th:only-of-type {\n",
       "        vertical-align: middle;\n",
       "    }\n",
       "\n",
       "    .dataframe tbody tr th {\n",
       "        vertical-align: top;\n",
       "    }\n",
       "\n",
       "    .dataframe thead th {\n",
       "        text-align: right;\n",
       "    }\n",
       "</style>\n",
       "<table border=\"1\" class=\"dataframe\">\n",
       "  <thead>\n",
       "    <tr style=\"text-align: right;\">\n",
       "      <th></th>\n",
       "      <th>LeadSource</th>\n",
       "      <th>AssignedTo</th>\n",
       "      <th>Conversion_Rate</th>\n",
       "    </tr>\n",
       "  </thead>\n",
       "  <tbody>\n",
       "    <tr>\n",
       "      <th>0</th>\n",
       "      <td>Lead Source 1</td>\n",
       "      <td>Sales Person 49</td>\n",
       "      <td>0.001</td>\n",
       "    </tr>\n",
       "    <tr>\n",
       "      <th>1</th>\n",
       "      <td>Lead Source 2</td>\n",
       "      <td>Sales Person 12</td>\n",
       "      <td>0.001</td>\n",
       "    </tr>\n",
       "    <tr>\n",
       "      <th>2</th>\n",
       "      <td>Lead Source 3</td>\n",
       "      <td>Sales Person 12</td>\n",
       "      <td>0.001</td>\n",
       "    </tr>\n",
       "  </tbody>\n",
       "</table>\n",
       "</div>"
      ],
      "text/plain": [
       "      LeadSource       AssignedTo  Conversion_Rate\n",
       "0  Lead Source 1  Sales Person 49            0.001\n",
       "1  Lead Source 2  Sales Person 12            0.001\n",
       "2  Lead Source 3  Sales Person 12            0.001"
      ]
     },
     "execution_count": 33,
     "metadata": {},
     "output_type": "execute_result"
    }
   ],
   "source": [
    "query = '''\n",
    "with cte as (\n",
    "        select LeadSource, AssignedTo, round(count(AssignedTo)*1.0/(select count(*) from travels)*100,3) as Conversion_Rate\n",
    "        from travels where Status = 'Converted'\n",
    "        group by 1,2),\n",
    "rn_cte as (select *, row_number() over(partition by LeadSource \n",
    "            order by Conversion_Rate asc) as row_num from cte)\n",
    "\n",
    "select LeadSource, AssignedTo, Conversion_Rate from rn_cte where row_num = 1\n",
    "'''\n",
    "pd.read_sql(query, conn)"
   ]
  },
  {
   "cell_type": "markdown",
   "id": "a7cd48c6",
   "metadata": {
    "id": "ta_lPehGT19c",
    "papermill": {
     "duration": 0.028782,
     "end_time": "2024-09-08T14:12:18.494074",
     "exception": false,
     "start_time": "2024-09-08T14:12:18.465292",
     "status": "completed"
    },
    "tags": []
   },
   "source": [
    "**Insight** -  \n",
    "\n",
    "- Sales Person 49 has the least conversion rate in Lead Source 1.\n",
    "- Sales Person 12 has the least conversion rate in Lead Source 2 and 3."
   ]
  },
  {
   "cell_type": "markdown",
   "id": "ffa76a76",
   "metadata": {
    "id": "WBHP7jHshjX_",
    "papermill": {
     "duration": 0.028857,
     "end_time": "2024-09-08T14:12:18.552581",
     "exception": false,
     "start_time": "2024-09-08T14:12:18.523724",
     "status": "completed"
    },
    "tags": []
   },
   "source": [
    "\n",
    "10. **What is the average conversion time (time from lead date to conversion date)?**"
   ]
  },
  {
   "cell_type": "code",
   "execution_count": 34,
   "id": "8d8122b6",
   "metadata": {
    "execution": {
     "iopub.execute_input": "2024-09-08T14:12:18.614106Z",
     "iopub.status.busy": "2024-09-08T14:12:18.613112Z",
     "iopub.status.idle": "2024-09-08T14:12:18.731973Z",
     "shell.execute_reply": "2024-09-08T14:12:18.731080Z"
    },
    "papermill": {
     "duration": 0.152039,
     "end_time": "2024-09-08T14:12:18.734595",
     "exception": false,
     "start_time": "2024-09-08T14:12:18.582556",
     "status": "completed"
    },
    "tags": []
   },
   "outputs": [],
   "source": [
    "cols = list(df.columns[df.columns.str.contains('Date')])\n",
    "for i in cols:\n",
    "    df[i] = pd.to_datetime(df[i])"
   ]
  },
  {
   "cell_type": "code",
   "execution_count": 35,
   "id": "94a103ff",
   "metadata": {
    "execution": {
     "iopub.execute_input": "2024-09-08T14:12:18.807517Z",
     "iopub.status.busy": "2024-09-08T14:12:18.806875Z",
     "iopub.status.idle": "2024-09-08T14:12:18.817518Z",
     "shell.execute_reply": "2024-09-08T14:12:18.816317Z"
    },
    "id": "x7ufVHYCf2UN",
    "outputId": "fb1698c9-ebc9-4d2c-d9c7-f81b727b5e38",
    "papermill": {
     "duration": 0.053427,
     "end_time": "2024-09-08T14:12:18.820876",
     "exception": false,
     "start_time": "2024-09-08T14:12:18.767449",
     "status": "completed"
    },
    "tags": []
   },
   "outputs": [
    {
     "name": "stdout",
     "output_type": "stream",
     "text": [
      "It takes an avg of 10 days to convert a lead\n"
     ]
    }
   ],
   "source": [
    "conv_days = (df['ConversionDate'] -  df['LeadDate']).mean().days\n",
    "print(f'It takes an avg of {conv_days} days to convert a lead')"
   ]
  },
  {
   "cell_type": "markdown",
   "id": "ab63eed4",
   "metadata": {
    "id": "VpnmEZtghgLe",
    "papermill": {
     "duration": 0.029878,
     "end_time": "2024-09-08T14:12:18.881744",
     "exception": false,
     "start_time": "2024-09-08T14:12:18.851866",
     "status": "completed"
    },
    "tags": []
   },
   "source": [
    "11. **What is the average cost per person and total bill for converted leads?**"
   ]
  },
  {
   "cell_type": "code",
   "execution_count": 36,
   "id": "c9a1f212",
   "metadata": {
    "execution": {
     "iopub.execute_input": "2024-09-08T14:12:18.942108Z",
     "iopub.status.busy": "2024-09-08T14:12:18.941714Z",
     "iopub.status.idle": "2024-09-08T14:12:18.970255Z",
     "shell.execute_reply": "2024-09-08T14:12:18.969032Z"
    },
    "id": "XulVHDYifjHG",
    "outputId": "683627a3-4fd6-441c-c53b-e28f9a39eae8",
    "papermill": {
     "duration": 0.061589,
     "end_time": "2024-09-08T14:12:18.972675",
     "exception": false,
     "start_time": "2024-09-08T14:12:18.911086",
     "status": "completed"
    },
    "tags": []
   },
   "outputs": [
    {
     "data": {
      "text/html": [
       "<div>\n",
       "<style scoped>\n",
       "    .dataframe tbody tr th:only-of-type {\n",
       "        vertical-align: middle;\n",
       "    }\n",
       "\n",
       "    .dataframe tbody tr th {\n",
       "        vertical-align: top;\n",
       "    }\n",
       "\n",
       "    .dataframe thead th {\n",
       "        text-align: right;\n",
       "    }\n",
       "</style>\n",
       "<table border=\"1\" class=\"dataframe\">\n",
       "  <thead>\n",
       "    <tr style=\"text-align: right;\">\n",
       "      <th></th>\n",
       "      <th>Avg_PerPersonCost</th>\n",
       "      <th>Avg_TotalBill</th>\n",
       "    </tr>\n",
       "  </thead>\n",
       "  <tbody>\n",
       "    <tr>\n",
       "      <th>0</th>\n",
       "      <td>2747.94</td>\n",
       "      <td>5778.49</td>\n",
       "    </tr>\n",
       "  </tbody>\n",
       "</table>\n",
       "</div>"
      ],
      "text/plain": [
       "   Avg_PerPersonCost  Avg_TotalBill\n",
       "0            2747.94        5778.49"
      ]
     },
     "execution_count": 36,
     "metadata": {},
     "output_type": "execute_result"
    }
   ],
   "source": [
    "query = '''\n",
    "select round(avg(PerPersonCost),2) as Avg_PerPersonCost,\n",
    "      round(avg(TotalBill),2) as Avg_TotalBill\n",
    "from travels\n",
    "\n",
    "'''\n",
    "pd.read_sql(query, conn)"
   ]
  },
  {
   "cell_type": "markdown",
   "id": "10444fc9",
   "metadata": {
    "id": "8Pb9L87fjiFs",
    "papermill": {
     "duration": 0.029746,
     "end_time": "2024-09-08T14:12:19.032569",
     "exception": false,
     "start_time": "2024-09-08T14:12:19.002823",
     "status": "completed"
    },
    "tags": []
   },
   "source": [
    "12. **Which EnquiryDestination has the highest average total Bill?**"
   ]
  },
  {
   "cell_type": "code",
   "execution_count": 37,
   "id": "f055adaa",
   "metadata": {
    "execution": {
     "iopub.execute_input": "2024-09-08T14:12:19.094190Z",
     "iopub.status.busy": "2024-09-08T14:12:19.093814Z",
     "iopub.status.idle": "2024-09-08T14:12:19.174271Z",
     "shell.execute_reply": "2024-09-08T14:12:19.173120Z"
    },
    "id": "duUKb9lUhqdK",
    "outputId": "a96832ed-b163-4b43-ff80-d6cc1153a29c",
    "papermill": {
     "duration": 0.11356,
     "end_time": "2024-09-08T14:12:19.176809",
     "exception": false,
     "start_time": "2024-09-08T14:12:19.063249",
     "status": "completed"
    },
    "tags": []
   },
   "outputs": [
    {
     "data": {
      "text/html": [
       "<div>\n",
       "<style scoped>\n",
       "    .dataframe tbody tr th:only-of-type {\n",
       "        vertical-align: middle;\n",
       "    }\n",
       "\n",
       "    .dataframe tbody tr th {\n",
       "        vertical-align: top;\n",
       "    }\n",
       "\n",
       "    .dataframe thead th {\n",
       "        text-align: right;\n",
       "    }\n",
       "</style>\n",
       "<table border=\"1\" class=\"dataframe\">\n",
       "  <thead>\n",
       "    <tr style=\"text-align: right;\">\n",
       "      <th></th>\n",
       "      <th>EnquiryDestination</th>\n",
       "      <th>AvgPerPersonCost</th>\n",
       "      <th>AvgTotalBill</th>\n",
       "    </tr>\n",
       "  </thead>\n",
       "  <tbody>\n",
       "    <tr>\n",
       "      <th>0</th>\n",
       "      <td>Ladakh - Manali to Manali</td>\n",
       "      <td>3024.0</td>\n",
       "      <td>24192.0</td>\n",
       "    </tr>\n",
       "  </tbody>\n",
       "</table>\n",
       "</div>"
      ],
      "text/plain": [
       "          EnquiryDestination  AvgPerPersonCost  AvgTotalBill\n",
       "0  Ladakh - Manali to Manali            3024.0       24192.0"
      ]
     },
     "execution_count": 37,
     "metadata": {},
     "output_type": "execute_result"
    }
   ],
   "source": [
    "query = '''\n",
    "select EnquiryDestination, round(avg(PerPersonCost),2) as AvgPerPersonCost,\n",
    "      round(avg(TotalBill),2) as AvgTotalBill\n",
    "from travels where EnquiryDestination is not null\n",
    "group by 1\n",
    "having round(avg(PerPersonCost),2) > 0\n",
    "order by 3 desc limit 1\n",
    "\n",
    "'''\n",
    "pd.read_sql(query, conn)"
   ]
  },
  {
   "cell_type": "markdown",
   "id": "03f9b94e",
   "metadata": {
    "id": "76Nn5xWrj0in",
    "papermill": {
     "duration": 0.02955,
     "end_time": "2024-09-08T14:12:19.237122",
     "exception": false,
     "start_time": "2024-09-08T14:12:19.207572",
     "status": "completed"
    },
    "tags": []
   },
   "source": [
    "13. Which EnquiryDestination has the highest average per person cost?"
   ]
  },
  {
   "cell_type": "code",
   "execution_count": 38,
   "id": "969ba1b6",
   "metadata": {
    "execution": {
     "iopub.execute_input": "2024-09-08T14:12:19.299054Z",
     "iopub.status.busy": "2024-09-08T14:12:19.298673Z",
     "iopub.status.idle": "2024-09-08T14:12:19.378461Z",
     "shell.execute_reply": "2024-09-08T14:12:19.377325Z"
    },
    "id": "KEAeel4kjvU5",
    "outputId": "3faf8baa-e544-4fe5-e8e4-dcfefc1dfba6",
    "papermill": {
     "duration": 0.113882,
     "end_time": "2024-09-08T14:12:19.380973",
     "exception": false,
     "start_time": "2024-09-08T14:12:19.267091",
     "status": "completed"
    },
    "tags": []
   },
   "outputs": [
    {
     "data": {
      "text/html": [
       "<div>\n",
       "<style scoped>\n",
       "    .dataframe tbody tr th:only-of-type {\n",
       "        vertical-align: middle;\n",
       "    }\n",
       "\n",
       "    .dataframe tbody tr th {\n",
       "        vertical-align: top;\n",
       "    }\n",
       "\n",
       "    .dataframe thead th {\n",
       "        text-align: right;\n",
       "    }\n",
       "</style>\n",
       "<table border=\"1\" class=\"dataframe\">\n",
       "  <thead>\n",
       "    <tr style=\"text-align: right;\">\n",
       "      <th></th>\n",
       "      <th>EnquiryDestination</th>\n",
       "      <th>AvgPerPersonCost</th>\n",
       "      <th>AvgTotalBill</th>\n",
       "    </tr>\n",
       "  </thead>\n",
       "  <tbody>\n",
       "    <tr>\n",
       "      <th>0</th>\n",
       "      <td>Europe BYOG</td>\n",
       "      <td>10075.56</td>\n",
       "      <td>15069.44</td>\n",
       "    </tr>\n",
       "  </tbody>\n",
       "</table>\n",
       "</div>"
      ],
      "text/plain": [
       "  EnquiryDestination  AvgPerPersonCost  AvgTotalBill\n",
       "0        Europe BYOG          10075.56      15069.44"
      ]
     },
     "execution_count": 38,
     "metadata": {},
     "output_type": "execute_result"
    }
   ],
   "source": [
    "query = '''\n",
    "select EnquiryDestination, round(avg(PerPersonCost),2) as AvgPerPersonCost,\n",
    "        round(avg(TotalBill),2) as AvgTotalBill\n",
    "from travels where EnquiryDestination is not null\n",
    "group by 1 having round(avg(PerPersonCost),2) > 0\n",
    "order by 2 desc limit 1\n",
    "\n",
    "'''\n",
    "pd.read_sql(query, conn)"
   ]
  },
  {
   "cell_type": "markdown",
   "id": "fdbc0e4d",
   "metadata": {
    "id": "Svyfu7gTkvvm",
    "papermill": {
     "duration": 0.029908,
     "end_time": "2024-09-08T14:12:19.441073",
     "exception": false,
     "start_time": "2024-09-08T14:12:19.411165",
     "status": "completed"
    },
    "tags": []
   },
   "source": [
    "## Specific Insights and Anomalies\n",
    "13. **Are there any notable trends in trip dates? (e.g., seasonality)**"
   ]
  },
  {
   "cell_type": "code",
   "execution_count": 39,
   "id": "5c603639",
   "metadata": {
    "execution": {
     "iopub.execute_input": "2024-09-08T14:12:19.504292Z",
     "iopub.status.busy": "2024-09-08T14:12:19.503226Z",
     "iopub.status.idle": "2024-09-08T14:12:19.928806Z",
     "shell.execute_reply": "2024-09-08T14:12:19.927638Z"
    },
    "id": "6-IB0jD0j9-T",
    "outputId": "2a53cd79-8220-458c-8e83-5422d0cad4fb",
    "papermill": {
     "duration": 0.460027,
     "end_time": "2024-09-08T14:12:19.931484",
     "exception": false,
     "start_time": "2024-09-08T14:12:19.471457",
     "status": "completed"
    },
    "tags": []
   },
   "outputs": [
    {
     "data": {
      "image/png": "[encoded data removed]",
      "text/plain": [
       "<Figure size 2500x600 with 1 Axes>"
      ]
     },
     "metadata": {},
     "output_type": "display_data"
    }
   ],
   "source": [
    "query = '''\n",
    "\n",
    "with cte as (\n",
    "select strftime(\"%Y-%m\", TripDate) as TripDate, \n",
    "        count(TripDate) as VisitorsCount \n",
    "    from Travels where TripDate is not null group by 1 order by 1)\n",
    "    \n",
    "select *, round(sum(VisitorsCount) over()*1.0/(select count(VisitorsCount) from cte),0) as Average from cte\n",
    "\n",
    "'''\n",
    "temp = pd.read_sql(query, conn)\n",
    "temp['TripDate'] = pd.to_datetime(temp['TripDate']).dt.date\n",
    "plt.plot(temp['TripDate'], temp['VisitorsCount'], label='Total Count',marker='o', color='#3FC1C9')\n",
    "plt.axhline(temp['Average'].unique(), linestyle='dashed', color='#FC5185', label='Avg Count Per Month')\n",
    "plt.xticks(rotation=0)\n",
    "plt.ylabel('Count')\n",
    "plt.title('Passenger Count Month Wise')\n",
    "plt.legend()\n",
    "plt.show()"
   ]
  },
  {
   "cell_type": "markdown",
   "id": "8201fb56",
   "metadata": {
    "id": "lRqiq5pQxvsb",
    "papermill": {
     "duration": 0.031673,
     "end_time": "2024-09-08T14:12:19.994924",
     "exception": false,
     "start_time": "2024-09-08T14:12:19.963251",
     "status": "completed"
    },
    "tags": []
   },
   "source": [
    "**Insight** - Lot of trips are happening from September to Mid Novemeber"
   ]
  },
  {
   "cell_type": "markdown",
   "id": "e64015e0",
   "metadata": {
    "id": "gfA63rkqkyoh",
    "papermill": {
     "duration": 0.032328,
     "end_time": "2024-09-08T14:12:20.058231",
     "exception": false,
     "start_time": "2024-09-08T14:12:20.025903",
     "status": "completed"
    },
    "tags": []
   },
   "source": [
    "14. **Do ex-clients tend to have higher or lower conversion rates and average bill amounts compared to new clients?**"
   ]
  },
  {
   "cell_type": "code",
   "execution_count": 40,
   "id": "2ec2c018",
   "metadata": {
    "execution": {
     "iopub.execute_input": "2024-09-08T14:12:20.121928Z",
     "iopub.status.busy": "2024-09-08T14:12:20.121039Z",
     "iopub.status.idle": "2024-09-08T14:12:20.200046Z",
     "shell.execute_reply": "2024-09-08T14:12:20.198829Z"
    },
    "id": "8v_Yt5ptk5mc",
    "outputId": "01f8820f-eea0-4392-d9f7-60c8d7bb1efa",
    "papermill": {
     "duration": 0.113614,
     "end_time": "2024-09-08T14:12:20.202552",
     "exception": false,
     "start_time": "2024-09-08T14:12:20.088938",
     "status": "completed"
    },
    "tags": []
   },
   "outputs": [
    {
     "data": {
      "text/html": [
       "<div>\n",
       "<style scoped>\n",
       "    .dataframe tbody tr th:only-of-type {\n",
       "        vertical-align: middle;\n",
       "    }\n",
       "\n",
       "    .dataframe tbody tr th {\n",
       "        vertical-align: top;\n",
       "    }\n",
       "\n",
       "    .dataframe thead th {\n",
       "        text-align: right;\n",
       "    }\n",
       "</style>\n",
       "<table border=\"1\" class=\"dataframe\">\n",
       "  <thead>\n",
       "    <tr style=\"text-align: right;\">\n",
       "      <th></th>\n",
       "      <th>ExClient</th>\n",
       "      <th>ExClient_ConvPct</th>\n",
       "      <th>NewClient_ConvPct</th>\n",
       "    </tr>\n",
       "  </thead>\n",
       "  <tbody>\n",
       "    <tr>\n",
       "      <th>0</th>\n",
       "      <td>No</td>\n",
       "      <td>0.000</td>\n",
       "      <td>2.988</td>\n",
       "    </tr>\n",
       "    <tr>\n",
       "      <th>1</th>\n",
       "      <td>Yes</td>\n",
       "      <td>15.819</td>\n",
       "      <td>0.000</td>\n",
       "    </tr>\n",
       "  </tbody>\n",
       "</table>\n",
       "</div>"
      ],
      "text/plain": [
       "  ExClient  ExClient_ConvPct  NewClient_ConvPct\n",
       "0       No             0.000              2.988\n",
       "1      Yes            15.819              0.000"
      ]
     },
     "execution_count": 40,
     "metadata": {},
     "output_type": "execute_result"
    }
   ],
   "source": [
    "query = '''\n",
    "select ExClient, \n",
    "    round(sum(case when ExClient = 'Yes' and Status = 'Converted' then 1 else 0 end)*1.0/count(*)*100,3) as ExClient_ConvPct,\n",
    "    round(sum(case when ExClient is null and Status = 'Converted' then 1 else 0 end)*1.0/count(*)*100,3) as NewClient_ConvPct\n",
    "    from travels\n",
    "  group by ExClient\n",
    "\n",
    "'''\n",
    "temp = pd.read_sql(query, conn)\n",
    "temp['ExClient'][0] ='No'\n",
    "temp"
   ]
  },
  {
   "cell_type": "markdown",
   "id": "0374219f",
   "metadata": {
    "id": "IL6VNtbX0xWB",
    "papermill": {
     "duration": 0.03133,
     "end_time": "2024-09-08T14:12:20.265870",
     "exception": false,
     "start_time": "2024-09-08T14:12:20.234540",
     "status": "completed"
    },
    "tags": []
   },
   "source": [
    "**Insight**\n",
    "\n",
    "- We have more conversion rate from ExClient as opposed to New Client. \n",
    "- 15% Conversion Rate is from ExClient however we have only 2% Conversion Rate from old Client which means we are not doing a good job in attracting new clients and converting them.\n"
   ]
  },
  {
   "cell_type": "markdown",
   "id": "06b53d41",
   "metadata": {
    "id": "tk85azF7k1H4",
    "papermill": {
     "duration": 0.030728,
     "end_time": "2024-09-08T14:12:20.328572",
     "exception": false,
     "start_time": "2024-09-08T14:12:20.297844",
     "status": "completed"
    },
    "tags": []
   },
   "source": [
    "15. **Are there any anomalies or outliers in the data? (e.g., extremely high or low costs, unusually long or short conversion times)**"
   ]
  },
  {
   "cell_type": "code",
   "execution_count": 41,
   "id": "db97fb3f",
   "metadata": {
    "execution": {
     "iopub.execute_input": "2024-09-08T14:12:20.392398Z",
     "iopub.status.busy": "2024-09-08T14:12:20.391541Z",
     "iopub.status.idle": "2024-09-08T14:12:20.397695Z",
     "shell.execute_reply": "2024-09-08T14:12:20.396670Z"
    },
    "id": "HGB4GwfHp7K9",
    "papermill": {
     "duration": 0.040475,
     "end_time": "2024-09-08T14:12:20.399863",
     "exception": false,
     "start_time": "2024-09-08T14:12:20.359388",
     "status": "completed"
    },
    "tags": []
   },
   "outputs": [],
   "source": [
    "def get_outliers(df, col):\n",
    "    q1, q2, q3 = list(df[col].quantile([0.25, 0.5, 0.75]).values)\n",
    "    iqr = q3 - q1\n",
    "    upperbound= q3 + 1.5 * iqr\n",
    "    lowerbound = q1 - 1.5 * iqr\n",
    "    outliers = df[(df[col]>upperbound) |  (df[col]<lowerbound)]\n",
    "    return outliers"
   ]
  },
  {
   "cell_type": "code",
   "execution_count": 42,
   "id": "6f89f266",
   "metadata": {
    "execution": {
     "iopub.execute_input": "2024-09-08T14:12:20.464937Z",
     "iopub.status.busy": "2024-09-08T14:12:20.464566Z",
     "iopub.status.idle": "2024-09-08T14:12:20.489805Z",
     "shell.execute_reply": "2024-09-08T14:12:20.488745Z"
    },
    "id": "aFXJXdPboKZ1",
    "outputId": "7a776d8f-2d81-4726-90e2-7ba17e0a66a5",
    "papermill": {
     "duration": 0.060433,
     "end_time": "2024-09-08T14:12:20.492001",
     "exception": false,
     "start_time": "2024-09-08T14:12:20.431568",
     "status": "completed"
    },
    "tags": []
   },
   "outputs": [
    {
     "data": {
      "text/html": [
       "<div>\n",
       "<style scoped>\n",
       "    .dataframe tbody tr th:only-of-type {\n",
       "        vertical-align: middle;\n",
       "    }\n",
       "\n",
       "    .dataframe tbody tr th {\n",
       "        vertical-align: top;\n",
       "    }\n",
       "\n",
       "    .dataframe thead th {\n",
       "        text-align: right;\n",
       "    }\n",
       "</style>\n",
       "<table border=\"1\" class=\"dataframe\">\n",
       "  <thead>\n",
       "    <tr style=\"text-align: right;\">\n",
       "      <th></th>\n",
       "      <th>LeadDate</th>\n",
       "      <th>LeadSource</th>\n",
       "      <th>Name</th>\n",
       "      <th>Phone</th>\n",
       "      <th>AssignedTo</th>\n",
       "      <th>EnquiryDestination</th>\n",
       "      <th>ExClient</th>\n",
       "      <th>Status</th>\n",
       "      <th>ConversionDate</th>\n",
       "      <th>Trip</th>\n",
       "      <th>TripDate</th>\n",
       "      <th>BookingID</th>\n",
       "      <th>Pax</th>\n",
       "      <th>PerPersonCost</th>\n",
       "      <th>TotalBill</th>\n",
       "      <th>ConvertedBy</th>\n",
       "      <th>Date</th>\n",
       "      <th>Month</th>\n",
       "      <th>TripYear</th>\n",
       "    </tr>\n",
       "  </thead>\n",
       "  <tbody>\n",
       "    <tr>\n",
       "      <th>0</th>\n",
       "      <td>2023-07-17 00:22:00</td>\n",
       "      <td>Lead Source 1</td>\n",
       "      <td>Tr</td>\n",
       "      <td>)&amp;$**&amp;)^)^</td>\n",
       "      <td>Sales Person 27</td>\n",
       "      <td>None</td>\n",
       "      <td>None</td>\n",
       "      <td>Converted</td>\n",
       "      <td>2023-07-25 18:01:52</td>\n",
       "      <td>BYOG</td>\n",
       "      <td>2023-06-17</td>\n",
       "      <td>WON)^!&amp;#)</td>\n",
       "      <td>2.0</td>\n",
       "      <td>5560.0</td>\n",
       "      <td>11120.0</td>\n",
       "      <td>Sales Person 27</td>\n",
       "      <td>2023-07-17</td>\n",
       "      <td>Jul</td>\n",
       "      <td>2023</td>\n",
       "    </tr>\n",
       "    <tr>\n",
       "      <th>1</th>\n",
       "      <td>2023-07-17 03:39:00</td>\n",
       "      <td>Lead Source 3</td>\n",
       "      <td>fm{mOfHns n</td>\n",
       "      <td>(&amp;@**)##^!</td>\n",
       "      <td>Sales Person 11</td>\n",
       "      <td>Kerala BYOG</td>\n",
       "      <td>Yes</td>\n",
       "      <td>Converted</td>\n",
       "      <td>2023-07-31 20:53:36</td>\n",
       "      <td>Bali Backpacking (6N/7D) - Ex-Delhi</td>\n",
       "      <td>2023-09-05</td>\n",
       "      <td>WOI))(*^%</td>\n",
       "      <td>1.0</td>\n",
       "      <td>7056.0</td>\n",
       "      <td>7056.0</td>\n",
       "      <td>Sales Person 22</td>\n",
       "      <td>2023-07-17</td>\n",
       "      <td>Jul</td>\n",
       "      <td>2023</td>\n",
       "    </tr>\n",
       "    <tr>\n",
       "      <th>2</th>\n",
       "      <td>2023-07-18 04:59:00</td>\n",
       "      <td>Lead Source 3</td>\n",
       "      <td>Snnmi</td>\n",
       "      <td>(@@@#(&amp;%$)</td>\n",
       "      <td>Sales Person 0</td>\n",
       "      <td>Spiti Valley</td>\n",
       "      <td>None</td>\n",
       "      <td>Converted</td>\n",
       "      <td>2023-08-18 19:33:15</td>\n",
       "      <td>BYOG - International</td>\n",
       "      <td>2023-11-28</td>\n",
       "      <td>WOI))(@$@</td>\n",
       "      <td>1.0</td>\n",
       "      <td>13684.0</td>\n",
       "      <td>13684.0</td>\n",
       "      <td>Sales Person 41</td>\n",
       "      <td>2023-07-18</td>\n",
       "      <td>Jul</td>\n",
       "      <td>2023</td>\n",
       "    </tr>\n",
       "    <tr>\n",
       "      <th>3</th>\n",
       "      <td>2023-07-19 15:18:00</td>\n",
       "      <td>Lead Source 1</td>\n",
       "      <td>Fznfnyqs {mXs</td>\n",
       "      <td>)(*$(((**(</td>\n",
       "      <td>Sales Person 8</td>\n",
       "      <td>None</td>\n",
       "      <td>None</td>\n",
       "      <td>Converted</td>\n",
       "      <td>2023-07-31 22:33:48</td>\n",
       "      <td>Vietnam Backpacking (7N/8D)</td>\n",
       "      <td>2023-09-04</td>\n",
       "      <td>WOI))(*^#</td>\n",
       "      <td>1.0</td>\n",
       "      <td>7447.0</td>\n",
       "      <td>7447.0</td>\n",
       "      <td>Sales Person 8</td>\n",
       "      <td>2023-07-19</td>\n",
       "      <td>Jul</td>\n",
       "      <td>2023</td>\n",
       "    </tr>\n",
       "    <tr>\n",
       "      <th>4</th>\n",
       "      <td>2023-07-19 16:28:00</td>\n",
       "      <td>Lead Source 1</td>\n",
       "      <td>fmnjmplygFx uz</td>\n",
       "      <td>(#(&amp;^%@)*#</td>\n",
       "      <td>Sales Person 17</td>\n",
       "      <td>None</td>\n",
       "      <td>None</td>\n",
       "      <td>Converted</td>\n",
       "      <td>2023-07-23 13:48:29</td>\n",
       "      <td>Bali Backpacking (6N/7D) - Ex-Mumbai</td>\n",
       "      <td>2023-09-05</td>\n",
       "      <td>WOI))($#%</td>\n",
       "      <td>1.0</td>\n",
       "      <td>6968.0</td>\n",
       "      <td>6968.0</td>\n",
       "      <td>Sales Person 17</td>\n",
       "      <td>2023-07-19</td>\n",
       "      <td>Jul</td>\n",
       "      <td>2023</td>\n",
       "    </tr>\n",
       "  </tbody>\n",
       "</table>\n",
       "</div>"
      ],
      "text/plain": [
       "             LeadDate     LeadSource            Name       Phone  \\\n",
       "0 2023-07-17 00:22:00  Lead Source 1              Tr  )&$**&)^)^   \n",
       "1 2023-07-17 03:39:00  Lead Source 3     fm{mOfHns n  (&@**)##^!   \n",
       "2 2023-07-18 04:59:00  Lead Source 3           Snnmi  (@@@#(&%$)   \n",
       "3 2023-07-19 15:18:00  Lead Source 1   Fznfnyqs {mXs  )(*$(((**(   \n",
       "4 2023-07-19 16:28:00  Lead Source 1  fmnjmplygFx uz  (#(&^%@)*#   \n",
       "\n",
       "        AssignedTo EnquiryDestination ExClient     Status      ConversionDate  \\\n",
       "0  Sales Person 27               None     None  Converted 2023-07-25 18:01:52   \n",
       "1  Sales Person 11        Kerala BYOG      Yes  Converted 2023-07-31 20:53:36   \n",
       "2   Sales Person 0       Spiti Valley     None  Converted 2023-08-18 19:33:15   \n",
       "3   Sales Person 8               None     None  Converted 2023-07-31 22:33:48   \n",
       "4  Sales Person 17               None     None  Converted 2023-07-23 13:48:29   \n",
       "\n",
       "                                   Trip   TripDate  BookingID  Pax  \\\n",
       "0                                  BYOG 2023-06-17  WON)^!&#)  2.0   \n",
       "1   Bali Backpacking (6N/7D) - Ex-Delhi 2023-09-05  WOI))(*^%  1.0   \n",
       "2                  BYOG - International 2023-11-28  WOI))(@$@  1.0   \n",
       "3           Vietnam Backpacking (7N/8D) 2023-09-04  WOI))(*^#  1.0   \n",
       "4  Bali Backpacking (6N/7D) - Ex-Mumbai 2023-09-05  WOI))($#%  1.0   \n",
       "\n",
       "   PerPersonCost  TotalBill      ConvertedBy       Date Month TripYear  \n",
       "0         5560.0    11120.0  Sales Person 27 2023-07-17   Jul     2023  \n",
       "1         7056.0     7056.0  Sales Person 22 2023-07-17   Jul     2023  \n",
       "2        13684.0    13684.0  Sales Person 41 2023-07-18   Jul     2023  \n",
       "3         7447.0     7447.0   Sales Person 8 2023-07-19   Jul     2023  \n",
       "4         6968.0     6968.0  Sales Person 17 2023-07-19   Jul     2023  "
      ]
     },
     "execution_count": 42,
     "metadata": {},
     "output_type": "execute_result"
    }
   ],
   "source": [
    "#Outliers Based on PerPersonCost\n",
    "PerPersonCost_outliers = get_outliers(df, 'PerPersonCost').reset_index(drop=True)\n",
    "PerPersonCost_outliers.head()"
   ]
  },
  {
   "cell_type": "code",
   "execution_count": 43,
   "id": "089b56d2",
   "metadata": {
    "execution": {
     "iopub.execute_input": "2024-09-08T14:12:20.557326Z",
     "iopub.status.busy": "2024-09-08T14:12:20.556308Z",
     "iopub.status.idle": "2024-09-08T14:12:20.563125Z",
     "shell.execute_reply": "2024-09-08T14:12:20.561980Z"
    },
    "id": "xhtGB-T-7Cv4",
    "outputId": "5d70707f-0201-4373-e899-cf01a5b84327",
    "papermill": {
     "duration": 0.04229,
     "end_time": "2024-09-08T14:12:20.565668",
     "exception": false,
     "start_time": "2024-09-08T14:12:20.523378",
     "status": "completed"
    },
    "tags": []
   },
   "outputs": [
    {
     "name": "stdout",
     "output_type": "stream",
     "text": [
      "Sum Total Bill for PerPersonCost Outliers: 4182135.0\n",
      "Average Total Bill for PerPersonCost Outliers: 18104.48\n"
     ]
    }
   ],
   "source": [
    "# Analyze Total Bill for PerPersonCost Outliers\n",
    "total_bill_outliers = PerPersonCost_outliers['TotalBill'].sum()\n",
    "average_bill_outliers = round(PerPersonCost_outliers['TotalBill'].mean(),2)\n",
    "\n",
    "print(f\"Sum Total Bill for PerPersonCost Outliers: {total_bill_outliers}\")\n",
    "print(f\"Average Total Bill for PerPersonCost Outliers: {average_bill_outliers}\")"
   ]
  },
  {
   "cell_type": "code",
   "execution_count": 44,
   "id": "21f32b62",
   "metadata": {
    "execution": {
     "iopub.execute_input": "2024-09-08T14:12:20.630586Z",
     "iopub.status.busy": "2024-09-08T14:12:20.630176Z",
     "iopub.status.idle": "2024-09-08T14:12:20.656609Z",
     "shell.execute_reply": "2024-09-08T14:12:20.655290Z"
    },
    "id": "mgTHOWqKnpEA",
    "outputId": "5627bb11-e5f1-45c5-a523-ce5099fd0374",
    "papermill": {
     "duration": 0.061949,
     "end_time": "2024-09-08T14:12:20.659056",
     "exception": false,
     "start_time": "2024-09-08T14:12:20.597107",
     "status": "completed"
    },
    "tags": []
   },
   "outputs": [
    {
     "data": {
      "text/html": [
       "<div>\n",
       "<style scoped>\n",
       "    .dataframe tbody tr th:only-of-type {\n",
       "        vertical-align: middle;\n",
       "    }\n",
       "\n",
       "    .dataframe tbody tr th {\n",
       "        vertical-align: top;\n",
       "    }\n",
       "\n",
       "    .dataframe thead th {\n",
       "        text-align: right;\n",
       "    }\n",
       "</style>\n",
       "<table border=\"1\" class=\"dataframe\">\n",
       "  <thead>\n",
       "    <tr style=\"text-align: right;\">\n",
       "      <th></th>\n",
       "      <th>LeadDate</th>\n",
       "      <th>LeadSource</th>\n",
       "      <th>Name</th>\n",
       "      <th>Phone</th>\n",
       "      <th>AssignedTo</th>\n",
       "      <th>EnquiryDestination</th>\n",
       "      <th>ExClient</th>\n",
       "      <th>Status</th>\n",
       "      <th>ConversionDate</th>\n",
       "      <th>Trip</th>\n",
       "      <th>TripDate</th>\n",
       "      <th>BookingID</th>\n",
       "      <th>Pax</th>\n",
       "      <th>PerPersonCost</th>\n",
       "      <th>TotalBill</th>\n",
       "      <th>ConvertedBy</th>\n",
       "      <th>Date</th>\n",
       "      <th>Month</th>\n",
       "      <th>TripYear</th>\n",
       "    </tr>\n",
       "  </thead>\n",
       "  <tbody>\n",
       "    <tr>\n",
       "      <th>0</th>\n",
       "      <td>2023-07-18 04:59:00</td>\n",
       "      <td>Lead Source 3</td>\n",
       "      <td>Snnmi</td>\n",
       "      <td>(@@@#(&amp;%$)</td>\n",
       "      <td>Sales Person 0</td>\n",
       "      <td>Spiti Valley</td>\n",
       "      <td>None</td>\n",
       "      <td>Converted</td>\n",
       "      <td>2023-08-18 19:33:15</td>\n",
       "      <td>BYOG - International</td>\n",
       "      <td>2023-11-28</td>\n",
       "      <td>WOI))(@$@</td>\n",
       "      <td>1.0</td>\n",
       "      <td>13684.0</td>\n",
       "      <td>13684.0</td>\n",
       "      <td>Sales Person 41</td>\n",
       "      <td>2023-07-18</td>\n",
       "      <td>Jul</td>\n",
       "      <td>2023</td>\n",
       "    </tr>\n",
       "    <tr>\n",
       "      <th>1</th>\n",
       "      <td>2023-07-19 22:55:00</td>\n",
       "      <td>Lead Source 1</td>\n",
       "      <td>mfInx</td>\n",
       "      <td>)@##&amp;@@%&amp;#</td>\n",
       "      <td>Sales Person 0</td>\n",
       "      <td>Spiti Valley</td>\n",
       "      <td>None</td>\n",
       "      <td>Converted</td>\n",
       "      <td>2023-07-28 19:09:18</td>\n",
       "      <td>BYOG</td>\n",
       "      <td>2023-08-06</td>\n",
       "      <td>WON)^!(@!</td>\n",
       "      <td>12.0</td>\n",
       "      <td>1707.0</td>\n",
       "      <td>20481.0</td>\n",
       "      <td>Sales Person 61</td>\n",
       "      <td>2023-07-19</td>\n",
       "      <td>Jul</td>\n",
       "      <td>2023</td>\n",
       "    </tr>\n",
       "    <tr>\n",
       "      <th>2</th>\n",
       "      <td>2023-07-20 17:31:00</td>\n",
       "      <td>Lead Source 1</td>\n",
       "      <td>~fSf{</td>\n",
       "      <td>*(*^)!)^(^</td>\n",
       "      <td>Sales Person 35</td>\n",
       "      <td>None</td>\n",
       "      <td>None</td>\n",
       "      <td>Converted</td>\n",
       "      <td>2023-07-29 14:03:33</td>\n",
       "      <td>BYOG - International</td>\n",
       "      <td>2023-12-30</td>\n",
       "      <td>WOI))(*))</td>\n",
       "      <td>10.0</td>\n",
       "      <td>1460.0</td>\n",
       "      <td>14600.0</td>\n",
       "      <td>Sales Person 67</td>\n",
       "      <td>2023-07-20</td>\n",
       "      <td>Jul</td>\n",
       "      <td>2023</td>\n",
       "    </tr>\n",
       "    <tr>\n",
       "      <th>3</th>\n",
       "      <td>2023-07-20 18:18:00</td>\n",
       "      <td>Lead Source 1</td>\n",
       "      <td>Inmxf</td>\n",
       "      <td>)@##&amp;@@%&amp;#</td>\n",
       "      <td>Sales Person 0</td>\n",
       "      <td>Bali</td>\n",
       "      <td>None</td>\n",
       "      <td>Converted</td>\n",
       "      <td>2023-07-28 19:09:18</td>\n",
       "      <td>BYOG</td>\n",
       "      <td>2023-08-06</td>\n",
       "      <td>WON)^!(@!</td>\n",
       "      <td>12.0</td>\n",
       "      <td>1707.0</td>\n",
       "      <td>20481.0</td>\n",
       "      <td>Sales Person 61</td>\n",
       "      <td>2023-07-20</td>\n",
       "      <td>Jul</td>\n",
       "      <td>2023</td>\n",
       "    </tr>\n",
       "    <tr>\n",
       "      <th>4</th>\n",
       "      <td>2023-07-21 19:37:00</td>\n",
       "      <td>Lead Source 1</td>\n",
       "      <td>Poffnjssy</td>\n",
       "      <td>)(#@!()^^%</td>\n",
       "      <td>Sales Person 32</td>\n",
       "      <td>None</td>\n",
       "      <td>Yes</td>\n",
       "      <td>Converted</td>\n",
       "      <td>2023-07-24 12:15:51</td>\n",
       "      <td>Leh Ladakh(Srinagar to Manali)</td>\n",
       "      <td>2023-11-07</td>\n",
       "      <td>WON)^!&amp;*$</td>\n",
       "      <td>5.0</td>\n",
       "      <td>2831.0</td>\n",
       "      <td>14154.0</td>\n",
       "      <td>Sales Person 32</td>\n",
       "      <td>2023-07-21</td>\n",
       "      <td>Jul</td>\n",
       "      <td>2023</td>\n",
       "    </tr>\n",
       "  </tbody>\n",
       "</table>\n",
       "</div>"
      ],
      "text/plain": [
       "             LeadDate     LeadSource        Name       Phone       AssignedTo  \\\n",
       "0 2023-07-18 04:59:00  Lead Source 3       Snnmi  (@@@#(&%$)   Sales Person 0   \n",
       "1 2023-07-19 22:55:00  Lead Source 1       mfInx  )@##&@@%&#   Sales Person 0   \n",
       "2 2023-07-20 17:31:00  Lead Source 1       ~fSf{  *(*^)!)^(^  Sales Person 35   \n",
       "3 2023-07-20 18:18:00  Lead Source 1       Inmxf  )@##&@@%&#   Sales Person 0   \n",
       "4 2023-07-21 19:37:00  Lead Source 1   Poffnjssy  )(#@!()^^%  Sales Person 32   \n",
       "\n",
       "  EnquiryDestination ExClient     Status      ConversionDate  \\\n",
       "0       Spiti Valley     None  Converted 2023-08-18 19:33:15   \n",
       "1       Spiti Valley     None  Converted 2023-07-28 19:09:18   \n",
       "2               None     None  Converted 2023-07-29 14:03:33   \n",
       "3               Bali     None  Converted 2023-07-28 19:09:18   \n",
       "4               None      Yes  Converted 2023-07-24 12:15:51   \n",
       "\n",
       "                             Trip   TripDate  BookingID   Pax  PerPersonCost  \\\n",
       "0            BYOG - International 2023-11-28  WOI))(@$@   1.0        13684.0   \n",
       "1                            BYOG 2023-08-06  WON)^!(@!  12.0         1707.0   \n",
       "2            BYOG - International 2023-12-30  WOI))(*))  10.0         1460.0   \n",
       "3                            BYOG 2023-08-06  WON)^!(@!  12.0         1707.0   \n",
       "4  Leh Ladakh(Srinagar to Manali) 2023-11-07  WON)^!&*$   5.0         2831.0   \n",
       "\n",
       "   TotalBill      ConvertedBy       Date Month TripYear  \n",
       "0    13684.0  Sales Person 41 2023-07-18   Jul     2023  \n",
       "1    20481.0  Sales Person 61 2023-07-19   Jul     2023  \n",
       "2    14600.0  Sales Person 67 2023-07-20   Jul     2023  \n",
       "3    20481.0  Sales Person 61 2023-07-20   Jul     2023  \n",
       "4    14154.0  Sales Person 32 2023-07-21   Jul     2023  "
      ]
     },
     "execution_count": 44,
     "metadata": {},
     "output_type": "execute_result"
    }
   ],
   "source": [
    "TotalBillOutliers = get_outliers(df, 'TotalBill').reset_index(drop=True)\n",
    "TotalBillOutliers.head()"
   ]
  },
  {
   "cell_type": "code",
   "execution_count": 45,
   "id": "a92fd685",
   "metadata": {
    "execution": {
     "iopub.execute_input": "2024-09-08T14:12:20.727296Z",
     "iopub.status.busy": "2024-09-08T14:12:20.726517Z",
     "iopub.status.idle": "2024-09-08T14:12:21.028499Z",
     "shell.execute_reply": "2024-09-08T14:12:21.027478Z"
    },
    "id": "8JJ2KS6f8Psa",
    "outputId": "ab9e5524-a7ae-4d88-89b3-1c02411ebf46",
    "papermill": {
     "duration": 0.339364,
     "end_time": "2024-09-08T14:12:21.030984",
     "exception": false,
     "start_time": "2024-09-08T14:12:20.691620",
     "status": "completed"
    },
    "tags": []
   },
   "outputs": [
    {
     "data": {
      "image/png": "[encoded data removed]",
      "text/plain": [
       "<Figure size 2500x600 with 1 Axes>"
      ]
     },
     "metadata": {},
     "output_type": "display_data"
    }
   ],
   "source": [
    "# Enquiry Destinations for PerPersonCost Outliers\n",
    "destinations_With_outliers = pd.DataFrame(df['EnquiryDestination'].value_counts().head(5)).reset_index()\n",
    "COLORS = ['#3FC1C9'] * len(destinations_With_outliers)\n",
    "COLORS[0] = '#FC5185' \n",
    "plt.bar(destinations_With_outliers['EnquiryDestination'], destinations_With_outliers['count'], color=COLORS)\n",
    "yticks = plt.gca().get_yticks()\n",
    "ylabels = [f\"{round(i / 1000)}k\" if i != 0 else \"0\" for i in yticks]\n",
    "plt.gca().set_yticklabels(ylabels)\n",
    "plt.xticks(rotation=0)\n",
    "plt.title('Enquiry Destinations Count without Outliers')\n",
    "plt.show()"
   ]
  },
  {
   "cell_type": "markdown",
   "id": "7f0fbce9",
   "metadata": {
    "id": "-b35mU5I8z7Z",
    "papermill": {
     "duration": 0.032085,
     "end_time": "2024-09-08T14:12:21.095142",
     "exception": false,
     "start_time": "2024-09-08T14:12:21.063057",
     "status": "completed"
    },
    "tags": []
   },
   "source": [
    "**Insight**\n",
    "\n",
    "- In the entire Dataset, the destination that is being asked about the most is Meghalaya."
   ]
  },
  {
   "cell_type": "code",
   "execution_count": 46,
   "id": "72e9262f",
   "metadata": {
    "execution": {
     "iopub.execute_input": "2024-09-08T14:12:21.161418Z",
     "iopub.status.busy": "2024-09-08T14:12:21.161019Z",
     "iopub.status.idle": "2024-09-08T14:12:21.171608Z",
     "shell.execute_reply": "2024-09-08T14:12:21.170418Z"
    },
    "id": "VuppxjJr7MXs",
    "outputId": "bc82cae4-8d99-4f3c-c046-b2b43f769736",
    "papermill": {
     "duration": 0.046202,
     "end_time": "2024-09-08T14:12:21.173840",
     "exception": false,
     "start_time": "2024-09-08T14:12:21.127638",
     "status": "completed"
    },
    "tags": []
   },
   "outputs": [
    {
     "name": "stdout",
     "output_type": "stream",
     "text": [
      "Enquiry Destinations for Outliers:\n"
     ]
    },
    {
     "data": {
      "text/plain": [
       "EnquiryDestination\n",
       "Europe           27\n",
       "Bali             25\n",
       "Vietnam          25\n",
       "BYOG - Europe     8\n",
       "Europe BYOG       7\n",
       "Name: count, dtype: int64"
      ]
     },
     "execution_count": 46,
     "metadata": {},
     "output_type": "execute_result"
    }
   ],
   "source": [
    "# Enquiry Destinations for PerPersonCost Outliers\n",
    "destinations_outliers = PerPersonCost_outliers['EnquiryDestination'].value_counts().head(5)\n",
    "print(\"Enquiry Destinations for Outliers:\")\n",
    "destinations_outliers"
   ]
  },
  {
   "cell_type": "markdown",
   "id": "2e0ba227",
   "metadata": {
    "id": "1Ua6br8f8d72",
    "papermill": {
     "duration": 0.032344,
     "end_time": "2024-09-08T14:12:21.238655",
     "exception": false,
     "start_time": "2024-09-08T14:12:21.206311",
     "status": "completed"
    },
    "tags": []
   },
   "source": [
    "**Insight**\n",
    "\n",
    "- The outliers are the people who are interested in visiting places outside of India which could mean Higher Revenue and if served well they may become recurring customers."
   ]
  },
  {
   "cell_type": "code",
   "execution_count": 47,
   "id": "981f7119",
   "metadata": {
    "execution": {
     "iopub.execute_input": "2024-09-08T14:12:21.305667Z",
     "iopub.status.busy": "2024-09-08T14:12:21.305292Z",
     "iopub.status.idle": "2024-09-08T14:12:21.345260Z",
     "shell.execute_reply": "2024-09-08T14:12:21.344045Z"
    },
    "id": "ULxfWIdv7Y2p",
    "outputId": "7e6ebca4-d68f-4f07-c544-223771c9cc16",
    "papermill": {
     "duration": 0.07619,
     "end_time": "2024-09-08T14:12:21.347669",
     "exception": false,
     "start_time": "2024-09-08T14:12:21.271479",
     "status": "completed"
    },
    "tags": []
   },
   "outputs": [
    {
     "name": "stdout",
     "output_type": "stream",
     "text": [
      "Average Total Bill With Outliers: 5778.49\n",
      "Average Total Bill Without Outliers: 5782.05\n"
     ]
    }
   ],
   "source": [
    "# Compare PerPersonCost Outliers with Non-Outliers\n",
    "non_outliers = df[~df.index.isin(PerPersonCost_outliers.index)]\n",
    "with_outliers = round(df['TotalBill'].mean(),2)\n",
    "average_bill_non_outliers = round(non_outliers['TotalBill'].mean(),2)\n",
    "print(f\"Average Total Bill With Outliers: {with_outliers}\")\n",
    "print(f\"Average Total Bill Without Outliers: {average_bill_non_outliers}\")"
   ]
  },
  {
   "cell_type": "markdown",
   "id": "20cf135f",
   "metadata": {
    "id": "0XGRrkLuq1Vp",
    "papermill": {
     "duration": 0.0324,
     "end_time": "2024-09-08T14:12:21.413028",
     "exception": false,
     "start_time": "2024-09-08T14:12:21.380628",
     "status": "completed"
    },
    "tags": []
   },
   "source": [
    "## Advanced Analysis and Strategic Insights\n",
    "16. **What is the relationship between the number of passengers (Pax) and the total bill?**"
   ]
  },
  {
   "cell_type": "code",
   "execution_count": 48,
   "id": "8f4d6e63",
   "metadata": {
    "execution": {
     "iopub.execute_input": "2024-09-08T14:12:21.482781Z",
     "iopub.status.busy": "2024-09-08T14:12:21.482382Z",
     "iopub.status.idle": "2024-09-08T14:12:21.498614Z",
     "shell.execute_reply": "2024-09-08T14:12:21.497565Z"
    },
    "id": "DfL1RqUtdpWV",
    "outputId": "534eca8e-ce28-4877-cc48-59db15a630e1",
    "papermill": {
     "duration": 0.053444,
     "end_time": "2024-09-08T14:12:21.501030",
     "exception": false,
     "start_time": "2024-09-08T14:12:21.447586",
     "status": "completed"
    },
    "tags": []
   },
   "outputs": [
    {
     "data": {
      "text/html": [
       "<div>\n",
       "<style scoped>\n",
       "    .dataframe tbody tr th:only-of-type {\n",
       "        vertical-align: middle;\n",
       "    }\n",
       "\n",
       "    .dataframe tbody tr th {\n",
       "        vertical-align: top;\n",
       "    }\n",
       "\n",
       "    .dataframe thead th {\n",
       "        text-align: right;\n",
       "    }\n",
       "</style>\n",
       "<table border=\"1\" class=\"dataframe\">\n",
       "  <thead>\n",
       "    <tr style=\"text-align: right;\">\n",
       "      <th></th>\n",
       "      <th>Pax</th>\n",
       "      <th>TotalBill</th>\n",
       "    </tr>\n",
       "  </thead>\n",
       "  <tbody>\n",
       "    <tr>\n",
       "      <th>Pax</th>\n",
       "      <td>1.0000</td>\n",
       "      <td>0.5731</td>\n",
       "    </tr>\n",
       "    <tr>\n",
       "      <th>TotalBill</th>\n",
       "      <td>0.5731</td>\n",
       "      <td>1.0000</td>\n",
       "    </tr>\n",
       "  </tbody>\n",
       "</table>\n",
       "</div>"
      ],
      "text/plain": [
       "              Pax  TotalBill\n",
       "Pax        1.0000     0.5731\n",
       "TotalBill  0.5731     1.0000"
      ]
     },
     "execution_count": 48,
     "metadata": {},
     "output_type": "execute_result"
    }
   ],
   "source": [
    "df[['Pax', 'TotalBill']].corr().apply(lambda x : round(x, 4))"
   ]
  },
  {
   "cell_type": "code",
   "execution_count": 49,
   "id": "73a53886",
   "metadata": {
    "execution": {
     "iopub.execute_input": "2024-09-08T14:12:21.568380Z",
     "iopub.status.busy": "2024-09-08T14:12:21.567961Z",
     "iopub.status.idle": "2024-09-08T14:12:21.597976Z",
     "shell.execute_reply": "2024-09-08T14:12:21.596635Z"
    },
    "id": "19g1eSCx-HSE",
    "papermill": {
     "duration": 0.066816,
     "end_time": "2024-09-08T14:12:21.600467",
     "exception": false,
     "start_time": "2024-09-08T14:12:21.533651",
     "status": "completed"
    },
    "tags": []
   },
   "outputs": [
    {
     "name": "stdout",
     "output_type": "stream",
     "text": [
      "ANOVA test result: F-statistic = 280.401, p-value = 1.316736997021471e-249\n"
     ]
    }
   ],
   "source": [
    "# Create bins for Pax\n",
    "bins = [0, 2, 4, 6, 8, 10, 20]\n",
    "labels = ['0-2', '2-4', '4-6', '6-8', '8-10', '10+']\n",
    "df['Pax_Binned'] = pd.cut(df['Pax'], bins=bins, labels=labels, right=False)\n",
    "\n",
    "# Calculate average PerPersonCost for each Pax bin\n",
    "grouped = df.groupby('Pax_Binned')['TotalBill'].mean()\n",
    "\n",
    "# Perform ANOVA\n",
    "anova_result = stats.f_oneway(\n",
    "    df[df['Pax_Binned'] == '0-2']['TotalBill'],\n",
    "    df[df['Pax_Binned'] == '2-4']['TotalBill'],\n",
    "    df[df['Pax_Binned'] == '4-6']['TotalBill'],\n",
    "    df[df['Pax_Binned'] == '6-8']['TotalBill'],\n",
    "    df[df['Pax_Binned'] == '8-10']['TotalBill'],\n",
    "    df[df['Pax_Binned'] == '10+']['TotalBill']\n",
    ")\n",
    "\n",
    "print(f\"ANOVA test result: F-statistic = {round(anova_result.statistic,3)}, p-value = {anova_result.pvalue}\")"
   ]
  },
  {
   "cell_type": "markdown",
   "id": "4086c62d",
   "metadata": {
    "id": "JPh3SSL7_EsR",
    "papermill": {
     "duration": 0.032357,
     "end_time": "2024-09-08T14:12:21.666021",
     "exception": false,
     "start_time": "2024-09-08T14:12:21.633664",
     "status": "completed"
    },
    "tags": []
   },
   "source": [
    "**Interpreting the ANOVA Result**\n",
    "\n",
    "- **F-statistic = 280.4006**: Indicates a high variance between groups compared to within groups, suggesting substantial differences between group means.\n",
    "- **p-value**: An extremely low p-value, far below the 0.05 threshold, leading to the rejection of the null hypothesis.\n",
    "\n",
    "**Conclusion**\n",
    "\n",
    "- **Significant Relationship**: There is strong statistical evidence of significant differences in `TotalBill` across different `Pax` groups.\n",
    "- **Strategic Focus**: The number of passengers significantly affects the total bill, so understanding and optimizing this relationship is crucial for strategic decisions."
   ]
  },
  {
   "cell_type": "code",
   "execution_count": 50,
   "id": "c3ebbd9e",
   "metadata": {
    "execution": {
     "iopub.execute_input": "2024-09-08T14:12:21.734960Z",
     "iopub.status.busy": "2024-09-08T14:12:21.734127Z",
     "iopub.status.idle": "2024-09-08T14:12:21.747856Z",
     "shell.execute_reply": "2024-09-08T14:12:21.746802Z"
    },
    "id": "zfAjditceQrS",
    "outputId": "eaade115-a8da-46f3-c926-2df98607d348",
    "papermill": {
     "duration": 0.051184,
     "end_time": "2024-09-08T14:12:21.750110",
     "exception": false,
     "start_time": "2024-09-08T14:12:21.698926",
     "status": "completed"
    },
    "tags": []
   },
   "outputs": [
    {
     "data": {
      "text/html": [
       "<div>\n",
       "<style scoped>\n",
       "    .dataframe tbody tr th:only-of-type {\n",
       "        vertical-align: middle;\n",
       "    }\n",
       "\n",
       "    .dataframe tbody tr th {\n",
       "        vertical-align: top;\n",
       "    }\n",
       "\n",
       "    .dataframe thead th {\n",
       "        text-align: right;\n",
       "    }\n",
       "</style>\n",
       "<table border=\"1\" class=\"dataframe\">\n",
       "  <thead>\n",
       "    <tr style=\"text-align: right;\">\n",
       "      <th></th>\n",
       "      <th>Pax</th>\n",
       "      <th>PerPersonCost</th>\n",
       "    </tr>\n",
       "  </thead>\n",
       "  <tbody>\n",
       "    <tr>\n",
       "      <th>Pax</th>\n",
       "      <td>1.0000</td>\n",
       "      <td>-0.0035</td>\n",
       "    </tr>\n",
       "    <tr>\n",
       "      <th>PerPersonCost</th>\n",
       "      <td>-0.0035</td>\n",
       "      <td>1.0000</td>\n",
       "    </tr>\n",
       "  </tbody>\n",
       "</table>\n",
       "</div>"
      ],
      "text/plain": [
       "                  Pax  PerPersonCost\n",
       "Pax            1.0000        -0.0035\n",
       "PerPersonCost -0.0035         1.0000"
      ]
     },
     "execution_count": 50,
     "metadata": {},
     "output_type": "execute_result"
    }
   ],
   "source": [
    "df[['Pax', 'PerPersonCost']].corr().apply(lambda x : round(x, 4))"
   ]
  },
  {
   "cell_type": "markdown",
   "id": "136d96f2",
   "metadata": {
    "id": "VW4JpJQQrOfE",
    "papermill": {
     "duration": 0.037293,
     "end_time": "2024-09-08T14:12:21.821743",
     "exception": false,
     "start_time": "2024-09-08T14:12:21.784450",
     "status": "completed"
    },
    "tags": []
   },
   "source": [
    "**Insight** - There doesn't seem to be much relationship between the Passenger count and PerPersonCost however there is a 0.57 correlation between the Number of Passengers and the total Bill which means if passengers increase there is a 0.57 probability that Total Bill will also increase."
   ]
  },
  {
   "cell_type": "markdown",
   "id": "e2fa7952",
   "metadata": {
    "id": "KtwZh5ilsBwT",
    "papermill": {
     "duration": 0.03258,
     "end_time": "2024-09-08T14:12:21.887089",
     "exception": false,
     "start_time": "2024-09-08T14:12:21.854509",
     "status": "completed"
    },
    "tags": []
   },
   "source": [
    "\n",
    "17. **How does the performance of different agents compare?**"
   ]
  },
  {
   "cell_type": "code",
   "execution_count": 51,
   "id": "397be91b",
   "metadata": {
    "execution": {
     "iopub.execute_input": "2024-09-08T14:12:21.956319Z",
     "iopub.status.busy": "2024-09-08T14:12:21.955442Z",
     "iopub.status.idle": "2024-09-08T14:12:22.042051Z",
     "shell.execute_reply": "2024-09-08T14:12:22.040988Z"
    },
    "id": "1BOk2NgEq2dT",
    "outputId": "28417814-1fcd-4574-a47c-dd283f4d3817",
    "papermill": {
     "duration": 0.12316,
     "end_time": "2024-09-08T14:12:22.044428",
     "exception": false,
     "start_time": "2024-09-08T14:12:21.921268",
     "status": "completed"
    },
    "tags": []
   },
   "outputs": [
    {
     "data": {
      "text/html": [
       "<div>\n",
       "<style scoped>\n",
       "    .dataframe tbody tr th:only-of-type {\n",
       "        vertical-align: middle;\n",
       "    }\n",
       "\n",
       "    .dataframe tbody tr th {\n",
       "        vertical-align: top;\n",
       "    }\n",
       "\n",
       "    .dataframe thead th {\n",
       "        text-align: right;\n",
       "    }\n",
       "</style>\n",
       "<table border=\"1\" class=\"dataframe\">\n",
       "  <thead>\n",
       "    <tr style=\"text-align: right;\">\n",
       "      <th></th>\n",
       "      <th>AssignedTo</th>\n",
       "      <th>AssignedLeads</th>\n",
       "      <th>ConvertedLeads</th>\n",
       "      <th>ConversionRate</th>\n",
       "      <th>TotalBill</th>\n",
       "    </tr>\n",
       "  </thead>\n",
       "  <tbody>\n",
       "    <tr>\n",
       "      <th>0</th>\n",
       "      <td>Sales Person 33</td>\n",
       "      <td>1443</td>\n",
       "      <td>100</td>\n",
       "      <td>6.93</td>\n",
       "      <td>805.74k</td>\n",
       "    </tr>\n",
       "    <tr>\n",
       "      <th>1</th>\n",
       "      <td>Sales Person 26</td>\n",
       "      <td>1839</td>\n",
       "      <td>117</td>\n",
       "      <td>6.36</td>\n",
       "      <td>449.67k</td>\n",
       "    </tr>\n",
       "    <tr>\n",
       "      <th>2</th>\n",
       "      <td>Sales Person 38</td>\n",
       "      <td>1622</td>\n",
       "      <td>101</td>\n",
       "      <td>6.23</td>\n",
       "      <td>199.93k</td>\n",
       "    </tr>\n",
       "    <tr>\n",
       "      <th>3</th>\n",
       "      <td>Sales Person 13</td>\n",
       "      <td>1755</td>\n",
       "      <td>107</td>\n",
       "      <td>6.10</td>\n",
       "      <td>511.74k</td>\n",
       "    </tr>\n",
       "    <tr>\n",
       "      <th>4</th>\n",
       "      <td>Sales Person 30</td>\n",
       "      <td>1467</td>\n",
       "      <td>88</td>\n",
       "      <td>6.00</td>\n",
       "      <td>224.25k</td>\n",
       "    </tr>\n",
       "  </tbody>\n",
       "</table>\n",
       "</div>"
      ],
      "text/plain": [
       "        AssignedTo  AssignedLeads  ConvertedLeads  ConversionRate TotalBill\n",
       "0  Sales Person 33           1443             100            6.93   805.74k\n",
       "1  Sales Person 26           1839             117            6.36   449.67k\n",
       "2  Sales Person 38           1622             101            6.23   199.93k\n",
       "3  Sales Person 13           1755             107            6.10   511.74k\n",
       "4  Sales Person 30           1467              88            6.00   224.25k"
      ]
     },
     "execution_count": 51,
     "metadata": {},
     "output_type": "execute_result"
    }
   ],
   "source": [
    "query = '''\n",
    "select AssignedTo, count(AssignedTo) as AssignedLeads,\n",
    "      count(ConvertedBy) as ConvertedLeads,\n",
    "      round(count(ConvertedBy)*1.0/count(AssignedTo)*100,2) as ConversionRate,\n",
    "      coalesce(sum(TotalBill),0) as TotalBill\n",
    "from travels group by 1 order by 4 desc\n",
    "\n",
    "'''\n",
    "SalesPerson_df = pd.read_sql(query, conn)\n",
    "\n",
    "SalesPerson_df['TotalBill'] = [f\"{round(i / 1000,2)}k\" if i != 0 else \"0\" for i in SalesPerson_df['TotalBill'].values.tolist()]\n",
    "\n",
    "#Top 5 rows\n",
    "SalesPerson_df.head()"
   ]
  },
  {
   "cell_type": "code",
   "execution_count": 52,
   "id": "13f0e479",
   "metadata": {
    "execution": {
     "iopub.execute_input": "2024-09-08T14:12:22.114978Z",
     "iopub.status.busy": "2024-09-08T14:12:22.114092Z",
     "iopub.status.idle": "2024-09-08T14:12:22.125597Z",
     "shell.execute_reply": "2024-09-08T14:12:22.124639Z"
    },
    "papermill": {
     "duration": 0.049075,
     "end_time": "2024-09-08T14:12:22.127743",
     "exception": false,
     "start_time": "2024-09-08T14:12:22.078668",
     "status": "completed"
    },
    "tags": []
   },
   "outputs": [
    {
     "data": {
      "text/html": [
       "<div>\n",
       "<style scoped>\n",
       "    .dataframe tbody tr th:only-of-type {\n",
       "        vertical-align: middle;\n",
       "    }\n",
       "\n",
       "    .dataframe tbody tr th {\n",
       "        vertical-align: top;\n",
       "    }\n",
       "\n",
       "    .dataframe thead th {\n",
       "        text-align: right;\n",
       "    }\n",
       "</style>\n",
       "<table border=\"1\" class=\"dataframe\">\n",
       "  <thead>\n",
       "    <tr style=\"text-align: right;\">\n",
       "      <th></th>\n",
       "      <th>AssignedTo</th>\n",
       "      <th>AssignedLeads</th>\n",
       "      <th>ConvertedLeads</th>\n",
       "      <th>ConversionRate</th>\n",
       "      <th>TotalBill</th>\n",
       "    </tr>\n",
       "  </thead>\n",
       "  <tbody>\n",
       "    <tr>\n",
       "      <th>50</th>\n",
       "      <td>Sales Person 4</td>\n",
       "      <td>1592</td>\n",
       "      <td>26</td>\n",
       "      <td>1.63</td>\n",
       "      <td>146.92k</td>\n",
       "    </tr>\n",
       "    <tr>\n",
       "      <th>51</th>\n",
       "      <td>Sales Person 25</td>\n",
       "      <td>1468</td>\n",
       "      <td>23</td>\n",
       "      <td>1.57</td>\n",
       "      <td>104.41k</td>\n",
       "    </tr>\n",
       "    <tr>\n",
       "      <th>52</th>\n",
       "      <td>Sales Person 12</td>\n",
       "      <td>1285</td>\n",
       "      <td>16</td>\n",
       "      <td>1.25</td>\n",
       "      <td>156.69k</td>\n",
       "    </tr>\n",
       "    <tr>\n",
       "      <th>53</th>\n",
       "      <td>Sales Person 5</td>\n",
       "      <td>1930</td>\n",
       "      <td>24</td>\n",
       "      <td>1.24</td>\n",
       "      <td>150.71k</td>\n",
       "    </tr>\n",
       "    <tr>\n",
       "      <th>54</th>\n",
       "      <td>Sales Person 52</td>\n",
       "      <td>128</td>\n",
       "      <td>0</td>\n",
       "      <td>0.00</td>\n",
       "      <td>0</td>\n",
       "    </tr>\n",
       "  </tbody>\n",
       "</table>\n",
       "</div>"
      ],
      "text/plain": [
       "         AssignedTo  AssignedLeads  ConvertedLeads  ConversionRate TotalBill\n",
       "50   Sales Person 4           1592              26            1.63   146.92k\n",
       "51  Sales Person 25           1468              23            1.57   104.41k\n",
       "52  Sales Person 12           1285              16            1.25   156.69k\n",
       "53   Sales Person 5           1930              24            1.24   150.71k\n",
       "54  Sales Person 52            128               0            0.00         0"
      ]
     },
     "execution_count": 52,
     "metadata": {},
     "output_type": "execute_result"
    }
   ],
   "source": [
    "#Bottom 5 rows\n",
    "SalesPerson_df.tail()"
   ]
  },
  {
   "cell_type": "markdown",
   "id": "ded1425d",
   "metadata": {
    "id": "rYiGFIjE1rJh",
    "papermill": {
     "duration": 0.033156,
     "end_time": "2024-09-08T14:12:22.195491",
     "exception": false,
     "start_time": "2024-09-08T14:12:22.162335",
     "status": "completed"
    },
    "tags": []
   },
   "source": [
    "**Insight**\n",
    "\n",
    "- Sales Person 33 is able to convert more leads assigned to him as compared to his counter parts\n",
    "- Other Sales Person who have more leads assigned to them are not able to achieve a higher conversion rate than Sales Person 33."
   ]
  },
  {
   "cell_type": "markdown",
   "id": "fee0d544",
   "metadata": {
    "id": "EOFHtV_bwE5H",
    "papermill": {
     "duration": 0.0353,
     "end_time": "2024-09-08T14:12:22.264304",
     "exception": false,
     "start_time": "2024-09-08T14:12:22.229004",
     "status": "completed"
    },
    "tags": []
   },
   "source": [
    "\n",
    "18. **What are the key factors influencing conversion rates? (e.g., lead source, enquiry destination, assigned agent)**"
   ]
  },
  {
   "cell_type": "markdown",
   "id": "327091a5",
   "metadata": {
    "id": "qb5zakOpyUEa",
    "papermill": {
     "duration": 0.033194,
     "end_time": "2024-09-08T14:12:22.331181",
     "exception": false,
     "start_time": "2024-09-08T14:12:22.297987",
     "status": "completed"
    },
    "tags": []
   },
   "source": [
    "In order to find the key factors, lets take a lot at the performance of the Sales Person 33 who has the highest conversion rate."
   ]
  },
  {
   "cell_type": "code",
   "execution_count": 53,
   "id": "8f1f2f25",
   "metadata": {
    "execution": {
     "iopub.execute_input": "2024-09-08T14:12:22.400057Z",
     "iopub.status.busy": "2024-09-08T14:12:22.399638Z",
     "iopub.status.idle": "2024-09-08T14:12:22.424902Z",
     "shell.execute_reply": "2024-09-08T14:12:22.423571Z"
    },
    "id": "fVnWYG784jR-",
    "outputId": "fb25e48f-9113-4f86-be77-65b573a7cbd1",
    "papermill": {
     "duration": 0.062673,
     "end_time": "2024-09-08T14:12:22.427437",
     "exception": false,
     "start_time": "2024-09-08T14:12:22.364764",
     "status": "completed"
    },
    "tags": []
   },
   "outputs": [
    {
     "data": {
      "text/plain": [
       "{'Lead Source 1': 59, 'Lead Source 2': 22, 'Lead Source 3': 19}"
      ]
     },
     "execution_count": 53,
     "metadata": {},
     "output_type": "execute_result"
    }
   ],
   "source": [
    "sources = list(df[(df['AssignedTo']=='Sales Person 33') & (df['Status']=='Converted')]['LeadSource'].values)\n",
    "sources_dict = {i : sources.count(i) for i in sources if i!= None}\n",
    "dict(sorted(sources_dict.items(), key= lambda x:x[-1], reverse=True))"
   ]
  },
  {
   "cell_type": "code",
   "execution_count": 54,
   "id": "6ee5f7b8",
   "metadata": {
    "execution": {
     "iopub.execute_input": "2024-09-08T14:12:22.497046Z",
     "iopub.status.busy": "2024-09-08T14:12:22.496039Z",
     "iopub.status.idle": "2024-09-08T14:12:22.519021Z",
     "shell.execute_reply": "2024-09-08T14:12:22.517518Z"
    },
    "id": "yyRgQJaR4kQ6",
    "outputId": "45be5b30-487d-44f0-9bab-57e1c7812303",
    "papermill": {
     "duration": 0.06086,
     "end_time": "2024-09-08T14:12:22.521417",
     "exception": false,
     "start_time": "2024-09-08T14:12:22.460557",
     "status": "completed"
    },
    "tags": []
   },
   "outputs": [
    {
     "name": "stdout",
     "output_type": "stream",
     "text": [
      "{'Ladakh': 32, 'Leh Ladakh': 15, 'Ladakh BYOG': 9, 'Unknown': 2, 'Himachal Trips': 2, 'Early Bird Offer': 1, 'Manali Solang': 1, 'Spiti Valley': 1}\n"
     ]
    }
   ],
   "source": [
    "places = list(df[(df['AssignedTo']=='Sales Person 33') & (df['Status']=='Converted')]['EnquiryDestination'].values)\n",
    "places_dict = {i : places.count(i) for i in places if i!= None}\n",
    "print(dict(sorted(places_dict.items(), key= lambda x:x[-1], reverse=True)))"
   ]
  },
  {
   "cell_type": "markdown",
   "id": "7a17c7a4",
   "metadata": {
    "id": "dgq_2Lo6wHMk",
    "papermill": {
     "duration": 0.032822,
     "end_time": "2024-09-08T14:12:22.587658",
     "exception": false,
     "start_time": "2024-09-08T14:12:22.554836",
     "status": "completed"
    },
    "tags": []
   },
   "source": [
    "**Insight** - \n",
    "\n",
    "- The analysis above is helpful to identify the top-performing salesperson's lead sources and destinations. \n",
    "- If one salesperson consistently converts leads from a certain source and destination, we can replicate that success with others to improve overall performance."
   ]
  },
  {
   "cell_type": "code",
   "execution_count": 55,
   "id": "90478efd",
   "metadata": {
    "execution": {
     "iopub.execute_input": "2024-09-08T14:12:22.657852Z",
     "iopub.status.busy": "2024-09-08T14:12:22.657458Z",
     "iopub.status.idle": "2024-09-08T14:12:22.949322Z",
     "shell.execute_reply": "2024-09-08T14:12:22.948171Z"
    },
    "papermill": {
     "duration": 0.329127,
     "end_time": "2024-09-08T14:12:22.951647",
     "exception": false,
     "start_time": "2024-09-08T14:12:22.622520",
     "status": "completed"
    },
    "tags": []
   },
   "outputs": [
    {
     "data": {
      "image/png": "[encoded data removed]",
      "text/plain": [
       "<Figure size 2500x600 with 1 Axes>"
      ]
     },
     "metadata": {},
     "output_type": "display_data"
    }
   ],
   "source": [
    "binned = df.groupby('Pax_Binned')['TotalBill'].agg(['sum','count'])\n",
    "COLORS = ['#6A9C89'] * len(destinations_With_outliers)\n",
    "COLORS[1] = '#16423C'\n",
    "plt.bar(binned.index, binned['count'], color=COLORS)\n",
    "yticks = plt.gca().get_yticks()\n",
    "ylabels = [f\"{round(i / 1000,1)}k\" if i != 0 else \"0\" for i in yticks]\n",
    "plt.gca().set_yticklabels(ylabels)\n",
    "plt.xticks(rotation=0)\n",
    "plt.title('Passenger Count, Total Bill Bin Wise')\n",
    "plt.show()"
   ]
  },
  {
   "cell_type": "code",
   "execution_count": 56,
   "id": "eb49a99c",
   "metadata": {
    "execution": {
     "iopub.execute_input": "2024-09-08T14:12:23.022136Z",
     "iopub.status.busy": "2024-09-08T14:12:23.021760Z",
     "iopub.status.idle": "2024-09-08T14:12:23.037829Z",
     "shell.execute_reply": "2024-09-08T14:12:23.036782Z"
    },
    "papermill": {
     "duration": 0.054055,
     "end_time": "2024-09-08T14:12:23.039972",
     "exception": false,
     "start_time": "2024-09-08T14:12:22.985917",
     "status": "completed"
    },
    "tags": []
   },
   "outputs": [
    {
     "data": {
      "text/html": [
       "<div>\n",
       "<style scoped>\n",
       "    .dataframe tbody tr th:only-of-type {\n",
       "        vertical-align: middle;\n",
       "    }\n",
       "\n",
       "    .dataframe tbody tr th {\n",
       "        vertical-align: top;\n",
       "    }\n",
       "\n",
       "    .dataframe thead th {\n",
       "        text-align: right;\n",
       "    }\n",
       "</style>\n",
       "<table border=\"1\" class=\"dataframe\">\n",
       "  <thead>\n",
       "    <tr style=\"text-align: right;\">\n",
       "      <th></th>\n",
       "      <th>TotalBill_Bin</th>\n",
       "      <th>Amount</th>\n",
       "      <th>TripCount</th>\n",
       "      <th>Pct_Count</th>\n",
       "    </tr>\n",
       "  </thead>\n",
       "  <tbody>\n",
       "    <tr>\n",
       "      <th>0</th>\n",
       "      <td>0-2</td>\n",
       "      <td>346.79k</td>\n",
       "      <td>1327</td>\n",
       "      <td>41.07</td>\n",
       "    </tr>\n",
       "    <tr>\n",
       "      <th>1</th>\n",
       "      <td>2-4</td>\n",
       "      <td>949.88k</td>\n",
       "      <td>1504</td>\n",
       "      <td>46.55</td>\n",
       "    </tr>\n",
       "    <tr>\n",
       "      <th>2</th>\n",
       "      <td>4-6</td>\n",
       "      <td>322.68k</td>\n",
       "      <td>271</td>\n",
       "      <td>8.39</td>\n",
       "    </tr>\n",
       "    <tr>\n",
       "      <th>3</th>\n",
       "      <td>6-8</td>\n",
       "      <td>105.15k</td>\n",
       "      <td>71</td>\n",
       "      <td>2.20</td>\n",
       "    </tr>\n",
       "    <tr>\n",
       "      <th>4</th>\n",
       "      <td>8-10</td>\n",
       "      <td>65.57k</td>\n",
       "      <td>30</td>\n",
       "      <td>0.93</td>\n",
       "    </tr>\n",
       "    <tr>\n",
       "      <th>5</th>\n",
       "      <td>10+</td>\n",
       "      <td>73.55k</td>\n",
       "      <td>28</td>\n",
       "      <td>0.87</td>\n",
       "    </tr>\n",
       "  </tbody>\n",
       "</table>\n",
       "</div>"
      ],
      "text/plain": [
       "  TotalBill_Bin   Amount  TripCount  Pct_Count\n",
       "0           0-2  346.79k       1327      41.07\n",
       "1           2-4  949.88k       1504      46.55\n",
       "2           4-6  322.68k        271       8.39\n",
       "3           6-8  105.15k         71       2.20\n",
       "4          8-10   65.57k         30       0.93\n",
       "5           10+   73.55k         28       0.87"
      ]
     },
     "execution_count": 56,
     "metadata": {},
     "output_type": "execute_result"
    }
   ],
   "source": [
    "total = binned.reset_index()['count'].values.sum()\n",
    "binned['Pct_Count'] = np.around(binned.reset_index()['count'].values/total*100.0,2)\n",
    "binned['sum'] = [f\"{round(i / 10000,2)}k\" if i != 0 else \"0\" for i in binned['sum'].values.tolist()]\n",
    "binned = binned.reset_index()\n",
    "binned.columns = ['TotalBill_Bin', 'Amount', 'TripCount', 'Pct_Count']\n",
    "binned"
   ]
  },
  {
   "cell_type": "markdown",
   "id": "1db8595a",
   "metadata": {
    "papermill": {
     "duration": 0.034268,
     "end_time": "2024-09-08T14:12:23.108277",
     "exception": false,
     "start_time": "2024-09-08T14:12:23.074009",
     "status": "completed"
    },
    "tags": []
   },
   "source": [
    "**INSIGHT**\n",
    "\n",
    "- 87% of the people like to spend under 400,000 INR on trip."
   ]
  },
  {
   "cell_type": "markdown",
   "id": "c69d08b3",
   "metadata": {
    "id": "l8sH-CwNwZMH",
    "papermill": {
     "duration": 0.033595,
     "end_time": "2024-09-08T14:12:23.175839",
     "exception": false,
     "start_time": "2024-09-08T14:12:23.142244",
     "status": "completed"
    },
    "tags": []
   },
   "source": [
    "\n",
    "## Putting It All Together\n",
    "19. **What are the key takeaways from this data analysis?**\n",
    "\n",
    "The key takeaways from this data analysis is :-\n",
    "\n",
    "- Ladakh and Spiti Valley are the most popular destinations.\n",
    "- The average total bill is highest for enquiries to Ladakh.\n",
    "- Sales Person 33 has the highest conversion rate for assigned leads.\n",
    "- Sales Person 0 contributes the most to overall conversions.\n",
    "- Passenger Count and Per Person Cost are weakly related. However, a 0.57 correlation between Passenger Count and Total Bill indicates that the Total Bill tends to increase with more passengers.\n",
    "- The majority of leads come from Lead Source 1.\n",
    "- Lead volume peaks in August.\n",
    "- A higher number of assigned leads does not necessarily result in more conversions.\n",
    "- In 2024, both trip counts and revenue are lower compared to 2023, even when comparing the same months like August."
   ]
  },
  {
   "cell_type": "markdown",
   "id": "4a23c27e",
   "metadata": {
    "id": "HWCb-vb5wbIU",
    "papermill": {
     "duration": 0.03404,
     "end_time": "2024-09-08T14:12:23.244906",
     "exception": false,
     "start_time": "2024-09-08T14:12:23.210866",
     "status": "completed"
    },
    "tags": []
   },
   "source": [
    "20. **What strategic recommendations can be made based on this analysis?**\n",
    "\n",
    "Below are the strategic recommendations that can be made based on the analysis:-\n",
    "\n",
    "\n",
    "1. **Reduce Dependency on Lead Source 1**:\n",
    "   - **Action**: Diversify lead generation strategies to include multiple channels.\n",
    "   - **Benefit**: Mitigates risk and expands the customer base.\n",
    "\n",
    "2. **Improve Conversion Rates of Sales Personnel**:\n",
    "   - **Action**: Provide targeted training and resources to underperforming sales staff.\n",
    "   - **Benefit**: Increases overall conversion rates and balances workload.\n",
    "\n",
    "3. **Promote Underperforming Destinations**:\n",
    "   - **Action**: Run discounts and special promotions for destinations with lower enquiry rates.\n",
    "   - **Benefit**: Generates more leads and potential revenue from these destinations.\n",
    "\n",
    "4. **Capitalize on Peak Periods**:\n",
    "   - **Action**: Focus marketing efforts and promotions during high lead months like August.\n",
    "   - **Benefit**: Maximizes conversions and revenue during peak interest periods.\n",
    "\n",
    "5. **Investigate 2024 Performance**:\n",
    "   - **Action**: Analyze factors leading to the decline in trips and revenue compared to 2023.\n",
    "   - **Benefit**: Allows for adjustments in strategy to improve performance.\n",
    "   \n",
    "6. **Spend Histogram** - 87% of the people like to spend under 400,000 INR on trip.\n",
    "\n",
    "**Conclusion**\n",
    "\n",
    "In conclusion, these recommendations provide a strategic approach to optimizing lead management and increasing conversion rates. By implementing these actions, the company can enhance its competitive edge and drive sustainable growth. Continuous monitoring and data-driven decision-making will be key to long-term success."
   ]
  },
  {
   "cell_type": "markdown",
   "id": "501d4c1b",
   "metadata": {
    "id": "nvJKrmqpAcrU",
    "papermill": {
     "duration": 0.034241,
     "end_time": "2024-09-08T14:12:23.313366",
     "exception": false,
     "start_time": "2024-09-08T14:12:23.279125",
     "status": "completed"
    },
    "tags": []
   },
   "source": [
    "## Conclusion\n",
    "\n",
    "- In conclusion, the analysis of the travel dataset has provided valuable insights into various aspects of the business operations. By examining factors such as popular destinations, conversion rates, lead sources, and revenue trends, we have identified key opportunities and challenges for the travel company.\n",
    "\n",
    "- The data revealed that Ladakh and Spiti Valley are highly sought-after destinations among travelers, suggesting a strong market demand for packages to these regions. Additionally, the analysis highlighted the exceptional performance of certain sales personnel, indicating the importance of talent and expertise in driving conversions.\n",
    "\n",
    "- However, the data also uncovered areas for improvement, such as reducing dependency on a single lead source, diversifying marketing efforts, and optimizing lead management strategies. By implementing the recommendations outlined in this report, the travel company can enhance its competitiveness, increase conversion rates, and capitalize on emerging opportunities in the market.\n",
    "\n",
    "**Closing Note:**\n",
    "\n",
    "- As the travel industry continues to evolve, it is essential for companies to adapt and innovate to meet the changing needs and preferences of travelers. By leveraging data-driven insights and adopting a proactive approach to business strategy, organizations can position themselves for long-term success and growth.\n",
    "\n",
    "- I hope that the findings and recommendations presented in this report serve as a valuable resource for the company in achieving its goals and objectives. As always, continuous monitoring and analysis of key performance metrics will be critical to driving ongoing improvements and maintaining a competitive edge in the dynamic travel market."
   ]
  }
 ],
 "metadata": {
  "colab": {
   "provenance": []
  },
  "kaggle": {
   "accelerator": "none",
   "dataSources": [],
   "dockerImageVersionId": 30698,
   "isGpuEnabled": false,
   "isInternetEnabled": true,
   "language": "python",
   "sourceType": "notebook"
  },
  "kernelspec": {
   "display_name": "Python 3",
   "language": "python",
   "name": "python3"
  },
  "language_info": {
   "codemirror_mode": {
    "name": "ipython",
    "version": 3
   },
   "file_extension": ".py",
   "mimetype": "text/x-python",
   "name": "python",
   "nbconvert_exporter": "python",
   "pygments_lexer": "ipython3",
   "version": "3.10.13"
  },
  "papermill": {
   "default_parameters": {},
   "duration": 22.539466,
   "end_time": "2024-09-08T14:12:23.968836",
   "environment_variables": {},
   "exception": null,
   "input_path": "__notebook__.ipynb",
   "output_path": "__notebook__.ipynb",
   "parameters": {},
   "start_time": "2024-09-08T14:12:01.429370",
   "version": "2.5.0"
  }
 },
 "nbformat": 4,
 "nbformat_minor": 5
}
