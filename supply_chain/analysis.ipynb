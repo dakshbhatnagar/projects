{
 "cells": [
  {
   "cell_type": "markdown",
   "metadata": {},
   "source": [
    "# Leveraging Analytics to Drive Growth in the Supply Chain of a Retail Company\n",
    "\n",
    "Supply chain analytics is a valuable part of data-driven decision-making in various industries such as manufacturing, retail, healthcare, and logistics. It involves collecting, analyzing, and interpreting data related to the movement of products and services from suppliers to customers. In this notebook, we will explore how analytics can be leveraged to drive growth in the supply chain of a retail company, specifically focusing on makeup products.\n",
    "\n",
    "## Introduction and Context\n",
    "\n",
    "In the competitive landscape of the retail industry, efficient supply chain management is crucial. For a retail company dealing with makeup products, the ability to optimize inventory, reduce costs, and enhance customer satisfaction can significantly impact the bottom line. This notebook aims to provide a comprehensive analysis of the supply chain using the given dataset to uncover actionable insights and make informed decisions.\n",
    "\n",
    "### Dataset Features\n",
    "\n",
    "The dataset includes a variety of features that capture different aspects of the supply chain:\n",
    "\n",
    "- **Product Type**: Categories of makeup products.\n",
    "- **SKU**: Stock Keeping Unit, a unique identifier for each product.\n",
    "- **Price**: Retail price of the products.\n",
    "- **Availability**: Current stock status.\n",
    "- **Number of Products Sold**: Sales data.\n",
    "- **Revenue Generated**: Financial performance.\n",
    "- **Customer Demographics**: Information about the customers.\n",
    "- **Stock Levels**: Inventory data.\n",
    "- **Lead Times**: Time taken from order to delivery.\n",
    "- **Order Quantities**: Quantity of products ordered.\n",
    "- **Shipping Times**: Duration of shipping.\n",
    "- **Shipping Carriers**: Companies handling the shipping.\n",
    "- **Shipping Costs**: Expenses related to shipping.\n",
    "- **Supplier Name**: Names of suppliers.\n",
    "- **Location**: Geographical location of suppliers and customers.\n",
    "- **Production Volumes**: Manufacturing data.\n",
    "- **Manufacturing Lead Time**: Time taken to produce goods.\n",
    "- **Manufacturing Costs**: Costs associated with production.\n",
    "- **Inspection Results**: Quality check data.\n",
    "- **Defect Rates**: Frequency of defective products.\n",
    "- **Transportation Modes**: Methods of transportation used.\n",
    "- **Routes**: Paths taken for transportation.\n",
    "- **Costs**: Various cost elements in the supply chain."
   ]
  },
  {
   "cell_type": "markdown",
   "metadata": {},
   "source": [
    "## Problem Statement\n",
    "\n",
    "**\"How can we optimize inventory management and reduce costs while improving customer satisfaction in the supply chain?\"**"
   ]
  },
  {
   "cell_type": "markdown",
   "metadata": {},
   "source": [
    "## Objectives\n",
    "\n",
    "### 1. Inventory Optimization\n",
    "- **Analyze stock levels, lead times, and order quantities** to determine optimal inventory levels.\n",
    "- **Identify patterns in product demand** based on historical sales data to forecast future inventory needs.\n",
    "\n",
    "### 2. Cost Reduction\n",
    "- **Examine shipping times, carriers, and costs** to identify the most cost-effective shipping strategies.\n",
    "- **Assess manufacturing and transportation costs** to find potential areas for cost savings.\n",
    "\n",
    "### 3. Customer Satisfaction\n",
    "- **Study customer demographics and purchase behavior** to tailor inventory to meet customer preferences.\n",
    "- **Improve lead times and availability** to ensure products are in stock when customers need them.\n",
    "\n",
    "### 4. Supply Chain Efficiency\n",
    "- **Evaluate supplier performance**, including lead times and defect rates, to select the best suppliers.\n",
    "- **Optimize transportation modes and routes** to reduce shipping times and costs."
   ]
  },
  {
   "cell_type": "markdown",
   "metadata": {},
   "source": [
    "## Analysis Approach\n",
    "\n",
    "### Descriptive Analytics\n",
    "- **Provide a current state overview** of inventory levels, sales, revenue, and costs.\n",
    "- **Segment customers** based on demographics and purchasing behavior.\n",
    "\n",
    "### Predictive Analytics\n",
    "- **Forecast future demand** for products using historical sales data and customer behavior patterns.\n",
    "- **Predict lead times and potential delays** in the supply chain.\n",
    "\n",
    "### Prescriptive Analytics\n",
    "- **Recommend optimal stock levels and reorder points** to prevent stockouts and overstock situations.\n",
    "- **Suggest cost-effective shipping carriers and routes** to minimize shipping costs and times.\n",
    "- **Propose supplier selection criteria** based on historical performance data.\n",
    "\n",
    "## Key Metrics to Track\n",
    "\n",
    "- Inventory Turnover Ratio\n",
    "- Stockout Rate\n",
    "- Order Fulfillment Time\n",
    "- Shipping Cost per Unit\n",
    "- Manufacturing Cost per Unit\n",
    "- Defect Rate\n",
    "- Customer Satisfaction Score\n",
    "- Revenue Growth Rate\n",
    "\n",
    "**Conclusion**\n",
    "\n",
    "By addressing these objectives through detailed data analysis, our goal is to create a more efficient and cost-effective supply chain that meets customer demand promptly and maintains high customer satisfaction. This notebook will guide you through the process of leveraging analytics to drive growth and efficiency in the supply chain of a retail company dealing with makeup products."
   ]
  },
  {
   "cell_type": "code",
   "execution_count": 164,
   "metadata": {},
   "outputs": [
    {
     "name": "stdout",
     "output_type": "stream",
     "text": [
      "Warning: Your Kaggle API key is readable by other users on this system! To fix this, you can run 'chmod 600 /Users/dakshbhatnagar/.kaggle/kaggle.json'\n",
      "Dataset URL: https://www.kaggle.com/datasets/harshsingh2209/supply-chain-analysis\n",
      "License(s): CC0-1.0\n",
      "supply-chain-analysis.zip: Skipping, found more recently modified local copy (use --force to force download)\n"
     ]
    }
   ],
   "source": [
    "!kaggle datasets download -d harshsingh2209/supply-chain-analysis"
   ]
  },
  {
   "cell_type": "code",
   "execution_count": 2,
   "metadata": {},
   "outputs": [
    {
     "name": "stdout",
     "output_type": "stream",
     "text": [
      "Archive:  supply-chain-analysis.zip\n",
      "  inflating: supply_chain_data.csv   \n"
     ]
    }
   ],
   "source": [
    "!unzip supply-chain-analysis.zip"
   ]
  },
  {
   "cell_type": "code",
   "execution_count": 1,
   "metadata": {},
   "outputs": [
    {
     "name": "stdout",
     "output_type": "stream",
     "text": [
      "\u001b[31mERROR: pip's dependency resolver does not currently take into account all the packages that are installed. This behaviour is the source of the following dependency conflicts.\n",
      "tensorflow 2.16.2 requires numpy<2.0.0,>=1.26.0; python_version >= \"3.12\", but you have numpy 2.0.0 which is incompatible.\u001b[0m\u001b[31m\n",
      "\u001b[0m"
     ]
    }
   ],
   "source": [
    "!pip install -r requirements.txt --upgrade --quiet"
   ]
  },
  {
   "cell_type": "code",
   "execution_count": 2,
   "metadata": {},
   "outputs": [],
   "source": [
    "import pandas as pd\n",
    "import numpy as np\n",
    "import warnings\n",
    "warnings.filterwarnings('ignore')\n",
    "import matplotlib.pyplot as plt\n",
    "%matplotlib inline\n",
    "plt.rcParams['figure.figsize'] = (22,5)\n",
    "plt.rcParams['font.size'] = 14\n",
    "import sqlite3"
   ]
  },
  {
   "cell_type": "code",
   "execution_count": 3,
   "metadata": {},
   "outputs": [
    {
     "data": {
      "text/html": [
       "<div>\n",
       "<style scoped>\n",
       "    .dataframe tbody tr th:only-of-type {\n",
       "        vertical-align: middle;\n",
       "    }\n",
       "\n",
       "    .dataframe tbody tr th {\n",
       "        vertical-align: top;\n",
       "    }\n",
       "\n",
       "    .dataframe thead th {\n",
       "        text-align: right;\n",
       "    }\n",
       "</style>\n",
       "<table border=\"1\" class=\"dataframe\">\n",
       "  <thead>\n",
       "    <tr style=\"text-align: right;\">\n",
       "      <th></th>\n",
       "      <th>Producttype</th>\n",
       "      <th>SKU</th>\n",
       "      <th>Price</th>\n",
       "      <th>Availability</th>\n",
       "      <th>Numberofproductssold</th>\n",
       "      <th>Revenuegenerated</th>\n",
       "      <th>Customerdemographics</th>\n",
       "      <th>Stocklevels</th>\n",
       "      <th>Leadtimes</th>\n",
       "      <th>Orderquantities</th>\n",
       "      <th>...</th>\n",
       "      <th>Location</th>\n",
       "      <th>Leadtime</th>\n",
       "      <th>Productionvolumes</th>\n",
       "      <th>Manufacturingleadtime</th>\n",
       "      <th>Manufacturingcosts</th>\n",
       "      <th>Inspectionresults</th>\n",
       "      <th>Defectrates</th>\n",
       "      <th>Transportationmodes</th>\n",
       "      <th>Routes</th>\n",
       "      <th>Costs</th>\n",
       "    </tr>\n",
       "  </thead>\n",
       "  <tbody>\n",
       "    <tr>\n",
       "      <th>0</th>\n",
       "      <td>haircare</td>\n",
       "      <td>SKU0</td>\n",
       "      <td>69.808006</td>\n",
       "      <td>55</td>\n",
       "      <td>802</td>\n",
       "      <td>8661.996792</td>\n",
       "      <td>Non-binary</td>\n",
       "      <td>58</td>\n",
       "      <td>7</td>\n",
       "      <td>96</td>\n",
       "      <td>...</td>\n",
       "      <td>Mumbai</td>\n",
       "      <td>29</td>\n",
       "      <td>215</td>\n",
       "      <td>29</td>\n",
       "      <td>46.279879</td>\n",
       "      <td>Pending</td>\n",
       "      <td>0.226410</td>\n",
       "      <td>Road</td>\n",
       "      <td>Route B</td>\n",
       "      <td>187.752075</td>\n",
       "    </tr>\n",
       "    <tr>\n",
       "      <th>1</th>\n",
       "      <td>skincare</td>\n",
       "      <td>SKU1</td>\n",
       "      <td>14.843523</td>\n",
       "      <td>95</td>\n",
       "      <td>736</td>\n",
       "      <td>7460.900065</td>\n",
       "      <td>Female</td>\n",
       "      <td>53</td>\n",
       "      <td>30</td>\n",
       "      <td>37</td>\n",
       "      <td>...</td>\n",
       "      <td>Mumbai</td>\n",
       "      <td>23</td>\n",
       "      <td>517</td>\n",
       "      <td>30</td>\n",
       "      <td>33.616769</td>\n",
       "      <td>Pending</td>\n",
       "      <td>4.854068</td>\n",
       "      <td>Road</td>\n",
       "      <td>Route B</td>\n",
       "      <td>503.065579</td>\n",
       "    </tr>\n",
       "    <tr>\n",
       "      <th>2</th>\n",
       "      <td>haircare</td>\n",
       "      <td>SKU2</td>\n",
       "      <td>11.319683</td>\n",
       "      <td>34</td>\n",
       "      <td>8</td>\n",
       "      <td>9577.749626</td>\n",
       "      <td>Unknown</td>\n",
       "      <td>1</td>\n",
       "      <td>10</td>\n",
       "      <td>88</td>\n",
       "      <td>...</td>\n",
       "      <td>Mumbai</td>\n",
       "      <td>12</td>\n",
       "      <td>971</td>\n",
       "      <td>27</td>\n",
       "      <td>30.688019</td>\n",
       "      <td>Pending</td>\n",
       "      <td>4.580593</td>\n",
       "      <td>Air</td>\n",
       "      <td>Route C</td>\n",
       "      <td>141.920282</td>\n",
       "    </tr>\n",
       "    <tr>\n",
       "      <th>3</th>\n",
       "      <td>skincare</td>\n",
       "      <td>SKU3</td>\n",
       "      <td>61.163343</td>\n",
       "      <td>68</td>\n",
       "      <td>83</td>\n",
       "      <td>7766.836426</td>\n",
       "      <td>Non-binary</td>\n",
       "      <td>23</td>\n",
       "      <td>13</td>\n",
       "      <td>59</td>\n",
       "      <td>...</td>\n",
       "      <td>Kolkata</td>\n",
       "      <td>24</td>\n",
       "      <td>937</td>\n",
       "      <td>18</td>\n",
       "      <td>35.624741</td>\n",
       "      <td>Fail</td>\n",
       "      <td>4.746649</td>\n",
       "      <td>Rail</td>\n",
       "      <td>Route A</td>\n",
       "      <td>254.776159</td>\n",
       "    </tr>\n",
       "    <tr>\n",
       "      <th>4</th>\n",
       "      <td>skincare</td>\n",
       "      <td>SKU4</td>\n",
       "      <td>4.805496</td>\n",
       "      <td>26</td>\n",
       "      <td>871</td>\n",
       "      <td>2686.505152</td>\n",
       "      <td>Non-binary</td>\n",
       "      <td>5</td>\n",
       "      <td>3</td>\n",
       "      <td>56</td>\n",
       "      <td>...</td>\n",
       "      <td>Delhi</td>\n",
       "      <td>5</td>\n",
       "      <td>414</td>\n",
       "      <td>3</td>\n",
       "      <td>92.065161</td>\n",
       "      <td>Fail</td>\n",
       "      <td>3.145580</td>\n",
       "      <td>Air</td>\n",
       "      <td>Route A</td>\n",
       "      <td>923.440632</td>\n",
       "    </tr>\n",
       "  </tbody>\n",
       "</table>\n",
       "<p>5 rows × 24 columns</p>\n",
       "</div>"
      ],
      "text/plain": [
       "  Producttype   SKU      Price  Availability  Numberofproductssold  \\\n",
       "0    haircare  SKU0  69.808006            55                   802   \n",
       "1    skincare  SKU1  14.843523            95                   736   \n",
       "2    haircare  SKU2  11.319683            34                     8   \n",
       "3    skincare  SKU3  61.163343            68                    83   \n",
       "4    skincare  SKU4   4.805496            26                   871   \n",
       "\n",
       "   Revenuegenerated Customerdemographics  Stocklevels  Leadtimes  \\\n",
       "0       8661.996792           Non-binary           58          7   \n",
       "1       7460.900065               Female           53         30   \n",
       "2       9577.749626              Unknown            1         10   \n",
       "3       7766.836426           Non-binary           23         13   \n",
       "4       2686.505152           Non-binary            5          3   \n",
       "\n",
       "   Orderquantities  ...  Location Leadtime  Productionvolumes  \\\n",
       "0               96  ...    Mumbai       29                215   \n",
       "1               37  ...    Mumbai       23                517   \n",
       "2               88  ...    Mumbai       12                971   \n",
       "3               59  ...   Kolkata       24                937   \n",
       "4               56  ...     Delhi        5                414   \n",
       "\n",
       "  Manufacturingleadtime Manufacturingcosts  Inspectionresults  Defectrates  \\\n",
       "0                    29          46.279879            Pending     0.226410   \n",
       "1                    30          33.616769            Pending     4.854068   \n",
       "2                    27          30.688019            Pending     4.580593   \n",
       "3                    18          35.624741               Fail     4.746649   \n",
       "4                     3          92.065161               Fail     3.145580   \n",
       "\n",
       "   Transportationmodes   Routes       Costs  \n",
       "0                 Road  Route B  187.752075  \n",
       "1                 Road  Route B  503.065579  \n",
       "2                  Air  Route C  141.920282  \n",
       "3                 Rail  Route A  254.776159  \n",
       "4                  Air  Route A  923.440632  \n",
       "\n",
       "[5 rows x 24 columns]"
      ]
     },
     "execution_count": 3,
     "metadata": {},
     "output_type": "execute_result"
    }
   ],
   "source": [
    "df =  pd.read_csv('/Users/dakshbhatnagar/Downloads/supply_chain/supply_chain_data.csv')\n",
    "df.columns =  [i.replace(\" \", \"\") for i in df.columns]\n",
    "df.head()"
   ]
  },
  {
   "cell_type": "code",
   "execution_count": 4,
   "metadata": {},
   "outputs": [
    {
     "data": {
      "text/plain": [
       "(100, 24)"
      ]
     },
     "execution_count": 4,
     "metadata": {},
     "output_type": "execute_result"
    }
   ],
   "source": [
    "df.shape"
   ]
  },
  {
   "cell_type": "code",
   "execution_count": 5,
   "metadata": {},
   "outputs": [
    {
     "data": {
      "text/plain": [
       "Producttype               object\n",
       "SKU                       object\n",
       "Price                    float64\n",
       "Availability               int64\n",
       "Numberofproductssold       int64\n",
       "Revenuegenerated         float64\n",
       "Customerdemographics      object\n",
       "Stocklevels                int64\n",
       "Leadtimes                  int64\n",
       "Orderquantities            int64\n",
       "Shippingtimes              int64\n",
       "Shippingcarriers          object\n",
       "Shippingcosts            float64\n",
       "Suppliername              object\n",
       "Location                  object\n",
       "Leadtime                   int64\n",
       "Productionvolumes          int64\n",
       "Manufacturingleadtime      int64\n",
       "Manufacturingcosts       float64\n",
       "Inspectionresults         object\n",
       "Defectrates              float64\n",
       "Transportationmodes       object\n",
       "Routes                    object\n",
       "Costs                    float64\n",
       "dtype: object"
      ]
     },
     "execution_count": 5,
     "metadata": {},
     "output_type": "execute_result"
    }
   ],
   "source": [
    "df.dtypes"
   ]
  },
  {
   "cell_type": "code",
   "execution_count": 6,
   "metadata": {},
   "outputs": [
    {
     "data": {
      "text/plain": [
       "100"
      ]
     },
     "execution_count": 6,
     "metadata": {},
     "output_type": "execute_result"
    }
   ],
   "source": [
    "conn =  sqlite3.connect('supply_chain.db')\n",
    "cursor =  conn.cursor()\n",
    "df.to_sql('data', conn, if_exists='replace', index=False)"
   ]
  },
  {
   "cell_type": "code",
   "execution_count": 7,
   "metadata": {},
   "outputs": [
    {
     "name": "stdout",
     "output_type": "stream",
     "text": [
      "<class 'pandas.core.frame.DataFrame'>\n",
      "RangeIndex: 100 entries, 0 to 99\n",
      "Data columns (total 24 columns):\n",
      " #   Column                 Non-Null Count  Dtype  \n",
      "---  ------                 --------------  -----  \n",
      " 0   Producttype            100 non-null    object \n",
      " 1   SKU                    100 non-null    object \n",
      " 2   Price                  100 non-null    float64\n",
      " 3   Availability           100 non-null    int64  \n",
      " 4   Numberofproductssold   100 non-null    int64  \n",
      " 5   Revenuegenerated       100 non-null    float64\n",
      " 6   Customerdemographics   100 non-null    object \n",
      " 7   Stocklevels            100 non-null    int64  \n",
      " 8   Leadtimes              100 non-null    int64  \n",
      " 9   Orderquantities        100 non-null    int64  \n",
      " 10  Shippingtimes          100 non-null    int64  \n",
      " 11  Shippingcarriers       100 non-null    object \n",
      " 12  Shippingcosts          100 non-null    float64\n",
      " 13  Suppliername           100 non-null    object \n",
      " 14  Location               100 non-null    object \n",
      " 15  Leadtime               100 non-null    int64  \n",
      " 16  Productionvolumes      100 non-null    int64  \n",
      " 17  Manufacturingleadtime  100 non-null    int64  \n",
      " 18  Manufacturingcosts     100 non-null    float64\n",
      " 19  Inspectionresults      100 non-null    object \n",
      " 20  Defectrates            100 non-null    float64\n",
      " 21  Transportationmodes    100 non-null    object \n",
      " 22  Routes                 100 non-null    object \n",
      " 23  Costs                  100 non-null    float64\n",
      "dtypes: float64(6), int64(9), object(9)\n",
      "memory usage: 18.9+ KB\n"
     ]
    }
   ],
   "source": [
    "df.info()"
   ]
  },
  {
   "cell_type": "code",
   "execution_count": 8,
   "metadata": {},
   "outputs": [
    {
     "data": {
      "text/html": [
       "<div>\n",
       "<style scoped>\n",
       "    .dataframe tbody tr th:only-of-type {\n",
       "        vertical-align: middle;\n",
       "    }\n",
       "\n",
       "    .dataframe tbody tr th {\n",
       "        vertical-align: top;\n",
       "    }\n",
       "\n",
       "    .dataframe thead th {\n",
       "        text-align: right;\n",
       "    }\n",
       "</style>\n",
       "<table border=\"1\" class=\"dataframe\">\n",
       "  <thead>\n",
       "    <tr style=\"text-align: right;\">\n",
       "      <th></th>\n",
       "      <th>count</th>\n",
       "      <th>mean</th>\n",
       "      <th>std</th>\n",
       "      <th>min</th>\n",
       "      <th>25%</th>\n",
       "      <th>50%</th>\n",
       "      <th>75%</th>\n",
       "      <th>max</th>\n",
       "    </tr>\n",
       "  </thead>\n",
       "  <tbody>\n",
       "    <tr>\n",
       "      <th>Price</th>\n",
       "      <td>100.0</td>\n",
       "      <td>49.462461</td>\n",
       "      <td>31.168193</td>\n",
       "      <td>1.699976</td>\n",
       "      <td>19.597823</td>\n",
       "      <td>51.239831</td>\n",
       "      <td>77.198228</td>\n",
       "      <td>99.171329</td>\n",
       "    </tr>\n",
       "    <tr>\n",
       "      <th>Availability</th>\n",
       "      <td>100.0</td>\n",
       "      <td>48.400000</td>\n",
       "      <td>30.743317</td>\n",
       "      <td>1.000000</td>\n",
       "      <td>22.750000</td>\n",
       "      <td>43.500000</td>\n",
       "      <td>75.000000</td>\n",
       "      <td>100.000000</td>\n",
       "    </tr>\n",
       "    <tr>\n",
       "      <th>Numberofproductssold</th>\n",
       "      <td>100.0</td>\n",
       "      <td>460.990000</td>\n",
       "      <td>303.780074</td>\n",
       "      <td>8.000000</td>\n",
       "      <td>184.250000</td>\n",
       "      <td>392.500000</td>\n",
       "      <td>704.250000</td>\n",
       "      <td>996.000000</td>\n",
       "    </tr>\n",
       "    <tr>\n",
       "      <th>Revenuegenerated</th>\n",
       "      <td>100.0</td>\n",
       "      <td>5776.048187</td>\n",
       "      <td>2732.841744</td>\n",
       "      <td>1061.618523</td>\n",
       "      <td>2812.847151</td>\n",
       "      <td>6006.352023</td>\n",
       "      <td>8253.976921</td>\n",
       "      <td>9866.465458</td>\n",
       "    </tr>\n",
       "    <tr>\n",
       "      <th>Stocklevels</th>\n",
       "      <td>100.0</td>\n",
       "      <td>47.770000</td>\n",
       "      <td>31.369372</td>\n",
       "      <td>0.000000</td>\n",
       "      <td>16.750000</td>\n",
       "      <td>47.500000</td>\n",
       "      <td>73.000000</td>\n",
       "      <td>100.000000</td>\n",
       "    </tr>\n",
       "    <tr>\n",
       "      <th>Leadtimes</th>\n",
       "      <td>100.0</td>\n",
       "      <td>15.960000</td>\n",
       "      <td>8.785801</td>\n",
       "      <td>1.000000</td>\n",
       "      <td>8.000000</td>\n",
       "      <td>17.000000</td>\n",
       "      <td>24.000000</td>\n",
       "      <td>30.000000</td>\n",
       "    </tr>\n",
       "    <tr>\n",
       "      <th>Orderquantities</th>\n",
       "      <td>100.0</td>\n",
       "      <td>49.220000</td>\n",
       "      <td>26.784429</td>\n",
       "      <td>1.000000</td>\n",
       "      <td>26.000000</td>\n",
       "      <td>52.000000</td>\n",
       "      <td>71.250000</td>\n",
       "      <td>96.000000</td>\n",
       "    </tr>\n",
       "    <tr>\n",
       "      <th>Shippingtimes</th>\n",
       "      <td>100.0</td>\n",
       "      <td>5.750000</td>\n",
       "      <td>2.724283</td>\n",
       "      <td>1.000000</td>\n",
       "      <td>3.750000</td>\n",
       "      <td>6.000000</td>\n",
       "      <td>8.000000</td>\n",
       "      <td>10.000000</td>\n",
       "    </tr>\n",
       "    <tr>\n",
       "      <th>Shippingcosts</th>\n",
       "      <td>100.0</td>\n",
       "      <td>5.548149</td>\n",
       "      <td>2.651376</td>\n",
       "      <td>1.013487</td>\n",
       "      <td>3.540248</td>\n",
       "      <td>5.320534</td>\n",
       "      <td>7.601695</td>\n",
       "      <td>9.929816</td>\n",
       "    </tr>\n",
       "    <tr>\n",
       "      <th>Leadtime</th>\n",
       "      <td>100.0</td>\n",
       "      <td>17.080000</td>\n",
       "      <td>8.846251</td>\n",
       "      <td>1.000000</td>\n",
       "      <td>10.000000</td>\n",
       "      <td>18.000000</td>\n",
       "      <td>25.000000</td>\n",
       "      <td>30.000000</td>\n",
       "    </tr>\n",
       "    <tr>\n",
       "      <th>Productionvolumes</th>\n",
       "      <td>100.0</td>\n",
       "      <td>567.840000</td>\n",
       "      <td>263.046861</td>\n",
       "      <td>104.000000</td>\n",
       "      <td>352.000000</td>\n",
       "      <td>568.500000</td>\n",
       "      <td>797.000000</td>\n",
       "      <td>985.000000</td>\n",
       "    </tr>\n",
       "    <tr>\n",
       "      <th>Manufacturingleadtime</th>\n",
       "      <td>100.0</td>\n",
       "      <td>14.770000</td>\n",
       "      <td>8.912430</td>\n",
       "      <td>1.000000</td>\n",
       "      <td>7.000000</td>\n",
       "      <td>14.000000</td>\n",
       "      <td>23.000000</td>\n",
       "      <td>30.000000</td>\n",
       "    </tr>\n",
       "    <tr>\n",
       "      <th>Manufacturingcosts</th>\n",
       "      <td>100.0</td>\n",
       "      <td>47.266693</td>\n",
       "      <td>28.982841</td>\n",
       "      <td>1.085069</td>\n",
       "      <td>22.983299</td>\n",
       "      <td>45.905622</td>\n",
       "      <td>68.621026</td>\n",
       "      <td>99.466109</td>\n",
       "    </tr>\n",
       "    <tr>\n",
       "      <th>Defectrates</th>\n",
       "      <td>100.0</td>\n",
       "      <td>2.277158</td>\n",
       "      <td>1.461366</td>\n",
       "      <td>0.018608</td>\n",
       "      <td>1.009650</td>\n",
       "      <td>2.141863</td>\n",
       "      <td>3.563995</td>\n",
       "      <td>4.939255</td>\n",
       "    </tr>\n",
       "    <tr>\n",
       "      <th>Costs</th>\n",
       "      <td>100.0</td>\n",
       "      <td>529.245782</td>\n",
       "      <td>258.301696</td>\n",
       "      <td>103.916248</td>\n",
       "      <td>318.778455</td>\n",
       "      <td>520.430444</td>\n",
       "      <td>763.078231</td>\n",
       "      <td>997.413450</td>\n",
       "    </tr>\n",
       "  </tbody>\n",
       "</table>\n",
       "</div>"
      ],
      "text/plain": [
       "                       count         mean          std          min  \\\n",
       "Price                  100.0    49.462461    31.168193     1.699976   \n",
       "Availability           100.0    48.400000    30.743317     1.000000   \n",
       "Numberofproductssold   100.0   460.990000   303.780074     8.000000   \n",
       "Revenuegenerated       100.0  5776.048187  2732.841744  1061.618523   \n",
       "Stocklevels            100.0    47.770000    31.369372     0.000000   \n",
       "Leadtimes              100.0    15.960000     8.785801     1.000000   \n",
       "Orderquantities        100.0    49.220000    26.784429     1.000000   \n",
       "Shippingtimes          100.0     5.750000     2.724283     1.000000   \n",
       "Shippingcosts          100.0     5.548149     2.651376     1.013487   \n",
       "Leadtime               100.0    17.080000     8.846251     1.000000   \n",
       "Productionvolumes      100.0   567.840000   263.046861   104.000000   \n",
       "Manufacturingleadtime  100.0    14.770000     8.912430     1.000000   \n",
       "Manufacturingcosts     100.0    47.266693    28.982841     1.085069   \n",
       "Defectrates            100.0     2.277158     1.461366     0.018608   \n",
       "Costs                  100.0   529.245782   258.301696   103.916248   \n",
       "\n",
       "                               25%          50%          75%          max  \n",
       "Price                    19.597823    51.239831    77.198228    99.171329  \n",
       "Availability             22.750000    43.500000    75.000000   100.000000  \n",
       "Numberofproductssold    184.250000   392.500000   704.250000   996.000000  \n",
       "Revenuegenerated       2812.847151  6006.352023  8253.976921  9866.465458  \n",
       "Stocklevels              16.750000    47.500000    73.000000   100.000000  \n",
       "Leadtimes                 8.000000    17.000000    24.000000    30.000000  \n",
       "Orderquantities          26.000000    52.000000    71.250000    96.000000  \n",
       "Shippingtimes             3.750000     6.000000     8.000000    10.000000  \n",
       "Shippingcosts             3.540248     5.320534     7.601695     9.929816  \n",
       "Leadtime                 10.000000    18.000000    25.000000    30.000000  \n",
       "Productionvolumes       352.000000   568.500000   797.000000   985.000000  \n",
       "Manufacturingleadtime     7.000000    14.000000    23.000000    30.000000  \n",
       "Manufacturingcosts       22.983299    45.905622    68.621026    99.466109  \n",
       "Defectrates               1.009650     2.141863     3.563995     4.939255  \n",
       "Costs                   318.778455   520.430444   763.078231   997.413450  "
      ]
     },
     "execution_count": 8,
     "metadata": {},
     "output_type": "execute_result"
    }
   ],
   "source": [
    "df.describe().T"
   ]
  },
  {
   "cell_type": "code",
   "execution_count": 9,
   "metadata": {},
   "outputs": [
    {
     "name": "stdout",
     "output_type": "stream",
     "text": [
      "The Overall Inventory Turnover Ratio is 23.885\n"
     ]
    }
   ],
   "source": [
    "overall = sum(df['Stocklevels']/2)/len(df)\n",
    "print(f\"The Overall Inventory Turnover Ratio is {overall}\")"
   ]
  },
  {
   "cell_type": "markdown",
   "metadata": {},
   "source": [
    "Let's take a look at the Inventory Ratio city Wise"
   ]
  },
  {
   "cell_type": "code",
   "execution_count": 11,
   "metadata": {},
   "outputs": [
    {
     "data": {
      "text/html": [
       "<div>\n",
       "<style scoped>\n",
       "    .dataframe tbody tr th:only-of-type {\n",
       "        vertical-align: middle;\n",
       "    }\n",
       "\n",
       "    .dataframe tbody tr th {\n",
       "        vertical-align: top;\n",
       "    }\n",
       "\n",
       "    .dataframe thead th {\n",
       "        text-align: right;\n",
       "    }\n",
       "</style>\n",
       "<table border=\"1\" class=\"dataframe\">\n",
       "  <thead>\n",
       "    <tr style=\"text-align: right;\">\n",
       "      <th></th>\n",
       "      <th>Location</th>\n",
       "      <th>InventoryTurnOverRatio</th>\n",
       "    </tr>\n",
       "  </thead>\n",
       "  <tbody>\n",
       "    <tr>\n",
       "      <th>0</th>\n",
       "      <td>Delhi</td>\n",
       "      <td>188288.000000</td>\n",
       "    </tr>\n",
       "    <tr>\n",
       "      <th>1</th>\n",
       "      <td>Chennai</td>\n",
       "      <td>61817.142857</td>\n",
       "    </tr>\n",
       "    <tr>\n",
       "      <th>2</th>\n",
       "      <td>Kolkata</td>\n",
       "      <td>55594.086957</td>\n",
       "    </tr>\n",
       "    <tr>\n",
       "      <th>3</th>\n",
       "      <td>Mumbai</td>\n",
       "      <td>17715.448276</td>\n",
       "    </tr>\n",
       "    <tr>\n",
       "      <th>4</th>\n",
       "      <td>Bangalore</td>\n",
       "      <td>5007.888889</td>\n",
       "    </tr>\n",
       "  </tbody>\n",
       "</table>\n",
       "</div>"
      ],
      "text/plain": [
       "    Location  InventoryTurnOverRatio\n",
       "0      Delhi           188288.000000\n",
       "1    Chennai            61817.142857\n",
       "2    Kolkata            55594.086957\n",
       "3     Mumbai            17715.448276\n",
       "4  Bangalore             5007.888889"
      ]
     },
     "execution_count": 11,
     "metadata": {},
     "output_type": "execute_result"
    }
   ],
   "source": [
    "query = '''\n",
    "with cte as (select *, Stocklevels / 2.0 as AvgInventory from data)\n",
    "\n",
    "select Location, sum(Numberofproductssold * Orderquantities) / AvgInventory  as InventoryTurnOverRatio \n",
    "        from cte group by Location order by 2 desc\n",
    "'''\n",
    "temp = pd.read_sql_query(query, conn)\n",
    "temp = temp.set_index('Location')\n",
    "temp.reset_index()"
   ]
  },
  {
   "cell_type": "code",
   "execution_count": 12,
   "metadata": {},
   "outputs": [
    {
     "data": {
      "image/png": "[encoded data removed]",
      "text/plain": [
       "<Figure size 2200x500 with 1 Axes>"
      ]
     },
     "metadata": {},
     "output_type": "display_data"
    }
   ],
   "source": [
    "colors = ['lightgray'] *len(temp)\n",
    "colors[0] = 'red'\n",
    "temp['InventoryTurnOverRatio'].plot(kind='bar', color=colors)\n",
    "plt.title('City Wise Inventory TurnOver Ratio')\n",
    "plt.gca().spines['top'].set_visible(False)\n",
    "plt.gca().spines['right'].set_visible(False)\n",
    "plt.xticks(rotation=None)\n",
    "plt.show()"
   ]
  },
  {
   "cell_type": "markdown",
   "metadata": {},
   "source": [
    "**INSIGHTS**\n",
    "\n",
    "- Delhi has the highest Inventory Ratio however Bangalore has the lowest Inventory Turnover Ratio. This means Delhi needs to ensure the stock is moving out quick from the godown. \n",
    "\n",
    "- *P.s Lower the Inventory Turnover Ratio, the better*"
   ]
  },
  {
   "cell_type": "code",
   "execution_count": 13,
   "metadata": {},
   "outputs": [],
   "source": [
    "query = '''\n",
    "with cte as (select *, Stocklevels / 2.0 as AvgInventory from data)\n",
    "\n",
    "select Location, Suppliername, \n",
    "        sum(Numberofproductssold * Orderquantities) / AvgInventory  as InventoryTurnOverRatio \n",
    "        from cte \n",
    "        group by Location, Suppliername order by 2 desc\n",
    "'''\n",
    "temp = pd.read_sql_query(query, conn)\n",
    "suppliers =  temp['Suppliername'].unique().tolist()"
   ]
  },
  {
   "cell_type": "code",
   "execution_count": 14,
   "metadata": {},
   "outputs": [
    {
     "data": {
      "image/png": "[encoded data removed]",
      "text/plain": [
       "<Figure size 1400x800 with 5 Axes>"
      ]
     },
     "metadata": {},
     "output_type": "display_data"
    }
   ],
   "source": [
    "# Create a figure and axis for subplots with 3 columns\n",
    "num_cols = 3\n",
    "num_rows = (len(suppliers) + 2) // num_cols  # Calculate number of rows needed\n",
    "fig, axes = plt.subplots(num_rows, num_cols, figsize=(14, 8))\n",
    "\n",
    "# Iterate over suppliers and plot in subplots\n",
    "for idx, supplier in enumerate(suppliers):\n",
    "    if supplier:\n",
    "        sup_df = temp[temp['Suppliername'] == supplier].sort_values('InventoryTurnOverRatio', ascending=False)\n",
    "        colors = ['lightgray'] * len(sup_df)\n",
    "        colors[0] = 'red'\n",
    "        \n",
    "        row = idx // 3\n",
    "        col = idx % 3\n",
    "        ax = axes[row, col]\n",
    "\n",
    "        ax.bar(sup_df['Location'], sup_df['InventoryTurnOverRatio'], color=colors)\n",
    "        ax.set_title(f'City Wise Inventory TurnOver Ratio - {supplier}', fontsize=12)\n",
    "        ax.spines['top'].set_visible(False)\n",
    "        ax.spines['right'].set_visible(False)\n",
    "        ax.tick_params(axis='x', rotation=30, size=10)\n",
    "if len(suppliers) < num_rows * num_cols:\n",
    "    for i in range(len(suppliers), num_rows * num_cols):\n",
    "        row = i // num_cols\n",
    "        col = i % num_cols\n",
    "        fig.delaxes(axes[row, col])  \n",
    "\n",
    "# Adjust layout and show plot\n",
    "plt.tight_layout()\n",
    "plt.show()"
   ]
  },
  {
   "cell_type": "markdown",
   "metadata": {},
   "source": [
    "**INSIGHT**\n",
    "\n",
    "- In Mumbai, Supplier 1 and Supplier 4 has the highest Inventory turnover ratio which means they are not able to push the stock out of the godown as quickly as expected."
   ]
  },
  {
   "cell_type": "code",
   "execution_count": 15,
   "metadata": {},
   "outputs": [
    {
     "name": "stdout",
     "output_type": "stream",
     "text": [
      "The defect rate on an avg is 2.28\n"
     ]
    }
   ],
   "source": [
    "defectrate = round(df['Defectrates'].mean(),2)\n",
    "print('The defect rate on an avg is {}'.format(defectrate))"
   ]
  },
  {
   "cell_type": "code",
   "execution_count": 16,
   "metadata": {},
   "outputs": [
    {
     "data": {
      "text/html": [
       "<div>\n",
       "<style scoped>\n",
       "    .dataframe tbody tr th:only-of-type {\n",
       "        vertical-align: middle;\n",
       "    }\n",
       "\n",
       "    .dataframe tbody tr th {\n",
       "        vertical-align: top;\n",
       "    }\n",
       "\n",
       "    .dataframe thead th {\n",
       "        text-align: right;\n",
       "    }\n",
       "</style>\n",
       "<table border=\"1\" class=\"dataframe\">\n",
       "  <thead>\n",
       "    <tr style=\"text-align: right;\">\n",
       "      <th></th>\n",
       "      <th>Producttype</th>\n",
       "      <th>Location</th>\n",
       "      <th>Avg_DefectRate</th>\n",
       "    </tr>\n",
       "  </thead>\n",
       "  <tbody>\n",
       "    <tr>\n",
       "      <th>0</th>\n",
       "      <td>cosmetics</td>\n",
       "      <td>Delhi</td>\n",
       "      <td>2.20</td>\n",
       "    </tr>\n",
       "    <tr>\n",
       "      <th>1</th>\n",
       "      <td>haircare</td>\n",
       "      <td>Chennai</td>\n",
       "      <td>3.32</td>\n",
       "    </tr>\n",
       "    <tr>\n",
       "      <th>2</th>\n",
       "      <td>skincare</td>\n",
       "      <td>Chennai</td>\n",
       "      <td>2.58</td>\n",
       "    </tr>\n",
       "  </tbody>\n",
       "</table>\n",
       "</div>"
      ],
      "text/plain": [
       "  Producttype Location  Avg_DefectRate\n",
       "0   cosmetics    Delhi            2.20\n",
       "1    haircare  Chennai            3.32\n",
       "2    skincare  Chennai            2.58"
      ]
     },
     "execution_count": 16,
     "metadata": {},
     "output_type": "execute_result"
    }
   ],
   "source": [
    "query = '''\n",
    "with cte as (select Producttype, Location, round(avg(Defectrates),2) as Avg_DefectRate \n",
    "        from data group by Producttype, Location),\n",
    "\n",
    "cte_2 as (select *, row_number() over(partition by Producttype \n",
    "            order by Avg_DefectRate desc) as rn from cte) \n",
    "\n",
    "select Producttype, Location, Avg_DefectRate from cte_2 where rn = 1\n",
    "'''\n",
    "temp = pd.read_sql_query(query, conn)\n",
    "temp"
   ]
  },
  {
   "cell_type": "markdown",
   "metadata": {},
   "source": [
    "**INSIGHTS**\n",
    "\n",
    "-  In Delhi, cosmetics has the higehst avg defect rate however in Chennai in haircare and skincare has the highest defect rate"
   ]
  },
  {
   "cell_type": "code",
   "execution_count": 17,
   "metadata": {},
   "outputs": [
    {
     "data": {
      "text/html": [
       "<div>\n",
       "<style scoped>\n",
       "    .dataframe tbody tr th:only-of-type {\n",
       "        vertical-align: middle;\n",
       "    }\n",
       "\n",
       "    .dataframe tbody tr th {\n",
       "        vertical-align: top;\n",
       "    }\n",
       "\n",
       "    .dataframe thead th {\n",
       "        text-align: right;\n",
       "    }\n",
       "</style>\n",
       "<table border=\"1\" class=\"dataframe\">\n",
       "  <thead>\n",
       "    <tr style=\"text-align: right;\">\n",
       "      <th></th>\n",
       "      <th>Suppliername</th>\n",
       "      <th>SKU</th>\n",
       "      <th>Avg_DefectRate</th>\n",
       "    </tr>\n",
       "  </thead>\n",
       "  <tbody>\n",
       "    <tr>\n",
       "      <th>0</th>\n",
       "      <td>Supplier 1</td>\n",
       "      <td>SKU20</td>\n",
       "      <td>4.23</td>\n",
       "    </tr>\n",
       "    <tr>\n",
       "      <th>1</th>\n",
       "      <td>Supplier 2</td>\n",
       "      <td>SKU9</td>\n",
       "      <td>3.84</td>\n",
       "    </tr>\n",
       "    <tr>\n",
       "      <th>2</th>\n",
       "      <td>Supplier 3</td>\n",
       "      <td>SKU87</td>\n",
       "      <td>3.69</td>\n",
       "    </tr>\n",
       "    <tr>\n",
       "      <th>3</th>\n",
       "      <td>Supplier 4</td>\n",
       "      <td>SKU73</td>\n",
       "      <td>4.62</td>\n",
       "    </tr>\n",
       "    <tr>\n",
       "      <th>4</th>\n",
       "      <td>Supplier 5</td>\n",
       "      <td>SKU84</td>\n",
       "      <td>4.84</td>\n",
       "    </tr>\n",
       "  </tbody>\n",
       "</table>\n",
       "</div>"
      ],
      "text/plain": [
       "  Suppliername    SKU  Avg_DefectRate\n",
       "0   Supplier 1  SKU20            4.23\n",
       "1   Supplier 2   SKU9            3.84\n",
       "2   Supplier 3  SKU87            3.69\n",
       "3   Supplier 4  SKU73            4.62\n",
       "4   Supplier 5  SKU84            4.84"
      ]
     },
     "execution_count": 17,
     "metadata": {},
     "output_type": "execute_result"
    }
   ],
   "source": [
    "query = '''\n",
    "with cte as (select Suppliername, SKU, round(avg(Defectrates),2) as Avg_DefectRate \n",
    "        from data where Location ='Chennai' group by Suppliername, SKU),\n",
    "\n",
    "cte_2 as (select *, row_number() over(partition by SupplierName\n",
    "            order by Avg_DefectRate desc) as rn from cte) \n",
    "\n",
    "select Suppliername, SKU, Avg_DefectRate from cte_2 where rn = 1\n",
    "'''\n",
    "temp = pd.read_sql_query(query, conn)\n",
    "temp"
   ]
  },
  {
   "cell_type": "markdown",
   "metadata": {},
   "source": [
    "### Insights:\n",
    "\n",
    "- Based on the table above, these SKUs are associated with suppliers that have the highest average defect rates.\n",
    "- Engaging with them could provide insights into the challenges they face, particularly in Chennai, where two Product Types show the highest average defect rates."
   ]
  },
  {
   "cell_type": "code",
   "execution_count": 24,
   "metadata": {},
   "outputs": [
    {
     "data": {
      "text/html": [
       "<div>\n",
       "<style scoped>\n",
       "    .dataframe tbody tr th:only-of-type {\n",
       "        vertical-align: middle;\n",
       "    }\n",
       "\n",
       "    .dataframe tbody tr th {\n",
       "        vertical-align: top;\n",
       "    }\n",
       "\n",
       "    .dataframe thead th {\n",
       "        text-align: right;\n",
       "    }\n",
       "</style>\n",
       "<table border=\"1\" class=\"dataframe\">\n",
       "  <thead>\n",
       "    <tr style=\"text-align: right;\">\n",
       "      <th></th>\n",
       "      <th>Location</th>\n",
       "      <th>ShipCostPerUnit</th>\n",
       "    </tr>\n",
       "  </thead>\n",
       "  <tbody>\n",
       "    <tr>\n",
       "      <th>0</th>\n",
       "      <td>Bangalore</td>\n",
       "      <td>0.047438</td>\n",
       "    </tr>\n",
       "    <tr>\n",
       "      <th>1</th>\n",
       "      <td>Chennai</td>\n",
       "      <td>0.015603</td>\n",
       "    </tr>\n",
       "    <tr>\n",
       "      <th>2</th>\n",
       "      <td>Delhi</td>\n",
       "      <td>0.012465</td>\n",
       "    </tr>\n",
       "    <tr>\n",
       "      <th>3</th>\n",
       "      <td>Kolkata</td>\n",
       "      <td>0.015879</td>\n",
       "    </tr>\n",
       "    <tr>\n",
       "      <th>4</th>\n",
       "      <td>Mumbai</td>\n",
       "      <td>0.021722</td>\n",
       "    </tr>\n",
       "  </tbody>\n",
       "</table>\n",
       "</div>"
      ],
      "text/plain": [
       "    Location  ShipCostPerUnit\n",
       "0  Bangalore         0.047438\n",
       "1    Chennai         0.015603\n",
       "2      Delhi         0.012465\n",
       "3    Kolkata         0.015879\n",
       "4     Mumbai         0.021722"
      ]
     },
     "execution_count": 24,
     "metadata": {},
     "output_type": "execute_result"
    }
   ],
   "source": [
    "query = '''\n",
    "select Location, Shippingcarriers, sum(Shippingcosts) as TotalShippingCost, \n",
    "            sum(Numberofproductssold) as QtySold,\n",
    "            sum(Shippingcosts)/sum(Numberofproductssold) as ShipCostPerUnit \n",
    "            from data group by Location, Shippingcarriers\n",
    "            order by ShipCostPerUnit desc\n",
    "'''\n",
    "temp = pd.read_sql_query(query, conn)\n",
    "temp.groupby('Location')['ShipCostPerUnit'].max().to_frame().reset_index()"
   ]
  },
  {
   "cell_type": "markdown",
   "metadata": {},
   "source": [
    "**INSIGHT**\n",
    "\n",
    "- Bangalore has the highest Shipping Cost per unit while Mumbai has the lowest Shipping Cost per unit"
   ]
  },
  {
   "cell_type": "code",
   "execution_count": 29,
   "metadata": {},
   "outputs": [
    {
     "data": {
      "text/html": [
       "<div>\n",
       "<style scoped>\n",
       "    .dataframe tbody tr th:only-of-type {\n",
       "        vertical-align: middle;\n",
       "    }\n",
       "\n",
       "    .dataframe tbody tr th {\n",
       "        vertical-align: top;\n",
       "    }\n",
       "\n",
       "    .dataframe thead th {\n",
       "        text-align: right;\n",
       "    }\n",
       "</style>\n",
       "<table border=\"1\" class=\"dataframe\">\n",
       "  <thead>\n",
       "    <tr style=\"text-align: right;\">\n",
       "      <th></th>\n",
       "      <th>Shippingcarriers</th>\n",
       "      <th>ShipCostPerUnit</th>\n",
       "    </tr>\n",
       "  </thead>\n",
       "  <tbody>\n",
       "    <tr>\n",
       "      <th>0</th>\n",
       "      <td>Carrier A</td>\n",
       "      <td>0.019781</td>\n",
       "    </tr>\n",
       "    <tr>\n",
       "      <th>1</th>\n",
       "      <td>Carrier B</td>\n",
       "      <td>0.015879</td>\n",
       "    </tr>\n",
       "    <tr>\n",
       "      <th>2</th>\n",
       "      <td>Carrier C</td>\n",
       "      <td>0.047438</td>\n",
       "    </tr>\n",
       "  </tbody>\n",
       "</table>\n",
       "</div>"
      ],
      "text/plain": [
       "  Shippingcarriers  ShipCostPerUnit\n",
       "0        Carrier A         0.019781\n",
       "1        Carrier B         0.015879\n",
       "2        Carrier C         0.047438"
      ]
     },
     "execution_count": 29,
     "metadata": {},
     "output_type": "execute_result"
    }
   ],
   "source": [
    "temp.groupby('Shippingcarriers')['ShipCostPerUnit'].max().to_frame().reset_index()"
   ]
  },
  {
   "cell_type": "markdown",
   "metadata": {},
   "source": [
    "**INSIGHT**\n",
    "\n",
    "- Carrier A has the highest Shipping Cost per unit while Carrier C has the lowest Shipping Cost per unit"
   ]
  },
  {
   "cell_type": "code",
   "execution_count": 35,
   "metadata": {},
   "outputs": [
    {
     "data": {
      "text/html": [
       "<div>\n",
       "<style scoped>\n",
       "    .dataframe tbody tr th:only-of-type {\n",
       "        vertical-align: middle;\n",
       "    }\n",
       "\n",
       "    .dataframe tbody tr th {\n",
       "        vertical-align: top;\n",
       "    }\n",
       "\n",
       "    .dataframe thead th {\n",
       "        text-align: right;\n",
       "    }\n",
       "</style>\n",
       "<table border=\"1\" class=\"dataframe\">\n",
       "  <thead>\n",
       "    <tr style=\"text-align: right;\">\n",
       "      <th></th>\n",
       "      <th>Location</th>\n",
       "      <th>Shippingcarriers</th>\n",
       "      <th>TotalShippingCost</th>\n",
       "      <th>QtySold</th>\n",
       "      <th>ShipCostPerUnit</th>\n",
       "      <th>MaxCost</th>\n",
       "    </tr>\n",
       "  </thead>\n",
       "  <tbody>\n",
       "    <tr>\n",
       "      <th>0</th>\n",
       "      <td>Bangalore</td>\n",
       "      <td>Carrier C</td>\n",
       "      <td>17.267540</td>\n",
       "      <td>364</td>\n",
       "      <td>0.047438</td>\n",
       "      <td>0.047438</td>\n",
       "    </tr>\n",
       "    <tr>\n",
       "      <th>1</th>\n",
       "      <td>Chennai</td>\n",
       "      <td>Carrier C</td>\n",
       "      <td>29.006373</td>\n",
       "      <td>1859</td>\n",
       "      <td>0.015603</td>\n",
       "      <td>0.015603</td>\n",
       "    </tr>\n",
       "    <tr>\n",
       "      <th>2</th>\n",
       "      <td>Delhi</td>\n",
       "      <td>Carrier C</td>\n",
       "      <td>19.956614</td>\n",
       "      <td>1601</td>\n",
       "      <td>0.012465</td>\n",
       "      <td>0.012465</td>\n",
       "    </tr>\n",
       "    <tr>\n",
       "      <th>3</th>\n",
       "      <td>Kolkata</td>\n",
       "      <td>Carrier B</td>\n",
       "      <td>66.088898</td>\n",
       "      <td>4162</td>\n",
       "      <td>0.015879</td>\n",
       "      <td>0.015879</td>\n",
       "    </tr>\n",
       "    <tr>\n",
       "      <th>4</th>\n",
       "      <td>Mumbai</td>\n",
       "      <td>Carrier C</td>\n",
       "      <td>45.855507</td>\n",
       "      <td>2111</td>\n",
       "      <td>0.021722</td>\n",
       "      <td>0.021722</td>\n",
       "    </tr>\n",
       "  </tbody>\n",
       "</table>\n",
       "</div>"
      ],
      "text/plain": [
       "    Location Shippingcarriers  TotalShippingCost  QtySold  ShipCostPerUnit  \\\n",
       "0  Bangalore        Carrier C          17.267540      364         0.047438   \n",
       "1    Chennai        Carrier C          29.006373     1859         0.015603   \n",
       "2      Delhi        Carrier C          19.956614     1601         0.012465   \n",
       "3    Kolkata        Carrier B          66.088898     4162         0.015879   \n",
       "4     Mumbai        Carrier C          45.855507     2111         0.021722   \n",
       "\n",
       "    MaxCost  \n",
       "0  0.047438  \n",
       "1  0.015603  \n",
       "2  0.012465  \n",
       "3  0.015879  \n",
       "4  0.021722  "
      ]
     },
     "execution_count": 35,
     "metadata": {},
     "output_type": "execute_result"
    }
   ],
   "source": [
    "query = '''\n",
    "with cte as (\n",
    "select Location, Shippingcarriers, sum(Shippingcosts) as TotalShippingCost, \n",
    "            sum(Numberofproductssold) as QtySold,\n",
    "            sum(Shippingcosts)/sum(Numberofproductssold) as ShipCostPerUnit \n",
    "            from data group by Location, Shippingcarriers\n",
    "            order by ShipCostPerUnit desc),\n",
    "max_cte as (select *, max(ShipCostPerUnit) over(partition by Location order by ShipCostPerUnit rows between unbounded preceding and unbounded following) \n",
    "        as MaxCost from cte)\n",
    "\n",
    "select * from max_cte where ShipCostPerUnit =  MaxCost\n",
    "'''\n",
    "pd.read_sql_query(query, conn)\n"
   ]
  },
  {
   "cell_type": "markdown",
   "metadata": {},
   "source": [
    "**INSIGHT**\n",
    "\n",
    "- Carrier C seems to be having the highest shipping cost per unit across 4 cities which are Bangalore, Chennai, Delhi and Mumbai\n",
    "- In Kolkata, Carrier B seems to be the carrier with the highest shipping cost per unit."
   ]
  },
  {
   "cell_type": "code",
   "execution_count": 37,
   "metadata": {},
   "outputs": [
    {
     "data": {
      "text/html": [
       "<div>\n",
       "<style scoped>\n",
       "    .dataframe tbody tr th:only-of-type {\n",
       "        vertical-align: middle;\n",
       "    }\n",
       "\n",
       "    .dataframe tbody tr th {\n",
       "        vertical-align: top;\n",
       "    }\n",
       "\n",
       "    .dataframe thead th {\n",
       "        text-align: right;\n",
       "    }\n",
       "</style>\n",
       "<table border=\"1\" class=\"dataframe\">\n",
       "  <thead>\n",
       "    <tr style=\"text-align: right;\">\n",
       "      <th></th>\n",
       "      <th>Location</th>\n",
       "      <th>Shippingcarriers</th>\n",
       "      <th>Manufacturingcost</th>\n",
       "      <th>QtySold</th>\n",
       "      <th>CostPerUnit</th>\n",
       "      <th>MaxCost</th>\n",
       "    </tr>\n",
       "  </thead>\n",
       "  <tbody>\n",
       "    <tr>\n",
       "      <th>0</th>\n",
       "      <td>Bangalore</td>\n",
       "      <td>Carrier C</td>\n",
       "      <td>136.805180</td>\n",
       "      <td>364</td>\n",
       "      <td>0.375838</td>\n",
       "      <td>0.375838</td>\n",
       "    </tr>\n",
       "    <tr>\n",
       "      <th>1</th>\n",
       "      <td>Chennai</td>\n",
       "      <td>Carrier C</td>\n",
       "      <td>302.122116</td>\n",
       "      <td>1859</td>\n",
       "      <td>0.162519</td>\n",
       "      <td>0.162519</td>\n",
       "    </tr>\n",
       "    <tr>\n",
       "      <th>2</th>\n",
       "      <td>Delhi</td>\n",
       "      <td>Carrier A</td>\n",
       "      <td>313.195731</td>\n",
       "      <td>4005</td>\n",
       "      <td>0.078201</td>\n",
       "      <td>0.078201</td>\n",
       "    </tr>\n",
       "    <tr>\n",
       "      <th>3</th>\n",
       "      <td>Kolkata</td>\n",
       "      <td>Carrier C</td>\n",
       "      <td>436.797018</td>\n",
       "      <td>4194</td>\n",
       "      <td>0.104148</td>\n",
       "      <td>0.104148</td>\n",
       "    </tr>\n",
       "    <tr>\n",
       "      <th>4</th>\n",
       "      <td>Mumbai</td>\n",
       "      <td>Carrier A</td>\n",
       "      <td>172.032122</td>\n",
       "      <td>1871</td>\n",
       "      <td>0.091947</td>\n",
       "      <td>0.091947</td>\n",
       "    </tr>\n",
       "  </tbody>\n",
       "</table>\n",
       "</div>"
      ],
      "text/plain": [
       "    Location Shippingcarriers  Manufacturingcost  QtySold  CostPerUnit  \\\n",
       "0  Bangalore        Carrier C         136.805180      364     0.375838   \n",
       "1    Chennai        Carrier C         302.122116     1859     0.162519   \n",
       "2      Delhi        Carrier A         313.195731     4005     0.078201   \n",
       "3    Kolkata        Carrier C         436.797018     4194     0.104148   \n",
       "4     Mumbai        Carrier A         172.032122     1871     0.091947   \n",
       "\n",
       "    MaxCost  \n",
       "0  0.375838  \n",
       "1  0.162519  \n",
       "2  0.078201  \n",
       "3  0.104148  \n",
       "4  0.091947  "
      ]
     },
     "execution_count": 37,
     "metadata": {},
     "output_type": "execute_result"
    }
   ],
   "source": [
    "query = '''\n",
    "with cte as (\n",
    "select Location, Shippingcarriers, sum(Manufacturingcosts) as Manufacturingcost, \n",
    "            sum(Numberofproductssold) as QtySold,\n",
    "            sum(Manufacturingcosts)/sum(Numberofproductssold) as CostPerUnit \n",
    "            from data group by Location, Shippingcarriers\n",
    "            order by CostPerUnit desc),\n",
    "max_cte as (select *, max(CostPerUnit) over(partition by Location order by CostPerUnit rows between unbounded preceding and unbounded following) \n",
    "        as MaxCost from cte)\n",
    "\n",
    "select * from max_cte where CostPerUnit =  MaxCost\n",
    "'''\n",
    "pd.read_sql_query(query, conn)\n"
   ]
  },
  {
   "cell_type": "markdown",
   "metadata": {},
   "source": [
    "**INSIGHT**\n",
    "\n",
    "- Carrier C seems to be having the highest manufacturing cost per unit across 4 cities which are Bangalore, Chennai, Delhi and Mumbai\n",
    "- In Kolkata, Carrier A seems to be the carrier with the highest manufacturing cost per unit."
   ]
  },
  {
   "cell_type": "code",
   "execution_count": 39,
   "metadata": {},
   "outputs": [
    {
     "data": {
      "text/html": [
       "<div>\n",
       "<style scoped>\n",
       "    .dataframe tbody tr th:only-of-type {\n",
       "        vertical-align: middle;\n",
       "    }\n",
       "\n",
       "    .dataframe tbody tr th {\n",
       "        vertical-align: top;\n",
       "    }\n",
       "\n",
       "    .dataframe thead th {\n",
       "        text-align: right;\n",
       "    }\n",
       "</style>\n",
       "<table border=\"1\" class=\"dataframe\">\n",
       "  <thead>\n",
       "    <tr style=\"text-align: right;\">\n",
       "      <th></th>\n",
       "      <th>Location</th>\n",
       "      <th>Suppliername</th>\n",
       "      <th>Manufacturingcost</th>\n",
       "      <th>QtySold</th>\n",
       "      <th>CostPerUnit</th>\n",
       "      <th>MaxCost</th>\n",
       "    </tr>\n",
       "  </thead>\n",
       "  <tbody>\n",
       "    <tr>\n",
       "      <th>0</th>\n",
       "      <td>Bangalore</td>\n",
       "      <td>Supplier 5</td>\n",
       "      <td>208.442199</td>\n",
       "      <td>558</td>\n",
       "      <td>0.373552</td>\n",
       "      <td>0.373552</td>\n",
       "    </tr>\n",
       "    <tr>\n",
       "      <th>1</th>\n",
       "      <td>Chennai</td>\n",
       "      <td>Supplier 4</td>\n",
       "      <td>260.209276</td>\n",
       "      <td>1232</td>\n",
       "      <td>0.211209</td>\n",
       "      <td>0.211209</td>\n",
       "    </tr>\n",
       "    <tr>\n",
       "      <th>2</th>\n",
       "      <td>Delhi</td>\n",
       "      <td>Supplier 5</td>\n",
       "      <td>14.147815</td>\n",
       "      <td>99</td>\n",
       "      <td>0.142907</td>\n",
       "      <td>0.142907</td>\n",
       "    </tr>\n",
       "    <tr>\n",
       "      <th>3</th>\n",
       "      <td>Kolkata</td>\n",
       "      <td>Supplier 4</td>\n",
       "      <td>368.687562</td>\n",
       "      <td>2317</td>\n",
       "      <td>0.159123</td>\n",
       "      <td>0.159123</td>\n",
       "    </tr>\n",
       "    <tr>\n",
       "      <th>4</th>\n",
       "      <td>Mumbai</td>\n",
       "      <td>Supplier 4</td>\n",
       "      <td>223.291927</td>\n",
       "      <td>1264</td>\n",
       "      <td>0.176655</td>\n",
       "      <td>0.176655</td>\n",
       "    </tr>\n",
       "  </tbody>\n",
       "</table>\n",
       "</div>"
      ],
      "text/plain": [
       "    Location Suppliername  Manufacturingcost  QtySold  CostPerUnit   MaxCost\n",
       "0  Bangalore   Supplier 5         208.442199      558     0.373552  0.373552\n",
       "1    Chennai   Supplier 4         260.209276     1232     0.211209  0.211209\n",
       "2      Delhi   Supplier 5          14.147815       99     0.142907  0.142907\n",
       "3    Kolkata   Supplier 4         368.687562     2317     0.159123  0.159123\n",
       "4     Mumbai   Supplier 4         223.291927     1264     0.176655  0.176655"
      ]
     },
     "execution_count": 39,
     "metadata": {},
     "output_type": "execute_result"
    }
   ],
   "source": [
    "query = '''\n",
    "with cte as (\n",
    "select Location, Suppliername, sum(Manufacturingcosts) as Manufacturingcost, \n",
    "            sum(Numberofproductssold) as QtySold,\n",
    "            sum(Manufacturingcosts)/sum(Numberofproductssold) as CostPerUnit \n",
    "            from data group by Location, Suppliername\n",
    "            order by CostPerUnit desc),\n",
    "max_cte as (select *, max(CostPerUnit) over(partition by Location order by CostPerUnit rows between unbounded preceding and unbounded following) \n",
    "        as MaxCost from cte)\n",
    "\n",
    "select * from max_cte where CostPerUnit =  MaxCost\n",
    "'''\n",
    "pd.read_sql_query(query, conn)\n"
   ]
  },
  {
   "cell_type": "markdown",
   "metadata": {},
   "source": [
    "**INSIGHT**\n",
    "\n",
    "- Supplier 5 seems to be having the highest manufacturing cost per unit in 2 cities which are Bangalore and Delhi\n",
    "- Supplier 4 seems to be the supplier with the highest manufacturing cost per unit in Chennai, Kolkata and Mumbai."
   ]
  },
  {
   "cell_type": "markdown",
   "metadata": {},
   "source": [
    "**Manufacturing Lead Time**"
   ]
  },
  {
   "cell_type": "markdown",
   "metadata": {},
   "source": [
    "Manufacturing lead time in the context of supply chain refers to the total time required to manufacture a product from the initiation of the production process to its completion. This includes the time taken for actual manufacturing, processing, and assembly of the product. It is a critical factor in supply chain management as it directly impacts production scheduling, inventory levels, and overall operational efficiency. Efficient management of manufacturing lead time is essential for meeting customer demand, optimizing production processes, and minimizing costs."
   ]
  },
  {
   "cell_type": "code",
   "execution_count": 105,
   "metadata": {},
   "outputs": [
    {
     "data": {
      "text/html": [
       "<div>\n",
       "<style scoped>\n",
       "    .dataframe tbody tr th:only-of-type {\n",
       "        vertical-align: middle;\n",
       "    }\n",
       "\n",
       "    .dataframe tbody tr th {\n",
       "        vertical-align: top;\n",
       "    }\n",
       "\n",
       "    .dataframe thead th {\n",
       "        text-align: right;\n",
       "    }\n",
       "</style>\n",
       "<table border=\"1\" class=\"dataframe\">\n",
       "  <thead>\n",
       "    <tr style=\"text-align: right;\">\n",
       "      <th></th>\n",
       "      <th>Producttype</th>\n",
       "      <th>Revenuegenerated</th>\n",
       "      <th>Manufacturingleadtime</th>\n",
       "      <th>Ratio</th>\n",
       "    </tr>\n",
       "  </thead>\n",
       "  <tbody>\n",
       "    <tr>\n",
       "      <th>0</th>\n",
       "      <td>cosmetics</td>\n",
       "      <td>161521.265999</td>\n",
       "      <td>346</td>\n",
       "      <td>466.82</td>\n",
       "    </tr>\n",
       "    <tr>\n",
       "      <th>2</th>\n",
       "      <td>skincare</td>\n",
       "      <td>241628.162133</td>\n",
       "      <td>551</td>\n",
       "      <td>438.53</td>\n",
       "    </tr>\n",
       "    <tr>\n",
       "      <th>1</th>\n",
       "      <td>haircare</td>\n",
       "      <td>174455.390605</td>\n",
       "      <td>580</td>\n",
       "      <td>300.79</td>\n",
       "    </tr>\n",
       "  </tbody>\n",
       "</table>\n",
       "</div>"
      ],
      "text/plain": [
       "  Producttype  Revenuegenerated  Manufacturingleadtime   Ratio\n",
       "0   cosmetics     161521.265999                    346  466.82\n",
       "2    skincare     241628.162133                    551  438.53\n",
       "1    haircare     174455.390605                    580  300.79"
      ]
     },
     "execution_count": 105,
     "metadata": {},
     "output_type": "execute_result"
    }
   ],
   "source": [
    "temp = df.groupby('Producttype')[['Revenuegenerated', 'Manufacturingleadtime']].agg('sum', 'mean').reset_index()\n",
    "temp['Ratio'] = (temp['Revenuegenerated'] / temp['Manufacturingleadtime']).apply(lambda x : round(x,2))\n",
    "temp = temp.sort_values('Ratio', ascending=False)\n",
    "temp"
   ]
  },
  {
   "cell_type": "code",
   "execution_count": 106,
   "metadata": {},
   "outputs": [
    {
     "data": {
      "image/png": "[encoded data removed]",
      "text/plain": [
       "<Figure size 2200x500 with 1 Axes>"
      ]
     },
     "metadata": {},
     "output_type": "display_data"
    }
   ],
   "source": [
    "temp.set_index('Producttype')['Ratio'].plot(kind ='bar', color=['red', 'lightgray', 'lightgray'])\n",
    "plt.gca().spines['top'].set_visible(False)\n",
    "plt.gca().spines['right'].set_visible(False)\n",
    "plt.title('Revenue and Time Ratio, Product Wise')\n",
    "plt.xticks(rotation=0)\n",
    "plt.show()"
   ]
  },
  {
   "cell_type": "markdown",
   "metadata": {},
   "source": [
    "**INSIGHT**\n",
    "\n",
    "- The above chart suggests that cosmetics yields less revenue as compared to the amount of time it goes into manufacturing the product.\n",
    "- This could potentially mean looking at the manufacturing processes that we currently have in process or may be boost marketing efforts to help the revenue generated by cosmetics products."
   ]
  },
  {
   "cell_type": "markdown",
   "metadata": {},
   "source": [
    "**AVERAGE LEAD TIME**\n",
    "\n",
    "Lead time is the amount of time that elapses between the initiation of a process and its completion. In the context of inventory management and supply chain, lead time can refer to several specific periods, including:\n",
    "\n",
    "1. **Order Lead Time**: The time taken from placing an order with a supplier to the time the order is received.\n",
    "2. **Production Lead Time**: The time required to manufacture a product from the start of production to its completion.\n",
    "3. **Delivery Lead Time**: The time taken for a product to be delivered from the supplier to the final destination (e.g., a warehouse or customer).\n",
    "4. **Procurement Lead Time**: The time required to obtain raw materials or components from a supplier until they are available for production.\n",
    "\n",
    "Lead time is crucial in inventory management because it affects stock levels, reorder points, and overall supply chain efficiency. Accurate lead time calculations help ensure that inventory is replenished in a timely manner, minimizing the risk of stockouts or overstocking, which in turn helps in maintaining customer satisfaction.\n",
    "\n",
    "**Importance of Lead Time**\n",
    "- **Inventory Control**: Knowing the lead time helps in determining when to reorder stock to avoid shortages.\n",
    "- **Customer Satisfaction**: Shorter lead times generally improve customer satisfaction by reducing wait times for products.\n",
    "- **Cost Management**: Understanding lead times can help optimize order quantities and reduce holding costs.\n",
    "- **Supply Chain Efficiency**: Identifying and reducing lead times can streamline supply chain operations, making them more responsive and flexible.\n",
    "\n",
    "**Lead Time Calculation Example**\n",
    "In a typical e-commerce scenario, if you place an order for a product on July 1st, and it gets delivered on July 10th, the lead time for this order would be 9 days."
   ]
  },
  {
   "cell_type": "code",
   "execution_count": 125,
   "metadata": {},
   "outputs": [
    {
     "data": {
      "image/png": "[encoded data removed]",
      "text/plain": [
       "<Figure size 2200x500 with 1 Axes>"
      ]
     },
     "metadata": {},
     "output_type": "display_data"
    }
   ],
   "source": [
    "# Calculate average lead time by product type\n",
    "average_lead_time = df.groupby('Producttype')['Leadtime'].mean()\n",
    "\n",
    "# Plot average lead time by product type\n",
    "average_lead_time.plot(kind='bar', color='seagreen')\n",
    "plt.gca().spines['top'].set_visible(False)\n",
    "plt.gca().spines['right'].set_visible(False)\n",
    "plt.title('Average Lead Time by Product Type')\n",
    "plt.xlabel('Product Type')\n",
    "plt.ylabel('Average Lead Time (days)')\n",
    "plt.xticks(rotation=0)\n",
    "plt.show()"
   ]
  },
  {
   "cell_type": "code",
   "execution_count": 129,
   "metadata": {},
   "outputs": [
    {
     "data": {
      "text/plain": [
       "Index(['Producttype', 'SKU', 'Price', 'Availability', 'Numberofproductssold',\n",
       "       'Revenuegenerated', 'Customerdemographics', 'Stocklevels', 'Leadtimes',\n",
       "       'Orderquantities', 'Shippingtimes', 'Shippingcarriers', 'Shippingcosts',\n",
       "       'Suppliername', 'Location', 'Leadtime', 'Productionvolumes',\n",
       "       'Manufacturingleadtime', 'Manufacturingcosts', 'Inspectionresults',\n",
       "       'Defectrates', 'Transportationmodes', 'Routes', 'Costs',\n",
       "       'NetProfitPerUnit'],\n",
       "      dtype='object')"
      ]
     },
     "execution_count": 129,
     "metadata": {},
     "output_type": "execute_result"
    }
   ],
   "source": [
    "df.columns"
   ]
  },
  {
   "cell_type": "code",
   "execution_count": 130,
   "metadata": {},
   "outputs": [
    {
     "data": {
      "text/plain": [
       "0     Route B\n",
       "1     Route B\n",
       "2     Route C\n",
       "3     Route A\n",
       "4     Route A\n",
       "       ...   \n",
       "95    Route A\n",
       "96    Route A\n",
       "97    Route A\n",
       "98    Route A\n",
       "99    Route B\n",
       "Name: Routes, Length: 100, dtype: object"
      ]
     },
     "execution_count": 130,
     "metadata": {},
     "output_type": "execute_result"
    }
   ],
   "source": [
    "df['Routes']"
   ]
  },
  {
   "cell_type": "code",
   "execution_count": null,
   "metadata": {},
   "outputs": [],
   "source": []
  }
 ],
 "metadata": {
  "kernelspec": {
   "display_name": "Python 3",
   "language": "python",
   "name": "python3"
  },
  "language_info": {
   "codemirror_mode": {
    "name": "ipython",
    "version": 3
   },
   "file_extension": ".py",
   "mimetype": "text/x-python",
   "name": "python",
   "nbconvert_exporter": "python",
   "pygments_lexer": "ipython3",
   "version": "3.12.3"
  }
 },
 "nbformat": 4,
 "nbformat_minor": 2
}
